{
  "cells": [
    {
      "cell_type": "code",
      "execution_count": 1,
      "metadata": {
        "colab": {
          "base_uri": "https://localhost:8080/"
        },
        "id": "D8J4eNw8to8q",
        "outputId": "c940eb4c-54df-493d-9e64-02944d68c265"
      },
      "outputs": [],
      "source": [
        "# from google.colab import drive\n",
        "# drive.mount('/content/drive/')"
      ]
    },
    {
      "cell_type": "code",
      "execution_count": 2,
      "metadata": {
        "id": "xyUFazkBu4_S"
      },
      "outputs": [],
      "source": [
        "import os\n",
        "import pandas as pd\n",
        "import numpy as np\n",
        "import matplotlib.pylab as plt\n",
        "import seaborn as sns\n",
        "from tqdm import tqdm\n",
        "import networkx as nx\n",
        "import scipy\n",
        "import json\n",
        "import sys\n",
        "path = ''\n",
        "sys.path.append(path)\n",
        "import utils\n",
        "import settings\n",
        "import pickle\n",
        "from sklearn.preprocessing import StandardScaler, Normalizer, RobustScaler, MinMaxScaler\n",
        "from sklearn.model_selection import train_test_split\n",
        "\n",
        "pd.set_option('display.max_rows', 200)\n",
        "pd.set_option('display.max_columns', 200)"
      ]
    },
    {
      "cell_type": "code",
      "execution_count": 3,
      "metadata": {},
      "outputs": [
        {
          "name": "stdout",
          "output_type": "stream",
          "text": [
            "Using TensorFlow backend\n"
          ]
        }
      ],
      "source": [
        "import tensorflow as tf\n",
        "\n",
        "import autokeras as ak"
      ]
    },
    {
      "cell_type": "code",
      "execution_count": 4,
      "metadata": {
        "id": "TkJVCDaBvEUt"
      },
      "outputs": [],
      "source": [
        "def save(nom,model):\n",
        "  # Enregistrez le modele (ML/scaler/autre) dans un fichier\n",
        "  with open(nom+'.pkl', 'wb') as f:\n",
        "      pickle.dump(model, f)"
      ]
    },
    {
      "cell_type": "code",
      "execution_count": 5,
      "metadata": {
        "id": "VlShtaIBvGei"
      },
      "outputs": [],
      "source": [
        "def f_open(chemin):\n",
        "  with open(chemin, 'rb') as f:\n",
        "    modele = pickle.load(f)\n",
        "  return modele"
      ]
    },
    {
      "cell_type": "markdown",
      "metadata": {},
      "source": [
        "# Hyper params"
      ]
    },
    {
      "cell_type": "code",
      "execution_count": 6,
      "metadata": {},
      "outputs": [],
      "source": [
        "train_delta_t = 0\n",
        "max_depth = 4\n",
        "eval_metric = 'rmse'\n",
        "n_estimators = 10000\n",
        "scaler_name = 'MinMaxScaler'\n",
        "scaler_a = MinMaxScaler()\n",
        "scaler_b = MinMaxScaler()\n",
        "scaler_c = MinMaxScaler()\n",
        "random_state = 42\n",
        "submission_path = 'sub_4_inputs/'\n",
        "test_set_param = 'rd_sets'"
      ]
    },
    {
      "cell_type": "code",
      "execution_count": 7,
      "metadata": {
        "id": "EJEI78QVvMHt"
      },
      "outputs": [],
      "source": [
        "path = path\n",
        "train_a, train_b, train_c, X_train_estimated_a, X_train_estimated_b, X_train_estimated_c, X_train_observed_a, X_train_observed_b, X_train_observed_c, X_test_estimated_a, X_test_estimated_b, X_test_estimated_c = utils.read_files(diff_path=path)\n",
        "test = pd.read_csv(path+\"test.csv\")\n",
        "sample_submission = pd.read_csv(path+\"sample_submission.csv\")"
      ]
    },
    {
      "cell_type": "code",
      "execution_count": 8,
      "metadata": {},
      "outputs": [],
      "source": [
        "X_train_estimated_a, X_train_estimated_b, X_train_estimated_c, X_train_observed_a, X_train_observed_b, X_train_observed_c, X_test_estimated_a, X_test_estimated_b, X_test_estimated_c = utils.get_reshaped_files3()"
      ]
    },
    {
      "cell_type": "code",
      "execution_count": 9,
      "metadata": {},
      "outputs": [],
      "source": [
        "def clean_reshaped_data(df: pd.DataFrame):\n",
        "    columns_to_drop = ['date_forecast_1', 'date_forecast_2', 'date_forecast_0']\n",
        "    df_cleaned = df.copy()\n",
        "    df_cleaned.rename(columns={'date_forecast_3': 'date_forecast'}, inplace=True)\n",
        "    df_cleaned = df_cleaned.drop(columns=columns_to_drop)\n",
        "    df_cleaned['date_forecast'] = df_cleaned['date_forecast'] # + pd.Timedelta(hours=1)\n",
        "    return df_cleaned"
      ]
    },
    {
      "cell_type": "code",
      "execution_count": 10,
      "metadata": {},
      "outputs": [],
      "source": [
        "X_train_estimated_a = clean_reshaped_data(X_train_estimated_a)\n",
        "X_train_estimated_b = clean_reshaped_data(X_train_estimated_b)\n",
        "X_train_estimated_c = clean_reshaped_data(X_train_estimated_c)\n",
        "X_train_observed_a = clean_reshaped_data(X_train_observed_a)\n",
        "X_train_observed_b = clean_reshaped_data(X_train_observed_b)\n",
        "X_train_observed_c = clean_reshaped_data(X_train_observed_c)\n",
        "X_test_estimated_a = clean_reshaped_data(X_test_estimated_a)\n",
        "X_test_estimated_b = clean_reshaped_data(X_test_estimated_b)\n",
        "X_test_estimated_c = clean_reshaped_data(X_test_estimated_c)"
      ]
    },
    {
      "cell_type": "code",
      "execution_count": 11,
      "metadata": {},
      "outputs": [],
      "source": [
        "X_train_estimated_b['date_forecast'] = X_train_estimated_b['date_forecast']+ pd.Timedelta(minutes=15)"
      ]
    },
    {
      "cell_type": "markdown",
      "metadata": {},
      "source": [
        "# B and C clean up"
      ]
    },
    {
      "cell_type": "code",
      "execution_count": 12,
      "metadata": {},
      "outputs": [],
      "source": [
        "def filter_dates_when_constants(df, date_c = 'time', y = 'pv_measurement', delta = { 'days': 3 }):\n",
        "    df = df.copy()\n",
        "    mask_y_change = df[y] != df[y].shift(1)\n",
        "\n",
        "    start_date = None\n",
        "    end_date = None\n",
        "\n",
        "    constant_periods = []\n",
        "\n",
        "    for index, row in df.iterrows():\n",
        "        if not mask_y_change[index]:\n",
        "            if start_date is None:\n",
        "                start_date = row[date_c]\n",
        "            end_date = row[date_c]\n",
        "        else:\n",
        "            if start_date is not None and (end_date - start_date) >= pd.Timedelta(**delta):\n",
        "                constant_periods.append((start_date, end_date))\n",
        "            start_date = None\n",
        "            end_date = None\n",
        "\n",
        "    if start_date is not None and (end_date - start_date) >= pd.Timedelta(**delta):\n",
        "        constant_periods.append((start_date, end_date))\n",
        "    return constant_periods"
      ]
    },
    {
      "cell_type": "code",
      "execution_count": 13,
      "metadata": {},
      "outputs": [],
      "source": [
        "def delete_date_range_from_df(df, dates, date_c = 'time'):\n",
        "    df = df.copy()\n",
        "    c = 0\n",
        "    for start_date, end_date in dates:\n",
        "        mask = (df[date_c] >= start_date) & (df[date_c] < end_date)\n",
        "        df = df[~mask]\n",
        "    df.reset_index(drop=True, inplace=True)\n",
        "    return df"
      ]
    },
    {
      "cell_type": "code",
      "execution_count": 14,
      "metadata": {},
      "outputs": [],
      "source": [
        "delta = { 'hours': 12 * 5}\n",
        "train_a = delete_date_range_from_df(train_a, filter_dates_when_constants(train_a, delta=delta))\n",
        "train_b = delete_date_range_from_df(train_b, filter_dates_when_constants(train_b, delta=delta))\n",
        "train_c = delete_date_range_from_df(train_c, filter_dates_when_constants(train_c, delta=delta))"
      ]
    },
    {
      "cell_type": "code",
      "execution_count": 15,
      "metadata": {},
      "outputs": [],
      "source": [
        "delta_title = str(train_delta_t)\n",
        "delta_h = pd.Timedelta(minutes=train_delta_t)\n",
        "train_a['date_forecast'] = train_a['time'] - delta_h\n",
        "train_b['date_forecast'] = train_b['time'] - delta_h\n",
        "train_c['date_forecast'] = train_c['time'] - delta_h"
      ]
    },
    {
      "cell_type": "markdown",
      "metadata": {
        "id": "KxAteBV8PYeY"
      },
      "source": [
        "# Réorganisation des df :"
      ]
    },
    {
      "cell_type": "code",
      "execution_count": 16,
      "metadata": {
        "id": "5toXOJy4kFqf"
      },
      "outputs": [],
      "source": [
        "# observed + estimated\n",
        "X_total_a = pd.concat([X_train_observed_a,X_train_estimated_a])\n",
        "X_total_b = pd.concat([X_train_observed_b,X_train_estimated_b])\n",
        "X_total_c = pd.concat([X_train_observed_c,X_train_estimated_c])"
      ]
    },
    {
      "cell_type": "markdown",
      "metadata": {
        "id": "OF3JN3oIlreX"
      },
      "source": [
        "Attention, il faut penser à revoir les valeurs météo et pv de estimated !!!"
      ]
    },
    {
      "cell_type": "markdown",
      "metadata": {
        "id": "3gri4yq2s749"
      },
      "source": [
        "# Changement nom time dans les train"
      ]
    },
    {
      "cell_type": "code",
      "execution_count": 17,
      "metadata": {
        "id": "c6egYZKNs6-d"
      },
      "outputs": [],
      "source": [
        "# train_a.rename(columns={'time': 'date_forecast'}, inplace=True) #pour faire le merge\n",
        "# train_b.rename(columns={'time': 'date_forecast'}, inplace=True) #pour faire le merge\n",
        "# train_c.rename(columns={'time': 'date_forecast'}, inplace=True) #pour faire le merge\n",
        "# test.rename(columns={'time': 'date_forecast'}, inplace=True)\n",
        "train_a, train_b, train_c = train_a.drop(columns='time'), train_b.drop(columns='time'), train_c.drop(columns='time')\n",
        "train_a.dropna(subset=['pv_measurement'], inplace=True)  #Supprime les lignes vides\n",
        "train_b.dropna(subset=['pv_measurement'], inplace=True)  #Supprime les lignes vides\n",
        "train_c.dropna(subset=['pv_measurement'], inplace=True)  #Supprime les lignes vides"
      ]
    },
    {
      "cell_type": "markdown",
      "metadata": {
        "id": "Kye01adKsBSE"
      },
      "source": [
        "# Correspondance X et y :"
      ]
    },
    {
      "cell_type": "markdown",
      "metadata": {
        "id": "NvWmIBTEsFcs"
      },
      "source": [
        "Ici nous avons plusieurs choix :    \n",
        "- matcher directement sur dateforcast\n",
        "- matcher sur dateforcast et résumer nos variables météo en moyenne et écart type\n",
        "- matcher sur un autre créneau (peut être fais sur des variables spécifique !)"
      ]
    },
    {
      "cell_type": "markdown",
      "metadata": {
        "id": "ovYZlj3Ksaci"
      },
      "source": [
        "Dans un premier temps on fera directement sur dateforcast"
      ]
    },
    {
      "cell_type": "code",
      "execution_count": 18,
      "metadata": {
        "id": "w7gHKkBosZst"
      },
      "outputs": [],
      "source": [
        "X_total_a_y = pd.merge(X_total_a, train_a, on='date_forecast', how='inner')\n",
        "X_total_b_y = pd.merge(X_total_b, train_b, on='date_forecast', how='inner')\n",
        "X_total_c_y = pd.merge(X_total_c, train_c, on='date_forecast', how='inner')"
      ]
    },
    {
      "cell_type": "code",
      "execution_count": 19,
      "metadata": {},
      "outputs": [],
      "source": [
        "def gestion_nan(df):\n",
        "  df_copy = df.copy()\n",
        "  #delete of the snow density column\n",
        "  df_copy = df_copy.drop('snow_density:kgm3',axis=1)\n",
        "  # Approximation of the other two columns\n",
        "  df_copy['ceiling_height_agl:m'] = df_copy['ceiling_height_agl:m'].interpolate(method='linear', limit_direction='both')\n",
        "  df_copy['cloud_base_agl:m'] = df_copy['cloud_base_agl:m'].interpolate(method='linear', limit_direction='both')\n",
        "  return df_copy"
      ]
    },
    {
      "cell_type": "code",
      "execution_count": 20,
      "metadata": {
        "id": "s-sP7k-TTLN2"
      },
      "outputs": [],
      "source": [
        "def gestion_nan(df):\n",
        "  df_copy = df.copy()\n",
        "  snow_density = [ f'snow_density:kgm3_{k}' for k in range(4) ]\n",
        "  #delete of the snow density column\n",
        "  for k in range(4): \n",
        "    df_copy = df_copy.drop(snow_density[k],axis=1)\n",
        "  # Approximation of the other two columns\n",
        "    df_copy[f'ceiling_height_agl:m_{k}'] = df_copy[f'ceiling_height_agl:m_{k}'].interpolate(method='linear', limit_direction='both')\n",
        "    df_copy[f'cloud_base_agl:m_{k}'] = df_copy[f'cloud_base_agl:m_{k}'].interpolate(method='linear', limit_direction='both')\n",
        "  return df_copy"
      ]
    },
    {
      "cell_type": "code",
      "execution_count": 21,
      "metadata": {
        "id": "COlGJ5ATU8st"
      },
      "outputs": [],
      "source": [
        "X_train_observed_a_nan = gestion_nan(X_train_observed_a)"
      ]
    },
    {
      "cell_type": "markdown",
      "metadata": {
        "id": "yFQ4yv46wlMA"
      },
      "source": [
        "# Traitement des df + séparation train/test"
      ]
    },
    {
      "cell_type": "markdown",
      "metadata": {
        "id": "LVSQrEZNxJNU"
      },
      "source": [
        "## Séparation train/test"
      ]
    },
    {
      "cell_type": "markdown",
      "metadata": {
        "id": "8Rh-BL2-myEh"
      },
      "source": [
        "A la fin on va projeter à partir de donnée météo estimer sur un periode non rencontré.\n",
        "\n",
        "On va donc séparer notre train/test sur les même conditions, à savoir que le test sera issue de estimated. Il ne reste qu'à fixer la date à partir de laquelle on fait la séparation.\n",
        "\n",
        "L'objectif est aussi d'avoir de l'estimated dans l'entrainement pour prendre en compte la différence entre observed et estimated qui devra être régler plus tard."
      ]
    },
    {
      "cell_type": "code",
      "execution_count": 22,
      "metadata": {
        "colab": {
          "base_uri": "https://localhost:8080/"
        },
        "id": "otDF8xN6m07V",
        "outputId": "c3a94cb4-ac54-4c7f-fc85-40548e15cbcd"
      },
      "outputs": [
        {
          "name": "stdout",
          "output_type": "stream",
          "text": [
            "30904\n",
            "4577\n",
            "0.12899861897917195\n"
          ]
        }
      ],
      "source": [
        "print(len(X_train_observed_a))\n",
        "print(len(X_train_estimated_a))\n",
        "print(len(X_train_estimated_a)/(len(X_train_estimated_a)+len(X_train_observed_a)))"
      ]
    },
    {
      "cell_type": "code",
      "execution_count": 23,
      "metadata": {
        "id": "vpzCuuBVXkZb"
      },
      "outputs": [],
      "source": [
        "X_total_a_y_nan = gestion_nan(X_total_a_y)\n",
        "X_total_b_y_nan = gestion_nan(X_total_b_y)\n",
        "X_total_c_y_nan = gestion_nan(X_total_c_y)"
      ]
    },
    {
      "cell_type": "code",
      "execution_count": 24,
      "metadata": {},
      "outputs": [],
      "source": [
        "split_date_a = X_train_estimated_a['date_forecast'].quantile(0.25)\n",
        "split_date_b = X_train_estimated_b['date_forecast'].quantile(0.25)\n",
        "split_date_c = X_train_estimated_c['date_forecast'].quantile(0.25)"
      ]
    },
    {
      "cell_type": "code",
      "execution_count": 25,
      "metadata": {},
      "outputs": [],
      "source": [
        "split_date_a = pd.to_datetime(\"2021-04-15\")\n",
        "split_date2_a = pd.to_datetime(\"2021-08-15\")\n",
        "\n",
        "split_date_b = pd.to_datetime(\"2019-04-15\")\n",
        "split_date2_b = pd.to_datetime(\"2019-08-15\")\n",
        "\n",
        "split_date_c = pd.to_datetime(\"2021-04-15\")\n",
        "split_date2_c = pd.to_datetime(\"2021-08-15\")"
      ]
    },
    {
      "cell_type": "code",
      "execution_count": 26,
      "metadata": {},
      "outputs": [],
      "source": [
        "start_2019 = pd.to_datetime(\"2019-04-21\")\n",
        "end_2019 = pd.to_datetime(\"2019-07-22\")\n",
        "\n",
        "start_2020 = pd.to_datetime(\"2020-04-21\")\n",
        "end_2020 = pd.to_datetime(\"2020-07-22\")\n",
        "\n",
        "start_2021 = pd.to_datetime(\"2021-04-21\")\n",
        "end_2021 = pd.to_datetime(\"2021-07-22\")\n",
        "\n",
        "start_2022 = pd.to_datetime(\"2022-04-21\")\n",
        "end_2022 = pd.to_datetime(\"2022-07-22\")"
      ]
    },
    {
      "cell_type": "code",
      "execution_count": 27,
      "metadata": {},
      "outputs": [],
      "source": [
        "def create_mask_for_split_training_and_testing(df, start_estimated, time_column = 'date_forecast'):\n",
        "    mask_2019 = ((df[time_column] >= start_2019) & (df[time_column] < end_2019))\n",
        "    mask_2020 = ((df[time_column] >= start_2020) & (df[time_column] < end_2020))\n",
        "    mask_2021 = ((df[time_column] >= start_2021) & (df[time_column] < end_2021))\n",
        "    mask_2022 = ((df[time_column] >= start_2022) & (df[time_column] < end_2022))\n",
        "    mask_estimated = (df[time_column] >= start_estimated)\n",
        "    return mask_2019, mask_2020, mask_2021, mask_2022,mask_estimated"
      ]
    },
    {
      "cell_type": "code",
      "execution_count": 28,
      "metadata": {},
      "outputs": [],
      "source": [
        "def split_training_testing_set_on_test_set_dates():\n",
        "    quantile = .25\n",
        "    pv_train_a = X_total_a_y_nan[X_total_a_y_nan['date_forecast'] <= X_train_estimated_a['date_forecast'].quantile(quantile)].copy()\n",
        "    pv_test_a = X_total_a_y_nan[X_total_a_y_nan['date_forecast'] > X_train_estimated_a['date_forecast'].quantile(quantile)].copy()\n",
        "\n",
        "    pv_train_b = X_total_b_y_nan[X_total_b_y_nan['date_forecast'] <= X_train_estimated_b['date_forecast'].quantile(quantile)].copy()\n",
        "    pv_test_b = X_total_b_y_nan[X_total_b_y_nan['date_forecast'] > X_train_estimated_b['date_forecast'].quantile(quantile)].copy()\n",
        "\n",
        "    pv_train_c = X_total_c_y_nan[X_total_c_y_nan['date_forecast'] <= X_train_estimated_c['date_forecast'].quantile(quantile)].copy()\n",
        "    pv_test_c = X_total_c_y_nan[X_total_c_y_nan['date_forecast'] > X_train_estimated_c['date_forecast'].quantile(quantile)].copy() \n",
        "    return pv_train_a, pv_test_a, pv_train_b, pv_test_b, pv_train_c, pv_test_c"
      ]
    },
    {
      "cell_type": "code",
      "execution_count": 29,
      "metadata": {},
      "outputs": [],
      "source": [
        "def split_training_testing_set(df, start_estimated, random_state=42, test_size = .1, time_column = 'date_forecast'):\n",
        "    df_to_split = df.copy()\n",
        "    mask_2019, mask_2020, mask_2021, mask_2022, mask_estimated = create_mask_for_split_training_and_testing(df_to_split, start_estimated)\n",
        "\n",
        "    df_summers = df_to_split[mask_2019 | mask_2020 | mask_2021 | mask_2022]\n",
        "    df_estimated = df_to_split[mask_estimated]\n",
        "    print(len(df_estimated))\n",
        "    df_not_summer = df_to_split[~(mask_2019 | mask_2020 | mask_2021 | mask_2022 | mask_estimated)]\n",
        "\n",
        "    # test_size_summer = test_size * (len(df_summers) + len(df_not_summer) + len(df_estimated)) / (len(df_summers) + len(df_estimated))\n",
        "    # test_size_estimated = test_size * (len(df_summers) + len(df_not_summer) + len(df_estimated)) / (len(df_summers) + len(df_estimated))\n",
        "\n",
        "    test_size_estimated = 0.8\n",
        "    test_size_summer = ( test_size * (len(df_summers) + len(df_not_summer) + len(df_estimated)) - test_size_estimated * len(df_estimated) ) / len(df_summers)\n",
        "    # test_size_summer = ( test_size * (len(df_summers) + len(df_not_summer) + len(df_estimated)) - test_size_estimated * len(df_estimated) ) / len(df_summers)\n",
        "    # test_size_estimated = 1 - test_size_summer\n",
        "    # train_data_summer, pv_test_not_ordered = train_test_split(df_summers, test_size=test_size, random_state=random_state)\n",
        "\n",
        "    unique_dates_summer = df_summers[time_column].dt.date.unique()\n",
        "    unique_dates_estimated = df_summers[time_column].dt.date.unique()\n",
        "\n",
        "    train_dates_summer, test_dates_summer = train_test_split(unique_dates_summer, test_size=test_size_summer, random_state=random_state)\n",
        "    train_dates_estimated, test_dates_estimated = train_test_split(unique_dates_estimated, test_size=test_size_estimated, random_state=random_state)\n",
        "\n",
        "    train_data_summer = df_summers[df_summers[time_column].dt.date.isin(train_dates_summer)]\n",
        "    train_data_estimated = df_estimated[df_estimated[time_column].dt.date.isin(train_dates_estimated)]\n",
        "\n",
        "    pv_test_summer_not_ordered = df_summers[df_summers[time_column].dt.date.isin(test_dates_summer)]\n",
        "    pv_test_estimated_not_ordered = df_estimated[df_estimated[time_column].dt.date.isin(test_dates_estimated)]\n",
        "\n",
        "    pv_test_not_ordered = pd.concat([pv_test_summer_not_ordered, pv_test_estimated_not_ordered])\n",
        "    pv_train_not_ordered = pd.concat([train_data_summer, train_data_estimated, df_not_summer])\n",
        "\n",
        "    pv_train = pv_train_not_ordered.sort_values(by=time_column)\n",
        "    pv_test = pv_test_not_ordered.sort_values(by=time_column)\n",
        "    return pv_train, pv_test"
      ]
    },
    {
      "cell_type": "code",
      "execution_count": 30,
      "metadata": {},
      "outputs": [],
      "source": [
        "def split_training_testing_set(df, start_estimated, random_state=42, text_size = .1, time_column = 'date_forecast'):\n",
        "    df_to_split = df.copy()\n",
        "    mask_2019, mask_2020, mask_2021, mask_2022, mask_estimated = create_mask_for_split_training_and_testing(df_to_split, start_estimated)\n",
        "    df_summers = df_to_split[mask_2019 | mask_2020 | mask_2021 | mask_2022 | mask_estimated]\n",
        "    df_not_summer = df_to_split[~(mask_2019 | mask_2020 | mask_2021 | mask_2022 | mask_estimated)]\n",
        "    test_size = text_size * (len(df_summers) + len(df_not_summer)) / len(df_summers)\n",
        "    train_data_summer, pv_test_not_ordered = train_test_split(df_summers, test_size=test_size, random_state=random_state)\n",
        "\n",
        "    pv_train_not_ordered = pd.concat([train_data_summer, df_not_summer])\n",
        "    pv_train = pv_train_not_ordered.sort_values(by='date_forecast')\n",
        "    pv_test = pv_test_not_ordered.sort_values(by='date_forecast')\n",
        "    return pv_train, pv_test"
      ]
    },
    {
      "cell_type": "code",
      "execution_count": 31,
      "metadata": {},
      "outputs": [],
      "source": [
        "# create_mask_for_split_training_and_testing(df, start_estimated, time_column = 'date_forecast')\n",
        "df_to_split = X_total_b_y_nan\n",
        "start_estimated = X_train_estimated_b[\"date_forecast\"].mean()\n",
        "mask_2019, mask_2020, mask_2021, mask_2022, mask_estimated = create_mask_for_split_training_and_testing(df_to_split, start_estimated)"
      ]
    },
    {
      "cell_type": "code",
      "execution_count": 32,
      "metadata": {},
      "outputs": [],
      "source": [
        "pv_train_a, pv_test_a = split_training_testing_set(X_total_a_y_nan, X_train_estimated_a[\"date_forecast\"].mean(), random_state=random_state)\n",
        "pv_train_b, pv_test_b = split_training_testing_set(X_total_b_y_nan, X_train_estimated_b[\"date_forecast\"].mean(), random_state=random_state)\n",
        "pv_train_c, pv_test_c = split_training_testing_set(X_total_c_y_nan, X_train_estimated_c[\"date_forecast\"].mean(), random_state=random_state)"
      ]
    },
    {
      "cell_type": "code",
      "execution_count": 33,
      "metadata": {},
      "outputs": [],
      "source": [
        "if test_set_param=='basic': pv_train_a, pv_test_a, pv_train_b, pv_test_b, pv_train_c, pv_test_c = split_training_testing_set_on_test_set_dates()"
      ]
    },
    {
      "cell_type": "code",
      "execution_count": 34,
      "metadata": {
        "colab": {
          "base_uri": "https://localhost:8080/"
        },
        "id": "v_1dTdJYxT9q",
        "outputId": "af1e5cd4-d79f-4309-a6c7-452801dea0a1"
      },
      "outputs": [
        {
          "name": "stdout",
          "output_type": "stream",
          "text": [
            "train_a : (30639, 178)\n",
            "test_a : (3405, 178)\n",
            "Rapport test/total : 10.0 %\n",
            "train_b : (24444, 178)\n",
            "test_b : (2717, 178)\n",
            "Rapport test/total : 10.0 %\n",
            "train_c : (19530, 178)\n",
            "test_c : (2171, 178)\n",
            "Rapport test/total : 10.0 %\n"
          ]
        }
      ],
      "source": [
        "\n",
        "print(\"train_a :\",pv_train_a.shape)\n",
        "print(\"test_a :\",pv_test_a.shape)\n",
        "print(\"Rapport test/total :\", round(pv_test_a.shape[0]/(pv_test_a.shape[0]+pv_train_a.shape[0]),3)*100, '%')\n",
        "print(\"train_b :\",pv_train_b.shape)\n",
        "print(\"test_b :\",pv_test_b.shape)\n",
        "print(\"Rapport test/total :\", round(pv_test_b.shape[0]/(pv_test_b.shape[0]+pv_train_b.shape[0]),3)*100, '%')\n",
        "print(\"train_c :\",pv_train_c.shape)\n",
        "print(\"test_c :\",pv_test_c.shape)\n",
        "print(\"Rapport test/total :\", round(pv_test_c.shape[0]/(pv_test_c.shape[0]+pv_train_c.shape[0]),3)*100, '%')"
      ]
    },
    {
      "cell_type": "markdown",
      "metadata": {
        "id": "BvJgNqxMoPK3"
      },
      "source": [
        "## Changement type de la date_forecast"
      ]
    },
    {
      "cell_type": "code",
      "execution_count": 35,
      "metadata": {
        "id": "6YwsnFtQxI72"
      },
      "outputs": [],
      "source": [
        "# on change le type de date_forecast\n",
        "pv_train_a['date_forecast'] = pd.to_datetime(pv_train_a['date_forecast'])\n",
        "pv_test_a['date_forecast'] = pd.to_datetime(pv_test_a['date_forecast'])\n",
        "\n",
        "pv_train_b['date_forecast'] = pd.to_datetime(pv_train_b['date_forecast'])\n",
        "pv_test_b['date_forecast'] = pd.to_datetime(pv_test_b['date_forecast'])\n",
        "\n",
        "pv_train_c['date_forecast'] = pd.to_datetime(pv_train_c['date_forecast'])\n",
        "pv_test_c['date_forecast'] = pd.to_datetime(pv_test_c['date_forecast'])"
      ]
    },
    {
      "cell_type": "markdown",
      "metadata": {
        "id": "GcD5npiww7DB"
      },
      "source": [
        "## Filtrage des variables"
      ]
    },
    {
      "cell_type": "code",
      "execution_count": 36,
      "metadata": {
        "id": "vrSBNA6lwiVf"
      },
      "outputs": [],
      "source": [
        "#function to apply XGBoost model\n",
        "def create_features(df, label):\n",
        "\n",
        "    # V2\n",
        "    df['hour'] = df[\"date_forecast\"].dt.hour\n",
        "    df['dayofweek'] = df[\"date_forecast\"].dt.dayofweek\n",
        "    df['quarter'] = df[\"date_forecast\"].dt.quarter\n",
        "    df['month'] = df[\"date_forecast\"].dt.month\n",
        "    df['year'] = df[\"date_forecast\"].dt.year\n",
        "    df['dayofyear'] = df[\"date_forecast\"].dt.dayofyear\n",
        "    df['dayofmonth'] = df[\"date_forecast\"].dt.day\n",
        "    # fin V2\n",
        "    df = df.drop([\"date_calc\",\"date_forecast\"],axis=1) if \"date_calc\" in df.columns else df.drop([\"date_forecast\"],axis=1) # date de calcul des estimated inutil pour l'instant\n",
        "    if label:\n",
        "        y = df[label]\n",
        "        df = df.drop(label,axis=1)\n",
        "        return df, y\n",
        "    return df"
      ]
    },
    {
      "cell_type": "code",
      "execution_count": 37,
      "metadata": {
        "id": "Hg8hidKFxGYS"
      },
      "outputs": [],
      "source": [
        "X_train_a, y_train_a = create_features(pv_train_a, label='pv_measurement')\n",
        "X_test_a, y_test_a = create_features(pv_test_a, label='pv_measurement')\n",
        "\n",
        "X_train_b, y_train_b = create_features(pv_train_b, label='pv_measurement')\n",
        "X_test_b, y_test_b = create_features(pv_test_b, label='pv_measurement')\n",
        "\n",
        "X_train_c, y_train_c = create_features(pv_train_c, label='pv_measurement')\n",
        "X_test_c, y_test_c = create_features(pv_test_c, label='pv_measurement')"
      ]
    },
    {
      "cell_type": "markdown",
      "metadata": {
        "id": "nZcMisI0yLLN"
      },
      "source": [
        "## Normalisation"
      ]
    },
    {
      "cell_type": "code",
      "execution_count": 38,
      "metadata": {
        "id": "wuby8RfayOh4"
      },
      "outputs": [],
      "source": [
        "def sklearn_z_score_normalize_dataframe(df,return_scaler=False,scaler=None,fit=True):\n",
        "    \"\"\"\n",
        "    Normalizes a DataFrame using z-score normalization (mean and standard deviation) from Scikit-Learn.\n",
        "\n",
        "    Parameters:\n",
        "    df (pd.DataFrame): The DataFrame to be normalized.\n",
        "\n",
        "    Returns:\n",
        "    pd.DataFrame: The z-score normalized DataFrame.\n",
        "    \"\"\"\n",
        "    if scaler == None :\n",
        "      # Create a StandardScaler instance\n",
        "      # scaler = Normalizer()\n",
        "      # scaler = RobustScaler()\n",
        "      scaler = StandardScaler()\n",
        "\n",
        "      # Fit the scaler on the DataFrame and transform the data\n",
        "      normalized_data = scaler.fit_transform(df)\n",
        "\n",
        "    else : \n",
        "      if fit:\n",
        "        normalized_data = scaler.fit_transform(df)\n",
        "      else: \n",
        "        normalized_data = scaler.transform(df)\n",
        "\n",
        "    # Create a new DataFrame with the scaled data\n",
        "    normalized_df = pd.DataFrame(normalized_data, columns=df.columns)\n",
        "\n",
        "    # retourner le scaler\n",
        "    if return_scaler :\n",
        "      return normalized_df,scaler\n",
        "    return normalized_df"
      ]
    },
    {
      "cell_type": "code",
      "execution_count": 39,
      "metadata": {
        "id": "HDvBAoHIycUd"
      },
      "outputs": [],
      "source": [
        "X_train_a_norm,scaler_a = sklearn_z_score_normalize_dataframe(X_train_a,return_scaler=True, scaler=scaler_a)\n",
        "X_train_b_norm,scaler_b = sklearn_z_score_normalize_dataframe(X_train_b,return_scaler=True, scaler=scaler_b)\n",
        "X_train_c_norm,scaler_c = sklearn_z_score_normalize_dataframe(X_train_c,return_scaler=True, scaler=scaler_c)"
      ]
    },
    {
      "cell_type": "code",
      "execution_count": 40,
      "metadata": {
        "id": "MgKwlaf2zeQ9"
      },
      "outputs": [],
      "source": [
        "X_test_a_norm = sklearn_z_score_normalize_dataframe(X_test_a,return_scaler=False,scaler=scaler_a, fit=False)\n",
        "X_test_b_norm = sklearn_z_score_normalize_dataframe(X_test_b,return_scaler=False,scaler=scaler_b, fit=False)\n",
        "X_test_c_norm = sklearn_z_score_normalize_dataframe(X_test_c,return_scaler=False,scaler=scaler_c, fit=False)"
      ]
    },
    {
      "cell_type": "markdown",
      "metadata": {
        "id": "acBk2cFgyO0i"
      },
      "source": [
        "## Preprocessing globale"
      ]
    },
    {
      "cell_type": "markdown",
      "metadata": {
        "id": "n0Y9jp38z14j"
      },
      "source": [
        "faire un code qui reprend toute les étapes ci dessus pour éviter de faire plein de lignes qui  se répêtes !!!"
      ]
    },
    {
      "cell_type": "markdown",
      "metadata": {
        "id": "zAz9UF7nv0NB"
      },
      "source": [
        "# Partie AutoML de base "
      ]
    },
    {
      "cell_type": "code",
      "execution_count": 41,
      "metadata": {},
      "outputs": [],
      "source": [
        "# tf.keras.optimizers.legacy.Adam"
      ]
    },
    {
      "cell_type": "code",
      "execution_count": 42,
      "metadata": {},
      "outputs": [],
      "source": [
        "# HYPERPARAMS\n",
        "\n",
        "epochs = 5000\n",
        "max_trial = 50\n",
        "batch_size = 256\n",
        "metrics = [tf.keras.metrics.RootMeanSquaredError(), tf.keras.metrics.MeanSquaredError(), tf.keras.metrics.MeanAbsoluteError()]\n",
        "# metrics = [tf.keras.metrics.RootMeanSquaredError, tf.keras.metrics.MeanAbsoluteError]\n",
        "objective='val_root_mean_squared_error'"
      ]
    },
    {
      "cell_type": "code",
      "execution_count": 43,
      "metadata": {},
      "outputs": [],
      "source": [
        "# It tries 10 different models.\n",
        "reg_a = ak.StructuredDataRegressor(\n",
        "    max_trials=max_trial,\n",
        "    metrics=metrics,\n",
        "    overwrite=True,\n",
        "    project_name='regA1',\n",
        "    objective=objective\n",
        "    )"
      ]
    },
    {
      "cell_type": "code",
      "execution_count": 44,
      "metadata": {},
      "outputs": [
        {
          "name": "stdout",
          "output_type": "stream",
          "text": [
            "Trial 19 Complete [00h 40m 59s]\n",
            "val_loss: 329742.5\n",
            "\n",
            "Best val_loss So Far: 329742.5\n",
            "Total elapsed time: 13h 37m 47s\n",
            "\n",
            "Search: Running Trial #20\n",
            "\n",
            "Value             |Best Value So Far |Hyperparameter\n",
            "True              |True              |structured_data_block_1/normalize\n",
            "False             |False             |structured_data_block_1/dense_block_1/use_batchnorm\n",
            "1                 |1                 |structured_data_block_1/dense_block_1/num_layers\n",
            "64                |64                |structured_data_block_1/dense_block_1/units_0\n",
            "0                 |0                 |structured_data_block_1/dense_block_1/dropout\n",
            "32                |32                |structured_data_block_1/dense_block_1/units_1\n",
            "0.5               |0                 |regression_head_1/dropout\n",
            "adam              |adam              |optimizer\n",
            "0.001             |0.001             |learning_rate\n",
            "64                |64                |structured_data_block_1/dense_block_1/units_2\n",
            "\n"
          ]
        },
        {
          "name": "stderr",
          "output_type": "stream",
          "text": [
            "WARNING:absl:At this time, the v2.11+ optimizer `tf.keras.optimizers.Adam` runs slowly on M1/M2 Macs, please use the legacy Keras optimizer instead, located at `tf.keras.optimizers.legacy.Adam`.\n"
          ]
        },
        {
          "name": "stdout",
          "output_type": "stream",
          "text": [
            "Epoch 1/5000\n",
            "120/120 [==============================] - 756s 11ms/step - loss: 1596124.7500 - root_mean_squared_error: 1212.2146 - mean_squared_error: 1469464.3750 - mean_absolute_error: 557.9697 - val_loss: 2939202.0000 - val_root_mean_squared_error: 1714.4102 - val_mean_squared_error: 2939202.0000 - val_mean_absolute_error: 1004.8669\n",
            "Epoch 2/5000\n",
            "120/120 [==============================] - 1s 6ms/step - loss: 1506712.1250 - root_mean_squared_error: 1227.4821 - mean_squared_error: 1506712.1250 - mean_absolute_error: 564.2405 - val_loss: 2678959.7500 - val_root_mean_squared_error: 1636.7528 - val_mean_squared_error: 2678959.7500 - val_mean_absolute_error: 949.0120\n",
            "Epoch 3/5000\n",
            "120/120 [==============================] - 1s 6ms/step - loss: 1350522.1250 - root_mean_squared_error: 1162.1196 - mean_squared_error: 1350522.1250 - mean_absolute_error: 528.8658 - val_loss: 2296261.0000 - val_root_mean_squared_error: 1515.3419 - val_mean_squared_error: 2296261.0000 - val_mean_absolute_error: 864.2412\n",
            "Epoch 4/5000\n",
            "120/120 [==============================] - 1s 8ms/step - loss: 1148299.6250 - root_mean_squared_error: 1071.5874 - mean_squared_error: 1148299.6250 - mean_absolute_error: 481.6766 - val_loss: 1852842.5000 - val_root_mean_squared_error: 1361.1915 - val_mean_squared_error: 1852842.5000 - val_mean_absolute_error: 763.5399\n",
            "Epoch 5/5000\n",
            "120/120 [==============================] - 1s 7ms/step - loss: 925180.5625 - root_mean_squared_error: 961.8631 - mean_squared_error: 925180.5625 - mean_absolute_error: 429.7421 - val_loss: 1407793.3750 - val_root_mean_squared_error: 1186.5046 - val_mean_squared_error: 1407793.3750 - val_mean_absolute_error: 660.3628\n",
            "Epoch 6/5000\n",
            "120/120 [==============================] - 1s 7ms/step - loss: 720162.3125 - root_mean_squared_error: 848.6238 - mean_squared_error: 720162.3125 - mean_absolute_error: 382.0893 - val_loss: 1046025.1250 - val_root_mean_squared_error: 1022.7537 - val_mean_squared_error: 1046025.1250 - val_mean_absolute_error: 574.5724\n",
            "Epoch 7/5000\n",
            "120/120 [==============================] - 1s 6ms/step - loss: 565205.5625 - root_mean_squared_error: 751.8016 - mean_squared_error: 565205.5625 - mean_absolute_error: 347.3944 - val_loss: 800872.9375 - val_root_mean_squared_error: 894.9150 - val_mean_squared_error: 800872.9375 - val_mean_absolute_error: 518.4761\n",
            "Epoch 8/5000\n",
            "120/120 [==============================] - 1s 6ms/step - loss: 462252.1562 - root_mean_squared_error: 679.8913 - mean_squared_error: 462252.1562 - mean_absolute_error: 326.0573 - val_loss: 661238.0625 - val_root_mean_squared_error: 813.1655 - val_mean_squared_error: 661238.0625 - val_mean_absolute_error: 490.0856\n",
            "Epoch 9/5000\n",
            "120/120 [==============================] - 1s 7ms/step - loss: 404090.4375 - root_mean_squared_error: 635.6811 - mean_squared_error: 404090.4375 - mean_absolute_error: 314.7618 - val_loss: 587654.8750 - val_root_mean_squared_error: 766.5865 - val_mean_squared_error: 587654.8750 - val_mean_absolute_error: 477.8297\n",
            "Epoch 10/5000\n",
            "120/120 [==============================] - 1s 6ms/step - loss: 372668.7188 - root_mean_squared_error: 610.4660 - mean_squared_error: 372668.7188 - mean_absolute_error: 309.4147 - val_loss: 546790.8750 - val_root_mean_squared_error: 739.4531 - val_mean_squared_error: 546790.8750 - val_mean_absolute_error: 470.1614\n",
            "Epoch 11/5000\n",
            "120/120 [==============================] - 1s 6ms/step - loss: 354432.4688 - root_mean_squared_error: 595.3423 - mean_squared_error: 354432.4688 - mean_absolute_error: 305.7845 - val_loss: 520315.1250 - val_root_mean_squared_error: 721.3287 - val_mean_squared_error: 520315.1250 - val_mean_absolute_error: 463.6453\n",
            "Epoch 12/5000\n",
            "120/120 [==============================] - 1s 6ms/step - loss: 338556.3750 - root_mean_squared_error: 581.8560 - mean_squared_error: 338556.3750 - mean_absolute_error: 300.9058 - val_loss: 500458.2188 - val_root_mean_squared_error: 707.4307 - val_mean_squared_error: 500458.2188 - val_mean_absolute_error: 457.3980\n",
            "Epoch 13/5000\n",
            "120/120 [==============================] - 1s 6ms/step - loss: 330145.2188 - root_mean_squared_error: 574.5826 - mean_squared_error: 330145.2188 - mean_absolute_error: 298.3629 - val_loss: 485940.0938 - val_root_mean_squared_error: 697.0941 - val_mean_squared_error: 485940.0938 - val_mean_absolute_error: 452.2745\n",
            "Epoch 14/5000\n",
            "120/120 [==============================] - 1s 7ms/step - loss: 323912.4375 - root_mean_squared_error: 569.1331 - mean_squared_error: 323912.4375 - mean_absolute_error: 294.7251 - val_loss: 474423.5938 - val_root_mean_squared_error: 688.7841 - val_mean_squared_error: 474423.5938 - val_mean_absolute_error: 447.1420\n",
            "Epoch 15/5000\n",
            "120/120 [==============================] - 1s 6ms/step - loss: 314880.0625 - root_mean_squared_error: 561.1417 - mean_squared_error: 314880.0625 - mean_absolute_error: 291.3608 - val_loss: 464979.3750 - val_root_mean_squared_error: 681.8940 - val_mean_squared_error: 464979.3750 - val_mean_absolute_error: 442.3515\n",
            "Epoch 16/5000\n",
            "120/120 [==============================] - 1s 6ms/step - loss: 314186.1875 - root_mean_squared_error: 560.5231 - mean_squared_error: 314186.1875 - mean_absolute_error: 290.2867 - val_loss: 457906.0625 - val_root_mean_squared_error: 676.6876 - val_mean_squared_error: 457906.0625 - val_mean_absolute_error: 438.6301\n",
            "Epoch 17/5000\n",
            "120/120 [==============================] - 1s 6ms/step - loss: 304188.5000 - root_mean_squared_error: 551.5328 - mean_squared_error: 304188.5000 - mean_absolute_error: 285.8866 - val_loss: 452703.2812 - val_root_mean_squared_error: 672.8323 - val_mean_squared_error: 452703.2812 - val_mean_absolute_error: 436.2179\n",
            "Epoch 18/5000\n",
            "120/120 [==============================] - 1s 6ms/step - loss: 303303.2188 - root_mean_squared_error: 550.7297 - mean_squared_error: 303303.2188 - mean_absolute_error: 284.7242 - val_loss: 446712.2188 - val_root_mean_squared_error: 668.3654 - val_mean_squared_error: 446712.2188 - val_mean_absolute_error: 431.6728\n",
            "Epoch 19/5000\n",
            "120/120 [==============================] - 1s 8ms/step - loss: 300191.2188 - root_mean_squared_error: 547.8971 - mean_squared_error: 300191.2188 - mean_absolute_error: 281.6467 - val_loss: 443270.8125 - val_root_mean_squared_error: 665.7859 - val_mean_squared_error: 443270.8125 - val_mean_absolute_error: 429.7152\n",
            "Epoch 20/5000\n",
            "120/120 [==============================] - 1s 6ms/step - loss: 294414.5312 - root_mean_squared_error: 542.5998 - mean_squared_error: 294414.5312 - mean_absolute_error: 279.2893 - val_loss: 439949.0000 - val_root_mean_squared_error: 663.2865 - val_mean_squared_error: 439949.0000 - val_mean_absolute_error: 427.4382\n",
            "Epoch 21/5000\n",
            "120/120 [==============================] - 1s 7ms/step - loss: 295236.7500 - root_mean_squared_error: 543.3569 - mean_squared_error: 295236.7500 - mean_absolute_error: 279.1483 - val_loss: 437377.5312 - val_root_mean_squared_error: 661.3452 - val_mean_squared_error: 437377.5312 - val_mean_absolute_error: 425.7544\n",
            "Epoch 22/5000\n",
            "120/120 [==============================] - 1s 7ms/step - loss: 296347.6250 - root_mean_squared_error: 544.3782 - mean_squared_error: 296347.6250 - mean_absolute_error: 277.5113 - val_loss: 433284.8438 - val_root_mean_squared_error: 658.2438 - val_mean_squared_error: 433284.8438 - val_mean_absolute_error: 422.0514\n",
            "Epoch 23/5000\n",
            "120/120 [==============================] - 1s 6ms/step - loss: 292118.0000 - root_mean_squared_error: 540.4794 - mean_squared_error: 292118.0000 - mean_absolute_error: 275.5448 - val_loss: 431645.9375 - val_root_mean_squared_error: 656.9977 - val_mean_squared_error: 431645.9375 - val_mean_absolute_error: 420.9799\n",
            "Epoch 24/5000\n",
            "120/120 [==============================] - 1s 7ms/step - loss: 287768.4062 - root_mean_squared_error: 536.4405 - mean_squared_error: 287768.4062 - mean_absolute_error: 273.7347 - val_loss: 428866.8438 - val_root_mean_squared_error: 654.8793 - val_mean_squared_error: 428866.8438 - val_mean_absolute_error: 418.6063\n",
            "Epoch 25/5000\n",
            "120/120 [==============================] - 1s 6ms/step - loss: 289815.4062 - root_mean_squared_error: 538.3451 - mean_squared_error: 289815.4062 - mean_absolute_error: 273.8464 - val_loss: 427515.1562 - val_root_mean_squared_error: 653.8464 - val_mean_squared_error: 427515.1562 - val_mean_absolute_error: 417.6449\n",
            "Epoch 26/5000\n",
            "120/120 [==============================] - 1s 6ms/step - loss: 286286.3125 - root_mean_squared_error: 535.0573 - mean_squared_error: 286286.3125 - mean_absolute_error: 271.9740 - val_loss: 425529.7500 - val_root_mean_squared_error: 652.3264 - val_mean_squared_error: 425529.7188 - val_mean_absolute_error: 415.9255\n",
            "Epoch 27/5000\n",
            "120/120 [==============================] - 1s 6ms/step - loss: 289723.2812 - root_mean_squared_error: 538.2595 - mean_squared_error: 289723.2812 - mean_absolute_error: 271.6573 - val_loss: 423686.2500 - val_root_mean_squared_error: 650.9119 - val_mean_squared_error: 423686.2500 - val_mean_absolute_error: 414.2133\n",
            "Epoch 28/5000\n",
            "120/120 [==============================] - 1s 6ms/step - loss: 286142.5000 - root_mean_squared_error: 534.9229 - mean_squared_error: 286142.5000 - mean_absolute_error: 270.9296 - val_loss: 422188.4062 - val_root_mean_squared_error: 649.7603 - val_mean_squared_error: 422188.4062 - val_mean_absolute_error: 412.6167\n",
            "Epoch 29/5000\n",
            "120/120 [==============================] - 1s 6ms/step - loss: 285397.6875 - root_mean_squared_error: 534.2263 - mean_squared_error: 285397.6875 - mean_absolute_error: 269.4781 - val_loss: 420422.7500 - val_root_mean_squared_error: 648.4001 - val_mean_squared_error: 420422.7500 - val_mean_absolute_error: 410.8477\n",
            "Epoch 30/5000\n",
            "120/120 [==============================] - 1s 6ms/step - loss: 283319.0000 - root_mean_squared_error: 532.2772 - mean_squared_error: 283319.0000 - mean_absolute_error: 268.2236 - val_loss: 418588.5312 - val_root_mean_squared_error: 646.9842 - val_mean_squared_error: 418588.5312 - val_mean_absolute_error: 408.9268\n",
            "Epoch 31/5000\n",
            "120/120 [==============================] - 1s 6ms/step - loss: 281465.9688 - root_mean_squared_error: 530.5337 - mean_squared_error: 281465.9688 - mean_absolute_error: 266.8188 - val_loss: 417346.6250 - val_root_mean_squared_error: 646.0237 - val_mean_squared_error: 417346.6250 - val_mean_absolute_error: 407.6847\n",
            "Epoch 32/5000\n",
            "120/120 [==============================] - 1s 7ms/step - loss: 283488.7500 - root_mean_squared_error: 532.4366 - mean_squared_error: 283488.7500 - mean_absolute_error: 267.4323 - val_loss: 416209.8125 - val_root_mean_squared_error: 645.1432 - val_mean_squared_error: 416209.8125 - val_mean_absolute_error: 406.5009\n",
            "Epoch 33/5000\n",
            "120/120 [==============================] - 1s 6ms/step - loss: 280916.6875 - root_mean_squared_error: 530.0157 - mean_squared_error: 280916.6875 - mean_absolute_error: 266.2039 - val_loss: 415027.1562 - val_root_mean_squared_error: 644.2260 - val_mean_squared_error: 415027.1562 - val_mean_absolute_error: 405.4310\n",
            "Epoch 34/5000\n",
            "120/120 [==============================] - 1s 7ms/step - loss: 276639.5312 - root_mean_squared_error: 525.9653 - mean_squared_error: 276639.5312 - mean_absolute_error: 264.5370 - val_loss: 414102.3750 - val_root_mean_squared_error: 643.5079 - val_mean_squared_error: 414102.3750 - val_mean_absolute_error: 404.5953\n",
            "Epoch 35/5000\n",
            "120/120 [==============================] - 1s 6ms/step - loss: 276939.2188 - root_mean_squared_error: 526.2501 - mean_squared_error: 276939.2188 - mean_absolute_error: 264.0343 - val_loss: 413027.8438 - val_root_mean_squared_error: 642.6724 - val_mean_squared_error: 413027.8438 - val_mean_absolute_error: 403.4627\n",
            "Epoch 36/5000\n",
            "120/120 [==============================] - 1s 6ms/step - loss: 275923.2812 - root_mean_squared_error: 525.2840 - mean_squared_error: 275923.2812 - mean_absolute_error: 262.9010 - val_loss: 411209.7500 - val_root_mean_squared_error: 641.2564 - val_mean_squared_error: 411209.7500 - val_mean_absolute_error: 401.6706\n",
            "Epoch 37/5000\n",
            "120/120 [==============================] - 1s 6ms/step - loss: 276774.0625 - root_mean_squared_error: 526.0932 - mean_squared_error: 276774.0625 - mean_absolute_error: 263.7258 - val_loss: 409850.3750 - val_root_mean_squared_error: 640.1956 - val_mean_squared_error: 409850.3750 - val_mean_absolute_error: 399.9966\n",
            "Epoch 38/5000\n",
            "120/120 [==============================] - 1s 6ms/step - loss: 278724.8125 - root_mean_squared_error: 527.9440 - mean_squared_error: 278724.8125 - mean_absolute_error: 264.3311 - val_loss: 408484.4375 - val_root_mean_squared_error: 639.1279 - val_mean_squared_error: 408484.4375 - val_mean_absolute_error: 398.4466\n",
            "Epoch 39/5000\n",
            "120/120 [==============================] - 1s 6ms/step - loss: 277862.6875 - root_mean_squared_error: 527.1268 - mean_squared_error: 277862.6875 - mean_absolute_error: 263.3353 - val_loss: 407543.7188 - val_root_mean_squared_error: 638.3915 - val_mean_squared_error: 407543.7188 - val_mean_absolute_error: 397.4463\n",
            "Epoch 40/5000\n",
            "120/120 [==============================] - 1s 6ms/step - loss: 276993.9375 - root_mean_squared_error: 526.3021 - mean_squared_error: 276993.9375 - mean_absolute_error: 262.8369 - val_loss: 406292.5938 - val_root_mean_squared_error: 637.4108 - val_mean_squared_error: 406292.5938 - val_mean_absolute_error: 396.1010\n",
            "Epoch 41/5000\n",
            "120/120 [==============================] - 1s 6ms/step - loss: 272912.0625 - root_mean_squared_error: 522.4099 - mean_squared_error: 272912.0625 - mean_absolute_error: 259.9233 - val_loss: 405632.5312 - val_root_mean_squared_error: 636.8929 - val_mean_squared_error: 405632.5312 - val_mean_absolute_error: 395.4726\n",
            "Epoch 42/5000\n",
            "120/120 [==============================] - 1s 6ms/step - loss: 274330.8438 - root_mean_squared_error: 523.7660 - mean_squared_error: 274330.8438 - mean_absolute_error: 261.6871 - val_loss: 404133.9375 - val_root_mean_squared_error: 635.7153 - val_mean_squared_error: 404133.9375 - val_mean_absolute_error: 393.7993\n",
            "Epoch 43/5000\n",
            "120/120 [==============================] - 1s 6ms/step - loss: 271843.8750 - root_mean_squared_error: 521.3865 - mean_squared_error: 271843.8750 - mean_absolute_error: 258.4958 - val_loss: 403736.8125 - val_root_mean_squared_error: 635.4029 - val_mean_squared_error: 403736.8125 - val_mean_absolute_error: 393.4371\n",
            "Epoch 44/5000\n",
            "120/120 [==============================] - 1s 7ms/step - loss: 270834.5312 - root_mean_squared_error: 520.4177 - mean_squared_error: 270834.5312 - mean_absolute_error: 258.2823 - val_loss: 402388.8438 - val_root_mean_squared_error: 634.3412 - val_mean_squared_error: 402388.8438 - val_mean_absolute_error: 391.8811\n",
            "Epoch 45/5000\n",
            "120/120 [==============================] - 1s 6ms/step - loss: 274632.1250 - root_mean_squared_error: 524.0535 - mean_squared_error: 274632.1250 - mean_absolute_error: 260.5955 - val_loss: 401491.5625 - val_root_mean_squared_error: 633.6336 - val_mean_squared_error: 401491.5625 - val_mean_absolute_error: 390.7008\n",
            "Epoch 46/5000\n",
            "120/120 [==============================] - 1s 6ms/step - loss: 267554.2812 - root_mean_squared_error: 517.2565 - mean_squared_error: 267554.2812 - mean_absolute_error: 257.1095 - val_loss: 400620.1250 - val_root_mean_squared_error: 632.9456 - val_mean_squared_error: 400620.1250 - val_mean_absolute_error: 389.7967\n",
            "Epoch 47/5000\n",
            "120/120 [==============================] - 1s 6ms/step - loss: 268386.9062 - root_mean_squared_error: 518.0607 - mean_squared_error: 268386.9062 - mean_absolute_error: 257.7775 - val_loss: 399650.8438 - val_root_mean_squared_error: 632.1794 - val_mean_squared_error: 399650.8438 - val_mean_absolute_error: 388.5292\n",
            "Epoch 48/5000\n",
            "120/120 [==============================] - 1s 7ms/step - loss: 268626.3438 - root_mean_squared_error: 518.2917 - mean_squared_error: 268626.3438 - mean_absolute_error: 256.4745 - val_loss: 398897.2812 - val_root_mean_squared_error: 631.5831 - val_mean_squared_error: 398897.2812 - val_mean_absolute_error: 387.6725\n",
            "Epoch 49/5000\n",
            "120/120 [==============================] - 1s 6ms/step - loss: 268419.4375 - root_mean_squared_error: 518.0921 - mean_squared_error: 268419.4375 - mean_absolute_error: 257.1534 - val_loss: 397685.6562 - val_root_mean_squared_error: 630.6232 - val_mean_squared_error: 397685.6562 - val_mean_absolute_error: 386.1588\n",
            "Epoch 50/5000\n",
            "120/120 [==============================] - 1s 6ms/step - loss: 267420.9375 - root_mean_squared_error: 517.1276 - mean_squared_error: 267420.9375 - mean_absolute_error: 256.7562 - val_loss: 396749.8438 - val_root_mean_squared_error: 629.8808 - val_mean_squared_error: 396749.8438 - val_mean_absolute_error: 385.0603\n",
            "Epoch 51/5000\n",
            "120/120 [==============================] - 1s 6ms/step - loss: 269227.8125 - root_mean_squared_error: 518.8716 - mean_squared_error: 269227.8125 - mean_absolute_error: 256.1497 - val_loss: 395967.3438 - val_root_mean_squared_error: 629.2593 - val_mean_squared_error: 395967.3438 - val_mean_absolute_error: 384.1403\n",
            "Epoch 52/5000\n",
            "120/120 [==============================] - 1s 6ms/step - loss: 267178.2188 - root_mean_squared_error: 516.8928 - mean_squared_error: 267178.2188 - mean_absolute_error: 256.1391 - val_loss: 395094.3125 - val_root_mean_squared_error: 628.5653 - val_mean_squared_error: 395094.3125 - val_mean_absolute_error: 383.3485\n",
            "Epoch 53/5000\n",
            "120/120 [==============================] - 1s 7ms/step - loss: 265839.5625 - root_mean_squared_error: 515.5963 - mean_squared_error: 265839.5625 - mean_absolute_error: 255.1041 - val_loss: 394431.2812 - val_root_mean_squared_error: 628.0377 - val_mean_squared_error: 394431.2812 - val_mean_absolute_error: 382.5089\n",
            "Epoch 54/5000\n",
            "120/120 [==============================] - 1s 6ms/step - loss: 270045.1250 - root_mean_squared_error: 519.6587 - mean_squared_error: 270045.1250 - mean_absolute_error: 256.8189 - val_loss: 393589.5000 - val_root_mean_squared_error: 627.3671 - val_mean_squared_error: 393589.5000 - val_mean_absolute_error: 381.4018\n",
            "Epoch 55/5000\n",
            "120/120 [==============================] - 1s 8ms/step - loss: 265217.9062 - root_mean_squared_error: 514.9931 - mean_squared_error: 265217.9062 - mean_absolute_error: 254.1686 - val_loss: 392779.7500 - val_root_mean_squared_error: 626.7214 - val_mean_squared_error: 392779.7500 - val_mean_absolute_error: 380.4922\n",
            "Epoch 56/5000\n",
            "120/120 [==============================] - 1s 6ms/step - loss: 265564.1562 - root_mean_squared_error: 515.3292 - mean_squared_error: 265564.1562 - mean_absolute_error: 253.9280 - val_loss: 392055.8125 - val_root_mean_squared_error: 626.1436 - val_mean_squared_error: 392055.8125 - val_mean_absolute_error: 379.6455\n",
            "Epoch 57/5000\n",
            "120/120 [==============================] - 1s 8ms/step - loss: 264411.0625 - root_mean_squared_error: 514.2092 - mean_squared_error: 264411.0625 - mean_absolute_error: 254.3400 - val_loss: 391221.3438 - val_root_mean_squared_error: 625.4769 - val_mean_squared_error: 391221.3438 - val_mean_absolute_error: 378.9645\n",
            "Epoch 58/5000\n",
            "120/120 [==============================] - 1s 7ms/step - loss: 263670.5625 - root_mean_squared_error: 513.4886 - mean_squared_error: 263670.5625 - mean_absolute_error: 253.7562 - val_loss: 390369.0312 - val_root_mean_squared_error: 624.7952 - val_mean_squared_error: 390369.0312 - val_mean_absolute_error: 377.9444\n",
            "Epoch 59/5000\n",
            "120/120 [==============================] - 1s 6ms/step - loss: 263741.3750 - root_mean_squared_error: 513.5576 - mean_squared_error: 263741.3750 - mean_absolute_error: 253.2497 - val_loss: 389799.5938 - val_root_mean_squared_error: 624.3394 - val_mean_squared_error: 389799.5938 - val_mean_absolute_error: 377.3628\n",
            "Epoch 60/5000\n",
            "120/120 [==============================] - 1s 7ms/step - loss: 264299.1250 - root_mean_squared_error: 514.1003 - mean_squared_error: 264299.1250 - mean_absolute_error: 252.9415 - val_loss: 388972.3125 - val_root_mean_squared_error: 623.6765 - val_mean_squared_error: 388972.3125 - val_mean_absolute_error: 376.3697\n",
            "Epoch 61/5000\n",
            "120/120 [==============================] - 1s 8ms/step - loss: 263931.2812 - root_mean_squared_error: 513.7424 - mean_squared_error: 263931.2812 - mean_absolute_error: 252.9363 - val_loss: 388008.0312 - val_root_mean_squared_error: 622.9029 - val_mean_squared_error: 388008.0312 - val_mean_absolute_error: 375.1891\n",
            "Epoch 62/5000\n",
            "120/120 [==============================] - 1s 7ms/step - loss: 260624.1250 - root_mean_squared_error: 510.5136 - mean_squared_error: 260624.1250 - mean_absolute_error: 251.1679 - val_loss: 387545.8125 - val_root_mean_squared_error: 622.5318 - val_mean_squared_error: 387545.8125 - val_mean_absolute_error: 374.8214\n",
            "Epoch 63/5000\n",
            "120/120 [==============================] - 1s 6ms/step - loss: 266730.0938 - root_mean_squared_error: 516.4592 - mean_squared_error: 266730.0938 - mean_absolute_error: 254.1110 - val_loss: 386656.9375 - val_root_mean_squared_error: 621.8174 - val_mean_squared_error: 386656.9375 - val_mean_absolute_error: 373.6294\n",
            "Epoch 64/5000\n",
            "120/120 [==============================] - 1s 6ms/step - loss: 262555.6875 - root_mean_squared_error: 512.4019 - mean_squared_error: 262555.6875 - mean_absolute_error: 252.8959 - val_loss: 386075.5938 - val_root_mean_squared_error: 621.3498 - val_mean_squared_error: 386075.5938 - val_mean_absolute_error: 372.9482\n",
            "Epoch 65/5000\n",
            "120/120 [==============================] - 1s 6ms/step - loss: 263255.3750 - root_mean_squared_error: 513.0842 - mean_squared_error: 263255.3750 - mean_absolute_error: 251.4187 - val_loss: 385453.5312 - val_root_mean_squared_error: 620.8491 - val_mean_squared_error: 385453.5312 - val_mean_absolute_error: 372.0347\n",
            "Epoch 66/5000\n",
            "120/120 [==============================] - 1s 6ms/step - loss: 260672.0781 - root_mean_squared_error: 510.5605 - mean_squared_error: 260672.0781 - mean_absolute_error: 250.9616 - val_loss: 384922.3125 - val_root_mean_squared_error: 620.4211 - val_mean_squared_error: 384922.3125 - val_mean_absolute_error: 371.4486\n",
            "Epoch 67/5000\n",
            "120/120 [==============================] - 1s 6ms/step - loss: 259482.8125 - root_mean_squared_error: 509.3946 - mean_squared_error: 259482.8125 - mean_absolute_error: 250.7141 - val_loss: 384135.9688 - val_root_mean_squared_error: 619.7870 - val_mean_squared_error: 384135.9688 - val_mean_absolute_error: 370.5877\n",
            "Epoch 68/5000\n",
            "120/120 [==============================] - 1s 6ms/step - loss: 261478.9844 - root_mean_squared_error: 511.3502 - mean_squared_error: 261478.9844 - mean_absolute_error: 251.1097 - val_loss: 383745.7812 - val_root_mean_squared_error: 619.4722 - val_mean_squared_error: 383745.7812 - val_mean_absolute_error: 370.0854\n",
            "Epoch 69/5000\n",
            "120/120 [==============================] - 1s 7ms/step - loss: 259762.3438 - root_mean_squared_error: 509.6689 - mean_squared_error: 259762.3438 - mean_absolute_error: 250.1480 - val_loss: 383278.7188 - val_root_mean_squared_error: 619.0951 - val_mean_squared_error: 383278.7188 - val_mean_absolute_error: 369.7032\n",
            "Epoch 70/5000\n",
            "120/120 [==============================] - 1s 7ms/step - loss: 259672.1719 - root_mean_squared_error: 509.5804 - mean_squared_error: 259672.1719 - mean_absolute_error: 249.8258 - val_loss: 382645.9688 - val_root_mean_squared_error: 618.5839 - val_mean_squared_error: 382645.9688 - val_mean_absolute_error: 369.0035\n",
            "Epoch 71/5000\n",
            "120/120 [==============================] - 1s 7ms/step - loss: 260389.4688 - root_mean_squared_error: 510.2837 - mean_squared_error: 260389.4688 - mean_absolute_error: 250.2285 - val_loss: 381825.4688 - val_root_mean_squared_error: 617.9203 - val_mean_squared_error: 381825.4688 - val_mean_absolute_error: 368.3041\n",
            "Epoch 72/5000\n",
            "120/120 [==============================] - 1s 7ms/step - loss: 257510.0312 - root_mean_squared_error: 507.4545 - mean_squared_error: 257510.0312 - mean_absolute_error: 249.6949 - val_loss: 381251.5938 - val_root_mean_squared_error: 617.4557 - val_mean_squared_error: 381251.5938 - val_mean_absolute_error: 367.6549\n",
            "Epoch 73/5000\n",
            "120/120 [==============================] - 1s 6ms/step - loss: 260819.1250 - root_mean_squared_error: 510.7045 - mean_squared_error: 260819.1250 - mean_absolute_error: 250.6669 - val_loss: 380920.0625 - val_root_mean_squared_error: 617.1872 - val_mean_squared_error: 380920.0625 - val_mean_absolute_error: 367.0709\n",
            "Epoch 74/5000\n",
            "120/120 [==============================] - 1s 6ms/step - loss: 257554.1406 - root_mean_squared_error: 507.4979 - mean_squared_error: 257554.1406 - mean_absolute_error: 249.7273 - val_loss: 380424.1250 - val_root_mean_squared_error: 616.7853 - val_mean_squared_error: 380424.1250 - val_mean_absolute_error: 366.5966\n",
            "Epoch 75/5000\n",
            "120/120 [==============================] - 1s 6ms/step - loss: 252559.7969 - root_mean_squared_error: 502.5533 - mean_squared_error: 252559.7969 - mean_absolute_error: 247.1775 - val_loss: 379715.3125 - val_root_mean_squared_error: 616.2104 - val_mean_squared_error: 379715.3125 - val_mean_absolute_error: 365.7415\n",
            "Epoch 76/5000\n",
            "120/120 [==============================] - 1s 7ms/step - loss: 256148.3281 - root_mean_squared_error: 506.1110 - mean_squared_error: 256148.3281 - mean_absolute_error: 248.6357 - val_loss: 379017.6250 - val_root_mean_squared_error: 615.6440 - val_mean_squared_error: 379017.6250 - val_mean_absolute_error: 364.8392\n",
            "Epoch 77/5000\n",
            "120/120 [==============================] - 1s 8ms/step - loss: 255978.1875 - root_mean_squared_error: 505.9429 - mean_squared_error: 255978.1875 - mean_absolute_error: 248.6977 - val_loss: 378788.8750 - val_root_mean_squared_error: 615.4583 - val_mean_squared_error: 378788.8750 - val_mean_absolute_error: 364.6858\n",
            "Epoch 78/5000\n",
            "120/120 [==============================] - 1s 7ms/step - loss: 257071.3438 - root_mean_squared_error: 507.0220 - mean_squared_error: 257071.3438 - mean_absolute_error: 249.6018 - val_loss: 378068.8125 - val_root_mean_squared_error: 614.8730 - val_mean_squared_error: 378068.8125 - val_mean_absolute_error: 363.6555\n",
            "Epoch 79/5000\n",
            "120/120 [==============================] - 1s 6ms/step - loss: 261897.8125 - root_mean_squared_error: 511.7595 - mean_squared_error: 261897.8125 - mean_absolute_error: 249.8586 - val_loss: 377756.6562 - val_root_mean_squared_error: 614.6191 - val_mean_squared_error: 377756.6562 - val_mean_absolute_error: 363.1786\n",
            "Epoch 80/5000\n",
            "120/120 [==============================] - 1s 6ms/step - loss: 255805.6094 - root_mean_squared_error: 505.7723 - mean_squared_error: 255805.6094 - mean_absolute_error: 247.9629 - val_loss: 377389.1562 - val_root_mean_squared_error: 614.3201 - val_mean_squared_error: 377389.1562 - val_mean_absolute_error: 362.7785\n",
            "Epoch 81/5000\n",
            "120/120 [==============================] - 1s 7ms/step - loss: 255517.5469 - root_mean_squared_error: 505.4874 - mean_squared_error: 255517.5469 - mean_absolute_error: 248.3704 - val_loss: 376723.4375 - val_root_mean_squared_error: 613.7780 - val_mean_squared_error: 376723.4375 - val_mean_absolute_error: 362.1490\n",
            "Epoch 82/5000\n",
            "120/120 [==============================] - 1s 7ms/step - loss: 254405.4688 - root_mean_squared_error: 504.3862 - mean_squared_error: 254405.4688 - mean_absolute_error: 247.9399 - val_loss: 376400.5312 - val_root_mean_squared_error: 613.5149 - val_mean_squared_error: 376400.5312 - val_mean_absolute_error: 361.9175\n",
            "Epoch 83/5000\n",
            "120/120 [==============================] - 1s 7ms/step - loss: 251475.2500 - root_mean_squared_error: 501.4731 - mean_squared_error: 251475.2500 - mean_absolute_error: 246.6643 - val_loss: 376225.4688 - val_root_mean_squared_error: 613.3722 - val_mean_squared_error: 376225.4688 - val_mean_absolute_error: 361.8863\n",
            "Epoch 84/5000\n",
            "120/120 [==============================] - 1s 7ms/step - loss: 258267.8906 - root_mean_squared_error: 508.2007 - mean_squared_error: 258267.8906 - mean_absolute_error: 248.6672 - val_loss: 375530.3125 - val_root_mean_squared_error: 612.8053 - val_mean_squared_error: 375530.3125 - val_mean_absolute_error: 361.1346\n",
            "Epoch 85/5000\n",
            "120/120 [==============================] - 1s 6ms/step - loss: 253216.7500 - root_mean_squared_error: 503.2065 - mean_squared_error: 253216.7500 - mean_absolute_error: 246.8678 - val_loss: 375207.6562 - val_root_mean_squared_error: 612.5420 - val_mean_squared_error: 375207.6562 - val_mean_absolute_error: 360.9389\n",
            "Epoch 86/5000\n",
            "120/120 [==============================] - 1s 8ms/step - loss: 251979.1094 - root_mean_squared_error: 501.9752 - mean_squared_error: 251979.1094 - mean_absolute_error: 246.1741 - val_loss: 374763.4375 - val_root_mean_squared_error: 612.1793 - val_mean_squared_error: 374763.4375 - val_mean_absolute_error: 360.3796\n",
            "Epoch 87/5000\n",
            "120/120 [==============================] - 1s 7ms/step - loss: 255928.4844 - root_mean_squared_error: 505.8937 - mean_squared_error: 255928.4844 - mean_absolute_error: 247.9831 - val_loss: 374409.7500 - val_root_mean_squared_error: 611.8903 - val_mean_squared_error: 374409.7500 - val_mean_absolute_error: 359.8145\n",
            "Epoch 88/5000\n",
            "120/120 [==============================] - 1s 7ms/step - loss: 256443.5469 - root_mean_squared_error: 506.4026 - mean_squared_error: 256443.5469 - mean_absolute_error: 248.7308 - val_loss: 374151.4062 - val_root_mean_squared_error: 611.6792 - val_mean_squared_error: 374151.4062 - val_mean_absolute_error: 359.3855\n",
            "Epoch 89/5000\n",
            "120/120 [==============================] - 1s 6ms/step - loss: 253841.8750 - root_mean_squared_error: 503.8272 - mean_squared_error: 253841.8750 - mean_absolute_error: 247.5345 - val_loss: 374009.1250 - val_root_mean_squared_error: 611.5629 - val_mean_squared_error: 374009.1250 - val_mean_absolute_error: 359.5291\n",
            "Epoch 90/5000\n",
            "120/120 [==============================] - 1s 6ms/step - loss: 258082.4531 - root_mean_squared_error: 508.0182 - mean_squared_error: 258082.4531 - mean_absolute_error: 249.4283 - val_loss: 373398.1875 - val_root_mean_squared_error: 611.0632 - val_mean_squared_error: 373398.1875 - val_mean_absolute_error: 358.5554\n",
            "Epoch 91/5000\n",
            "120/120 [==============================] - 1s 7ms/step - loss: 253523.4375 - root_mean_squared_error: 503.5111 - mean_squared_error: 253523.4375 - mean_absolute_error: 247.1426 - val_loss: 373255.0625 - val_root_mean_squared_error: 610.9460 - val_mean_squared_error: 373255.0625 - val_mean_absolute_error: 358.6442\n",
            "Epoch 92/5000\n",
            "120/120 [==============================] - 1s 7ms/step - loss: 252462.2031 - root_mean_squared_error: 502.4562 - mean_squared_error: 252462.2031 - mean_absolute_error: 247.1060 - val_loss: 373056.7812 - val_root_mean_squared_error: 610.7838 - val_mean_squared_error: 373056.7812 - val_mean_absolute_error: 358.4262\n",
            "Epoch 93/5000\n",
            "120/120 [==============================] - 1s 7ms/step - loss: 249769.6562 - root_mean_squared_error: 499.7696 - mean_squared_error: 249769.6562 - mean_absolute_error: 246.8932 - val_loss: 372673.5938 - val_root_mean_squared_error: 610.4700 - val_mean_squared_error: 372673.5938 - val_mean_absolute_error: 357.9808\n",
            "Epoch 94/5000\n",
            "120/120 [==============================] - 1s 7ms/step - loss: 253002.7969 - root_mean_squared_error: 502.9938 - mean_squared_error: 253002.7969 - mean_absolute_error: 247.1360 - val_loss: 372478.1875 - val_root_mean_squared_error: 610.3099 - val_mean_squared_error: 372478.1875 - val_mean_absolute_error: 357.9320\n",
            "Epoch 95/5000\n",
            "120/120 [==============================] - 1s 8ms/step - loss: 254621.0781 - root_mean_squared_error: 504.5999 - mean_squared_error: 254621.0781 - mean_absolute_error: 248.4079 - val_loss: 372023.7188 - val_root_mean_squared_error: 609.9375 - val_mean_squared_error: 372023.7188 - val_mean_absolute_error: 357.3054\n",
            "Epoch 96/5000\n",
            "120/120 [==============================] - 1s 10ms/step - loss: 250746.1094 - root_mean_squared_error: 500.7455 - mean_squared_error: 250746.1094 - mean_absolute_error: 246.2430 - val_loss: 371501.1875 - val_root_mean_squared_error: 609.5090 - val_mean_squared_error: 371501.1875 - val_mean_absolute_error: 356.6147\n",
            "Epoch 97/5000\n",
            "120/120 [==============================] - 1s 8ms/step - loss: 250427.6719 - root_mean_squared_error: 500.4275 - mean_squared_error: 250427.6719 - mean_absolute_error: 246.2554 - val_loss: 371326.4688 - val_root_mean_squared_error: 609.3656 - val_mean_squared_error: 371326.4688 - val_mean_absolute_error: 356.4694\n",
            "Epoch 98/5000\n",
            "120/120 [==============================] - 1s 7ms/step - loss: 249626.0781 - root_mean_squared_error: 499.6259 - mean_squared_error: 249626.0781 - mean_absolute_error: 245.9790 - val_loss: 370967.0312 - val_root_mean_squared_error: 609.0706 - val_mean_squared_error: 370967.0312 - val_mean_absolute_error: 355.9974\n",
            "Epoch 99/5000\n",
            "120/120 [==============================] - 1s 7ms/step - loss: 250388.6250 - root_mean_squared_error: 500.3885 - mean_squared_error: 250388.6250 - mean_absolute_error: 245.7817 - val_loss: 370676.9062 - val_root_mean_squared_error: 608.8324 - val_mean_squared_error: 370676.9062 - val_mean_absolute_error: 355.7892\n",
            "Epoch 100/5000\n",
            "120/120 [==============================] - 1s 7ms/step - loss: 247172.5469 - root_mean_squared_error: 497.1645 - mean_squared_error: 247172.5469 - mean_absolute_error: 244.2944 - val_loss: 370292.6562 - val_root_mean_squared_error: 608.5168 - val_mean_squared_error: 370292.6562 - val_mean_absolute_error: 355.3167\n",
            "Epoch 101/5000\n",
            " 81/120 [===================>..........] - ETA: 0s - loss: 255274.6719 - root_mean_squared_error: 505.2471 - mean_squared_error: 255274.6719 - mean_absolute_error: 248.5526"
          ]
        },
        {
          "ename": "KeyboardInterrupt",
          "evalue": "",
          "output_type": "error",
          "traceback": [
            "\u001b[0;31m---------------------------------------------------------------------------\u001b[0m",
            "\u001b[0;31mKeyboardInterrupt\u001b[0m                         Traceback (most recent call last)",
            "\u001b[1;32m/Users/arthurtestard/ntnu_code/machine_learning/ml_competition/AutoMLkeras_data_reg_separated_loc_hypparams_rd_test_set_by_day_4_input.ipynb Cell 61\u001b[0m line \u001b[0;36m1\n\u001b[0;32m----> <a href='vscode-notebook-cell:/Users/arthurtestard/ntnu_code/machine_learning/ml_competition/AutoMLkeras_data_reg_separated_loc_hypparams_rd_test_set_by_day_4_input.ipynb#Y165sZmlsZQ%3D%3D?line=0'>1</a>\u001b[0m reg_a\u001b[39m.\u001b[39;49mfit(\n\u001b[1;32m      <a href='vscode-notebook-cell:/Users/arthurtestard/ntnu_code/machine_learning/ml_competition/AutoMLkeras_data_reg_separated_loc_hypparams_rd_test_set_by_day_4_input.ipynb#Y165sZmlsZQ%3D%3D?line=1'>2</a>\u001b[0m     X_train_a_norm, \n\u001b[1;32m      <a href='vscode-notebook-cell:/Users/arthurtestard/ntnu_code/machine_learning/ml_competition/AutoMLkeras_data_reg_separated_loc_hypparams_rd_test_set_by_day_4_input.ipynb#Y165sZmlsZQ%3D%3D?line=2'>3</a>\u001b[0m     y_train_a, \n\u001b[1;32m      <a href='vscode-notebook-cell:/Users/arthurtestard/ntnu_code/machine_learning/ml_competition/AutoMLkeras_data_reg_separated_loc_hypparams_rd_test_set_by_day_4_input.ipynb#Y165sZmlsZQ%3D%3D?line=3'>4</a>\u001b[0m     validation_data\u001b[39m=\u001b[39;49m(X_test_a_norm, y_test_a),\n\u001b[1;32m      <a href='vscode-notebook-cell:/Users/arthurtestard/ntnu_code/machine_learning/ml_competition/AutoMLkeras_data_reg_separated_loc_hypparams_rd_test_set_by_day_4_input.ipynb#Y165sZmlsZQ%3D%3D?line=4'>5</a>\u001b[0m     epochs\u001b[39m=\u001b[39;49mepochs,\n\u001b[1;32m      <a href='vscode-notebook-cell:/Users/arthurtestard/ntnu_code/machine_learning/ml_competition/AutoMLkeras_data_reg_separated_loc_hypparams_rd_test_set_by_day_4_input.ipynb#Y165sZmlsZQ%3D%3D?line=5'>6</a>\u001b[0m     batch_size\u001b[39m=\u001b[39;49mbatch_size\n\u001b[1;32m      <a href='vscode-notebook-cell:/Users/arthurtestard/ntnu_code/machine_learning/ml_competition/AutoMLkeras_data_reg_separated_loc_hypparams_rd_test_set_by_day_4_input.ipynb#Y165sZmlsZQ%3D%3D?line=6'>7</a>\u001b[0m     )\n",
            "File \u001b[0;32m~/envs/ntnu/mlsolar/lib/python3.10/site-packages/autokeras/tasks/structured_data.py:139\u001b[0m, in \u001b[0;36mBaseStructuredDataPipeline.fit\u001b[0;34m(self, x, y, epochs, callbacks, validation_split, validation_data, **kwargs)\u001b[0m\n\u001b[1;32m    135\u001b[0m         validation_data \u001b[39m=\u001b[39m \u001b[39mself\u001b[39m\u001b[39m.\u001b[39m_read_from_csv(x_val, y_val)\n\u001b[1;32m    137\u001b[0m \u001b[39mself\u001b[39m\u001b[39m.\u001b[39mcheck_in_fit(x)\n\u001b[0;32m--> 139\u001b[0m history \u001b[39m=\u001b[39m \u001b[39msuper\u001b[39;49m()\u001b[39m.\u001b[39;49mfit(\n\u001b[1;32m    140\u001b[0m     x\u001b[39m=\u001b[39;49mx,\n\u001b[1;32m    141\u001b[0m     y\u001b[39m=\u001b[39;49my,\n\u001b[1;32m    142\u001b[0m     epochs\u001b[39m=\u001b[39;49mepochs,\n\u001b[1;32m    143\u001b[0m     callbacks\u001b[39m=\u001b[39;49mcallbacks,\n\u001b[1;32m    144\u001b[0m     validation_split\u001b[39m=\u001b[39;49mvalidation_split,\n\u001b[1;32m    145\u001b[0m     validation_data\u001b[39m=\u001b[39;49mvalidation_data,\n\u001b[1;32m    146\u001b[0m     \u001b[39m*\u001b[39;49m\u001b[39m*\u001b[39;49mkwargs\n\u001b[1;32m    147\u001b[0m )\n\u001b[1;32m    148\u001b[0m \u001b[39mreturn\u001b[39;00m history\n",
            "File \u001b[0;32m~/envs/ntnu/mlsolar/lib/python3.10/site-packages/autokeras/auto_model.py:292\u001b[0m, in \u001b[0;36mAutoModel.fit\u001b[0;34m(self, x, y, batch_size, epochs, callbacks, validation_split, validation_data, verbose, **kwargs)\u001b[0m\n\u001b[1;32m    287\u001b[0m \u001b[39mif\u001b[39;00m validation_data \u001b[39mis\u001b[39;00m \u001b[39mNone\u001b[39;00m \u001b[39mand\u001b[39;00m validation_split:\n\u001b[1;32m    288\u001b[0m     dataset, validation_data \u001b[39m=\u001b[39m data_utils\u001b[39m.\u001b[39msplit_dataset(\n\u001b[1;32m    289\u001b[0m         dataset, validation_split\n\u001b[1;32m    290\u001b[0m     )\n\u001b[0;32m--> 292\u001b[0m history \u001b[39m=\u001b[39m \u001b[39mself\u001b[39;49m\u001b[39m.\u001b[39;49mtuner\u001b[39m.\u001b[39;49msearch(\n\u001b[1;32m    293\u001b[0m     x\u001b[39m=\u001b[39;49mdataset,\n\u001b[1;32m    294\u001b[0m     epochs\u001b[39m=\u001b[39;49mepochs,\n\u001b[1;32m    295\u001b[0m     callbacks\u001b[39m=\u001b[39;49mcallbacks,\n\u001b[1;32m    296\u001b[0m     validation_data\u001b[39m=\u001b[39;49mvalidation_data,\n\u001b[1;32m    297\u001b[0m     validation_split\u001b[39m=\u001b[39;49mvalidation_split,\n\u001b[1;32m    298\u001b[0m     verbose\u001b[39m=\u001b[39;49mverbose,\n\u001b[1;32m    299\u001b[0m     \u001b[39m*\u001b[39;49m\u001b[39m*\u001b[39;49mkwargs\n\u001b[1;32m    300\u001b[0m )\n\u001b[1;32m    302\u001b[0m \u001b[39mreturn\u001b[39;00m history\n",
            "File \u001b[0;32m~/envs/ntnu/mlsolar/lib/python3.10/site-packages/autokeras/engine/tuner.py:193\u001b[0m, in \u001b[0;36mAutoTuner.search\u001b[0;34m(self, epochs, callbacks, validation_split, verbose, **fit_kwargs)\u001b[0m\n\u001b[1;32m    191\u001b[0m \u001b[39mself\u001b[39m\u001b[39m.\u001b[39m_try_build(hp)\n\u001b[1;32m    192\u001b[0m \u001b[39mself\u001b[39m\u001b[39m.\u001b[39moracle\u001b[39m.\u001b[39mupdate_space(hp)\n\u001b[0;32m--> 193\u001b[0m \u001b[39msuper\u001b[39;49m()\u001b[39m.\u001b[39;49msearch(\n\u001b[1;32m    194\u001b[0m     epochs\u001b[39m=\u001b[39;49mepochs, callbacks\u001b[39m=\u001b[39;49mnew_callbacks, verbose\u001b[39m=\u001b[39;49mverbose, \u001b[39m*\u001b[39;49m\u001b[39m*\u001b[39;49mfit_kwargs\n\u001b[1;32m    195\u001b[0m )\n\u001b[1;32m    197\u001b[0m \u001b[39m# Train the best model use validation data.\u001b[39;00m\n\u001b[1;32m    198\u001b[0m \u001b[39m# Train the best model with enough number of epochs.\u001b[39;00m\n\u001b[1;32m    199\u001b[0m \u001b[39mif\u001b[39;00m validation_split \u001b[39m>\u001b[39m \u001b[39m0\u001b[39m \u001b[39mor\u001b[39;00m early_stopping_inserted:\n",
            "File \u001b[0;32m~/envs/ntnu/mlsolar/lib/python3.10/site-packages/keras_tuner/src/engine/base_tuner.py:233\u001b[0m, in \u001b[0;36mBaseTuner.search\u001b[0;34m(self, *fit_args, **fit_kwargs)\u001b[0m\n\u001b[1;32m    230\u001b[0m         \u001b[39mcontinue\u001b[39;00m\n\u001b[1;32m    232\u001b[0m     \u001b[39mself\u001b[39m\u001b[39m.\u001b[39mon_trial_begin(trial)\n\u001b[0;32m--> 233\u001b[0m     \u001b[39mself\u001b[39;49m\u001b[39m.\u001b[39;49m_try_run_and_update_trial(trial, \u001b[39m*\u001b[39;49mfit_args, \u001b[39m*\u001b[39;49m\u001b[39m*\u001b[39;49mfit_kwargs)\n\u001b[1;32m    234\u001b[0m     \u001b[39mself\u001b[39m\u001b[39m.\u001b[39mon_trial_end(trial)\n\u001b[1;32m    235\u001b[0m \u001b[39mself\u001b[39m\u001b[39m.\u001b[39mon_search_end()\n",
            "File \u001b[0;32m~/envs/ntnu/mlsolar/lib/python3.10/site-packages/keras_tuner/src/engine/base_tuner.py:273\u001b[0m, in \u001b[0;36mBaseTuner._try_run_and_update_trial\u001b[0;34m(self, trial, *fit_args, **fit_kwargs)\u001b[0m\n\u001b[1;32m    271\u001b[0m \u001b[39mdef\u001b[39;00m \u001b[39m_try_run_and_update_trial\u001b[39m(\u001b[39mself\u001b[39m, trial, \u001b[39m*\u001b[39mfit_args, \u001b[39m*\u001b[39m\u001b[39m*\u001b[39mfit_kwargs):\n\u001b[1;32m    272\u001b[0m     \u001b[39mtry\u001b[39;00m:\n\u001b[0;32m--> 273\u001b[0m         \u001b[39mself\u001b[39;49m\u001b[39m.\u001b[39;49m_run_and_update_trial(trial, \u001b[39m*\u001b[39;49mfit_args, \u001b[39m*\u001b[39;49m\u001b[39m*\u001b[39;49mfit_kwargs)\n\u001b[1;32m    274\u001b[0m         trial\u001b[39m.\u001b[39mstatus \u001b[39m=\u001b[39m trial_module\u001b[39m.\u001b[39mTrialStatus\u001b[39m.\u001b[39mCOMPLETED\n\u001b[1;32m    275\u001b[0m         \u001b[39mreturn\u001b[39;00m\n",
            "File \u001b[0;32m~/envs/ntnu/mlsolar/lib/python3.10/site-packages/keras_tuner/src/engine/base_tuner.py:238\u001b[0m, in \u001b[0;36mBaseTuner._run_and_update_trial\u001b[0;34m(self, trial, *fit_args, **fit_kwargs)\u001b[0m\n\u001b[1;32m    237\u001b[0m \u001b[39mdef\u001b[39;00m \u001b[39m_run_and_update_trial\u001b[39m(\u001b[39mself\u001b[39m, trial, \u001b[39m*\u001b[39mfit_args, \u001b[39m*\u001b[39m\u001b[39m*\u001b[39mfit_kwargs):\n\u001b[0;32m--> 238\u001b[0m     results \u001b[39m=\u001b[39m \u001b[39mself\u001b[39;49m\u001b[39m.\u001b[39;49mrun_trial(trial, \u001b[39m*\u001b[39;49mfit_args, \u001b[39m*\u001b[39;49m\u001b[39m*\u001b[39;49mfit_kwargs)\n\u001b[1;32m    239\u001b[0m     \u001b[39mif\u001b[39;00m \u001b[39mself\u001b[39m\u001b[39m.\u001b[39moracle\u001b[39m.\u001b[39mget_trial(trial\u001b[39m.\u001b[39mtrial_id)\u001b[39m.\u001b[39mmetrics\u001b[39m.\u001b[39mexists(\n\u001b[1;32m    240\u001b[0m         \u001b[39mself\u001b[39m\u001b[39m.\u001b[39moracle\u001b[39m.\u001b[39mobjective\u001b[39m.\u001b[39mname\n\u001b[1;32m    241\u001b[0m     ):\n\u001b[1;32m    242\u001b[0m         \u001b[39m# The oracle is updated by calling `self.oracle.update_trial()` in\u001b[39;00m\n\u001b[1;32m    243\u001b[0m         \u001b[39m# `Tuner.run_trial()`. For backward compatibility, we support this\u001b[39;00m\n\u001b[1;32m    244\u001b[0m         \u001b[39m# use case. No further action needed in this case.\u001b[39;00m\n\u001b[1;32m    245\u001b[0m         warnings\u001b[39m.\u001b[39mwarn(\n\u001b[1;32m    246\u001b[0m             \u001b[39m\"\u001b[39m\u001b[39mThe use case of calling \u001b[39m\u001b[39m\"\u001b[39m\n\u001b[1;32m    247\u001b[0m             \u001b[39m\"\u001b[39m\u001b[39m`self.oracle.update_trial(trial_id, metrics)` \u001b[39m\u001b[39m\"\u001b[39m\n\u001b[0;32m   (...)\u001b[0m\n\u001b[1;32m    253\u001b[0m             stacklevel\u001b[39m=\u001b[39m\u001b[39m2\u001b[39m,\n\u001b[1;32m    254\u001b[0m         )\n",
            "File \u001b[0;32m~/envs/ntnu/mlsolar/lib/python3.10/site-packages/keras_tuner/src/engine/tuner.py:314\u001b[0m, in \u001b[0;36mTuner.run_trial\u001b[0;34m(self, trial, *args, **kwargs)\u001b[0m\n\u001b[1;32m    312\u001b[0m     callbacks\u001b[39m.\u001b[39mappend(model_checkpoint)\n\u001b[1;32m    313\u001b[0m     copied_kwargs[\u001b[39m\"\u001b[39m\u001b[39mcallbacks\u001b[39m\u001b[39m\"\u001b[39m] \u001b[39m=\u001b[39m callbacks\n\u001b[0;32m--> 314\u001b[0m     obj_value \u001b[39m=\u001b[39m \u001b[39mself\u001b[39;49m\u001b[39m.\u001b[39;49m_build_and_fit_model(trial, \u001b[39m*\u001b[39;49margs, \u001b[39m*\u001b[39;49m\u001b[39m*\u001b[39;49mcopied_kwargs)\n\u001b[1;32m    316\u001b[0m     histories\u001b[39m.\u001b[39mappend(obj_value)\n\u001b[1;32m    317\u001b[0m \u001b[39mreturn\u001b[39;00m histories\n",
            "File \u001b[0;32m~/envs/ntnu/mlsolar/lib/python3.10/site-packages/autokeras/engine/tuner.py:101\u001b[0m, in \u001b[0;36mAutoTuner._build_and_fit_model\u001b[0;34m(self, trial, *args, **kwargs)\u001b[0m\n\u001b[1;32m     97\u001b[0m pipeline\u001b[39m.\u001b[39msave(\u001b[39mself\u001b[39m\u001b[39m.\u001b[39m_pipeline_path(trial\u001b[39m.\u001b[39mtrial_id))\n\u001b[1;32m     99\u001b[0m \u001b[39mself\u001b[39m\u001b[39m.\u001b[39madapt(model, kwargs[\u001b[39m\"\u001b[39m\u001b[39mx\u001b[39m\u001b[39m\"\u001b[39m])\n\u001b[0;32m--> 101\u001b[0m _, history \u001b[39m=\u001b[39m utils\u001b[39m.\u001b[39;49mfit_with_adaptive_batch_size(\n\u001b[1;32m    102\u001b[0m     model, \u001b[39mself\u001b[39;49m\u001b[39m.\u001b[39;49mhypermodel\u001b[39m.\u001b[39;49mbatch_size, \u001b[39m*\u001b[39;49m\u001b[39m*\u001b[39;49mkwargs\n\u001b[1;32m    103\u001b[0m )\n\u001b[1;32m    104\u001b[0m \u001b[39mreturn\u001b[39;00m history\n",
            "File \u001b[0;32m~/envs/ntnu/mlsolar/lib/python3.10/site-packages/autokeras/utils/utils.py:88\u001b[0m, in \u001b[0;36mfit_with_adaptive_batch_size\u001b[0;34m(model, batch_size, **fit_kwargs)\u001b[0m\n\u001b[1;32m     87\u001b[0m \u001b[39mdef\u001b[39;00m \u001b[39mfit_with_adaptive_batch_size\u001b[39m(model, batch_size, \u001b[39m*\u001b[39m\u001b[39m*\u001b[39mfit_kwargs):\n\u001b[0;32m---> 88\u001b[0m     history \u001b[39m=\u001b[39m run_with_adaptive_batch_size(\n\u001b[1;32m     89\u001b[0m         batch_size, \u001b[39mlambda\u001b[39;49;00m \u001b[39m*\u001b[39;49m\u001b[39m*\u001b[39;49mkwargs: model\u001b[39m.\u001b[39;49mfit(\u001b[39m*\u001b[39;49m\u001b[39m*\u001b[39;49mkwargs), \u001b[39m*\u001b[39;49m\u001b[39m*\u001b[39;49mfit_kwargs\n\u001b[1;32m     90\u001b[0m     )\n\u001b[1;32m     91\u001b[0m     \u001b[39mreturn\u001b[39;00m model, history\n",
            "File \u001b[0;32m~/envs/ntnu/mlsolar/lib/python3.10/site-packages/autokeras/utils/utils.py:101\u001b[0m, in \u001b[0;36mrun_with_adaptive_batch_size\u001b[0;34m(batch_size, func, **fit_kwargs)\u001b[0m\n\u001b[1;32m     99\u001b[0m \u001b[39mwhile\u001b[39;00m batch_size \u001b[39m>\u001b[39m \u001b[39m0\u001b[39m:\n\u001b[1;32m    100\u001b[0m     \u001b[39mtry\u001b[39;00m:\n\u001b[0;32m--> 101\u001b[0m         history \u001b[39m=\u001b[39m func(x\u001b[39m=\u001b[39;49mx, validation_data\u001b[39m=\u001b[39;49mvalidation_data, \u001b[39m*\u001b[39;49m\u001b[39m*\u001b[39;49mfit_kwargs)\n\u001b[1;32m    102\u001b[0m         \u001b[39mbreak\u001b[39;00m\n\u001b[1;32m    103\u001b[0m     \u001b[39mexcept\u001b[39;00m tf\u001b[39m.\u001b[39merrors\u001b[39m.\u001b[39mResourceExhaustedError \u001b[39mas\u001b[39;00m e:\n",
            "File \u001b[0;32m~/envs/ntnu/mlsolar/lib/python3.10/site-packages/autokeras/utils/utils.py:89\u001b[0m, in \u001b[0;36mfit_with_adaptive_batch_size.<locals>.<lambda>\u001b[0;34m(**kwargs)\u001b[0m\n\u001b[1;32m     87\u001b[0m \u001b[39mdef\u001b[39;00m \u001b[39mfit_with_adaptive_batch_size\u001b[39m(model, batch_size, \u001b[39m*\u001b[39m\u001b[39m*\u001b[39mfit_kwargs):\n\u001b[1;32m     88\u001b[0m     history \u001b[39m=\u001b[39m run_with_adaptive_batch_size(\n\u001b[0;32m---> 89\u001b[0m         batch_size, \u001b[39mlambda\u001b[39;00m \u001b[39m*\u001b[39m\u001b[39m*\u001b[39mkwargs: model\u001b[39m.\u001b[39;49mfit(\u001b[39m*\u001b[39;49m\u001b[39m*\u001b[39;49mkwargs), \u001b[39m*\u001b[39m\u001b[39m*\u001b[39mfit_kwargs\n\u001b[1;32m     90\u001b[0m     )\n\u001b[1;32m     91\u001b[0m     \u001b[39mreturn\u001b[39;00m model, history\n",
            "File \u001b[0;32m~/envs/ntnu/mlsolar/lib/python3.10/site-packages/keras/src/utils/traceback_utils.py:65\u001b[0m, in \u001b[0;36mfilter_traceback.<locals>.error_handler\u001b[0;34m(*args, **kwargs)\u001b[0m\n\u001b[1;32m     63\u001b[0m filtered_tb \u001b[39m=\u001b[39m \u001b[39mNone\u001b[39;00m\n\u001b[1;32m     64\u001b[0m \u001b[39mtry\u001b[39;00m:\n\u001b[0;32m---> 65\u001b[0m     \u001b[39mreturn\u001b[39;00m fn(\u001b[39m*\u001b[39;49margs, \u001b[39m*\u001b[39;49m\u001b[39m*\u001b[39;49mkwargs)\n\u001b[1;32m     66\u001b[0m \u001b[39mexcept\u001b[39;00m \u001b[39mException\u001b[39;00m \u001b[39mas\u001b[39;00m e:\n\u001b[1;32m     67\u001b[0m     filtered_tb \u001b[39m=\u001b[39m _process_traceback_frames(e\u001b[39m.\u001b[39m__traceback__)\n",
            "File \u001b[0;32m~/envs/ntnu/mlsolar/lib/python3.10/site-packages/keras/src/engine/training.py:1774\u001b[0m, in \u001b[0;36mModel.fit\u001b[0;34m(self, x, y, batch_size, epochs, verbose, callbacks, validation_split, validation_data, shuffle, class_weight, sample_weight, initial_epoch, steps_per_epoch, validation_steps, validation_batch_size, validation_freq, max_queue_size, workers, use_multiprocessing)\u001b[0m\n\u001b[1;32m   1772\u001b[0m callbacks\u001b[39m.\u001b[39mon_epoch_begin(epoch)\n\u001b[1;32m   1773\u001b[0m \u001b[39mwith\u001b[39;00m data_handler\u001b[39m.\u001b[39mcatch_stop_iteration():\n\u001b[0;32m-> 1774\u001b[0m     \u001b[39mfor\u001b[39;00m step \u001b[39min\u001b[39;00m data_handler\u001b[39m.\u001b[39msteps():\n\u001b[1;32m   1775\u001b[0m         \u001b[39mwith\u001b[39;00m tf\u001b[39m.\u001b[39mprofiler\u001b[39m.\u001b[39mexperimental\u001b[39m.\u001b[39mTrace(\n\u001b[1;32m   1776\u001b[0m             \u001b[39m\"\u001b[39m\u001b[39mtrain\u001b[39m\u001b[39m\"\u001b[39m,\n\u001b[1;32m   1777\u001b[0m             epoch_num\u001b[39m=\u001b[39mepoch,\n\u001b[0;32m   (...)\u001b[0m\n\u001b[1;32m   1780\u001b[0m             _r\u001b[39m=\u001b[39m\u001b[39m1\u001b[39m,\n\u001b[1;32m   1781\u001b[0m         ):\n\u001b[1;32m   1782\u001b[0m             callbacks\u001b[39m.\u001b[39mon_train_batch_begin(step)\n",
            "File \u001b[0;32m~/envs/ntnu/mlsolar/lib/python3.10/site-packages/keras/src/engine/data_adapter.py:1411\u001b[0m, in \u001b[0;36mDataHandler.steps\u001b[0;34m(self)\u001b[0m\n\u001b[1;32m   1409\u001b[0m \u001b[39mif\u001b[39;00m \u001b[39mself\u001b[39m\u001b[39m.\u001b[39m_insufficient_data:  \u001b[39m# Set by `catch_stop_iteration`.\u001b[39;00m\n\u001b[1;32m   1410\u001b[0m     \u001b[39mbreak\u001b[39;00m\n\u001b[0;32m-> 1411\u001b[0m original_spe \u001b[39m=\u001b[39m \u001b[39mself\u001b[39;49m\u001b[39m.\u001b[39;49m_steps_per_execution\u001b[39m.\u001b[39;49mnumpy()\u001b[39m.\u001b[39mitem()\n\u001b[1;32m   1412\u001b[0m can_run_full_execution \u001b[39m=\u001b[39m (\n\u001b[1;32m   1413\u001b[0m     original_spe \u001b[39m==\u001b[39m \u001b[39m1\u001b[39m\n\u001b[1;32m   1414\u001b[0m     \u001b[39mor\u001b[39;00m \u001b[39mself\u001b[39m\u001b[39m.\u001b[39m_inferred_steps \u001b[39mis\u001b[39;00m \u001b[39mNone\u001b[39;00m\n\u001b[1;32m   1415\u001b[0m     \u001b[39mor\u001b[39;00m \u001b[39mself\u001b[39m\u001b[39m.\u001b[39m_inferred_steps \u001b[39m-\u001b[39m \u001b[39mself\u001b[39m\u001b[39m.\u001b[39m_current_step \u001b[39m>\u001b[39m\u001b[39m=\u001b[39m original_spe\n\u001b[1;32m   1416\u001b[0m )\n\u001b[1;32m   1418\u001b[0m \u001b[39mif\u001b[39;00m can_run_full_execution:\n",
            "File \u001b[0;32m~/envs/ntnu/mlsolar/lib/python3.10/site-packages/tensorflow/python/ops/resource_variable_ops.py:687\u001b[0m, in \u001b[0;36mBaseResourceVariable.numpy\u001b[0;34m(self)\u001b[0m\n\u001b[1;32m    685\u001b[0m \u001b[39mdef\u001b[39;00m \u001b[39mnumpy\u001b[39m(\u001b[39mself\u001b[39m):\n\u001b[1;32m    686\u001b[0m   \u001b[39mif\u001b[39;00m context\u001b[39m.\u001b[39mexecuting_eagerly():\n\u001b[0;32m--> 687\u001b[0m     \u001b[39mreturn\u001b[39;00m \u001b[39mself\u001b[39;49m\u001b[39m.\u001b[39;49mread_value()\u001b[39m.\u001b[39mnumpy()\n\u001b[1;32m    688\u001b[0m   \u001b[39mraise\u001b[39;00m \u001b[39mNotImplementedError\u001b[39;00m(\n\u001b[1;32m    689\u001b[0m       \u001b[39m\"\u001b[39m\u001b[39mnumpy() is only available when eager execution is enabled.\u001b[39m\u001b[39m\"\u001b[39m)\n",
            "File \u001b[0;32m~/envs/ntnu/mlsolar/lib/python3.10/site-packages/tensorflow/python/ops/resource_variable_ops.py:814\u001b[0m, in \u001b[0;36mBaseResourceVariable.read_value\u001b[0;34m(self)\u001b[0m\n\u001b[1;32m    805\u001b[0m \u001b[39m\u001b[39m\u001b[39m\"\"\"Constructs an op which reads the value of this variable.\u001b[39;00m\n\u001b[1;32m    806\u001b[0m \n\u001b[1;32m    807\u001b[0m \u001b[39mShould be used when there are multiple reads, or when it is desirable to\u001b[39;00m\n\u001b[0;32m   (...)\u001b[0m\n\u001b[1;32m    811\u001b[0m \u001b[39m  The value of the variable.\u001b[39;00m\n\u001b[1;32m    812\u001b[0m \u001b[39m\"\"\"\u001b[39;00m\n\u001b[1;32m    813\u001b[0m \u001b[39mwith\u001b[39;00m ops\u001b[39m.\u001b[39mname_scope(\u001b[39m\"\u001b[39m\u001b[39mRead\u001b[39m\u001b[39m\"\u001b[39m):\n\u001b[0;32m--> 814\u001b[0m   value \u001b[39m=\u001b[39m \u001b[39mself\u001b[39;49m\u001b[39m.\u001b[39;49m_read_variable_op()\n\u001b[1;32m    815\u001b[0m \u001b[39m# Return an identity so it can get placed on whatever device the context\u001b[39;00m\n\u001b[1;32m    816\u001b[0m \u001b[39m# specifies instead of the device where the variable is.\u001b[39;00m\n\u001b[1;32m    817\u001b[0m \u001b[39mreturn\u001b[39;00m array_ops\u001b[39m.\u001b[39midentity(value)\n",
            "File \u001b[0;32m~/envs/ntnu/mlsolar/lib/python3.10/site-packages/tensorflow/python/ops/resource_variable_ops.py:793\u001b[0m, in \u001b[0;36mBaseResourceVariable._read_variable_op\u001b[0;34m(self, no_copy)\u001b[0m\n\u001b[1;32m    791\u001b[0m       result \u001b[39m=\u001b[39m read_and_set_handle(no_copy)\n\u001b[1;32m    792\u001b[0m \u001b[39melse\u001b[39;00m:\n\u001b[0;32m--> 793\u001b[0m   result \u001b[39m=\u001b[39m read_and_set_handle(no_copy)\n\u001b[1;32m    795\u001b[0m \u001b[39mif\u001b[39;00m \u001b[39mnot\u001b[39;00m context\u001b[39m.\u001b[39mexecuting_eagerly():\n\u001b[1;32m    796\u001b[0m   \u001b[39m# Note that if a control flow context is active the input of the read op\u001b[39;00m\n\u001b[1;32m    797\u001b[0m   \u001b[39m# might not actually be the handle. This line bypasses it.\u001b[39;00m\n\u001b[1;32m    798\u001b[0m   record\u001b[39m.\u001b[39mrecord_operation(\n\u001b[1;32m    799\u001b[0m       \u001b[39m\"\u001b[39m\u001b[39mReadVariableOp\u001b[39m\u001b[39m\"\u001b[39m, [result], [\u001b[39mself\u001b[39m\u001b[39m.\u001b[39mhandle],\n\u001b[1;32m    800\u001b[0m       backward_function\u001b[39m=\u001b[39m\u001b[39mlambda\u001b[39;00m x: [x],\n\u001b[1;32m    801\u001b[0m       forward_function\u001b[39m=\u001b[39m\u001b[39mlambda\u001b[39;00m x: [x])\n",
            "File \u001b[0;32m~/envs/ntnu/mlsolar/lib/python3.10/site-packages/tensorflow/python/ops/resource_variable_ops.py:783\u001b[0m, in \u001b[0;36mBaseResourceVariable._read_variable_op.<locals>.read_and_set_handle\u001b[0;34m(no_copy)\u001b[0m\n\u001b[1;32m    781\u001b[0m \u001b[39mif\u001b[39;00m no_copy \u001b[39mand\u001b[39;00m forward_compat\u001b[39m.\u001b[39mforward_compatible(\u001b[39m2022\u001b[39m, \u001b[39m5\u001b[39m, \u001b[39m3\u001b[39m):\n\u001b[1;32m    782\u001b[0m   gen_resource_variable_ops\u001b[39m.\u001b[39mdisable_copy_on_read(\u001b[39mself\u001b[39m\u001b[39m.\u001b[39mhandle)\n\u001b[0;32m--> 783\u001b[0m result \u001b[39m=\u001b[39m gen_resource_variable_ops\u001b[39m.\u001b[39;49mread_variable_op(\n\u001b[1;32m    784\u001b[0m     \u001b[39mself\u001b[39;49m\u001b[39m.\u001b[39;49mhandle, \u001b[39mself\u001b[39;49m\u001b[39m.\u001b[39;49m_dtype)\n\u001b[1;32m    785\u001b[0m _maybe_set_handle_data(\u001b[39mself\u001b[39m\u001b[39m.\u001b[39m_dtype, \u001b[39mself\u001b[39m\u001b[39m.\u001b[39mhandle, result)\n\u001b[1;32m    786\u001b[0m \u001b[39mreturn\u001b[39;00m result\n",
            "File \u001b[0;32m~/envs/ntnu/mlsolar/lib/python3.10/site-packages/tensorflow/python/ops/gen_resource_variable_ops.py:533\u001b[0m, in \u001b[0;36mread_variable_op\u001b[0;34m(resource, dtype, name)\u001b[0m\n\u001b[1;32m    531\u001b[0m \u001b[39mif\u001b[39;00m tld\u001b[39m.\u001b[39mis_eager:\n\u001b[1;32m    532\u001b[0m   \u001b[39mtry\u001b[39;00m:\n\u001b[0;32m--> 533\u001b[0m     _result \u001b[39m=\u001b[39m pywrap_tfe\u001b[39m.\u001b[39;49mTFE_Py_FastPathExecute(\n\u001b[1;32m    534\u001b[0m       _ctx, \u001b[39m\"\u001b[39;49m\u001b[39mReadVariableOp\u001b[39;49m\u001b[39m\"\u001b[39;49m, name, resource, \u001b[39m\"\u001b[39;49m\u001b[39mdtype\u001b[39;49m\u001b[39m\"\u001b[39;49m, dtype)\n\u001b[1;32m    535\u001b[0m     \u001b[39mreturn\u001b[39;00m _result\n\u001b[1;32m    536\u001b[0m   \u001b[39mexcept\u001b[39;00m _core\u001b[39m.\u001b[39m_NotOkStatusException \u001b[39mas\u001b[39;00m e:\n",
            "\u001b[0;31mKeyboardInterrupt\u001b[0m: "
          ]
        }
      ],
      "source": [
        "reg_a.fit(\n",
        "    X_train_a_norm, \n",
        "    y_train_a, \n",
        "    validation_data=(X_test_a_norm, y_test_a),\n",
        "    epochs=epochs,\n",
        "    batch_size=batch_size\n",
        "    )"
      ]
    },
    {
      "cell_type": "code",
      "execution_count": null,
      "metadata": {},
      "outputs": [
        {
          "name": "stderr",
          "output_type": "stream",
          "text": [
            "WARNING:absl:At this time, the v2.11+ optimizer `tf.keras.optimizers.RestoredOptimizer` runs slowly on M1/M2 Macs, please use the legacy Keras optimizer instead, located at `tf.keras.optimizers.legacy.RestoredOptimizer`.\n",
            "WARNING:absl:At this time, the v2.11+ optimizer `tf.keras.optimizers.Adam` runs slowly on M1/M2 Macs, please use the legacy Keras optimizer instead, located at `tf.keras.optimizers.legacy.Adam`.\n"
          ]
        },
        {
          "name": "stdout",
          "output_type": "stream",
          "text": [
            "107/107 [==============================] - 1s 2ms/step\n",
            "107/107 [==============================] - 0s 2ms/step\n"
          ]
        }
      ],
      "source": [
        "predicted_y = reg_a.predict(X_test_a_norm)"
      ]
    },
    {
      "cell_type": "code",
      "execution_count": null,
      "metadata": {},
      "outputs": [
        {
          "name": "stderr",
          "output_type": "stream",
          "text": [
            "WARNING:absl:At this time, the v2.11+ optimizer `tf.keras.optimizers.RestoredOptimizer` runs slowly on M1/M2 Macs, please use the legacy Keras optimizer instead, located at `tf.keras.optimizers.legacy.RestoredOptimizer`.\n",
            "WARNING:absl:At this time, the v2.11+ optimizer `tf.keras.optimizers.Adam` runs slowly on M1/M2 Macs, please use the legacy Keras optimizer instead, located at `tf.keras.optimizers.legacy.Adam`.\n"
          ]
        },
        {
          "name": "stdout",
          "output_type": "stream",
          "text": [
            "107/107 [==============================] - 1s 2ms/step - loss: 329400.0625 - mean_squared_error: 329400.0625\n",
            "[329400.0625, 329400.0625]\n"
          ]
        }
      ],
      "source": [
        "# Evaluate the best model with testing data.\n",
        "print(reg_a.evaluate(X_test_a_norm, y_test_a))"
      ]
    },
    {
      "cell_type": "code",
      "execution_count": null,
      "metadata": {},
      "outputs": [
        {
          "name": "stdout",
          "output_type": "stream",
          "text": [
            "Trial 5 Complete [00h 00m 59s]\n",
            "val_loss: 40120.09765625\n",
            "\n",
            "Best val_loss So Far: 10655.5556640625\n",
            "Total elapsed time: 00h 11m 58s\n"
          ]
        },
        {
          "name": "stderr",
          "output_type": "stream",
          "text": [
            "WARNING:absl:At this time, the v2.11+ optimizer `tf.keras.optimizers.Adam` runs slowly on M1/M2 Macs, please use the legacy Keras optimizer instead, located at `tf.keras.optimizers.legacy.Adam`.\n"
          ]
        },
        {
          "name": "stdout",
          "output_type": "stream",
          "text": [
            "Epoch 1/100\n",
            "764/764 [==============================] - 3s 3ms/step - loss: 18177.1387 - mean_squared_error: 18177.1387 - val_loss: 15941.3164 - val_mean_squared_error: 15941.3164\n",
            "Epoch 2/100\n",
            "764/764 [==============================] - 2s 2ms/step - loss: 6335.3096 - mean_squared_error: 6335.3096 - val_loss: 13574.5293 - val_mean_squared_error: 13574.5293\n",
            "Epoch 3/100\n",
            "764/764 [==============================] - 2s 2ms/step - loss: 5746.4224 - mean_squared_error: 5746.4224 - val_loss: 13076.9424 - val_mean_squared_error: 13076.9424\n",
            "Epoch 4/100\n",
            "764/764 [==============================] - 2s 2ms/step - loss: 5535.3853 - mean_squared_error: 5535.3853 - val_loss: 12819.8135 - val_mean_squared_error: 12819.8135\n",
            "Epoch 5/100\n",
            "764/764 [==============================] - 2s 2ms/step - loss: 5395.7710 - mean_squared_error: 5395.7710 - val_loss: 12621.9062 - val_mean_squared_error: 12621.9062\n",
            "Epoch 6/100\n",
            "764/764 [==============================] - 2s 2ms/step - loss: 5291.0723 - mean_squared_error: 5291.0723 - val_loss: 12425.8242 - val_mean_squared_error: 12425.8242\n",
            "Epoch 7/100\n",
            "764/764 [==============================] - 2s 2ms/step - loss: 5206.0659 - mean_squared_error: 5206.0659 - val_loss: 12298.6924 - val_mean_squared_error: 12298.6924\n",
            "Epoch 8/100\n",
            "764/764 [==============================] - 2s 2ms/step - loss: 5137.5088 - mean_squared_error: 5137.5088 - val_loss: 12132.7178 - val_mean_squared_error: 12132.7178\n",
            "Epoch 9/100\n",
            "764/764 [==============================] - 2s 2ms/step - loss: 5075.7119 - mean_squared_error: 5075.7119 - val_loss: 12034.4980 - val_mean_squared_error: 12034.4980\n",
            "Epoch 10/100\n",
            "764/764 [==============================] - 2s 2ms/step - loss: 5024.1035 - mean_squared_error: 5024.1035 - val_loss: 11922.5605 - val_mean_squared_error: 11922.5605\n",
            "Epoch 11/100\n",
            "764/764 [==============================] - 2s 2ms/step - loss: 4978.5078 - mean_squared_error: 4978.5078 - val_loss: 11812.0400 - val_mean_squared_error: 11812.0400\n",
            "Epoch 12/100\n",
            "764/764 [==============================] - 2s 2ms/step - loss: 4939.8950 - mean_squared_error: 4939.8950 - val_loss: 11723.7031 - val_mean_squared_error: 11723.7031\n",
            "Epoch 13/100\n",
            "764/764 [==============================] - 2s 2ms/step - loss: 4898.0503 - mean_squared_error: 4898.0503 - val_loss: 11656.8770 - val_mean_squared_error: 11656.8770\n",
            "Epoch 14/100\n",
            "764/764 [==============================] - 2s 2ms/step - loss: 4864.5503 - mean_squared_error: 4864.5503 - val_loss: 11576.0078 - val_mean_squared_error: 11576.0078\n",
            "Epoch 15/100\n",
            "764/764 [==============================] - 2s 2ms/step - loss: 4835.6758 - mean_squared_error: 4835.6758 - val_loss: 11494.5039 - val_mean_squared_error: 11494.5039\n",
            "Epoch 16/100\n",
            "764/764 [==============================] - 2s 2ms/step - loss: 4803.4712 - mean_squared_error: 4803.4712 - val_loss: 11473.3779 - val_mean_squared_error: 11473.3779\n",
            "Epoch 17/100\n",
            "764/764 [==============================] - 2s 2ms/step - loss: 4778.1367 - mean_squared_error: 4778.1367 - val_loss: 11428.1650 - val_mean_squared_error: 11428.1650\n",
            "Epoch 18/100\n",
            "764/764 [==============================] - 2s 2ms/step - loss: 4750.9185 - mean_squared_error: 4750.9185 - val_loss: 11386.2188 - val_mean_squared_error: 11386.2188\n",
            "Epoch 19/100\n",
            "764/764 [==============================] - 2s 2ms/step - loss: 4727.5825 - mean_squared_error: 4727.5825 - val_loss: 11338.1172 - val_mean_squared_error: 11338.1172\n",
            "Epoch 20/100\n",
            "764/764 [==============================] - 2s 2ms/step - loss: 4703.0449 - mean_squared_error: 4703.0449 - val_loss: 11289.2451 - val_mean_squared_error: 11289.2451\n",
            "Epoch 21/100\n",
            "764/764 [==============================] - 2s 2ms/step - loss: 4678.8384 - mean_squared_error: 4678.8384 - val_loss: 11259.6924 - val_mean_squared_error: 11259.6924\n",
            "Epoch 22/100\n",
            "764/764 [==============================] - 2s 2ms/step - loss: 4651.7646 - mean_squared_error: 4651.7646 - val_loss: 11225.7090 - val_mean_squared_error: 11225.7090\n",
            "Epoch 23/100\n",
            "764/764 [==============================] - 2s 2ms/step - loss: 4631.7930 - mean_squared_error: 4631.7930 - val_loss: 11182.8945 - val_mean_squared_error: 11182.8945\n",
            "Epoch 24/100\n",
            "764/764 [==============================] - 2s 2ms/step - loss: 4606.7002 - mean_squared_error: 4606.7002 - val_loss: 11153.4346 - val_mean_squared_error: 11153.4346\n",
            "Epoch 25/100\n",
            "764/764 [==============================] - 2s 2ms/step - loss: 4582.7554 - mean_squared_error: 4582.7554 - val_loss: 11128.9805 - val_mean_squared_error: 11128.9805\n",
            "Epoch 26/100\n",
            "764/764 [==============================] - 2s 2ms/step - loss: 4560.3896 - mean_squared_error: 4560.3896 - val_loss: 11109.3779 - val_mean_squared_error: 11109.3779\n",
            "Epoch 27/100\n",
            "764/764 [==============================] - 2s 2ms/step - loss: 4537.7979 - mean_squared_error: 4537.7979 - val_loss: 11084.4307 - val_mean_squared_error: 11084.4307\n",
            "Epoch 28/100\n",
            "764/764 [==============================] - 2s 2ms/step - loss: 4517.4346 - mean_squared_error: 4517.4346 - val_loss: 11061.9443 - val_mean_squared_error: 11061.9443\n",
            "Epoch 29/100\n",
            "764/764 [==============================] - 2s 2ms/step - loss: 4496.0630 - mean_squared_error: 4496.0630 - val_loss: 11040.6436 - val_mean_squared_error: 11040.6436\n",
            "Epoch 30/100\n",
            "764/764 [==============================] - 2s 2ms/step - loss: 4476.4023 - mean_squared_error: 4476.4023 - val_loss: 11027.2178 - val_mean_squared_error: 11027.2178\n",
            "Epoch 31/100\n",
            "764/764 [==============================] - 2s 2ms/step - loss: 4463.7002 - mean_squared_error: 4463.7002 - val_loss: 11001.1260 - val_mean_squared_error: 11001.1260\n",
            "Epoch 32/100\n",
            "764/764 [==============================] - 2s 2ms/step - loss: 4439.3579 - mean_squared_error: 4439.3579 - val_loss: 10987.2822 - val_mean_squared_error: 10987.2822\n",
            "Epoch 33/100\n",
            "764/764 [==============================] - 2s 2ms/step - loss: 4423.8906 - mean_squared_error: 4423.8906 - val_loss: 10978.1602 - val_mean_squared_error: 10978.1602\n",
            "Epoch 34/100\n",
            "764/764 [==============================] - 2s 2ms/step - loss: 4406.8940 - mean_squared_error: 4406.8940 - val_loss: 10957.0020 - val_mean_squared_error: 10957.0020\n",
            "Epoch 35/100\n",
            "764/764 [==============================] - 2s 2ms/step - loss: 4391.8374 - mean_squared_error: 4391.8374 - val_loss: 10946.4404 - val_mean_squared_error: 10946.4404\n",
            "Epoch 36/100\n",
            "764/764 [==============================] - 2s 2ms/step - loss: 4378.4175 - mean_squared_error: 4378.4175 - val_loss: 10936.2598 - val_mean_squared_error: 10936.2598\n",
            "Epoch 37/100\n",
            "764/764 [==============================] - 2s 2ms/step - loss: 4363.9224 - mean_squared_error: 4363.9224 - val_loss: 10922.9678 - val_mean_squared_error: 10922.9678\n",
            "Epoch 38/100\n",
            "764/764 [==============================] - 2s 2ms/step - loss: 4349.7876 - mean_squared_error: 4349.7876 - val_loss: 10912.0361 - val_mean_squared_error: 10912.0361\n",
            "Epoch 39/100\n",
            "764/764 [==============================] - 2s 2ms/step - loss: 4335.6523 - mean_squared_error: 4335.6523 - val_loss: 10905.0547 - val_mean_squared_error: 10905.0547\n",
            "Epoch 40/100\n",
            "764/764 [==============================] - 2s 2ms/step - loss: 4321.5767 - mean_squared_error: 4321.5767 - val_loss: 10901.6846 - val_mean_squared_error: 10901.6846\n",
            "Epoch 41/100\n",
            "764/764 [==============================] - 2s 2ms/step - loss: 4308.3726 - mean_squared_error: 4308.3726 - val_loss: 10892.7314 - val_mean_squared_error: 10892.7314\n",
            "Epoch 42/100\n",
            "764/764 [==============================] - 2s 2ms/step - loss: 4294.9087 - mean_squared_error: 4294.9087 - val_loss: 10886.5986 - val_mean_squared_error: 10886.5986\n",
            "Epoch 43/100\n",
            "764/764 [==============================] - 2s 2ms/step - loss: 4283.2617 - mean_squared_error: 4283.2617 - val_loss: 10878.0225 - val_mean_squared_error: 10878.0225\n",
            "Epoch 44/100\n",
            "764/764 [==============================] - 2s 2ms/step - loss: 4268.3809 - mean_squared_error: 4268.3809 - val_loss: 10864.5068 - val_mean_squared_error: 10864.5068\n",
            "Epoch 45/100\n",
            "764/764 [==============================] - 2s 2ms/step - loss: 4254.4648 - mean_squared_error: 4254.4648 - val_loss: 10858.8223 - val_mean_squared_error: 10858.8223\n",
            "Epoch 46/100\n",
            "764/764 [==============================] - 2s 2ms/step - loss: 4242.9951 - mean_squared_error: 4242.9951 - val_loss: 10849.1807 - val_mean_squared_error: 10849.1807\n",
            "Epoch 47/100\n",
            "764/764 [==============================] - 2s 2ms/step - loss: 4229.2305 - mean_squared_error: 4229.2305 - val_loss: 10844.2109 - val_mean_squared_error: 10844.2109\n",
            "Epoch 48/100\n",
            "764/764 [==============================] - 2s 2ms/step - loss: 4215.1211 - mean_squared_error: 4215.1211 - val_loss: 10836.4092 - val_mean_squared_error: 10836.4092\n",
            "Epoch 49/100\n",
            "764/764 [==============================] - 2s 2ms/step - loss: 4203.4019 - mean_squared_error: 4203.4019 - val_loss: 10828.0967 - val_mean_squared_error: 10828.0967\n",
            "Epoch 50/100\n",
            "764/764 [==============================] - 2s 2ms/step - loss: 4189.3701 - mean_squared_error: 4189.3701 - val_loss: 10818.6309 - val_mean_squared_error: 10818.6309\n",
            "Epoch 51/100\n",
            "764/764 [==============================] - 2s 2ms/step - loss: 4177.6470 - mean_squared_error: 4177.6470 - val_loss: 10819.7744 - val_mean_squared_error: 10819.7744\n",
            "Epoch 52/100\n",
            "764/764 [==============================] - 2s 2ms/step - loss: 4166.8608 - mean_squared_error: 4166.8608 - val_loss: 10811.8916 - val_mean_squared_error: 10811.8916\n",
            "Epoch 53/100\n",
            "764/764 [==============================] - 2s 2ms/step - loss: 4152.7686 - mean_squared_error: 4152.7686 - val_loss: 10814.0430 - val_mean_squared_error: 10814.0430\n",
            "Epoch 54/100\n",
            "764/764 [==============================] - 2s 2ms/step - loss: 4141.1982 - mean_squared_error: 4141.1982 - val_loss: 10802.3086 - val_mean_squared_error: 10802.3086\n",
            "Epoch 55/100\n",
            "764/764 [==============================] - 2s 2ms/step - loss: 4130.8696 - mean_squared_error: 4130.8696 - val_loss: 10799.0957 - val_mean_squared_error: 10799.0957\n",
            "Epoch 56/100\n",
            "764/764 [==============================] - 2s 2ms/step - loss: 4116.1436 - mean_squared_error: 4116.1436 - val_loss: 10794.8867 - val_mean_squared_error: 10794.8867\n",
            "Epoch 57/100\n",
            "764/764 [==============================] - 2s 2ms/step - loss: 4103.6187 - mean_squared_error: 4103.6187 - val_loss: 10788.1152 - val_mean_squared_error: 10788.1152\n",
            "Epoch 58/100\n",
            "764/764 [==============================] - 2s 2ms/step - loss: 4090.5085 - mean_squared_error: 4090.5085 - val_loss: 10776.2148 - val_mean_squared_error: 10776.2148\n",
            "Epoch 59/100\n",
            "764/764 [==============================] - 2s 2ms/step - loss: 4078.2170 - mean_squared_error: 4078.2170 - val_loss: 10772.9941 - val_mean_squared_error: 10772.9941\n",
            "Epoch 60/100\n",
            "764/764 [==============================] - 2s 2ms/step - loss: 4065.7483 - mean_squared_error: 4065.7483 - val_loss: 10762.4346 - val_mean_squared_error: 10762.4346\n",
            "Epoch 61/100\n",
            "764/764 [==============================] - 2s 2ms/step - loss: 4052.8777 - mean_squared_error: 4052.8777 - val_loss: 10751.8340 - val_mean_squared_error: 10751.8340\n",
            "Epoch 62/100\n",
            "764/764 [==============================] - 2s 2ms/step - loss: 4040.3987 - mean_squared_error: 4040.3987 - val_loss: 10747.1279 - val_mean_squared_error: 10747.1279\n",
            "Epoch 63/100\n",
            "764/764 [==============================] - 2s 2ms/step - loss: 4029.2754 - mean_squared_error: 4029.2754 - val_loss: 10732.6357 - val_mean_squared_error: 10732.6357\n",
            "Epoch 64/100\n",
            "764/764 [==============================] - 2s 2ms/step - loss: 4016.1858 - mean_squared_error: 4016.1858 - val_loss: 10731.3818 - val_mean_squared_error: 10731.3818\n",
            "Epoch 65/100\n",
            "764/764 [==============================] - 2s 2ms/step - loss: 4005.2966 - mean_squared_error: 4005.2966 - val_loss: 10723.8848 - val_mean_squared_error: 10723.8848\n",
            "Epoch 66/100\n",
            "764/764 [==============================] - 2s 2ms/step - loss: 3993.1072 - mean_squared_error: 3993.1072 - val_loss: 10718.4199 - val_mean_squared_error: 10718.4199\n",
            "Epoch 67/100\n",
            "764/764 [==============================] - 2s 2ms/step - loss: 3980.6826 - mean_squared_error: 3980.6826 - val_loss: 10712.6895 - val_mean_squared_error: 10712.6895\n",
            "Epoch 68/100\n",
            "764/764 [==============================] - 2s 2ms/step - loss: 3969.2437 - mean_squared_error: 3969.2437 - val_loss: 10707.6807 - val_mean_squared_error: 10707.6807\n",
            "Epoch 69/100\n",
            "764/764 [==============================] - 2s 2ms/step - loss: 3959.1829 - mean_squared_error: 3959.1829 - val_loss: 10701.0303 - val_mean_squared_error: 10701.0303\n",
            "Epoch 70/100\n",
            "764/764 [==============================] - 2s 2ms/step - loss: 3948.3496 - mean_squared_error: 3948.3496 - val_loss: 10697.6611 - val_mean_squared_error: 10697.6611\n",
            "Epoch 71/100\n",
            "764/764 [==============================] - 2s 2ms/step - loss: 3936.6506 - mean_squared_error: 3936.6506 - val_loss: 10689.7900 - val_mean_squared_error: 10689.7900\n",
            "Epoch 72/100\n",
            "764/764 [==============================] - 2s 2ms/step - loss: 3925.5520 - mean_squared_error: 3925.5520 - val_loss: 10688.4160 - val_mean_squared_error: 10688.4160\n",
            "Epoch 73/100\n",
            "764/764 [==============================] - 2s 2ms/step - loss: 3913.0271 - mean_squared_error: 3913.0271 - val_loss: 10682.7178 - val_mean_squared_error: 10682.7178\n",
            "Epoch 74/100\n",
            "764/764 [==============================] - 2s 2ms/step - loss: 3901.6177 - mean_squared_error: 3901.6177 - val_loss: 10690.7773 - val_mean_squared_error: 10690.7773\n",
            "Epoch 75/100\n",
            "764/764 [==============================] - 2s 2ms/step - loss: 3892.5662 - mean_squared_error: 3892.5662 - val_loss: 10692.3682 - val_mean_squared_error: 10692.3682\n",
            "Epoch 76/100\n",
            "764/764 [==============================] - 2s 2ms/step - loss: 3879.2043 - mean_squared_error: 3879.2043 - val_loss: 10691.8105 - val_mean_squared_error: 10691.8105\n",
            "Epoch 77/100\n",
            "764/764 [==============================] - 2s 2ms/step - loss: 3867.9480 - mean_squared_error: 3867.9480 - val_loss: 10702.0557 - val_mean_squared_error: 10702.0557\n",
            "Epoch 78/100\n",
            "764/764 [==============================] - 2s 2ms/step - loss: 3857.8975 - mean_squared_error: 3857.8975 - val_loss: 10695.9902 - val_mean_squared_error: 10695.9902\n",
            "Epoch 79/100\n",
            "764/764 [==============================] - 2s 2ms/step - loss: 3844.0759 - mean_squared_error: 3844.0759 - val_loss: 10708.4395 - val_mean_squared_error: 10708.4395\n",
            "Epoch 80/100\n",
            "764/764 [==============================] - 2s 2ms/step - loss: 3834.6187 - mean_squared_error: 3834.6187 - val_loss: 10712.5635 - val_mean_squared_error: 10712.5635\n",
            "Epoch 81/100\n",
            "764/764 [==============================] - 2s 2ms/step - loss: 3823.1794 - mean_squared_error: 3823.1794 - val_loss: 10712.8604 - val_mean_squared_error: 10712.8604\n",
            "Epoch 82/100\n",
            "764/764 [==============================] - 2s 2ms/step - loss: 3811.5164 - mean_squared_error: 3811.5164 - val_loss: 10707.4062 - val_mean_squared_error: 10707.4062\n",
            "Epoch 83/100\n",
            "764/764 [==============================] - 2s 2ms/step - loss: 3800.6228 - mean_squared_error: 3800.6228 - val_loss: 10724.0801 - val_mean_squared_error: 10724.0801\n",
            "Epoch 84/100\n",
            "764/764 [==============================] - 2s 2ms/step - loss: 3788.3367 - mean_squared_error: 3788.3367 - val_loss: 10713.6299 - val_mean_squared_error: 10713.6299\n",
            "Epoch 85/100\n",
            "764/764 [==============================] - 2s 2ms/step - loss: 3774.8191 - mean_squared_error: 3774.8191 - val_loss: 10727.1982 - val_mean_squared_error: 10727.1982\n",
            "Epoch 86/100\n",
            "764/764 [==============================] - 2s 2ms/step - loss: 3765.8665 - mean_squared_error: 3765.8665 - val_loss: 10741.5146 - val_mean_squared_error: 10741.5146\n",
            "Epoch 87/100\n",
            "764/764 [==============================] - 2s 2ms/step - loss: 3754.1421 - mean_squared_error: 3754.1421 - val_loss: 10752.2852 - val_mean_squared_error: 10752.2852\n",
            "Epoch 88/100\n",
            "764/764 [==============================] - 2s 2ms/step - loss: 3742.0847 - mean_squared_error: 3742.0847 - val_loss: 10763.4414 - val_mean_squared_error: 10763.4414\n",
            "Epoch 89/100\n",
            "764/764 [==============================] - 2s 2ms/step - loss: 3729.1694 - mean_squared_error: 3729.1694 - val_loss: 10770.2314 - val_mean_squared_error: 10770.2314\n",
            "Epoch 90/100\n",
            "764/764 [==============================] - 2s 2ms/step - loss: 3719.2827 - mean_squared_error: 3719.2827 - val_loss: 10774.9277 - val_mean_squared_error: 10774.9277\n",
            "Epoch 91/100\n",
            "764/764 [==============================] - 2s 2ms/step - loss: 3710.0676 - mean_squared_error: 3710.0676 - val_loss: 10783.8672 - val_mean_squared_error: 10783.8672\n",
            "Epoch 92/100\n",
            "764/764 [==============================] - 2s 2ms/step - loss: 3697.6763 - mean_squared_error: 3697.6763 - val_loss: 10796.3486 - val_mean_squared_error: 10796.3486\n",
            "Epoch 93/100\n",
            "764/764 [==============================] - 2s 2ms/step - loss: 3685.5503 - mean_squared_error: 3685.5503 - val_loss: 10789.6973 - val_mean_squared_error: 10789.6973\n",
            "Epoch 94/100\n",
            "764/764 [==============================] - 2s 2ms/step - loss: 3673.7188 - mean_squared_error: 3673.7188 - val_loss: 10810.5137 - val_mean_squared_error: 10810.5137\n",
            "Epoch 95/100\n",
            "764/764 [==============================] - 2s 2ms/step - loss: 3663.6465 - mean_squared_error: 3663.6465 - val_loss: 10822.9287 - val_mean_squared_error: 10822.9287\n",
            "Epoch 96/100\n",
            "764/764 [==============================] - 2s 2ms/step - loss: 3651.3054 - mean_squared_error: 3651.3054 - val_loss: 10827.0625 - val_mean_squared_error: 10827.0625\n",
            "Epoch 97/100\n",
            "764/764 [==============================] - 2s 2ms/step - loss: 3640.1694 - mean_squared_error: 3640.1694 - val_loss: 10831.1953 - val_mean_squared_error: 10831.1953\n",
            "Epoch 98/100\n",
            "764/764 [==============================] - 2s 2ms/step - loss: 3626.1392 - mean_squared_error: 3626.1392 - val_loss: 10851.1064 - val_mean_squared_error: 10851.1064\n",
            "Epoch 99/100\n",
            "764/764 [==============================] - 2s 2ms/step - loss: 3613.1228 - mean_squared_error: 3613.1228 - val_loss: 10863.3369 - val_mean_squared_error: 10863.3369\n",
            "Epoch 100/100\n",
            "764/764 [==============================] - 2s 2ms/step - loss: 3600.2354 - mean_squared_error: 3600.2354 - val_loss: 10880.0850 - val_mean_squared_error: 10880.0850\n",
            "INFO:tensorflow:Assets written to: ./structured_data_regressor/best_model/assets\n"
          ]
        },
        {
          "name": "stderr",
          "output_type": "stream",
          "text": [
            "INFO:tensorflow:Assets written to: ./structured_data_regressor/best_model/assets\n"
          ]
        },
        {
          "data": {
            "text/plain": [
              "<keras.src.callbacks.History at 0x2f03a20e0>"
            ]
          },
          "execution_count": 47,
          "metadata": {},
          "output_type": "execute_result"
        }
      ],
      "source": [
        "reg_b = ak.StructuredDataRegressor(\n",
        "    max_trials=max_trial,\n",
        "    metrics=metrics,\n",
        "    overwrite=True,\n",
        "    project_name='regB1',\n",
        "    objective=objective\n",
        "    )\n",
        "reg_b.fit(\n",
        "    X_train_b_norm, \n",
        "    y_train_b, \n",
        "    validation_data=(X_test_b_norm, y_test_b),\n",
        "    epochs=epochs,\n",
        "    batch_size=batch_size\n",
        "    )"
      ]
    },
    {
      "cell_type": "code",
      "execution_count": null,
      "metadata": {},
      "outputs": [
        {
          "name": "stdout",
          "output_type": "stream",
          "text": [
            "Trial 5 Complete [00h 00m 48s]\n",
            "val_loss: 10680.9541015625\n",
            "\n",
            "Best val_loss So Far: 9024.7705078125\n",
            "Total elapsed time: 00h 05m 12s\n"
          ]
        },
        {
          "name": "stderr",
          "output_type": "stream",
          "text": [
            "WARNING:absl:At this time, the v2.11+ optimizer `tf.keras.optimizers.Adam` runs slowly on M1/M2 Macs, please use the legacy Keras optimizer instead, located at `tf.keras.optimizers.legacy.Adam`.\n"
          ]
        },
        {
          "name": "stdout",
          "output_type": "stream",
          "text": [
            "Epoch 1/100\n",
            "611/611 [==============================] - 2s 3ms/step - loss: 11987.0244 - mean_squared_error: 11987.0244 - val_loss: 13249.5117 - val_mean_squared_error: 13249.5117\n",
            "Epoch 2/100\n",
            "611/611 [==============================] - 1s 2ms/step - loss: 5644.5718 - mean_squared_error: 5644.5718 - val_loss: 11820.1006 - val_mean_squared_error: 11820.1006\n",
            "Epoch 3/100\n",
            "611/611 [==============================] - 1s 2ms/step - loss: 5147.6943 - mean_squared_error: 5147.6943 - val_loss: 10449.9043 - val_mean_squared_error: 10449.9043\n",
            "Epoch 4/100\n",
            "611/611 [==============================] - 1s 2ms/step - loss: 5019.2236 - mean_squared_error: 5019.2236 - val_loss: 10321.4717 - val_mean_squared_error: 10321.4717\n",
            "Epoch 5/100\n",
            "611/611 [==============================] - 1s 2ms/step - loss: 4948.8369 - mean_squared_error: 4948.8369 - val_loss: 10930.5596 - val_mean_squared_error: 10930.5596\n",
            "Epoch 6/100\n",
            "611/611 [==============================] - 1s 2ms/step - loss: 4735.2412 - mean_squared_error: 4735.2412 - val_loss: 10984.9424 - val_mean_squared_error: 10984.9424\n",
            "Epoch 7/100\n",
            "611/611 [==============================] - 1s 2ms/step - loss: 4771.7363 - mean_squared_error: 4771.7363 - val_loss: 11023.4834 - val_mean_squared_error: 11023.4834\n",
            "Epoch 8/100\n",
            "611/611 [==============================] - 1s 2ms/step - loss: 4657.6040 - mean_squared_error: 4657.6040 - val_loss: 10196.5234 - val_mean_squared_error: 10196.5234\n",
            "Epoch 9/100\n",
            "611/611 [==============================] - 1s 2ms/step - loss: 4589.3032 - mean_squared_error: 4589.3032 - val_loss: 10100.3799 - val_mean_squared_error: 10100.3799\n",
            "Epoch 10/100\n",
            "611/611 [==============================] - 1s 2ms/step - loss: 4609.6431 - mean_squared_error: 4609.6431 - val_loss: 10424.8789 - val_mean_squared_error: 10424.8789\n",
            "Epoch 11/100\n",
            "611/611 [==============================] - 1s 2ms/step - loss: 4494.3379 - mean_squared_error: 4494.3379 - val_loss: 10102.0898 - val_mean_squared_error: 10102.0898\n",
            "Epoch 12/100\n",
            "611/611 [==============================] - 1s 2ms/step - loss: 4659.4419 - mean_squared_error: 4659.4419 - val_loss: 10493.6084 - val_mean_squared_error: 10493.6084\n",
            "Epoch 13/100\n",
            "611/611 [==============================] - 1s 2ms/step - loss: 4504.0522 - mean_squared_error: 4504.0522 - val_loss: 10307.5703 - val_mean_squared_error: 10307.5703\n",
            "Epoch 14/100\n",
            "611/611 [==============================] - 1s 2ms/step - loss: 4503.1318 - mean_squared_error: 4503.1318 - val_loss: 9809.6338 - val_mean_squared_error: 9809.6338\n",
            "Epoch 15/100\n",
            "611/611 [==============================] - 1s 2ms/step - loss: 4466.7949 - mean_squared_error: 4466.7949 - val_loss: 10066.9111 - val_mean_squared_error: 10066.9111\n",
            "Epoch 16/100\n",
            "611/611 [==============================] - 1s 2ms/step - loss: 4430.4214 - mean_squared_error: 4430.4214 - val_loss: 9594.8652 - val_mean_squared_error: 9594.8652\n",
            "Epoch 17/100\n",
            "611/611 [==============================] - 1s 2ms/step - loss: 4449.7144 - mean_squared_error: 4449.7144 - val_loss: 10272.8350 - val_mean_squared_error: 10272.8350\n",
            "Epoch 18/100\n",
            "611/611 [==============================] - 2s 2ms/step - loss: 4309.5366 - mean_squared_error: 4309.5366 - val_loss: 10067.5898 - val_mean_squared_error: 10067.5898\n",
            "Epoch 19/100\n",
            "611/611 [==============================] - 1s 2ms/step - loss: 4226.4653 - mean_squared_error: 4226.4653 - val_loss: 9995.5654 - val_mean_squared_error: 9995.5654\n",
            "Epoch 20/100\n",
            "611/611 [==============================] - 1s 2ms/step - loss: 4436.0879 - mean_squared_error: 4436.0879 - val_loss: 10138.4473 - val_mean_squared_error: 10138.4473\n",
            "Epoch 21/100\n",
            "611/611 [==============================] - 1s 2ms/step - loss: 4345.8438 - mean_squared_error: 4345.8438 - val_loss: 9974.9404 - val_mean_squared_error: 9974.9404\n",
            "Epoch 22/100\n",
            "611/611 [==============================] - 1s 2ms/step - loss: 4298.9287 - mean_squared_error: 4298.9287 - val_loss: 9878.1191 - val_mean_squared_error: 9878.1191\n",
            "Epoch 23/100\n",
            "611/611 [==============================] - 1s 2ms/step - loss: 4333.2104 - mean_squared_error: 4333.2104 - val_loss: 9753.6162 - val_mean_squared_error: 9753.6162\n",
            "Epoch 24/100\n",
            "611/611 [==============================] - 1s 2ms/step - loss: 4336.0596 - mean_squared_error: 4336.0596 - val_loss: 9524.6309 - val_mean_squared_error: 9524.6309\n",
            "Epoch 25/100\n",
            "611/611 [==============================] - 1s 2ms/step - loss: 4250.4399 - mean_squared_error: 4250.4399 - val_loss: 9549.1953 - val_mean_squared_error: 9549.1953\n",
            "Epoch 26/100\n",
            "611/611 [==============================] - 1s 2ms/step - loss: 4283.3140 - mean_squared_error: 4283.3140 - val_loss: 10125.4404 - val_mean_squared_error: 10125.4404\n",
            "Epoch 27/100\n",
            "611/611 [==============================] - 1s 2ms/step - loss: 4318.5537 - mean_squared_error: 4318.5537 - val_loss: 9786.8174 - val_mean_squared_error: 9786.8174\n",
            "Epoch 28/100\n",
            "611/611 [==============================] - 1s 2ms/step - loss: 4233.0674 - mean_squared_error: 4233.0674 - val_loss: 9437.9561 - val_mean_squared_error: 9437.9561\n",
            "Epoch 29/100\n",
            "611/611 [==============================] - 1s 2ms/step - loss: 4255.9019 - mean_squared_error: 4255.9019 - val_loss: 9469.0068 - val_mean_squared_error: 9469.0068\n",
            "Epoch 30/100\n",
            "611/611 [==============================] - 1s 2ms/step - loss: 4199.4111 - mean_squared_error: 4199.4111 - val_loss: 10009.8408 - val_mean_squared_error: 10009.8408\n",
            "Epoch 31/100\n",
            "611/611 [==============================] - 1s 2ms/step - loss: 4243.2446 - mean_squared_error: 4243.2446 - val_loss: 9775.0586 - val_mean_squared_error: 9775.0586\n",
            "Epoch 32/100\n",
            "611/611 [==============================] - 1s 2ms/step - loss: 4244.4697 - mean_squared_error: 4244.4697 - val_loss: 9706.5537 - val_mean_squared_error: 9706.5537\n",
            "Epoch 33/100\n",
            "611/611 [==============================] - 1s 2ms/step - loss: 4266.3237 - mean_squared_error: 4266.3237 - val_loss: 9376.3848 - val_mean_squared_error: 9376.3848\n",
            "Epoch 34/100\n",
            "611/611 [==============================] - 1s 2ms/step - loss: 4260.3267 - mean_squared_error: 4260.3267 - val_loss: 9640.4580 - val_mean_squared_error: 9640.4580\n",
            "Epoch 35/100\n",
            "611/611 [==============================] - 1s 2ms/step - loss: 4056.2473 - mean_squared_error: 4056.2473 - val_loss: 9208.3008 - val_mean_squared_error: 9208.3008\n",
            "Epoch 36/100\n",
            "611/611 [==============================] - 1s 2ms/step - loss: 4149.8931 - mean_squared_error: 4149.8931 - val_loss: 9159.9834 - val_mean_squared_error: 9159.9834\n",
            "Epoch 37/100\n",
            "611/611 [==============================] - 1s 2ms/step - loss: 4154.7935 - mean_squared_error: 4154.7935 - val_loss: 9409.4785 - val_mean_squared_error: 9409.4785\n",
            "Epoch 38/100\n",
            "611/611 [==============================] - 1s 2ms/step - loss: 4293.8149 - mean_squared_error: 4293.8149 - val_loss: 9647.0166 - val_mean_squared_error: 9647.0166\n",
            "Epoch 39/100\n",
            "611/611 [==============================] - 1s 2ms/step - loss: 4187.2451 - mean_squared_error: 4187.2451 - val_loss: 9864.8223 - val_mean_squared_error: 9864.8223\n",
            "Epoch 40/100\n",
            "611/611 [==============================] - 1s 2ms/step - loss: 4209.0835 - mean_squared_error: 4209.0835 - val_loss: 9663.9746 - val_mean_squared_error: 9663.9746\n",
            "Epoch 41/100\n",
            "611/611 [==============================] - 1s 2ms/step - loss: 4254.2358 - mean_squared_error: 4254.2358 - val_loss: 9242.0957 - val_mean_squared_error: 9242.0957\n",
            "Epoch 42/100\n",
            "611/611 [==============================] - 1s 2ms/step - loss: 4224.0952 - mean_squared_error: 4224.0952 - val_loss: 9470.1855 - val_mean_squared_error: 9470.1855\n",
            "Epoch 43/100\n",
            "611/611 [==============================] - 1s 2ms/step - loss: 4116.9155 - mean_squared_error: 4116.9155 - val_loss: 9703.4082 - val_mean_squared_error: 9703.4082\n",
            "Epoch 44/100\n",
            "611/611 [==============================] - 1s 2ms/step - loss: 4098.8608 - mean_squared_error: 4098.8608 - val_loss: 9554.7959 - val_mean_squared_error: 9554.7959\n",
            "Epoch 45/100\n",
            "611/611 [==============================] - 1s 2ms/step - loss: 4214.9185 - mean_squared_error: 4214.9185 - val_loss: 9892.3652 - val_mean_squared_error: 9892.3652\n",
            "Epoch 46/100\n",
            "611/611 [==============================] - 1s 2ms/step - loss: 4129.7119 - mean_squared_error: 4129.7119 - val_loss: 9209.7432 - val_mean_squared_error: 9209.7432\n",
            "Epoch 47/100\n",
            "611/611 [==============================] - 1s 2ms/step - loss: 4081.9128 - mean_squared_error: 4081.9128 - val_loss: 9476.5674 - val_mean_squared_error: 9476.5674\n",
            "Epoch 48/100\n",
            "611/611 [==============================] - 1s 2ms/step - loss: 4178.5938 - mean_squared_error: 4178.5938 - val_loss: 9205.5840 - val_mean_squared_error: 9205.5840\n",
            "Epoch 49/100\n",
            "611/611 [==============================] - 1s 2ms/step - loss: 4091.5134 - mean_squared_error: 4091.5134 - val_loss: 9314.7422 - val_mean_squared_error: 9314.7422\n",
            "Epoch 50/100\n",
            "611/611 [==============================] - 1s 2ms/step - loss: 4109.7383 - mean_squared_error: 4109.7383 - val_loss: 9073.9131 - val_mean_squared_error: 9073.9131\n",
            "Epoch 51/100\n",
            "611/611 [==============================] - 1s 2ms/step - loss: 4159.4033 - mean_squared_error: 4159.4033 - val_loss: 9030.0176 - val_mean_squared_error: 9030.0176\n",
            "Epoch 52/100\n",
            "611/611 [==============================] - 1s 2ms/step - loss: 4094.9575 - mean_squared_error: 4094.9575 - val_loss: 9207.7334 - val_mean_squared_error: 9207.7334\n",
            "Epoch 53/100\n",
            "611/611 [==============================] - 1s 2ms/step - loss: 4106.2974 - mean_squared_error: 4106.2974 - val_loss: 9802.4443 - val_mean_squared_error: 9802.4443\n",
            "Epoch 54/100\n",
            "611/611 [==============================] - 1s 2ms/step - loss: 4168.8667 - mean_squared_error: 4168.8667 - val_loss: 9656.0713 - val_mean_squared_error: 9656.0713\n",
            "Epoch 55/100\n",
            "611/611 [==============================] - 1s 2ms/step - loss: 3927.6968 - mean_squared_error: 3927.6968 - val_loss: 9426.4268 - val_mean_squared_error: 9426.4268\n",
            "Epoch 56/100\n",
            "611/611 [==============================] - 1s 2ms/step - loss: 4043.0137 - mean_squared_error: 4043.0137 - val_loss: 9266.6338 - val_mean_squared_error: 9266.6338\n",
            "Epoch 57/100\n",
            "611/611 [==============================] - 1s 2ms/step - loss: 4085.7742 - mean_squared_error: 4085.7742 - val_loss: 10158.0791 - val_mean_squared_error: 10158.0791\n",
            "Epoch 58/100\n",
            "611/611 [==============================] - 1s 2ms/step - loss: 4141.5674 - mean_squared_error: 4141.5674 - val_loss: 9394.1221 - val_mean_squared_error: 9394.1221\n",
            "Epoch 59/100\n",
            "611/611 [==============================] - 1s 2ms/step - loss: 4038.4365 - mean_squared_error: 4038.4365 - val_loss: 9658.4326 - val_mean_squared_error: 9658.4326\n",
            "Epoch 60/100\n",
            "611/611 [==============================] - 1s 2ms/step - loss: 4094.6807 - mean_squared_error: 4094.6807 - val_loss: 8942.3477 - val_mean_squared_error: 8942.3477\n",
            "Epoch 61/100\n",
            "611/611 [==============================] - 1s 2ms/step - loss: 4018.2488 - mean_squared_error: 4018.2488 - val_loss: 9305.5957 - val_mean_squared_error: 9305.5957\n",
            "Epoch 62/100\n",
            "611/611 [==============================] - 1s 2ms/step - loss: 4126.7588 - mean_squared_error: 4126.7588 - val_loss: 8774.3643 - val_mean_squared_error: 8774.3643\n",
            "Epoch 63/100\n",
            "611/611 [==============================] - 1s 2ms/step - loss: 4011.2083 - mean_squared_error: 4011.2083 - val_loss: 9301.5869 - val_mean_squared_error: 9301.5869\n",
            "Epoch 64/100\n",
            "611/611 [==============================] - 1s 2ms/step - loss: 4033.3840 - mean_squared_error: 4033.3840 - val_loss: 9122.7256 - val_mean_squared_error: 9122.7256\n",
            "Epoch 65/100\n",
            "611/611 [==============================] - 1s 2ms/step - loss: 3970.3032 - mean_squared_error: 3970.3032 - val_loss: 9731.2363 - val_mean_squared_error: 9731.2363\n",
            "Epoch 66/100\n",
            "611/611 [==============================] - 1s 2ms/step - loss: 4067.2324 - mean_squared_error: 4067.2324 - val_loss: 9391.0557 - val_mean_squared_error: 9391.0557\n",
            "Epoch 67/100\n",
            "611/611 [==============================] - 1s 2ms/step - loss: 3932.2031 - mean_squared_error: 3932.2031 - val_loss: 9237.3896 - val_mean_squared_error: 9237.3896\n",
            "Epoch 68/100\n",
            "611/611 [==============================] - 1s 2ms/step - loss: 3987.2996 - mean_squared_error: 3987.2996 - val_loss: 9638.1299 - val_mean_squared_error: 9638.1299\n",
            "Epoch 69/100\n",
            "611/611 [==============================] - 1s 2ms/step - loss: 4086.0452 - mean_squared_error: 4086.0452 - val_loss: 9052.6719 - val_mean_squared_error: 9052.6719\n",
            "Epoch 70/100\n",
            "611/611 [==============================] - 1s 2ms/step - loss: 3948.1838 - mean_squared_error: 3948.1838 - val_loss: 9124.9521 - val_mean_squared_error: 9124.9521\n",
            "Epoch 71/100\n",
            "611/611 [==============================] - 1s 2ms/step - loss: 4091.3955 - mean_squared_error: 4091.3955 - val_loss: 9726.3682 - val_mean_squared_error: 9726.3682\n",
            "Epoch 72/100\n",
            "611/611 [==============================] - 1s 2ms/step - loss: 3991.7312 - mean_squared_error: 3991.7312 - val_loss: 9308.1348 - val_mean_squared_error: 9308.1348\n",
            "Epoch 73/100\n",
            "611/611 [==============================] - 1s 2ms/step - loss: 3955.8083 - mean_squared_error: 3955.8083 - val_loss: 9445.7715 - val_mean_squared_error: 9445.7715\n",
            "Epoch 74/100\n",
            "611/611 [==============================] - 1s 2ms/step - loss: 3971.0120 - mean_squared_error: 3971.0120 - val_loss: 9449.6025 - val_mean_squared_error: 9449.6025\n",
            "Epoch 75/100\n",
            "611/611 [==============================] - 1s 2ms/step - loss: 4094.7510 - mean_squared_error: 4094.7510 - val_loss: 9398.8711 - val_mean_squared_error: 9398.8711\n",
            "Epoch 76/100\n",
            "611/611 [==============================] - 1s 2ms/step - loss: 4046.0862 - mean_squared_error: 4046.0862 - val_loss: 9187.6152 - val_mean_squared_error: 9187.6152\n",
            "Epoch 77/100\n",
            "611/611 [==============================] - 1s 2ms/step - loss: 4021.1948 - mean_squared_error: 4021.1948 - val_loss: 9069.9854 - val_mean_squared_error: 9069.9854\n",
            "Epoch 78/100\n",
            "611/611 [==============================] - 1s 2ms/step - loss: 4062.4102 - mean_squared_error: 4062.4102 - val_loss: 9481.2998 - val_mean_squared_error: 9481.2998\n",
            "Epoch 79/100\n",
            "611/611 [==============================] - 1s 2ms/step - loss: 4031.7456 - mean_squared_error: 4031.7456 - val_loss: 10117.1143 - val_mean_squared_error: 10117.1143\n",
            "Epoch 80/100\n",
            "611/611 [==============================] - 1s 2ms/step - loss: 4040.7280 - mean_squared_error: 4040.7280 - val_loss: 9395.0244 - val_mean_squared_error: 9395.0244\n",
            "Epoch 81/100\n",
            "611/611 [==============================] - 1s 2ms/step - loss: 4005.9670 - mean_squared_error: 4005.9670 - val_loss: 8994.0430 - val_mean_squared_error: 8994.0430\n",
            "Epoch 82/100\n",
            "611/611 [==============================] - 1s 2ms/step - loss: 4010.4915 - mean_squared_error: 4010.4915 - val_loss: 9313.2549 - val_mean_squared_error: 9313.2549\n",
            "Epoch 83/100\n",
            "611/611 [==============================] - 1s 2ms/step - loss: 3859.1611 - mean_squared_error: 3859.1611 - val_loss: 8604.4414 - val_mean_squared_error: 8604.4414\n",
            "Epoch 84/100\n",
            "611/611 [==============================] - 1s 2ms/step - loss: 3890.0408 - mean_squared_error: 3890.0408 - val_loss: 9360.1875 - val_mean_squared_error: 9360.1875\n",
            "Epoch 85/100\n",
            "611/611 [==============================] - 1s 2ms/step - loss: 3992.8552 - mean_squared_error: 3992.8552 - val_loss: 9996.1787 - val_mean_squared_error: 9996.1787\n",
            "Epoch 86/100\n",
            "611/611 [==============================] - 1s 2ms/step - loss: 4071.8022 - mean_squared_error: 4071.8022 - val_loss: 9338.8281 - val_mean_squared_error: 9338.8281\n",
            "Epoch 87/100\n",
            "611/611 [==============================] - 1s 2ms/step - loss: 3957.2866 - mean_squared_error: 3957.2866 - val_loss: 9366.3477 - val_mean_squared_error: 9366.3477\n",
            "Epoch 88/100\n",
            "611/611 [==============================] - 1s 2ms/step - loss: 3979.4055 - mean_squared_error: 3979.4055 - val_loss: 9421.7119 - val_mean_squared_error: 9421.7119\n",
            "Epoch 89/100\n",
            "611/611 [==============================] - 1s 2ms/step - loss: 4086.3254 - mean_squared_error: 4086.3254 - val_loss: 9282.5684 - val_mean_squared_error: 9282.5684\n",
            "Epoch 90/100\n",
            "611/611 [==============================] - 1s 2ms/step - loss: 3954.3298 - mean_squared_error: 3954.3298 - val_loss: 8895.2607 - val_mean_squared_error: 8895.2607\n",
            "Epoch 91/100\n",
            "611/611 [==============================] - 1s 2ms/step - loss: 3856.3059 - mean_squared_error: 3856.3059 - val_loss: 8875.7852 - val_mean_squared_error: 8875.7852\n",
            "Epoch 92/100\n",
            "611/611 [==============================] - 1s 2ms/step - loss: 3981.9907 - mean_squared_error: 3981.9907 - val_loss: 9272.6748 - val_mean_squared_error: 9272.6748\n",
            "Epoch 93/100\n",
            "611/611 [==============================] - 1s 2ms/step - loss: 3877.9702 - mean_squared_error: 3877.9702 - val_loss: 8768.8359 - val_mean_squared_error: 8768.8359\n",
            "Epoch 94/100\n",
            "611/611 [==============================] - 1s 2ms/step - loss: 3910.0491 - mean_squared_error: 3910.0491 - val_loss: 8957.8281 - val_mean_squared_error: 8957.8281\n",
            "Epoch 95/100\n",
            "611/611 [==============================] - 1s 2ms/step - loss: 3918.5640 - mean_squared_error: 3918.5640 - val_loss: 9021.0000 - val_mean_squared_error: 9021.0000\n",
            "Epoch 96/100\n",
            "611/611 [==============================] - 1s 2ms/step - loss: 4019.8911 - mean_squared_error: 4019.8911 - val_loss: 9075.3994 - val_mean_squared_error: 9075.3994\n",
            "Epoch 97/100\n",
            "611/611 [==============================] - 1s 2ms/step - loss: 4008.1787 - mean_squared_error: 4008.1787 - val_loss: 9145.4219 - val_mean_squared_error: 9145.4219\n",
            "Epoch 98/100\n",
            "611/611 [==============================] - 1s 2ms/step - loss: 3910.0896 - mean_squared_error: 3910.0896 - val_loss: 10086.0273 - val_mean_squared_error: 10086.0273\n",
            "Epoch 99/100\n",
            "611/611 [==============================] - 1s 2ms/step - loss: 3878.9722 - mean_squared_error: 3878.9722 - val_loss: 9572.9277 - val_mean_squared_error: 9572.9277\n",
            "Epoch 100/100\n",
            "611/611 [==============================] - 1s 2ms/step - loss: 3837.9966 - mean_squared_error: 3837.9966 - val_loss: 9569.3564 - val_mean_squared_error: 9569.3564\n",
            "INFO:tensorflow:Assets written to: ./structured_data_regressor/best_model/assets\n"
          ]
        },
        {
          "name": "stderr",
          "output_type": "stream",
          "text": [
            "INFO:tensorflow:Assets written to: ./structured_data_regressor/best_model/assets\n"
          ]
        },
        {
          "data": {
            "text/plain": [
              "<keras.src.callbacks.History at 0x32e38c970>"
            ]
          },
          "execution_count": 48,
          "metadata": {},
          "output_type": "execute_result"
        }
      ],
      "source": [
        "reg_c = ak.StructuredDataRegressor(\n",
        "    max_trials=max_trial,\n",
        "    metrics=metrics,\n",
        "    overwrite=True,\n",
        "    project_name='regC1',\n",
        "    objective=objective\n",
        "    )\n",
        "reg_c.fit(\n",
        "    X_train_c_norm, \n",
        "    y_train_c, \n",
        "    validation_data=(X_test_c_norm, y_test_c),\n",
        "    epochs=epochs,\n",
        "    batch_size=batch_size\n",
        "    )"
      ]
    },
    {
      "cell_type": "code",
      "execution_count": null,
      "metadata": {
        "colab": {
          "base_uri": "https://localhost:8080/",
          "height": 1000
        },
        "id": "L8tJyNqw2ajl",
        "outputId": "d1d82059-64ed-41e7-efa6-89cb907ed5f3"
      },
      "outputs": [
        {
          "ename": "AttributeError",
          "evalue": "'StructuredDataRegressor' object has no attribute 'evals_result'",
          "output_type": "error",
          "traceback": [
            "\u001b[0;31m---------------------------------------------------------------------------\u001b[0m",
            "\u001b[0;31mAttributeError\u001b[0m                            Traceback (most recent call last)",
            "\u001b[1;32m/Users/arthurtestard/ntnu_code/machine_learning/ml_competition/AutoMLkeras_data_reg_separated_loc_hypparams_rd_test_set_by_day_4_input.ipynb Cell 67\u001b[0m line \u001b[0;36m6\n\u001b[1;32m      <a href='vscode-notebook-cell:/Users/arthurtestard/ntnu_code/machine_learning/ml_competition/AutoMLkeras_data_reg_separated_loc_hypparams_rd_test_set_by_day_4_input.ipynb#Y122sZmlsZQ%3D%3D?line=2'>3</a>\u001b[0m test_errors \u001b[39m=\u001b[39m []\n\u001b[1;32m      <a href='vscode-notebook-cell:/Users/arthurtestard/ntnu_code/machine_learning/ml_competition/AutoMLkeras_data_reg_separated_loc_hypparams_rd_test_set_by_day_4_input.ipynb#Y122sZmlsZQ%3D%3D?line=4'>5</a>\u001b[0m \u001b[39m# Accédez aux erreurs d'entraînement et de test après chaque itération\u001b[39;00m\n\u001b[0;32m----> <a href='vscode-notebook-cell:/Users/arthurtestard/ntnu_code/machine_learning/ml_competition/AutoMLkeras_data_reg_separated_loc_hypparams_rd_test_set_by_day_4_input.ipynb#Y122sZmlsZQ%3D%3D?line=5'>6</a>\u001b[0m results \u001b[39m=\u001b[39m reg_a\u001b[39m.\u001b[39;49mevals_result()\n\u001b[1;32m      <a href='vscode-notebook-cell:/Users/arthurtestard/ntnu_code/machine_learning/ml_competition/AutoMLkeras_data_reg_separated_loc_hypparams_rd_test_set_by_day_4_input.ipynb#Y122sZmlsZQ%3D%3D?line=6'>7</a>\u001b[0m train_errors \u001b[39m=\u001b[39m results[\u001b[39m'\u001b[39m\u001b[39mvalidation_0\u001b[39m\u001b[39m'\u001b[39m][eval_metric]\n\u001b[1;32m      <a href='vscode-notebook-cell:/Users/arthurtestard/ntnu_code/machine_learning/ml_competition/AutoMLkeras_data_reg_separated_loc_hypparams_rd_test_set_by_day_4_input.ipynb#Y122sZmlsZQ%3D%3D?line=7'>8</a>\u001b[0m test_errors \u001b[39m=\u001b[39m results[\u001b[39m'\u001b[39m\u001b[39mvalidation_1\u001b[39m\u001b[39m'\u001b[39m][eval_metric]\n",
            "\u001b[0;31mAttributeError\u001b[0m: 'StructuredDataRegressor' object has no attribute 'evals_result'"
          ]
        }
      ],
      "source": [
        "# # Créez des listes vides pour stocker les erreurs d'entraînement et de test\n",
        "# train_errors = []\n",
        "# test_errors = []\n",
        "\n",
        "# # Accédez aux erreurs d'entraînement et de test après chaque itération\n",
        "# results = reg_a.evals_result()\n",
        "# train_errors = results['validation_0'][eval_metric]\n",
        "# test_errors = results['validation_1'][eval_metric]\n",
        "\n",
        "# # Tracez les courbes d'apprentissage\n",
        "# plt.figure(figsize=(10, 6))\n",
        "# plt.plot(train_errors, label='Train')\n",
        "# plt.plot(test_errors, label='Test')\n",
        "# plt.xlabel('Boosting Rounds')\n",
        "# plt.ylabel(eval_metric)\n",
        "# plt.legend()\n",
        "# plt.title('Learning Curves')\n",
        "# plt.show()\n",
        "\n",
        "# min_error_a = min(test_errors)\n",
        "# # Créez des listes vides pour stocker les erreurs d'entraînement et de test\n",
        "# train_errors = []\n",
        "# test_errors = []\n",
        "\n",
        "# # Accédez aux erreurs d'entraînement et de test après chaque itération\n",
        "# results = reg_b.evals_result()\n",
        "# train_errors = results['validation_0'][eval_metric]\n",
        "# test_errors = results['validation_1'][eval_metric]\n",
        "\n",
        "# # Tracez les courbes d'apprentissage\n",
        "# plt.figure(figsize=(10, 6))\n",
        "# plt.plot(train_errors, label='Train')\n",
        "# plt.plot(test_errors, label='Test')\n",
        "# plt.xlabel('Boosting Rounds')\n",
        "# plt.ylabel(eval_metric)\n",
        "# plt.legend()\n",
        "# plt.title('Learning Curves')\n",
        "# plt.show()\n",
        "\n",
        "# min_error_b = min(test_errors)\n",
        "# # Créez des listes vides pour stocker les erreurs d'entraînement et de test\n",
        "# train_errors = []\n",
        "# test_errors = []\n",
        "\n",
        "# # Accédez aux erreurs d'entraînement et de test après chaque itération\n",
        "# results = reg_c.evals_result()\n",
        "# train_errors = results['validation_0'][eval_metric]\n",
        "# test_errors = results['validation_1'][eval_metric]\n",
        "\n",
        "# min_error_c = min(test_errors)\n",
        "# # Tracez les courbes d'apprentissage\n",
        "# plt.figure(figsize=(10, 6))\n",
        "# plt.plot(train_errors, label='Train')\n",
        "# plt.plot(test_errors, label='Test')\n",
        "# plt.xlabel('Boosting Rounds')\n",
        "# plt.ylabel(eval_metric)\n",
        "# plt.legend()\n",
        "# plt.title('Learning Curves')\n",
        "# plt.show()"
      ]
    },
    {
      "cell_type": "code",
      "execution_count": null,
      "metadata": {},
      "outputs": [],
      "source": [
        "min_error_a, min_error_b, min_error_c"
      ]
    },
    {
      "cell_type": "code",
      "execution_count": null,
      "metadata": {
        "colab": {
          "base_uri": "https://localhost:8080/",
          "height": 1000
        },
        "id": "0Cpiem0U0J6m",
        "outputId": "67557c5d-d422-46aa-b3a5-1b4d56eed6a7"
      },
      "outputs": [],
      "source": [
        "# plot_importance(reg_a, height=.9)\n",
        "# plt.gcf().set_size_inches(14, 8 * 4)\n",
        "# plot_importance(reg_b, height=0.9)\n",
        "# plt.gcf().set_size_inches(14, 8 * 4)\n",
        "# plot_importance(reg_c, height=0.9)\n",
        "# plt.gcf().set_size_inches(14, 8 * 4)"
      ]
    },
    {
      "cell_type": "code",
      "execution_count": null,
      "metadata": {
        "id": "CzEzDsH5gc0p"
      },
      "outputs": [
        {
          "name": "stderr",
          "output_type": "stream",
          "text": [
            "WARNING:absl:At this time, the v2.11+ optimizer `tf.keras.optimizers.RestoredOptimizer` runs slowly on M1/M2 Macs, please use the legacy Keras optimizer instead, located at `tf.keras.optimizers.legacy.RestoredOptimizer`.\n",
            "WARNING:absl:At this time, the v2.11+ optimizer `tf.keras.optimizers.Adam` runs slowly on M1/M2 Macs, please use the legacy Keras optimizer instead, located at `tf.keras.optimizers.legacy.Adam`.\n"
          ]
        },
        {
          "name": "stdout",
          "output_type": "stream",
          "text": [
            "107/107 [==============================] - 1s 2ms/step\n",
            "107/107 [==============================] - 0s 2ms/step\n"
          ]
        },
        {
          "name": "stderr",
          "output_type": "stream",
          "text": [
            "WARNING:absl:At this time, the v2.11+ optimizer `tf.keras.optimizers.RestoredOptimizer` runs slowly on M1/M2 Macs, please use the legacy Keras optimizer instead, located at `tf.keras.optimizers.legacy.RestoredOptimizer`.\n",
            "WARNING:absl:At this time, the v2.11+ optimizer `tf.keras.optimizers.Adam` runs slowly on M1/M2 Macs, please use the legacy Keras optimizer instead, located at `tf.keras.optimizers.legacy.Adam`.\n"
          ]
        },
        {
          "name": "stdout",
          "output_type": "stream",
          "text": [
            "85/85 [==============================] - 0s 2ms/step\n",
            "85/85 [==============================] - 0s 2ms/step\n"
          ]
        },
        {
          "name": "stderr",
          "output_type": "stream",
          "text": [
            "WARNING:absl:At this time, the v2.11+ optimizer `tf.keras.optimizers.RestoredOptimizer` runs slowly on M1/M2 Macs, please use the legacy Keras optimizer instead, located at `tf.keras.optimizers.legacy.RestoredOptimizer`.\n",
            "WARNING:absl:At this time, the v2.11+ optimizer `tf.keras.optimizers.Adam` runs slowly on M1/M2 Macs, please use the legacy Keras optimizer instead, located at `tf.keras.optimizers.legacy.Adam`.\n"
          ]
        },
        {
          "name": "stdout",
          "output_type": "stream",
          "text": [
            "68/68 [==============================] - 0s 2ms/step\n",
            "68/68 [==============================] - 0s 2ms/step\n"
          ]
        }
      ],
      "source": [
        "pv_test_a['pv_measurement_prediction'] = reg_a.predict(X_test_a_norm)\n",
        "pv_all_a = pd.concat([pv_test_a, pv_train_a], sort=False)\n",
        "\n",
        "pv_test_b['pv_measurement_prediction'] = reg_b.predict(X_test_b_norm)\n",
        "pv_all_b = pd.concat([pv_test_b, pv_train_b], sort=False)\n",
        "\n",
        "pv_test_c['pv_measurement_prediction'] = reg_c.predict(X_test_c_norm)\n",
        "pv_all_c = pd.concat([pv_test_c, pv_train_c], sort=False)"
      ]
    },
    {
      "cell_type": "code",
      "execution_count": null,
      "metadata": {},
      "outputs": [
        {
          "name": "stderr",
          "output_type": "stream",
          "text": [
            "/var/folders/dv/nzlg6jm168311nq7f93wfrd80000gn/T/ipykernel_69949/182118369.py:3: SettingWithCopyWarning: \n",
            "A value is trying to be set on a copy of a slice from a DataFrame.\n",
            "Try using .loc[row_indexer,col_indexer] = value instead\n",
            "\n",
            "See the caveats in the documentation: https://pandas.pydata.org/pandas-docs/stable/user_guide/indexing.html#returning-a-view-versus-a-copy\n",
            "  pv_test_c[pv_test_c['pv_measurement_prediction'] < 10 ]['pv_measurement_prediction'] = 0.\n"
          ]
        }
      ],
      "source": [
        "pv_test_a[pv_test_a['pv_measurement_prediction'] < 10 ]['pv_measurement_prediction'] = 0.\n",
        "pv_test_b[pv_test_b['pv_measurement_prediction'] < 10 ]['pv_measurement_prediction'] = 0.\n",
        "pv_test_c[pv_test_c['pv_measurement_prediction'] < 10 ]['pv_measurement_prediction'] = 0."
      ]
    },
    {
      "cell_type": "code",
      "execution_count": null,
      "metadata": {},
      "outputs": [
        {
          "name": "stdout",
          "output_type": "stream",
          "text": [
            "MAE a: 820.6625708231877 MAE b: 30447981.21771696 MAE c: 249.6524658988863\n",
            "MAE on test set: 8684029.986422198\n"
          ]
        }
      ],
      "source": [
        "mae_a = np.mean(np.abs(pv_all_a['pv_measurement'] - pv_all_a['pv_measurement_prediction']))\n",
        "mae_b = np.mean(np.abs(pv_all_b['pv_measurement'] - pv_all_b['pv_measurement_prediction']))\n",
        "mae_c = np.mean(np.abs(pv_all_a['pv_measurement'] - pv_all_c['pv_measurement_prediction']))\n",
        "\n",
        "df_mae = pd.concat([pv_all_a, pv_all_b, pv_all_a])\n",
        "mae = np.mean(np.abs(df_mae['pv_measurement'] - df_mae['pv_measurement_prediction']))\n",
        "print(\"MAE a:\", mae_a, \"MAE b:\", mae_b, \"MAE c:\", mae_c)\n",
        "print(\"MAE on test set:\", mae)"
      ]
    },
    {
      "cell_type": "code",
      "execution_count": null,
      "metadata": {
        "colab": {
          "base_uri": "https://localhost:8080/",
          "height": 1000
        },
        "id": "AqaBX7A0gfSt",
        "outputId": "3bafca8f-5b8b-41b1-f8c4-2b05d55d2f62"
      },
      "outputs": [
        {
          "data": {
            "image/png": "[encoded data removed]",
            "text/plain": [
              "<Figure size 1500x500 with 1 Axes>"
            ]
          },
          "metadata": {},
          "output_type": "display_data"
        },
        {
          "data": {
            "image/png": "[encoded data removed]",
            "text/plain": [
              "<Figure size 1500x500 with 1 Axes>"
            ]
          },
          "metadata": {},
          "output_type": "display_data"
        },
        {
          "data": {
            "image/png": "[encoded data removed]",
            "text/plain": [
              "<Figure size 1500x500 with 1 Axes>"
            ]
          },
          "metadata": {},
          "output_type": "display_data"
        }
      ],
      "source": [
        "graph = pv_all_a[['pv_measurement','pv_measurement_prediction']].plot(figsize=(15, 5)).scatter('pv_measurement','pv_measurement_prediction')\n",
        "graph = pv_all_b[['pv_measurement','pv_measurement_prediction']].plot(figsize=(15, 5)).scatter('pv_measurement','pv_measurement_prediction')\n",
        "graph = pv_all_c[['pv_measurement','pv_measurement_prediction']].plot(figsize=(15, 5)).scatter('pv_measurement','pv_measurement_prediction')"
      ]
    },
    {
      "cell_type": "code",
      "execution_count": null,
      "metadata": {},
      "outputs": [
        {
          "data": {
            "text/plain": [
              "[<matplotlib.lines.Line2D at 0x28915dcc0>]"
            ]
          },
          "execution_count": 55,
          "metadata": {},
          "output_type": "execute_result"
        },
        {
          "data": {
            "image/png": "[encoded data removed]",
            "text/plain": [
              "<Figure size 640x480 with 1 Axes>"
            ]
          },
          "metadata": {},
          "output_type": "display_data"
        }
      ],
      "source": [
        "np_pv_c = np.array(pv_all_c['pv_measurement'])\n",
        "plt.plot(np_pv_c)"
      ]
    },
    {
      "cell_type": "markdown",
      "metadata": {
        "id": "VE0_jFOv23vB"
      },
      "source": [
        "# Export sur Kaggle"
      ]
    },
    {
      "cell_type": "code",
      "execution_count": null,
      "metadata": {
        "id": "I43fCNu60TX_"
      },
      "outputs": [],
      "source": [
        "test = pd.read_csv(path+\"test.csv\")\n",
        "test_copy = test.copy()\n",
        "test.rename(columns={'time': 'date_forecast'}, inplace=True) #pour faire le merge\n",
        "test[\"date_forecast\"] = pd.to_datetime(test[\"date_forecast\"]) #mettre le bon type"
      ]
    },
    {
      "cell_type": "code",
      "execution_count": null,
      "metadata": {
        "id": "hg7yQqAA4E0g"
      },
      "outputs": [],
      "source": [
        "# Lecture des données météo associée :\n",
        "merged_df_pre_a = pd.merge(X_test_estimated_a, test, on='date_forecast', how='inner')\n",
        "merged_df_a = merged_df_pre_a[merged_df_pre_a[\"location\"]==\"A\"]\n",
        "merged_df_pre_b = pd.merge(X_test_estimated_b, test, on='date_forecast', how='inner')\n",
        "merged_df_b = merged_df_pre_b[merged_df_pre_b[\"location\"]==\"B\"]\n",
        "merged_df_pre_c = pd.merge(X_test_estimated_c, test, on='date_forecast', how='inner')\n",
        "merged_df_c = merged_df_pre_c[merged_df_pre_c[\"location\"]==\"C\"]"
      ]
    },
    {
      "cell_type": "code",
      "execution_count": null,
      "metadata": {
        "id": "JkPxzaLxPE3y"
      },
      "outputs": [],
      "source": [
        "def preprocessing_test(df,scaler):\n",
        "  X_test = df.drop([\"id\",\"location\",\"prediction\"],axis=1)\n",
        "  X_test = create_features(X_test, None)\n",
        "  #X_test[('date_forecast')] = X_test[('date_forecast')].values.astype(\"float64\")\n",
        "  X_test = gestion_nan(X_test)\n",
        "  X_test = sklearn_z_score_normalize_dataframe(X_test,return_scaler=False,scaler=scaler, fit=False)\n",
        "  return X_test"
      ]
    },
    {
      "cell_type": "code",
      "execution_count": null,
      "metadata": {
        "id": "9m42fLq9Y4ZA"
      },
      "outputs": [],
      "source": [
        "X_test_a_test = preprocessing_test(merged_df_a,scaler_a)\n",
        "X_test_b_test = preprocessing_test(merged_df_b,scaler_b)\n",
        "X_test_c_test = preprocessing_test(merged_df_c,scaler_c)"
      ]
    },
    {
      "cell_type": "code",
      "execution_count": null,
      "metadata": {
        "id": "N4V9YUIYZiGr"
      },
      "outputs": [],
      "source": [
        "result_A = reg_a.predict(X_test_a_test)\n",
        "result_B = reg_b.predict(X_test_b_test)\n",
        "result_C = reg_c.predict(X_test_c_test)"
      ]
    },
    {
      "cell_type": "code",
      "execution_count": null,
      "metadata": {},
      "outputs": [],
      "source": [
        "len(result_A) + len(result_B) + len(result_C)"
      ]
    },
    {
      "cell_type": "code",
      "execution_count": null,
      "metadata": {
        "colab": {
          "base_uri": "https://localhost:8080/",
          "height": 447
        },
        "id": "4E4A-WF5ih-0",
        "outputId": "94ac5b1b-1328-411d-b918-4359d052895d"
      },
      "outputs": [],
      "source": [
        "plt.plot(result_A)"
      ]
    },
    {
      "cell_type": "code",
      "execution_count": null,
      "metadata": {
        "id": "LTSbJj5lZc1s"
      },
      "outputs": [],
      "source": [
        "# nom_fichier = 'XGBoost_Valentin_V2'\n",
        "# repertoire = path\n",
        "# result = np.concatenate((np.concatenate((result_A,result_B)), result_C))\n",
        "# test_copy['prediction'] = result\n",
        "# sample_submission = sample_submission[['id']].merge(test_copy[['id', 'prediction']], on='id', how='left')\n",
        "# sample_submission.to_csv(repertoire+ nom_fichier+'.csv', index=False)"
      ]
    },
    {
      "cell_type": "markdown",
      "metadata": {
        "id": "XHFXLird0mW5"
      },
      "source": [
        "# Post traitement"
      ]
    },
    {
      "cell_type": "markdown",
      "metadata": {
        "id": "cwUbdVUh0oeY"
      },
      "source": [
        "Ici, on va faire en sorte de n'avoir que des valeurs positives (cela ne représente qu'une légère amélioration"
      ]
    },
    {
      "cell_type": "code",
      "execution_count": null,
      "metadata": {
        "id": "5jqFf_a-0jTF"
      },
      "outputs": [],
      "source": [
        "result = np.concatenate((np.concatenate((result_A,result_B)), result_C))"
      ]
    },
    {
      "cell_type": "code",
      "execution_count": null,
      "metadata": {},
      "outputs": [],
      "source": [
        "len(result_A), len(result_B), len(result_C)"
      ]
    },
    {
      "cell_type": "code",
      "execution_count": null,
      "metadata": {
        "colab": {
          "base_uri": "https://localhost:8080/"
        },
        "id": "5OUxyuzi4EDa",
        "outputId": "84a0b4cd-1db4-4d9a-e9d6-8d603e905a3e"
      },
      "outputs": [],
      "source": [
        "negative_values = result[result < 0]\n",
        "sum_of_negatives = np.sum(negative_values**2)/len(result)\n",
        "np.sqrt(sum_of_negatives)"
      ]
    },
    {
      "cell_type": "code",
      "execution_count": null,
      "metadata": {
        "id": "p03W8Xa751Y4"
      },
      "outputs": [],
      "source": [
        "negative_mask = result < 5\n",
        "result[negative_mask] = 0"
      ]
    },
    {
      "cell_type": "code",
      "execution_count": null,
      "metadata": {
        "id": "DC-LsEUl59-r"
      },
      "outputs": [],
      "source": [
        "nom_fichier = f'AUTOML_reg_separated_loc_4_inputs_epochs_{epochs}_delta_{delta_title}_min_{scaler_name}_{eval_metric}_max_depth_{max_depth}_mae_{int(mae)}_test_set_gen_{test_set_param}_{random_state}_by_day'\n",
        "repertoire = submission_path\n",
        "test_copy['prediction'] = result\n",
        "sample_submission = sample_submission[['id']].merge(test_copy[['id', 'prediction']], on='id', how='left')\n",
        "sample_submission.to_csv(repertoire+ nom_fichier+'.csv', index=False)"
      ]
    },
    {
      "cell_type": "code",
      "execution_count": null,
      "metadata": {},
      "outputs": [],
      "source": [
        "result2 = np.concatenate((np.concatenate((result_A,result_B)), result_C))"
      ]
    },
    {
      "cell_type": "code",
      "execution_count": null,
      "metadata": {},
      "outputs": [],
      "source": [
        "negative_mask2 = result2 < 10\n",
        "result2[negative_mask2] = 0"
      ]
    }
  ],
  "metadata": {
    "accelerator": "GPU",
    "colab": {
      "gpuType": "T4",
      "provenance": []
    },
    "kernelspec": {
      "display_name": "mlsolar",
      "language": "python",
      "name": "mlsolar"
    },
    "language_info": {
      "codemirror_mode": {
        "name": "ipython",
        "version": 3
      },
      "file_extension": ".py",
      "mimetype": "text/x-python",
      "name": "python",
      "nbconvert_exporter": "python",
      "pygments_lexer": "ipython3",
      "version": "3.10.11"
    }
  },
  "nbformat": 4,
  "nbformat_minor": 0
}
