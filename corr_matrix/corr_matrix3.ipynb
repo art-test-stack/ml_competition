{
 "cells": [
  {
   "cell_type": "code",
   "execution_count": null,
   "metadata": {},
   "outputs": [],
   "source": [
    "import os\n",
    "import pandas as pd\n",
    "import numpy as np\n",
    "import matplotlib.pylab as plt\n",
    "import seaborn as sns\n",
    "%matplotlib inline\n",
    "\n",
    "pd.set_option('display.max_rows', 200)\n",
    "pd.set_option('display.max_columns', 200)"
   ]
  },
  {
   "cell_type": "markdown",
   "metadata": {},
   "source": [
    "### 2. X train observed"
   ]
  },
  {
   "cell_type": "code",
   "execution_count": null,
   "metadata": {},
   "outputs": [],
   "source": [
    "import sys\n",
    "sys.path.append('../')\n",
    "import utils\n",
    "\n",
    "train_a, train_b, train_c, X_train_estimated_a, X_train_estimated_b, X_train_estimated_c, X_train_observed_a, X_train_observed_b, X_train_observed_c, X_test_estimated_a, X_test_estimated_b, X_test_estimated_c = utils.read_files()\n",
    "keys = [1, 2, 3]"
   ]
  },
  {
   "cell_type": "code",
   "execution_count": null,
   "metadata": {},
   "outputs": [],
   "source": [
    "frames_train_estimated = [X_train_estimated_a.drop(columns=[\"date_calc\"]), X_train_observed_a, X_test_estimated_a.drop(columns=[\"date_calc\"])]\n",
    "X_frames_a = pd.concat(frames_train_estimated, keys=keys)\n",
    "X_frames_a.reset_index(level=0, inplace=True, names='frame_type')\n",
    "\n",
    "train_a = train_a.rename(columns={'time': 'date_forecast'})\n",
    "X_y_a = X_frames_a.merge(train_a, on='date_forecast', how='inner')\n",
    "X_y_a.reset_index(drop=True, inplace=True)"
   ]
  },
  {
   "cell_type": "code",
   "execution_count": null,
   "metadata": {},
   "outputs": [],
   "source": [
    "utils.build_corr_matrix(X_y_a, figsize=(50,50))"
   ]
  },
  {
   "cell_type": "markdown",
   "metadata": {},
   "source": [
    "Ce qui est le plus corrélé pour pv_measurement:\n",
    "\n",
    "- clear_sky_energy_1h:J: clear sky energy of previous time period, available up to 24h [J/m2]\n",
    "- clear_sky_rad:W: clear sky radiation flux [W/m2]\n",
    "- diffuse_rad:W: diffuse radiation flux [W/m2]\n",
    "- diffuse_rad_1h:J: \n",
    "- direct_rad:W: direct radiation flux [W/m2]"
   ]
  },
  {
   "cell_type": "code",
   "execution_count": null,
   "metadata": {},
   "outputs": [],
   "source": [
    "frames_train_estimated = [X_train_estimated_b.drop(columns=[\"date_calc\"]), X_train_observed_b, X_test_estimated_b.drop(columns=[\"date_calc\"])]\n",
    "X_frames_b = pd.concat(frames_train_estimated, keys=keys)\n",
    "X_frames_b.reset_index(level=0, inplace=True, names='frame_type')\n",
    "\n",
    "train_b = train_b.rename(columns={'time': 'date_forecast'})\n",
    "X_y_b = X_frames_b.merge(train_b.dropna(), on='date_forecast', how='inner')\n",
    "X_y_b.reset_index(drop=True, inplace=True)\n",
    "\n",
    "frames_train_estimated = [X_train_estimated_c.drop(columns=[\"date_calc\"]), X_train_observed_c, X_test_estimated_c.drop(columns=[\"date_calc\"])]\n",
    "X_frames_c = pd.concat(frames_train_estimated, keys=keys)\n",
    "X_frames_c.reset_index(level=0, inplace=True, names='frame_type')\n",
    "\n",
    "train_c = train_c.rename(columns={'time': 'date_forecast'})\n",
    "X_y_c = X_frames_c.merge(train_c.dropna(), on='date_forecast', how='inner')\n",
    "X_y_c.reset_index(drop=True, inplace=True)\n",
    "\n",
    "frames_location= [X_y_a, X_y_b, X_y_c]\n",
    "X_y = pd.concat(frames_location, keys=keys)\n",
    "X_y.reset_index(level=0, inplace=True, names='location')"
   ]
  },
  {
   "cell_type": "code",
   "execution_count": null,
   "metadata": {},
   "outputs": [],
   "source": [
    "utils.build_corr_matrix(X_y, figsize=(50,50))"
   ]
  },
  {
   "cell_type": "markdown",
   "metadata": {},
   "source": [
    "Ça colle avec le dernier résultat mais les coeff de corrélations sont plus faible lorsque l'on regarde sur les trois localisations. Mais la localisation semble pas impacter le résultat."
   ]
  }
 ],
 "metadata": {
  "kernelspec": {
   "display_name": "mlsolar",
   "language": "python",
   "name": "mlsolar"
  },
  "language_info": {
   "codemirror_mode": {
    "name": "ipython",
    "version": 3
   },
   "file_extension": ".py",
   "mimetype": "text/x-python",
   "name": "python",
   "nbconvert_exporter": "python",
   "pygments_lexer": "ipython3",
   "version": "3.10.11"
  }
 },
 "nbformat": 4,
 "nbformat_minor": 2
}
