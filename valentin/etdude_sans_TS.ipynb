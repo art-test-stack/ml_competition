{
  "cells": [
    {
      "cell_type": "markdown",
      "metadata": {
        "id": "64-tVyzI7bB2"
      },
      "source": [
        "# Etude des datas en enlevant la partie traitement du signal"
      ]
    },
    {
      "cell_type": "markdown",
      "metadata": {
        "id": "k7u7ctpA7kv5"
      },
      "source": [
        "## import et chargement des données"
      ]
    },
    {
      "cell_type": "code",
      "execution_count": null,
      "metadata": {
        "colab": {
          "base_uri": "https://localhost:8080/"
        },
        "id": "eiGF-nEV7VWp",
        "outputId": "2f53f8bf-33eb-46e0-ea1e-86cbf4a0858b"
      },
      "outputs": [],
      "source": [
        "# from google.colab import drive\n",
        "# drive.mount('/content/drive/')"
      ]
    },
    {
      "cell_type": "code",
      "execution_count": null,
      "metadata": {
        "id": "tL5-iw007vhO"
      },
      "outputs": [],
      "source": [
        "import os\n",
        "import pandas as pd\n",
        "import numpy as np\n",
        "import matplotlib.pylab as plt\n",
        "import seaborn as sns\n",
        "from tqdm import tqdm\n",
        "import networkx as nx\n",
        "import scipy\n",
        "import json\n",
        "import sys\n",
        "# sys.path.append('/content/drive/MyDrive/EcolesIngenieur/NTNU/MachineLearning/GroupWork/')\n",
        "\n",
        "sys.path.append('../')\n",
        "import utils\n",
        "import settings\n",
        "import seaborn as sns\n",
        "\n",
        "pd.set_option('display.max_rows', 200)\n",
        "pd.set_option('display.max_columns', 200)"
      ]
    },
    {
      "cell_type": "code",
      "execution_count": null,
      "metadata": {
        "id": "KYl3DC0-713F"
      },
      "outputs": [],
      "source": [
        "path = \"../\" # content/drive/MyDrive/EcolesIngenieur/NTNU/MachineLearning/GroupWork/\"\n",
        "train_a, train_b, train_c, X_train_estimated_a, X_train_estimated_b, X_train_estimated_c, X_train_observed_a, X_train_observed_b, X_train_observed_c, X_test_estimated_a, X_test_estimated_b, X_test_estimated_c = utils.read_files(diff_path=path)\n",
        "keys = [1, 2, 3]"
      ]
    },
    {
      "cell_type": "code",
      "execution_count": null,
      "metadata": {
        "id": "y2b3Lawq74Hj"
      },
      "outputs": [],
      "source": [
        "test = pd.read_csv(path+\"test.csv\")\n",
        "sample_submission = pd.read_csv(path+\"sample_submission.csv\")"
      ]
    },
    {
      "cell_type": "code",
      "execution_count": null,
      "metadata": {
        "id": "k2tmi_ocIGPD"
      },
      "outputs": [],
      "source": [
        "train_a, _, _, X_train_estimated_a, _, _, X_train_observed_a, _, _, X_test_estimated_a, _, _ = utils.read_files(diff_path=path)\n",
        "X_reshaped_train_estimated_a, _, _, X_reshaped_train_observed_a, _, _, X_reshaped_test_estimated_a, _, _ = utils.get_reshaped_files(diff_path='../')"
      ]
    },
    {
      "cell_type": "code",
      "execution_count": null,
      "metadata": {},
      "outputs": [],
      "source": [
        "X_test_estimated_a"
      ]
    },
    {
      "cell_type": "code",
      "execution_count": null,
      "metadata": {},
      "outputs": [],
      "source": [
        "X_train_estimated_a"
      ]
    },
    {
      "cell_type": "code",
      "execution_count": null,
      "metadata": {},
      "outputs": [],
      "source": [
        "X_train_observed_a"
      ]
    },
    {
      "cell_type": "markdown",
      "metadata": {
        "id": "q2JnoOTGRLB-"
      },
      "source": [
        "### fusion de observed and estimated"
      ]
    },
    {
      "cell_type": "code",
      "execution_count": null,
      "metadata": {
        "id": "uFHBXp7rRKEV"
      },
      "outputs": [],
      "source": [
        "X_a_reshaped = pd.concat([ X_reshaped_train_observed_a, X_reshaped_train_estimated_a])\n",
        "# X_b_reshaped = pd.concat([X_reshaped_train_observed_b, X_reshaped_test_estimated_b])\n",
        "# X_c_reshaped = pd.concat([X_reshaped_train_observed_c, X_reshaped_test_estimated_c])"
      ]
    },
    {
      "cell_type": "code",
      "execution_count": null,
      "metadata": {},
      "outputs": [],
      "source": [
        "X_reshaped_train_estimated_a[\"date_forecast_0\"].min() - X_reshaped_train_observed_a[\"date_forecast_0\"].max()"
      ]
    },
    {
      "cell_type": "code",
      "execution_count": null,
      "metadata": {},
      "outputs": [],
      "source": [
        "X_a_reshaped"
      ]
    },
    {
      "cell_type": "markdown",
      "metadata": {
        "id": "hhbuc5khM7dW"
      },
      "source": [
        "## Chargement du modèle"
      ]
    },
    {
      "cell_type": "code",
      "execution_count": null,
      "metadata": {
        "id": "6BOgHhgPM67h"
      },
      "outputs": [],
      "source": [
        "# lire le dico contenant le modèle :\n",
        "\n",
        "lien_fichier = \"dico\"\n",
        "\n",
        "with open(lien_fichier +'.json', 'r') as fichier:\n",
        "    model = json.load(fichier)"
      ]
    },
    {
      "cell_type": "code",
      "execution_count": null,
      "metadata": {},
      "outputs": [],
      "source": [
        "def recuperation_model(fft_values, threshold=0.4 * 10**6):\n",
        "\n",
        "      sample_rate = 1 # 0.0002762459597837071\n",
        "\n",
        "      # Obtenez les fréquences correspondant aux valeurs FFT\n",
        "      n = len(fft_values)\n",
        "      frequencies = np.fft.fftfreq(n, 1 / sample_rate)\n",
        "\n",
        "      # Filtrage et calcul des amplitudes\n",
        "      amplitudes = np.abs(fft_values) * (np.abs(fft_values) > threshold)\n",
        "\n",
        "      # Obtenez les phases des valeurs FFT\n",
        "      phases = np.angle(fft_values)\n",
        "\n",
        "      return frequencies, amplitudes, phases"
      ]
    },
    {
      "cell_type": "code",
      "execution_count": null,
      "metadata": {
        "id": "fWKPspZrNEeD"
      },
      "outputs": [],
      "source": [
        "# fonction pour le model\n",
        "def prediction_TS(model,liste):\n",
        "    frequencies = model[\"frequencies\"]\n",
        "    amplitudes = model[\"amplitudes\"]\n",
        "    phases = model[\"phases\"]\n",
        "    Te = 3619.962445 # à définir (normalement c'est une heure)\n",
        "    resultat = []\n",
        "    for i in liste:\n",
        "    # for i in range(len(liste)):\n",
        "        # Te = 3600 # \n",
        "        # Te = 3619.962445 # à définir (normalement c'est une heure)\n",
        "        aux = 0\n",
        "        for i_freq in range(len(frequencies)):\n",
        "        # for i in frequencies:\n",
        "          if amplitudes[i_freq]>0 :\n",
        "            # Te = Te if i == 0 else (liste[i] - liste[i - 1]) * 3600\n",
        "            # aux +=  amplitudes[i_freq] * np.cos(2 * np.pi * frequencies[i_freq] * i * Te + phases[i_freq]) / Te\n",
        "            aux +=  amplitudes[i_freq] * np.cos(2 * np.pi * frequencies[i_freq] * i * Te + phases[i_freq]) / Te\n",
        "        resultat.append(aux)\n",
        "    return resultat"
      ]
    },
    {
      "cell_type": "code",
      "execution_count": null,
      "metadata": {
        "id": "-F84bgl4NGwH"
      },
      "outputs": [],
      "source": [
        "# passer des dates aux heure de notre modèle :\n",
        "def conversion_date(date):\n",
        "  return (date-1.5595128e+18)/3600000000000.0"
      ]
    },
    {
      "cell_type": "code",
      "execution_count": null,
      "metadata": {
        "id": "FlREqrJdNink"
      },
      "outputs": [],
      "source": [
        "def df_to_prediction(Serie):\n",
        "  TS = Serie.values.astype(\"float64\")\n",
        "  TS_translate = conversion_date(TS)\n",
        "  result_pred = prediction_TS(model, TS_translate)\n",
        "  return result_pred\n"
      ]
    },
    {
      "cell_type": "code",
      "execution_count": null,
      "metadata": {
        "id": "XyRs3MJSNOvn"
      },
      "outputs": [],
      "source": [
        "# prédiction sur A\n",
        "train_a = train_a.rename(columns={'time': 'date_forecast_0'})\n",
        "result_pred_a2 = df_to_prediction(pd.DataFrame(train_a[\"date_forecast_0\"].values.astype(\"datetime64[ns]\")))\n",
        "result_pred_ao = df_to_prediction(X_a_reshaped[\"date_forecast_0\"])\n",
        "# on fait aussi sur B et C car il y a des troues !\n",
        "# result_pred_b = df_to_prediction(X_b_reshaped[\"date_forecast_0\"])\n",
        "# result_pred_c = df_to_prediction(X_c_reshaped[\"date_forecast_0\"])"
      ]
    },
    {
      "cell_type": "code",
      "execution_count": null,
      "metadata": {},
      "outputs": [],
      "source": [
        "result_pred_a = [ pred[0] for pred in result_pred_a2 ]"
      ]
    },
    {
      "cell_type": "code",
      "execution_count": null,
      "metadata": {},
      "outputs": [],
      "source": [
        "result_pred_a"
      ]
    },
    {
      "cell_type": "code",
      "execution_count": null,
      "metadata": {},
      "outputs": [],
      "source": [
        "result_pred_ao == result_pred_a"
      ]
    },
    {
      "cell_type": "code",
      "execution_count": null,
      "metadata": {},
      "outputs": [],
      "source": [
        "TS = train_a[\"date_forecast_0\"].values.astype(\"datetime64[ns]\").astype(\"float64\")"
      ]
    },
    {
      "cell_type": "code",
      "execution_count": null,
      "metadata": {},
      "outputs": [],
      "source": [
        "c = 0.\n",
        "c2 = 0\n",
        "for k in conversion_date(TS):\n",
        "    if k != c: \n",
        "        print(k, c2, k - c)\n",
        "    c = k + 1\n",
        "    c2 += 1"
      ]
    },
    {
      "cell_type": "code",
      "execution_count": null,
      "metadata": {},
      "outputs": [],
      "source": [
        "len(conversion_date(TS))#[29667:29669]"
      ]
    },
    {
      "cell_type": "code",
      "execution_count": null,
      "metadata": {},
      "outputs": [],
      "source": [
        "X_a_reshaped[29667:29669]"
      ]
    },
    {
      "cell_type": "code",
      "execution_count": null,
      "metadata": {},
      "outputs": [],
      "source": [
        "a = conversion_date(TS)[len(X_reshaped_train_observed_a) + 2136:len(X_reshaped_train_observed_a) + 2140]\n",
        "a[2] # - a[1]"
      ]
    },
    {
      "cell_type": "code",
      "execution_count": null,
      "metadata": {
        "id": "tL-uDLZqNexK"
      },
      "outputs": [],
      "source": [
        "coeff_A = 1/9.5\n",
        "# coeff_B = coeff_A/4\n",
        "# coeff_C = coeff_A/5\n",
        "\n",
        "result_A = np.array(result_pred_a)*coeff_A\n",
        "# result_B = np.array(result_pred_b)*coeff_B\n",
        "# result_C = np.array(result_pred_c)*coeff_C"
      ]
    },
    {
      "cell_type": "code",
      "execution_count": null,
      "metadata": {},
      "outputs": [],
      "source": [
        "result_A"
      ]
    },
    {
      "cell_type": "code",
      "execution_count": null,
      "metadata": {},
      "outputs": [],
      "source": [
        "X_a_reshaped[:31807]"
      ]
    },
    {
      "cell_type": "code",
      "execution_count": null,
      "metadata": {
        "id": "PfGfm4d_ksgd"
      },
      "outputs": [],
      "source": [
        "X_a_reshaped[\"TS\"] = result_A[:len(X_a_reshaped)] \n",
        "# X_a_reshaped[\"TS\"] = np.concatenate((result_A[:31806], result_A[31806 + 23:])) # result_A\n",
        "# X_b_reshaped[\"TS\"] = result_B\n",
        "# X_c_reshaped[\"TS\"] = result_C\n",
        "\n",
        "train_a.rename(columns={'time': 'date_forecast_0'}, inplace=True)\n",
        "# train_b.rename(columns={'time': 'date_forecast_0'}, inplace=True)\n",
        "# train_c.rename(columns={'time': 'date_forecast_0'}, inplace=True)\n",
        "\n",
        "df_A = pd.merge(X_a_reshaped, train_a, on='date_forecast_0', how='inner')\n",
        "# df_B = pd.merge(X_b_reshaped, train_b, on='date_forecast_0', how='inner')\n",
        "# df_C = pd.merge(X_c_reshaped, train_c, on='date_forecast_0', how='inner')\n",
        "\n",
        "df_A[\"diff\"] = df_A[\"pv_measurement\"] - df_A[\"TS\"]\n",
        "# df_B[\"diff\"] = df_B[\"pv_measurement\"] - df_B[\"TS\"]\n",
        "# df_C[\"diff\"] = df_C[\"pv_measurement\"] - df_C[\"TS\"]"
      ]
    },
    {
      "cell_type": "code",
      "execution_count": null,
      "metadata": {
        "colab": {
          "base_uri": "https://localhost:8080/",
          "height": 447
        },
        "id": "G39X6DEPrRhP",
        "outputId": "9aae2f3a-b19f-488c-cddf-b0ff601cfe35"
      },
      "outputs": [],
      "source": [
        "plt.figure(figsize=(20,8))\n",
        "plt.subplot(1, 3, 1)\n",
        "plt.plot(df_A[\"pv_measurement\"])\n",
        "plt.plot(df_A[\"diff\"])\n",
        "plt.title(\"diff\")\n",
        "plt.subplot(1, 3, 2)\n",
        "plt.plot(df_A[\"pv_measurement\"])\n",
        "plt.title(\"pv_measurement\")\n",
        "plt.subplot(1, 3, 3)\n",
        "plt.plot(df_A[\"TS\"])\n",
        "plt.title(\"TS\")"
      ]
    },
    {
      "cell_type": "code",
      "execution_count": null,
      "metadata": {
        "colab": {
          "base_uri": "https://localhost:8080/"
        },
        "id": "fdYg2gw3r82O",
        "outputId": "f728be07-1c9b-4980-ea93-89fde99cda85"
      },
      "outputs": [],
      "source": [
        "correlations = df_A.corr()[\"diff\"]"
      ]
    },
    {
      "cell_type": "code",
      "execution_count": null,
      "metadata": {
        "colab": {
          "base_uri": "https://localhost:8080/",
          "height": 885
        },
        "id": "_xlMGewssHX1",
        "outputId": "0bb4da3f-af1d-4e89-986d-da6a60bdba87"
      },
      "outputs": [],
      "source": [
        "# Créez un graphique de barres pour visualiser les corrélations\n",
        "plt.figure(figsize=(100, 60))\n",
        "sns.barplot(x=correlations.index[:-1], y=correlations.values[:-1])\n",
        "plt.xlabel(\"Colonnes\")\n",
        "plt.ylabel(f\"Corrélation avec \")\n",
        "plt.title(f\"Corrélations avec \")\n",
        "plt.xticks(rotation=90)\n",
        "plt.show()"
      ]
    },
    {
      "cell_type": "code",
      "execution_count": null,
      "metadata": {
        "id": "fZz4F0m9xLiW"
      },
      "outputs": [],
      "source": [
        "from scipy.fft import fft, ifft\n",
        "from scipy.signal import find_peaks"
      ]
    },
    {
      "cell_type": "code",
      "execution_count": null,
      "metadata": {
        "id": "Qe7Z53F4wx4f"
      },
      "outputs": [],
      "source": [
        "# Analyse de la fréquence du signal\n",
        "signal = df_A[\"TS\"].values\n",
        "# time_diff = df_A[\"date_forecast_0\"].diff().mean().total_seconds()  # Obtenez la durée moyenne entre deux échantillons en secondes\n",
        "time_diff = (df_A[\"date_forecast_0\"][1] - df_A[\"date_forecast_0\"][0]).total_seconds()  # Obtenez la durée moyenne entre deux échantillons en secondes\n",
        "sampling_rate = 1 / time_diff  # Taux d'échantillonnage en Hz\n",
        "\n",
        "# Effectuer la transformation de Fourier pour obtenir les composantes de fréquence\n",
        "n = len(signal)\n",
        "frequencies = np.fft.fftfreq(n, 1 / sampling_rate)\n",
        "fft_values = fft(signal)\n",
        "amplitudes = np.abs(fft_values)\n",
        "phases = np.angle(fft_values)"
      ]
    },
    {
      "cell_type": "code",
      "execution_count": null,
      "metadata": {},
      "outputs": [],
      "source": [
        "df_A[\"date_forecast_0\"].diff().mean()"
      ]
    },
    {
      "cell_type": "code",
      "execution_count": null,
      "metadata": {
        "colab": {
          "base_uri": "https://localhost:8080/",
          "height": 411
        },
        "id": "Ch67yCA_xQxR",
        "outputId": "7d0f0ee6-349a-4b34-b78d-3ee077d651f0"
      },
      "outputs": [],
      "source": [
        "# Affichez le spectre de fréquence\n",
        "plt.figure(figsize=(10, 4))\n",
        "plt.plot(frequencies, amplitudes)\n",
        "plt.title(\"Spectre de Fréquence\")\n",
        "plt.xlabel(\"Fréquence (Hz)\")\n",
        "plt.ylabel(\"Amplitude\")\n",
        "# plt.xlim(-10**-4, 10**-4)  # Limitez l'affichage des fréquences\n",
        "plt.show()"
      ]
    },
    {
      "cell_type": "code",
      "execution_count": null,
      "metadata": {
        "colab": {
          "base_uri": "https://localhost:8080/"
        },
        "id": "ZUiXJu6B0Y9h",
        "outputId": "6cceca56-f143-45a8-9845-5d2fb759510e"
      },
      "outputs": [],
      "source": [
        "1/0.000012/3600"
      ]
    },
    {
      "cell_type": "code",
      "execution_count": null,
      "metadata": {
        "id": "vmVaHeofykU-"
      },
      "outputs": [],
      "source": [
        "# reconstruction avec filtre :\n",
        "def filtrage(fft_values,threshold = 0.8*10**6):\n",
        "  compteur = 0\n",
        "  fft_filtre = []\n",
        "  for i in range(len(fft_values)) :\n",
        "    if threshold < np.abs(fft_values[i]) :\n",
        "      fft_filtre.append(fft_values[i])\n",
        "      compteur +=1\n",
        "    else : fft_filtre.append(0)\n",
        "  reconstruit_filtré = np.fft.ifft(fft_filtre)\n",
        "  return reconstruit_filtré, compteur"
      ]
    },
    {
      "cell_type": "code",
      "execution_count": null,
      "metadata": {
        "colab": {
          "base_uri": "https://localhost:8080/",
          "height": 927
        },
        "id": "QBMSC0OaygUr",
        "outputId": "c0cd9a30-b206-4cb5-9bc6-d7bf9bd8d1c9"
      },
      "outputs": [],
      "source": [
        "reconstruit_filtré, compteur= filtrage(fft_values,threshold = 0.6*10**6)\n",
        "\n",
        "# plt.plot(signal)\n",
        "# plt.plot(reconstruit_filtré,alpha=0.3)\n",
        "plt.plot(signal - reconstruit_filtré,alpha=0.3, c='r')\n",
        "plt.title(\"Sine wave plotted using inverse Fourier transform\")\n",
        "plt.xlabel('Time')\n",
        "plt.ylabel('Amplitude')\n",
        "plt.grid(True)\n",
        "plt.show()\n",
        "\n",
        "plt.plot(signal[400:500])\n",
        "plt.plot(reconstruit_filtré[400:500],alpha=0.3)\n",
        "plt.title(\"Sine wave plotted using inverse Fourier transform\")\n",
        "plt.xlabel('Time')\n",
        "plt.ylabel('Amplitude')\n",
        "plt.grid(True)\n",
        "plt.show()"
      ]
    },
    {
      "cell_type": "code",
      "execution_count": null,
      "metadata": {},
      "outputs": [],
      "source": [
        "reconstruit_filtré"
      ]
    },
    {
      "cell_type": "code",
      "execution_count": null,
      "metadata": {},
      "outputs": [],
      "source": [
        "# plt.plot(reconstruit_filtré)\n",
        "# plt.plot(reconstruit_filtré,alpha=0.3)\n",
        "plt.plot(reconstruit_filtré - df_A[\"TS\"],alpha=0.3, c='r')\n",
        "plt.title(\"Sine wave plotted using inverse Fourier transform\")\n",
        "plt.xlabel('Time')\n",
        "plt.ylabel('Amplitude')\n",
        "plt.grid(True)\n",
        "plt.show()"
      ]
    },
    {
      "cell_type": "code",
      "execution_count": null,
      "metadata": {},
      "outputs": [],
      "source": []
    }
  ],
  "metadata": {
    "colab": {
      "provenance": []
    },
    "kernelspec": {
      "display_name": "mlsolar",
      "language": "python",
      "name": "mlsolar"
    },
    "language_info": {
      "codemirror_mode": {
        "name": "ipython",
        "version": 3
      },
      "file_extension": ".py",
      "mimetype": "text/x-python",
      "name": "python",
      "nbconvert_exporter": "python",
      "pygments_lexer": "ipython3",
      "version": "3.10.11"
    }
  },
  "nbformat": 4,
  "nbformat_minor": 0
}
