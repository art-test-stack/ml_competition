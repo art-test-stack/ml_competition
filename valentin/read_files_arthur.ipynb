{
  "cells": [
    {
      "cell_type": "code",
      "execution_count": null,
      "metadata": {
        "id": "BZwjuBce0XcI"
      },
      "outputs": [],
      "source": [
        "import os\n",
        "import pandas as pd\n",
        "import numpy as np\n",
        "import matplotlib.pylab as plt\n",
        "%matplotlib inline\n",
        "\n",
        "pd.set_option('display.max_rows', 200)\n",
        "pd.set_option('display.max_columns', 200)"
      ]
    },
    {
      "cell_type": "code",
      "execution_count": null,
      "metadata": {},
      "outputs": [],
      "source": [
        "import sys\n",
        "sys.path.append('../')\n",
        "import utils"
      ]
    },
    {
      "cell_type": "code",
      "execution_count": null,
      "metadata": {},
      "outputs": [],
      "source": [
        "train_a, train_b, train_c, X_train_estimated_a, X_train_estimated_b, X_train_estimated_c, X_train_observed_a, X_train_observed_b, X_train_observed_c, X_test_estimated_a, X_test_estimated_b, X_test_estimated_c = utils.read_files(diff_path='../')\n"
      ]
    },
    {
      "cell_type": "markdown",
      "metadata": {
        "id": "yWilDKmmGFLo"
      },
      "source": [
        "## Etude du signal de notre sortie :"
      ]
    },
    {
      "cell_type": "code",
      "execution_count": null,
      "metadata": {
        "id": "2t6B9UqGHpu_"
      },
      "outputs": [],
      "source": [
        "from scipy.fft import fft, ifft\n",
        "from scipy.signal import find_peaks"
      ]
    },
    {
      "cell_type": "code",
      "execution_count": null,
      "metadata": {
        "id": "96G_4-sWGItR"
      },
      "outputs": [],
      "source": [
        "#le signal :\n",
        "signal_a = train_a"
      ]
    },
    {
      "cell_type": "code",
      "execution_count": null,
      "metadata": {
        "colab": {
          "base_uri": "https://localhost:8080/",
          "height": 410
        },
        "id": "XylsS91KHyBt",
        "outputId": "520584e8-7a67-4419-d94d-9d289016dd77"
      },
      "outputs": [],
      "source": [
        "# Affichez le signal temporel\n",
        "plt.figure(figsize=(10, 4))\n",
        "plt.plot(signal_a[\"time\"][:50], signal_a[\"pv_measurement\"][:50])\n",
        "plt.title(\"Signal Temporel\")\n",
        "plt.xlabel(\"Temps\")\n",
        "plt.ylabel(\"pv_measurement\")\n",
        "plt.show()"
      ]
    },
    {
      "cell_type": "code",
      "execution_count": null,
      "metadata": {
        "id": "DkfqRk7xICci"
      },
      "outputs": [],
      "source": [
        "# Analyse de la fréquence du signal\n",
        "signal = signal_a[\"pv_measurement\"].values\n",
        "time_diff = 1 #signal_a[\"time\"].diff().mean().total_seconds()  # Obtenez la durée moyenne entre deux échantillons en secondes\n",
        "sampling_rate = 1 / time_diff  # Taux d'échantillonnage en Hz / h-1 = 1/3600 Hz\n",
        "\n",
        "n = len(signal)\n",
        "frequencies = np.fft.fftfreq(n, 1 / sampling_rate)\n",
        "fft_values = fft(signal)\n",
        "amplitudes = np.abs(fft_values)\n",
        "phases = np.angle(fft_values)"
      ]
    },
    {
      "cell_type": "code",
      "execution_count": null,
      "metadata": {
        "colab": {
          "base_uri": "https://localhost:8080/",
          "height": 411
        },
        "id": "TgV_Z8BmISQG",
        "outputId": "99d8267a-0b33-4d2a-d262-374158a4fdea"
      },
      "outputs": [],
      "source": [
        "# Affichez le spectre de fréquence\n",
        "plt.figure(figsize=(10, 4))\n",
        "plt.plot(frequencies, amplitudes)\n",
        "plt.title(\"Spectre de Fréquence\")\n",
        "plt.xlabel(\"Fréquence (h-1)\")\n",
        "plt.ylabel(\"Amplitude\")\n",
        "# plt.xlim(-10**-4, 10**-4)  # Limitez l'affichage des fréquences\n",
        "plt.show()"
      ]
    },
    {
      "cell_type": "code",
      "execution_count": null,
      "metadata": {
        "colab": {
          "base_uri": "https://localhost:8080/",
          "height": 411
        },
        "id": "hmnTxYYkdv7A",
        "outputId": "a934b9bb-6e49-4782-c9b7-cb8688b5b24a"
      },
      "outputs": [],
      "source": [
        "# Zoom le spectre de fréquence\n",
        "plt.figure(figsize=(10, 4))\n",
        "plt.plot(frequencies, amplitudes)\n",
        "plt.title(\"Spectre de Fréquence\")\n",
        "plt.xlabel(\"Fréquence (h_1)\")\n",
        "plt.ylabel(\"Amplitude\")\n",
        "# plt.xlim(1e-05, 1.2*10**-5)  # Limitez l'affichage des fréquences\n",
        "plt.show()"
      ]
    },
    {
      "cell_type": "code",
      "execution_count": null,
      "metadata": {
        "colab": {
          "base_uri": "https://localhost:8080/"
        },
        "id": "AuXS_UusKOLo",
        "outputId": "67a3047f-8fa1-4bb4-8417-57686f538777"
      },
      "outputs": [],
      "source": [
        "# Identifier les pics dans le spectre de fréquence\n",
        "threshold = 0.2 * 10**7\n",
        "peaks, _ = find_peaks(amplitudes[:len(amplitudes)//2], height=threshold)\n",
        "peak_frequencies = frequencies[:len(frequencies)//2][peaks]\n",
        "\n",
        "# calcul de la composante continue\n",
        "longueur_periode = int(1/peak_frequencies[0])\n",
        "composante_continue = np.mean(signal[:longueur_periode])\n",
        "\n",
        "print(peak_frequencies)\n",
        "print(composante_continue)"
      ]
    },
    {
      "cell_type": "markdown",
      "metadata": {
        "id": "YgFh7hKMYsS3"
      },
      "source": [
        "On obtient différentes pics.\n",
        "\n",
        "Le pic à 0 correspond à la composante continue. (ici il n'y en a pas)\n",
        "\n",
        "Le pic à 3.24184785e-08 correspond à la variation tt les ans\n",
        "\n",
        "Le triple pic à 1.15085599e-05 correspond aux variations tt les 24h\n",
        "\n",
        "Le pic à 2.30171197e-05 correspond au variations tt les 12h\n"
      ]
    },
    {
      "cell_type": "code",
      "execution_count": null,
      "metadata": {
        "colab": {
          "base_uri": "https://localhost:8080/"
        },
        "id": "ZYh2vwpyYeOt",
        "outputId": "d2db8cbd-9c6c-441c-8442-33cf50356b6d"
      },
      "outputs": [],
      "source": [
        "sampling_rate"
      ]
    },
    {
      "cell_type": "code",
      "execution_count": null,
      "metadata": {
        "colab": {
          "base_uri": "https://localhost:8080/",
          "height": 507
        },
        "id": "yfoYGMp3P87s",
        "outputId": "97f2fd07-79a6-45e6-8091-e7a8a03609bc"
      },
      "outputs": [],
      "source": [
        "# reconstruction signal entier\n",
        "reconstruit = np.fft.ifft(fft_values)\n",
        "\n",
        "# Plot the original sine wave using inverse Fourier transform\n",
        "\n",
        "plt.plot(signal[:300])\n",
        "plt.plot(reconstruit[:300],alpha=0.3)\n",
        "plt.title(\"Sine wave plotted using inverse Fourier transform\");\n",
        "plt.xlabel('Time')\n",
        "plt.ylabel('Amplitude')\n",
        "plt.grid(True)\n",
        "plt.show()\n",
        "\n",
        "plt.plot(signal)\n",
        "plt.plot(reconstruit,alpha=0.3)\n",
        "plt.title(\"Sine wave plotted using inverse Fourier transform\");\n",
        "plt.xlabel('Time')\n",
        "plt.ylabel('Amplitude')\n",
        "plt.grid(True)\n",
        "plt.show()"
      ]
    },
    {
      "cell_type": "code",
      "execution_count": null,
      "metadata": {
        "id": "APjW5IXJP-ed"
      },
      "outputs": [],
      "source": [
        "# reconstruction avec filtre :\n",
        "def filtrage(fft_values, threshold = 0.7*10**6):\n",
        "  compteur = 0\n",
        "  fft_filtre = []\n",
        "  for fft_value in fft_values:\n",
        "    if threshold < np.abs(fft_value) :\n",
        "      fft_filtre.append(fft_value)\n",
        "      compteur +=1\n",
        "    else : fft_filtre.append(0)\n",
        "  # print(fft_filtre)\n",
        "  reconstruit_filtré = np.fft.ifft(fft_filtre)\n",
        "  # print(len(fft_filtre), sum([np.abs(fft_filtr) > 0 for fft_filtr in fft_filtre]), compteur)\n",
        "  return reconstruit_filtré, compteur\n"
      ]
    },
    {
      "cell_type": "code",
      "execution_count": null,
      "metadata": {
        "colab": {
          "base_uri": "https://localhost:8080/",
          "height": 927
        },
        "id": "Q-tuKfvDQCvs",
        "outputId": "555e1642-db80-44a1-cc3f-d196417ff6fa"
      },
      "outputs": [],
      "source": [
        "reconstruit_filtré, compteur = filtrage(fft_values)\n",
        "\n",
        "plt.plot(signal)\n",
        "plt.plot(reconstruit_filtré,alpha=0.3)\n",
        "plt.title(\"Sine wave plotted using inverse Fourier transform\")\n",
        "plt.xlabel('Time')\n",
        "plt.ylabel('Amplitude')\n",
        "plt.grid(True)\n",
        "plt.show()\n",
        "\n",
        "plt.plot(signal[400:500])\n",
        "plt.plot(reconstruit_filtré[400:500],alpha=0.3)\n",
        "plt.title(\"Sine wave plotted using inverse Fourier transform\");\n",
        "plt.xlabel('Time')\n",
        "plt.ylabel('Amplitude')\n",
        "plt.grid(True)\n",
        "plt.show()"
      ]
    },
    {
      "cell_type": "code",
      "execution_count": null,
      "metadata": {
        "id": "Ni2s_iBrQsKS"
      },
      "outputs": [],
      "source": [
        "def calcul_ecart(signal, filtre):\n",
        "  ecart = np.real(reconstruit_filtré - signal)\n",
        "  return ecart"
      ]
    },
    {
      "cell_type": "code",
      "execution_count": null,
      "metadata": {
        "id": "eJPLGXEsKqLS"
      },
      "outputs": [],
      "source": [
        "liste_threshold = np.linspace(0.1 * 10**5, 0.1 * 10**8, 300)\n",
        "liste_compteur = []\n",
        "liste_ecart = []\n",
        "\n",
        "for threshold in liste_threshold :\n",
        "  reconstruit_filtré, compteur = filtrage(fft_values,threshold)\n",
        "  liste_compteur.append(compteur)\n",
        "  ecart = calcul_ecart(signal,reconstruit_filtré)\n",
        "  liste_ecart.append(abs(ecart).sum()/len(ecart))"
      ]
    },
    {
      "cell_type": "code",
      "execution_count": null,
      "metadata": {
        "colab": {
          "base_uri": "https://localhost:8080/",
          "height": 927
        },
        "id": "Dj7-OmA8U9o-",
        "outputId": "41434854-22bf-44a2-c7ab-3dfa4f5d5793"
      },
      "outputs": [],
      "source": [
        "plt.plot(liste_threshold[10:30],liste_ecart[10:30])\n",
        "plt.title(\"Ecart moyen (MSE)\")\n",
        "plt.xlabel('Threshold')\n",
        "plt.ylabel('Amplitude')\n",
        "plt.grid(True)\n",
        "plt.show()\n",
        "\n",
        "plt.plot(liste_threshold[10:30],liste_compteur[10:30])\n",
        "plt.title(\"Compteur\")\n",
        "plt.xlabel('Threshold')\n",
        "plt.ylabel('Amplitude')\n",
        "plt.grid(True)\n",
        "plt.show()"
      ]
    },
    {
      "cell_type": "code",
      "execution_count": null,
      "metadata": {
        "colab": {
          "base_uri": "https://localhost:8080/",
          "height": 927
        },
        "id": "TBj_qpTQwP__",
        "outputId": "73bd2d0b-0dd9-45d9-fa42-64c8ff385ec3"
      },
      "outputs": [],
      "source": [
        "reconstruit_filtré, compteur= filtrage(fft_values,threshold=0.4 * 10**6)\n",
        "\n",
        "plt.plot(signal)\n",
        "plt.plot(reconstruit_filtré,alpha=0.3)\n",
        "plt.title(\"Sine wave plotted using inverse Fourier transform\")\n",
        "plt.xlabel('Time')\n",
        "plt.ylabel('Amplitude')\n",
        "plt.grid(True)\n",
        "plt.show()\n",
        "\n",
        "plt.plot(signal[400:500])\n",
        "plt.plot(reconstruit_filtré[400:500],alpha=0.3)\n",
        "plt.title(\"Sine wave plotted using inverse Fourier transform\")\n",
        "plt.xlabel('Time')\n",
        "plt.ylabel('Amplitude')\n",
        "plt.grid(True)\n",
        "plt.show()"
      ]
    },
    {
      "cell_type": "markdown",
      "metadata": {
        "id": "jRDHO8KVXkUv"
      },
      "source": [
        "### Récupération du model après FFT"
      ]
    },
    {
      "cell_type": "code",
      "execution_count": null,
      "metadata": {
        "colab": {
          "base_uri": "https://localhost:8080/"
        },
        "id": "kwKhLvTIPAq3",
        "outputId": "fb3ebb15-da20-4601-ca1c-9bb0448413a3"
      },
      "outputs": [],
      "source": [
        "signal = signal_a[\"pv_measurement\"].values\n",
        "time_diff = 1 # signal_a[\"time\"].diff().mean().total_seconds()  # Obtenez la durée moyenne entre deux échantillons en secondes\n",
        "sampling_rate = 1 / time_diff  # Taux d'échantillonnage en Hz\n",
        "\n",
        "sampling_rate # h-1 ou 1 / 3600 Hz"
      ]
    },
    {
      "cell_type": "code",
      "execution_count": null,
      "metadata": {
        "id": "duNYDOR5PHmI"
      },
      "outputs": [],
      "source": [
        "def recuperation_model(fft_values, threshold=0.4 * 10**6):\n",
        "\n",
        "      sample_rate = sampling_rate\n",
        "      n = len(fft_values)\n",
        "      frequencies = np.fft.fftfreq(n, 1 / sample_rate)\n",
        "\n",
        "      # Filtrage et calcul des amplitudes\n",
        "      amplitudes = fft_values * (np.abs(fft_values) > threshold)\n",
        "\n",
        "      # Obtenez les phases des valeurs FFT\n",
        "      phases = np.angle(fft_values)\n",
        "\n",
        "      return frequencies, amplitudes, phases\n",
        "      # Te est le même pour tous !\n"
      ]
    },
    {
      "cell_type": "code",
      "execution_count": null,
      "metadata": {
        "id": "tfnN-HmzQux1"
      },
      "outputs": [],
      "source": [
        "frequencies, amplitudes, phases = recuperation_model(fft_values)\n",
        "model = {\"frequencies\" : frequencies,\n",
        "         \"amplitudes\" : amplitudes,\n",
        "         \"phases\" : phases}"
      ]
    },
    {
      "cell_type": "code",
      "execution_count": null,
      "metadata": {},
      "outputs": [],
      "source": [
        "frequencies.shape, amplitudes.shape, phases.shape"
      ]
    },
    {
      "cell_type": "code",
      "execution_count": null,
      "metadata": {},
      "outputs": [],
      "source": [
        "frequencies"
      ]
    },
    {
      "cell_type": "code",
      "execution_count": null,
      "metadata": {
        "colab": {
          "base_uri": "https://localhost:8080/",
          "height": 472
        },
        "id": "t1dXhU178ZRX",
        "outputId": "d82b736c-92b2-4134-9595-f1401d6d35c5"
      },
      "outputs": [],
      "source": [
        "plt.plot(model[\"frequencies\"], model[\"amplitudes\"], alpha=0.3)\n",
        "plt.title(\"Sine wave plotted using inverse Fourier transform\")\n",
        "plt.xlabel('Time')\n",
        "plt.ylabel('Amplitude')\n",
        "plt.grid(True)\n",
        "plt.show()"
      ]
    },
    {
      "cell_type": "code",
      "execution_count": null,
      "metadata": {
        "id": "KvpB20tPPTVd"
      },
      "outputs": [],
      "source": [
        "def prediction_TS(model, debut, fin):\n",
        "    frequencies = model[\"frequencies\"]\n",
        "    amplitudes = model[\"amplitudes\"]\n",
        "    phases = model[\"phases\"]\n",
        "\n",
        "    Te = 1 # 3619.962445 # à définir (normalement c'est une heure)\n",
        "    resultat = []\n",
        "    for i in range(debut, fin):\n",
        "        aux = 0\n",
        "        for i_freq in range(len(frequencies)):\n",
        "          # if amplitudes[i_freq] > 0:\n",
        "          aux += amplitudes[i_freq] * np.exp(2 * np.pi * frequencies[i_freq] * i * Te * 1j) / Te\n",
        "        resultat.append(np.real(aux))\n",
        "    print(len(resultat))\n",
        "    return resultat"
      ]
    },
    {
      "cell_type": "code",
      "execution_count": null,
      "metadata": {
        "id": "indPJMgJb0-M"
      },
      "outputs": [],
      "source": [
        "resultat = prediction_TS(model,0, 300)"
      ]
    },
    {
      "cell_type": "code",
      "execution_count": null,
      "metadata": {
        "colab": {
          "base_uri": "https://localhost:8080/",
          "height": 472
        },
        "id": "AaSBoBZMSUw2",
        "outputId": "ca01864e-5b3a-4c78-a275-50b30852dc50"
      },
      "outputs": [],
      "source": [
        "plt.plot(resultat, alpha=0.3)\n",
        "plt.title(\"Sine wave plotted using inverse Fourier transform\")\n",
        "plt.xlabel('Time')\n",
        "plt.ylabel('Amplitude')\n",
        "plt.grid(True)\n",
        "plt.show()"
      ]
    },
    {
      "cell_type": "code",
      "execution_count": null,
      "metadata": {
        "colab": {
          "base_uri": "https://localhost:8080/",
          "height": 507
        },
        "id": "JYc4ghlbSE_s",
        "outputId": "e04cb762-b169-4783-b90d-954df457ffa9"
      },
      "outputs": [],
      "source": [
        "plt.plot(signal[:20])\n",
        "plt.plot(reconstruit_filtré[:20],alpha=0.3)\n",
        "plt.plot(np.array(resultat[:20]) / 1e9 * 3000,alpha=0.3)\n",
        "plt.title(\"Sine wave plotted using inverse Fourier transform\")\n",
        "plt.xlabel('Time')\n",
        "plt.ylabel('Amplitude')\n",
        "plt.grid(True)\n",
        "plt.show()"
      ]
    },
    {
      "cell_type": "code",
      "execution_count": null,
      "metadata": {},
      "outputs": [],
      "source": []
    }
  ],
  "metadata": {
    "accelerator": "GPU",
    "colab": {
      "collapsed_sections": [
        "dUOGrNvsOflF",
        "6uDclMjaOcEe",
        "WcyzG-y2OteL",
        "EmUie4ACwPi-",
        "NG9Js2hj89xu"
      ],
      "provenance": []
    },
    "kernelspec": {
      "display_name": "mlsolar",
      "language": "python",
      "name": "mlsolar"
    },
    "language_info": {
      "codemirror_mode": {
        "name": "ipython",
        "version": 3
      },
      "file_extension": ".py",
      "mimetype": "text/x-python",
      "name": "python",
      "nbconvert_exporter": "python",
      "pygments_lexer": "ipython3",
      "version": "3.10.11"
    }
  },
  "nbformat": 4,
  "nbformat_minor": 0
}
