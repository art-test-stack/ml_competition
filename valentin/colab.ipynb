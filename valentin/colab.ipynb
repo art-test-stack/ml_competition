{
  "cells": [
    {
      "cell_type": "code",
      "execution_count": null,
      "metadata": {
        "id": "BZwjuBce0XcI"
      },
      "outputs": [],
      "source": [
        "import os\n",
        "import pandas as pd\n",
        "import numpy as np\n",
        "import matplotlib.pylab as plt\n",
        "%matplotlib inline\n",
        "\n",
        "pd.set_option('display.max_rows', 200)\n",
        "pd.set_option('display.max_columns', 200)"
      ]
    },
    {
      "cell_type": "code",
      "execution_count": null,
      "metadata": {
        "colab": {
          "base_uri": "https://localhost:8080/"
        },
        "id": "x1XFbFEk0nBY",
        "outputId": "4eb02ac2-a248-494c-9922-66b202a540be"
      },
      "outputs": [],
      "source": [
        "from google.colab import drive\n",
        "drive.mount('/content/drive/')"
      ]
    },
    {
      "cell_type": "code",
      "execution_count": null,
      "metadata": {
        "id": "cyNlE5zU0XcL"
      },
      "outputs": [],
      "source": [
        "train_a = pd.read_parquet('/content/drive/MyDrive/EcolesIngenieur/NTNU/MachineLearning/GroupWork/A/train_targets.parquet')\n",
        "train_b = pd.read_parquet('/content/drive/MyDrive/EcolesIngenieur/NTNU/MachineLearning/GroupWork/B/train_targets.parquet')\n",
        "train_c = pd.read_parquet('/content/drive/MyDrive/EcolesIngenieur/NTNU/MachineLearning/GroupWork/C/train_targets.parquet')"
      ]
    },
    {
      "cell_type": "code",
      "execution_count": null,
      "metadata": {
        "id": "Y530qG-10XcM"
      },
      "outputs": [],
      "source": [
        "X_train_estimated_a = pd.read_parquet('/content/drive/MyDrive/EcolesIngenieur/NTNU/MachineLearning/GroupWork/A/X_train_estimated.parquet')\n",
        "X_train_estimated_b = pd.read_parquet('/content/drive/MyDrive/EcolesIngenieur/NTNU/MachineLearning/GroupWork/B/X_train_estimated.parquet')\n",
        "X_train_estimated_c = pd.read_parquet('/content/drive/MyDrive/EcolesIngenieur/NTNU/MachineLearning/GroupWork/C/X_train_estimated.parquet')\n"
      ]
    },
    {
      "cell_type": "code",
      "execution_count": null,
      "metadata": {
        "id": "7mh0Ixa60XcM"
      },
      "outputs": [],
      "source": [
        "X_train_observed_a = pd.read_parquet('/content/drive/MyDrive/EcolesIngenieur/NTNU/MachineLearning/GroupWork/A/X_train_observed.parquet')\n",
        "X_train_observed_b = pd.read_parquet('/content/drive/MyDrive/EcolesIngenieur/NTNU/MachineLearning/GroupWork/B/X_train_observed.parquet')\n",
        "X_train_observed_c = pd.read_parquet('/content/drive/MyDrive/EcolesIngenieur/NTNU/MachineLearning/GroupWork/C/X_train_observed.parquet')\n"
      ]
    },
    {
      "cell_type": "code",
      "execution_count": null,
      "metadata": {
        "id": "fApzbeJQ0XcM"
      },
      "outputs": [],
      "source": [
        "X_test_estimated_a = pd.read_parquet('/content/drive/MyDrive/EcolesIngenieur/NTNU/MachineLearning/GroupWork/A/X_test_estimated.parquet')\n",
        "X_test_estimated_b = pd.read_parquet('/content/drive/MyDrive/EcolesIngenieur/NTNU/MachineLearning/GroupWork/B/X_test_estimated.parquet')\n",
        "X_test_estimated_c = pd.read_parquet('/content/drive/MyDrive/EcolesIngenieur/NTNU/MachineLearning/GroupWork/C/X_test_estimated.parquet')\n"
      ]
    },
    {
      "cell_type": "code",
      "execution_count": null,
      "metadata": {
        "colab": {
          "base_uri": "https://localhost:8080/",
          "height": 766
        },
        "id": "_NFVtYfV0XcM",
        "outputId": "bdc00445-7cfd-419b-c91c-6a2d3230bf54"
      },
      "outputs": [],
      "source": [
        "# Plotting a single feature\n",
        "fig, axs = plt.subplots(3, 1, figsize=(20, 10), sharex=True)\n",
        "feature_name = 'absolute_humidity_2m:gm3'\n",
        "X_train_observed_a[['date_forecast', feature_name]].set_index('date_forecast').plot(ax=axs[0], title='Train/Test A', color='red')\n",
        "X_train_estimated_a[['date_forecast', feature_name]].set_index('date_forecast').plot(ax=axs[0], title='Train/Test A', color='blue')\n",
        "X_test_estimated_a[['date_forecast', feature_name]].set_index('date_forecast').plot(ax=axs[0], title='Train/Test  A', color='green')\n",
        "\n",
        "X_train_observed_b[['date_forecast', feature_name]].set_index('date_forecast').plot(ax=axs[1], title='Train/Test  B', color='red')\n",
        "X_train_estimated_b[['date_forecast', feature_name]].set_index('date_forecast').plot(ax=axs[1], title='Train/Test  B', color='blue')\n",
        "X_test_estimated_b[['date_forecast', feature_name]].set_index('date_forecast').plot(ax=axs[1], title='Train/Test  B', color='green')\n",
        "\n",
        "X_train_observed_c[['date_forecast', feature_name]].set_index('date_forecast').plot(ax=axs[2], title='Train/Test  C', color='red')\n",
        "X_train_estimated_c[['date_forecast', feature_name]].set_index('date_forecast').plot(ax=axs[2], title='Train/Test  C', color='blue')\n",
        "X_test_estimated_c[['date_forecast', feature_name]].set_index('date_forecast').plot(ax=axs[2], title='Train/Test  C', color='green')"
      ]
    },
    {
      "cell_type": "code",
      "execution_count": null,
      "metadata": {
        "colab": {
          "base_uri": "https://localhost:8080/",
          "height": 424
        },
        "id": "fr-qaECAHxX_",
        "outputId": "0818d6fd-0023-483f-df88-cd200fc8507d"
      },
      "outputs": [],
      "source": [
        "test = pd.read_csv('/content/drive/MyDrive/EcolesIngenieur/NTNU/MachineLearning/GroupWork/test.csv')\n",
        "test"
      ]
    },
    {
      "cell_type": "code",
      "execution_count": null,
      "metadata": {
        "colab": {
          "base_uri": "https://localhost:8080/",
          "height": 424
        },
        "id": "mVWBzu6c0XcN",
        "outputId": "a5892082-b45a-4970-ed69-82df99fecda7"
      },
      "outputs": [],
      "source": [
        "sample_submission = pd.read_csv('/content/drive/MyDrive/EcolesIngenieur/NTNU/MachineLearning/GroupWork/sample_submission.csv')\n",
        "sample_submission"
      ]
    },
    {
      "cell_type": "code",
      "execution_count": null,
      "metadata": {
        "id": "MAliPOh00XcN"
      },
      "outputs": [],
      "source": [
        "# Example, let the predictions be random values\n",
        "test['prediction'] = np.random.rand(len(test))\n",
        "sample_submission = sample_submission[['id']].merge(test[['id', 'prediction']], on='id', how='left')\n",
        "sample_submission.to_csv('my_first_submission.csv', index=False)"
      ]
    },
    {
      "cell_type": "markdown",
      "metadata": {
        "id": "i2CPHpFi0XcO"
      },
      "source": [
        "# A faire\n",
        "\n",
        "## Partie I :\n",
        "- Comparer les lignes\n",
        "- Voir le lignes vides\n",
        "- Grouper les varaibles et les comprendre !!!\n",
        "\n",
        "## Partie II :\n",
        "- Regarder les liens entre les variables (matrice de covariance)\n",
        "- Etude des variables quantitatives\n",
        "- Etude des variables qualitatives\n",
        "\n",
        "## Partie III :\n",
        "- Voir si besoin de transformer des varaibles (nom ou autre)\n",
        "- Se renseigner sur les modèles liées aux times series\n",
        "\n"
      ]
    },
    {
      "cell_type": "markdown",
      "metadata": {
        "id": "dUOGrNvsOflF"
      },
      "source": [
        "# Etude préliminaire"
      ]
    },
    {
      "cell_type": "code",
      "execution_count": null,
      "metadata": {
        "colab": {
          "base_uri": "https://localhost:8080/"
        },
        "id": "p6g7RGuH0XcP",
        "outputId": "8a8aee90-4951-46e6-8964-639ac4c6ab6f"
      },
      "outputs": [],
      "source": [
        "# Décrire le type de données de chaque colonne\n",
        "X_train_observed_a.dtypes"
      ]
    },
    {
      "cell_type": "code",
      "execution_count": null,
      "metadata": {
        "colab": {
          "base_uri": "https://localhost:8080/"
        },
        "id": "LwyeH8xt0XcP",
        "outputId": "60828670-26eb-44ee-ac8d-7622360b8ca2"
      },
      "outputs": [],
      "source": [
        "# Compare la variable date_forecast pour les différents fichers de X_train (en prenant début et fin):\n",
        "print(X_train_observed_a['date_forecast'].min(), X_train_observed_a['date_forecast'].max())\n",
        "print(X_train_estimated_a['date_forecast'].min(), X_train_estimated_a['date_forecast'].max())\n",
        "print(X_train_observed_b['date_forecast'].min(), X_train_observed_b['date_forecast'].max())\n",
        "print(X_train_estimated_b['date_forecast'].min(), X_train_estimated_b['date_forecast'].max())\n",
        "print(X_train_observed_c['date_forecast'].min(), X_train_observed_c['date_forecast'].max())\n",
        "print(X_train_estimated_c['date_forecast'].min(), X_train_estimated_c['date_forecast'].max())\n"
      ]
    },
    {
      "cell_type": "code",
      "execution_count": null,
      "metadata": {
        "id": "9bzLW2uu0XcP"
      },
      "outputs": [],
      "source": [
        "# Affiche la courbe de variation de absolute_humidity_2m:gm3 pour les différents fichiers de X_train\n",
        "fig, axs = plt.subplots(3, 1, figsize=(20, 10), sharex=True)\n",
        "feature_name = 'absolute_humidity_2m:gm3'\n",
        "X_train_observed_a[['date_forecast', feature_name]].set_index('date_forecast').plot(ax=axs[0], title='Train/Test A', color='red')\n",
        "X_train_estimated_a[['date_forecast', feature_name]].set_index('date_forecast').plot(ax=axs[0], title='Train/Test A', color='blue')\n",
        "X_train_observed_b[['date_forecast', feature_name]].set_index('date_forecast').plot(ax=axs[1], title='Train/Test  B', color='red')\n",
        "X_train_estimated_b[['date_forecast', feature_name]].set_index('date_forecast').plot(ax=axs[1], title='Train/Test  B', color='blue')\n",
        "X_train_observed_c[['date_forecast', feature_name]].set_index('date_forecast').plot(ax=axs[2], title='Train/Test  C', color='red')\n",
        "X_train_estimated_c[['date_forecast', feature_name]].set_index('date_forecast').plot(ax=axs[2], title='Train/Test  C', color='blue')\n"
      ]
    },
    {
      "cell_type": "code",
      "execution_count": null,
      "metadata": {
        "id": "v6TDy9eS0XcQ"
      },
      "outputs": [],
      "source": [
        "# Décrire les données\n",
        "X_train_observed_a.describe()"
      ]
    },
    {
      "cell_type": "code",
      "execution_count": null,
      "metadata": {
        "id": "KwLo_rH70XcQ"
      },
      "outputs": [],
      "source": [
        "# Trace air_density_2m:kgm3 des données X_train_observed_a et X_train_observed_b sur le même graphique\n",
        "fig, axs = plt.subplots(1, 1, figsize=(20, 10), sharex=True)\n",
        "feature_name = 'absolute_humidity_2m:gm3'\n",
        "X_train_observed_a[['date_forecast', feature_name]].set_index('date_forecast').plot(ax=axs, title='Train/Test A', color='red')\n",
        "X_train_observed_b[['date_forecast', feature_name]].set_index('date_forecast').plot(ax=axs, title='Train/Test  B', color='blue')\n",
        "X_train_observed_b[['date_forecast', feature_name]].set_index('date_forecast').plot(ax=axs, title='Train/Test  C', color='green')"
      ]
    },
    {
      "cell_type": "code",
      "execution_count": null,
      "metadata": {
        "id": "H89EsBhb0XcQ"
      },
      "outputs": [],
      "source": [
        "# Affiche la courbe de variation de air_density_2m:kgm3 pour les différents fichiers de X_train\n",
        "fig, axs = plt.subplots(3, 1, figsize=(20, 10), sharex=True)\n",
        "feature_name = 'air_density_2m:kgm3'\n",
        "X_train_observed_a[['date_forecast', feature_name]].set_index('date_forecast').plot(ax=axs[0], title='Train/Test A', color='red')\n",
        "X_train_estimated_a[['date_forecast', feature_name]].set_index('date_forecast').plot(ax=axs[0], title='Train/Test A', color='blue')\n",
        "X_train_observed_b[['date_forecast', feature_name]].set_index('date_forecast').plot(ax=axs[1], title='Train/Test  B', color='red')\n",
        "X_train_estimated_b[['date_forecast', feature_name]].set_index('date_forecast').plot(ax=axs[1], title='Train/Test  B', color='blue')\n",
        "X_train_observed_c[['date_forecast', feature_name]].set_index('date_forecast').plot(ax=axs[2], title='Train/Test  C', color='red')\n",
        "X_train_estimated_c[['date_forecast', feature_name]].set_index('date_forecast').plot(ax=axs[2], title='Train/Test  C', color='blue')\n"
      ]
    },
    {
      "cell_type": "code",
      "execution_count": null,
      "metadata": {
        "id": "NAfUQv4h0XcQ"
      },
      "outputs": [],
      "source": [
        "# Trace air_density_2m:kgm3 des données X_train_observed_a et X_train_observed_b sur le même graphique\n",
        "fig, axs = plt.subplots(1, 1, figsize=(20, 10), sharex=True)\n",
        "feature_name = 'air_density_2m:kgm3'\n",
        "X_train_observed_a[['date_forecast', feature_name]].set_index('date_forecast').plot(ax=axs, title='Train/Test A', color='red')\n",
        "X_train_observed_b[['date_forecast', feature_name]].set_index('date_forecast').plot(ax=axs, title='Train/Test  B', color='blue')\n",
        "X_train_observed_b[['date_forecast', feature_name]].set_index('date_forecast').plot(ax=axs, title='Train/Test  C', color='green')"
      ]
    },
    {
      "cell_type": "code",
      "execution_count": null,
      "metadata": {
        "id": "gBWkOe9o0XcR"
      },
      "outputs": [],
      "source": [
        "# Compte le nombre de Nan dans chauqe colonne\n",
        "X_train_observed_a.isna().sum().sort_values(ascending=False)/(len(X_train_observed_a))"
      ]
    },
    {
      "cell_type": "code",
      "execution_count": null,
      "metadata": {
        "id": "8rr_IzQm0XcR"
      },
      "outputs": [],
      "source": [
        "X_train_estimated_a.isna().sum().sort_values(ascending=False)/(len(X_train_observed_a))"
      ]
    },
    {
      "cell_type": "code",
      "execution_count": null,
      "metadata": {
        "id": "bWg-6ZRD0XcR"
      },
      "outputs": [],
      "source": [
        "X_train_observed_b.isna().sum().sort_values(ascending=False)/(len(X_train_observed_a))"
      ]
    },
    {
      "cell_type": "code",
      "execution_count": null,
      "metadata": {
        "id": "vLbneypC0XcR"
      },
      "outputs": [],
      "source": []
    },
    {
      "cell_type": "code",
      "execution_count": null,
      "metadata": {
        "id": "V7vGVnU50XcR"
      },
      "outputs": [],
      "source": [
        "def supperposition(feature_name):\n",
        "    fig, axs = plt.subplots(1, 1, figsize=(20, 10), sharex=True)\n",
        "    X_train_observed_a[['date_forecast', feature_name]].set_index('date_forecast').plot(ax=axs, title='Train/Test A', color='red')\n",
        "    X_train_observed_b[['date_forecast', feature_name]].set_index('date_forecast').plot(ax=axs, title='Train/Test  B', color='blue')\n",
        "    X_train_observed_b[['date_forecast', feature_name]].set_index('date_forecast').plot(ax=axs, title='Train/Test  C', color='green')"
      ]
    },
    {
      "cell_type": "code",
      "execution_count": null,
      "metadata": {
        "id": "qpMKJHct0XcR"
      },
      "outputs": [],
      "source": [
        "def globale(feature_name):\n",
        "    fig, axs = plt.subplots(3, 1, figsize=(20, 10), sharex=True)\n",
        "    X_train_observed_a[['date_forecast', feature_name]].set_index('date_forecast').plot(ax=axs[0], title='Train/Test A', color='red')\n",
        "    X_train_estimated_a[['date_forecast', feature_name]].set_index('date_forecast').plot(ax=axs[0], title='Train/Test A', color='blue')\n",
        "    X_train_observed_b[['date_forecast', feature_name]].set_index('date_forecast').plot(ax=axs[1], title='Train/Test  B', color='red')\n",
        "    X_train_estimated_b[['date_forecast', feature_name]].set_index('date_forecast').plot(ax=axs[1], title='Train/Test  B', color='blue')\n",
        "    X_train_observed_c[['date_forecast', feature_name]].set_index('date_forecast').plot(ax=axs[2], title='Train/Test  C', color='red')\n",
        "    X_train_estimated_c[['date_forecast', feature_name]].set_index('date_forecast').plot(ax=axs[2], title='Train/Test  C', color='blue')\n"
      ]
    },
    {
      "cell_type": "code",
      "execution_count": null,
      "metadata": {
        "id": "u_LGMoG60XcS"
      },
      "outputs": [],
      "source": [
        "supperposition('air_density_2m:kgm3')"
      ]
    },
    {
      "cell_type": "code",
      "execution_count": null,
      "metadata": {
        "id": "wIj49fc10XcS"
      },
      "outputs": [],
      "source": [
        "supperposition('clear_sky_energy_1h:J')"
      ]
    },
    {
      "cell_type": "code",
      "execution_count": null,
      "metadata": {
        "id": "c0MYhrD50XcS"
      },
      "outputs": [],
      "source": [
        "print(train_a.shape[0]*4)\n",
        "print(X_train_observed_a.shape[0]+X_train_estimated_a.shape[0])"
      ]
    },
    {
      "cell_type": "code",
      "execution_count": null,
      "metadata": {
        "id": "QDR245yX0XcS"
      },
      "outputs": [],
      "source": [
        "# Fait une petite étude du fichier train_a\n",
        "train_a.describe()"
      ]
    },
    {
      "cell_type": "code",
      "execution_count": null,
      "metadata": {
        "id": "uQOABXMD0XcS"
      },
      "outputs": [],
      "source": [
        "# Affiche la courbe de train_a, train_b et train_c avec en abscisse time et en ordonnée la valeur de la variable\n",
        "fig, axs = plt.subplots(3, 1, figsize=(20, 10), sharex=True)\n",
        "feature_name = 'pv_measurement'\n",
        "train_a[['time', feature_name]].set_index('time').plot(ax=axs[0], title='Train A', color='red')\n",
        "train_b[['time', feature_name]].set_index('time').plot(ax=axs[1], title='Train B', color='blue')\n",
        "train_c[['time', feature_name]].set_index('time').plot(ax=axs[2], title='Train C', color='green')\n"
      ]
    },
    {
      "cell_type": "code",
      "execution_count": null,
      "metadata": {
        "id": "QSJHyzQl0XcT"
      },
      "outputs": [],
      "source": [
        "supperposition('clear_sky_rad:W')"
      ]
    },
    {
      "cell_type": "code",
      "execution_count": null,
      "metadata": {
        "id": "vCvEXFMt0XcT"
      },
      "outputs": [],
      "source": [
        "supperposition('cloud_base_agl:m')"
      ]
    },
    {
      "cell_type": "code",
      "execution_count": null,
      "metadata": {
        "id": "OQQwrymK0XcT"
      },
      "outputs": [],
      "source": [
        "globale('cloud_base_agl:m')"
      ]
    },
    {
      "cell_type": "code",
      "execution_count": null,
      "metadata": {
        "id": "KIYQDYTB0XcT"
      },
      "outputs": [],
      "source": [
        "supperposition('dew_or_rime:idx')"
      ]
    },
    {
      "cell_type": "code",
      "execution_count": null,
      "metadata": {
        "id": "EIgOtGLI0XcT"
      },
      "outputs": [],
      "source": [
        "supperposition('dew_point_2m:K')"
      ]
    },
    {
      "cell_type": "code",
      "execution_count": null,
      "metadata": {
        "id": "ebRCIo4D0XcU"
      },
      "outputs": [],
      "source": [
        "# Compte le nombre de valeur différente de 0 de dew_or_rime:idx pour chaque fichier\n",
        "print(\"dew_or_rime:idx non nul A\", (X_train_observed_a['dew_or_rime:idx'] != 0).sum())\n",
        "print(\"dew_or_rime:idx non nul B\", (X_train_observed_b['dew_or_rime:idx'] != 0).sum())\n",
        "print(\"dew_or_rime:idx non nul C\", (X_train_observed_c['dew_or_rime:idx'] != 0).sum())\n"
      ]
    },
    {
      "cell_type": "code",
      "execution_count": null,
      "metadata": {
        "id": "HlNTX_ho0XcU"
      },
      "outputs": [],
      "source": [
        "supperposition('diffuse_rad:W')"
      ]
    },
    {
      "cell_type": "code",
      "execution_count": null,
      "metadata": {
        "id": "MV3BySUU0XcU"
      },
      "outputs": [],
      "source": []
    },
    {
      "cell_type": "markdown",
      "metadata": {
        "id": "6uDclMjaOcEe"
      },
      "source": [
        "# Mise en forme"
      ]
    },
    {
      "cell_type": "code",
      "execution_count": null,
      "metadata": {
        "id": "d8KVhN9R0XcU"
      },
      "outputs": [],
      "source": [
        "# Copier les dataframe X_train_observed_a, X_train_observed_b et X_train_observed_c\n",
        "X_train_observed_a_copy = X_train_observed_a.copy()\n",
        "X_train_observed_b_copy = X_train_observed_b.copy()\n",
        "X_train_observed_c_copy = X_train_observed_c.copy()"
      ]
    },
    {
      "cell_type": "code",
      "execution_count": null,
      "metadata": {
        "id": "6EflJK9F0XcU"
      },
      "outputs": [],
      "source": [
        "# mettre date_forecast comme index\n",
        "X_train_observed_a_copy.set_index('date_forecast', inplace=True)\n",
        "X_train_observed_b_copy.set_index('date_forecast', inplace=True)\n",
        "X_train_observed_c_copy.set_index('date_forecast', inplace=True)"
      ]
    },
    {
      "cell_type": "code",
      "execution_count": null,
      "metadata": {
        "id": "K_t4Md_g0Xce"
      },
      "outputs": [],
      "source": [
        "# modifier les colonnes de X_train_observed_a_copy, X_train_observed_b_copy et X_train_observed_c_copy en ajoutant _a, _b et _c\n",
        "X_train_observed_a_copy.columns = [col+'_a' for col in X_train_observed_a_copy.columns]\n",
        "X_train_observed_b_copy.columns = [col+'_b' for col in X_train_observed_b_copy.columns]\n",
        "X_train_observed_c_copy.columns = [col+'_c' for col in X_train_observed_c_copy.columns]"
      ]
    },
    {
      "cell_type": "code",
      "execution_count": null,
      "metadata": {
        "id": "HCM7h5Wc0Xce"
      },
      "outputs": [],
      "source": [
        "# Merge les dataframe X_train_observed_a_copy, X_train_observed_b_copy et X_train_observed_c_copy pour le même date_forecast\n",
        "X_train_observed_merged = pd.merge(X_train_observed_a_copy, X_train_observed_b_copy, left_index=True, right_index=True)\n",
        "X_train_observed_merged = pd.merge(X_train_observed_merged, X_train_observed_c_copy, left_index=True, right_index=True)"
      ]
    },
    {
      "cell_type": "code",
      "execution_count": null,
      "metadata": {
        "colab": {
          "base_uri": "https://localhost:8080/"
        },
        "id": "nnAK3Xq30Xce",
        "outputId": "343d8581-47b2-45ca-c9b0-3bf4d5ffce67"
      },
      "outputs": [],
      "source": [
        "# Décrire X_train_observed_merged\n",
        "X_train_observed_merged.describe()"
      ]
    },
    {
      "cell_type": "markdown",
      "metadata": {
        "id": "WcyzG-y2OteL"
      },
      "source": [
        "# Deuxième étude préli"
      ]
    },
    {
      "cell_type": "code",
      "execution_count": null,
      "metadata": {
        "colab": {
          "base_uri": "https://localhost:8080/",
          "height": 367
        },
        "id": "msOdVtQ-0Xce",
        "outputId": "5aa3f9ce-4162-4bd7-b4c1-a34e91c1e139"
      },
      "outputs": [],
      "source": [
        "# Matrice de corrélation en couleurs de X_train_observed sans afficher les valeurs\n",
        "import seaborn as sns\n",
        "\n",
        "corr = X_train_observed_merged.corr()\n",
        "plt.figure(figsize=(40, 40))\n",
        "sns.heatmap(corr, annot=False, cmap=plt.cm.Reds)"
      ]
    },
    {
      "cell_type": "code",
      "execution_count": null,
      "metadata": {
        "id": "liEWyRo00Xce"
      },
      "outputs": [],
      "source": [
        "# Matrice de corrélation en couleurs\n",
        "import seaborn as sns\n",
        "\n",
        "corr = X_train_observed_a.corr()\n",
        "plt.figure(figsize=(20, 20))\n",
        "sns.heatmap(corr, annot=False, cmap=plt.cm.Reds)"
      ]
    },
    {
      "cell_type": "code",
      "execution_count": null,
      "metadata": {
        "id": "s_uG91ho0Xce"
      },
      "outputs": [],
      "source": [
        "# Décrire le nombre de ligne des train et test\n",
        "print('X_train_estimated_a', X_train_estimated_a.shape)\n",
        "print('X_train_estimated_b', X_train_estimated_b.shape)\n",
        "print('X_train_estimated_c', X_train_estimated_c.shape)\n",
        "print('X_train_observed_a', X_train_observed_a.shape)\n",
        "print('X_train_observed_b', X_train_observed_b.shape)\n",
        "print('X_train_observed_c', X_train_observed_c.shape)\n",
        "print('X_test_estimated_a', X_test_estimated_a.shape)\n",
        "print('X_test_estimated_b', X_test_estimated_b.shape)\n",
        "print('X_test_estimated_c', X_test_estimated_c.shape)\n"
      ]
    },
    {
      "cell_type": "code",
      "execution_count": null,
      "metadata": {
        "id": "vZLEBQuq0Xcf"
      },
      "outputs": [],
      "source": [
        "# Affiche les colonnes de observation et estimated\n",
        "print('X_train_observed_a', X_train_observed_a.columns)\n",
        "print('X_train_estimated_a', X_train_estimated_a.columns)"
      ]
    },
    {
      "cell_type": "code",
      "execution_count": null,
      "metadata": {
        "id": "-0mY5B7z0Xcf"
      },
      "outputs": [],
      "source": [
        "# Récupère mes données de X_train_estimated_a tel que la colonne date_forecast la même que dans X_train_observed_a\n",
        "X_diff_a = X_train_estimated_a[X_train_estimated_a['date_forecast'].isin(X_train_observed_a['date_forecast'])]\n",
        "\n",
        "# Affiche les résultats\n",
        "print('X_diff_a', X_diff_a.shape)\n",
        "\n",
        "# Affiche"
      ]
    },
    {
      "cell_type": "code",
      "execution_count": null,
      "metadata": {
        "id": "wbxoj0L80Xcf"
      },
      "outputs": [],
      "source": [
        "# Afficher le début de la colonne date_forecast de X_train_estimated_a\n",
        "print('X_train_estimated_a', X_train_estimated_a['date_forecast'].head())\n",
        "print('X_train_estimated_a', X_train_estimated_a['date_forecast'].tail())\n",
        "\n",
        "#Afficher la fin de la colonne date_forecast de X_train_observed_a\n",
        "print('X_train_observed_a', X_train_observed_a['date_forecast'].head())\n",
        "print('X_train_observed_a', X_train_observed_a['date_forecast'].tail())\n",
        "\n",
        "print('X_test_estimated_a', X_test_estimated_a['date_forecast'].head())\n",
        "print('X_test_estimated_a', X_test_estimated_a['date_forecast'].tail())"
      ]
    },
    {
      "cell_type": "markdown",
      "metadata": {
        "id": "YOuqt2S7EFdt"
      },
      "source": [
        "# Création du df avec la colonne locatisation"
      ]
    },
    {
      "cell_type": "code",
      "execution_count": null,
      "metadata": {
        "id": "zM85JZGbFYD8"
      },
      "outputs": [],
      "source": [
        "[X_train_estimated_a, X_train_estimated_b, X_train_estimated_c]\n",
        "keys = [1, 2, 3]"
      ]
    },
    {
      "cell_type": "code",
      "execution_count": null,
      "metadata": {
        "id": "usVUnebTFWIS"
      },
      "outputs": [],
      "source": [
        "frames_train_estimated = [X_train_estimated_a, X_train_estimated_b, X_train_estimated_c]\n",
        "X_train_estimated = pd.concat(frames_train_estimated, keys=keys)\n",
        "X_train_estimated.reset_index(level=0, inplace=True, names='location')\n",
        "\n",
        "frames_train_observed = [X_train_observed_a, X_train_observed_b, X_train_observed_c]\n",
        "X_train_observed = pd.concat(frames_train_observed, keys=keys)\n",
        "X_train_observed.reset_index(level=0, inplace=True, names='location')\n",
        "\n",
        "frames_test_estimated = [X_test_estimated_a, X_test_estimated_b, X_test_estimated_c]\n",
        "X_test_estimated = pd.concat(frames_test_estimated, keys=keys)\n",
        "X_test_estimated.reset_index(level=0, inplace=True, names='location')"
      ]
    },
    {
      "cell_type": "code",
      "execution_count": null,
      "metadata": {
        "id": "D9tzVDPVFR4s"
      },
      "outputs": [],
      "source": [
        "X_train_estimated_merged = pd.concat(frames_train_estimated, axis=1)\n",
        "X_train_estimated_merged.reset_index(drop=True, inplace=True)\n",
        "\n",
        "X_train_observed_merged = pd.concat(frames_train_observed, axis=1)\n",
        "X_train_observed_merged.reset_index(drop=True, inplace=True)\n",
        "\n",
        "X_test_estimated_merged = pd.concat(frames_test_estimated, axis=1)\n",
        "X_test_estimated_merged.reset_index(drop=True, inplace=True)"
      ]
    },
    {
      "cell_type": "code",
      "execution_count": null,
      "metadata": {
        "id": "SECLl1j7FNbA"
      },
      "outputs": [],
      "source": [
        "frames = [[X_train_estimated_a, train_a], [X_train_observed_a, train_a.dropna()]]\n",
        "X_train_observed_merged_result = pd.concat(frames[1], axis=0)\n",
        "X_train_observed_merged_result.reset_index(drop=True, inplace=True)"
      ]
    },
    {
      "cell_type": "code",
      "execution_count": null,
      "metadata": {
        "id": "hxupx-2MFHP1"
      },
      "outputs": [],
      "source": [
        "frames_train_estimated = [X_train_estimated_a.drop(columns=[\"date_calc\"]), X_train_observed_a, X_test_estimated_a.drop(columns=[\"date_calc\"])]\n",
        "X_frames_a = pd.concat(frames_train_estimated, keys=keys)\n",
        "X_frames_a.reset_index(level=0, inplace=True, names='frame_type')\n",
        "\n",
        "train_a = train_a.rename(columns={'time': 'date_forecast'})\n",
        "X_y_a = X_frames_a.merge(train_a, on='date_forecast', how='inner')\n",
        "X_y_a.reset_index(drop=True, inplace=True)"
      ]
    },
    {
      "cell_type": "code",
      "execution_count": null,
      "metadata": {
        "colab": {
          "base_uri": "https://localhost:8080/",
          "height": 617
        },
        "id": "PyjMlxaTENys",
        "outputId": "5460f4a8-7cb1-4e3e-8733-52c5f1c30c48"
      },
      "outputs": [],
      "source": [
        "frames_train_estimated = [X_train_estimated_b.drop(columns=[\"date_calc\"]), X_train_observed_b, X_test_estimated_b.drop(columns=[\"date_calc\"])]\n",
        "X_frames_b = pd.concat(frames_train_estimated, keys=keys)\n",
        "X_frames_b.reset_index(level=0, inplace=True, names='frame_type')\n",
        "\n",
        "train_b = train_b.rename(columns={'time': 'date_forecast'})\n",
        "X_y_b = X_frames_b.merge(train_b.dropna(), on='date_forecast', how='inner')\n",
        "X_y_b.reset_index(drop=True, inplace=True)\n",
        "\n",
        "frames_train_estimated = [X_train_estimated_c.drop(columns=[\"date_calc\"]), X_train_observed_c, X_test_estimated_c.drop(columns=[\"date_calc\"])]\n",
        "X_frames_c = pd.concat(frames_train_estimated, keys=keys)\n",
        "X_frames_c.reset_index(level=0, inplace=True, names='frame_type')\n",
        "\n",
        "train_c = train_c.rename(columns={'time': 'date_forecast'})\n",
        "X_y_c = X_frames_c.merge(train_c.dropna(), on='date_forecast', how='inner')\n",
        "X_y_c.reset_index(drop=True, inplace=True)\n",
        "\n",
        "frames_location= [X_y_a, X_y_b, X_y_c]\n",
        "X_y = pd.concat(frames_location, keys=keys)\n",
        "X_y.reset_index(level=0, inplace=True, names='location')\n",
        "X_y"
      ]
    },
    {
      "cell_type": "code",
      "execution_count": null,
      "metadata": {
        "colab": {
          "base_uri": "https://localhost:8080/"
        },
        "id": "Hq8euPW0DXDD",
        "outputId": "efe121c0-7823-48da-f423-c1ad5906b2d2"
      },
      "outputs": [],
      "source": [
        "X_y.dtypes"
      ]
    },
    {
      "cell_type": "code",
      "execution_count": null,
      "metadata": {
        "id": "dlzF74D7PFRu"
      },
      "outputs": [],
      "source": [
        "# Séparation X et y\n",
        "\n",
        "y = X_y[\"pv_measurement\"]\n",
        "X = X_y.drop(\"pv_measurement\",axis=1)"
      ]
    },
    {
      "cell_type": "code",
      "execution_count": null,
      "metadata": {
        "colab": {
          "base_uri": "https://localhost:8080/"
        },
        "id": "-wp8zGxIPWHi",
        "outputId": "0f4a2b9c-6202-4133-f0a6-42fa52e45175"
      },
      "outputs": [],
      "source": [
        "y"
      ]
    },
    {
      "cell_type": "code",
      "execution_count": null,
      "metadata": {
        "colab": {
          "base_uri": "https://localhost:8080/",
          "height": 617
        },
        "id": "Bf4XWSnWPY7T",
        "outputId": "a1919b78-37d0-4793-c004-f0f57042c898"
      },
      "outputs": [],
      "source": [
        "X"
      ]
    },
    {
      "cell_type": "markdown",
      "metadata": {
        "id": "PZzb1JIL5JtB"
      },
      "source": [
        "## Réalisation d'un RandomForest pour classer les variables"
      ]
    },
    {
      "cell_type": "code",
      "execution_count": null,
      "metadata": {
        "id": "R_ekYeK7B_21"
      },
      "outputs": [],
      "source": [
        "from sklearn.preprocessing import StandardScaler"
      ]
    },
    {
      "cell_type": "markdown",
      "metadata": {
        "id": "8QhfSRsSCXel"
      },
      "source": [
        "### Gestion des Nan"
      ]
    },
    {
      "cell_type": "code",
      "execution_count": null,
      "metadata": {
        "id": "OyLWNrowGqUQ"
      },
      "outputs": [],
      "source": [
        "X_copy = X.copy()"
      ]
    },
    {
      "cell_type": "code",
      "execution_count": null,
      "metadata": {
        "id": "r9ecgoOCCZ4d"
      },
      "outputs": [],
      "source": [
        "X_copy_nan = X_copy.dropna(axis=1, how='any')"
      ]
    },
    {
      "cell_type": "code",
      "execution_count": null,
      "metadata": {
        "id": "cC1C6W9oDiAD"
      },
      "outputs": [],
      "source": [
        "X_copy_nan.reset_index(drop=True, inplace=True)"
      ]
    },
    {
      "cell_type": "code",
      "execution_count": null,
      "metadata": {
        "colab": {
          "base_uri": "https://localhost:8080/",
          "height": 617
        },
        "id": "81PKtCpiEGOg",
        "outputId": "a47190d0-3515-4cea-dc3e-53edf7104c1f"
      },
      "outputs": [],
      "source": [
        "X_copy_nan"
      ]
    },
    {
      "cell_type": "code",
      "execution_count": null,
      "metadata": {
        "colab": {
          "base_uri": "https://localhost:8080/"
        },
        "id": "NdRLt5dlLSph",
        "outputId": "f8a5817b-4f33-494e-c695-c624edbb6248"
      },
      "outputs": [],
      "source": [
        "X_copy_nan[('date_forecast')] = X_copy_nan[('date_forecast')].values.astype(\"float64\")"
      ]
    },
    {
      "cell_type": "code",
      "execution_count": null,
      "metadata": {
        "colab": {
          "base_uri": "https://localhost:8080/",
          "height": 444
        },
        "id": "ylHZc1EPLlsR",
        "outputId": "d5d7daec-8bf1-462d-fe7b-3306930de508"
      },
      "outputs": [],
      "source": [
        "X_copy_nan"
      ]
    },
    {
      "cell_type": "markdown",
      "metadata": {
        "id": "mim9mMuxB7tV"
      },
      "source": [
        "\n",
        "### Normalisation\n",
        "---\n",
        "\n"
      ]
    },
    {
      "cell_type": "code",
      "execution_count": null,
      "metadata": {
        "id": "anDoABmdGYxe"
      },
      "outputs": [],
      "source": [
        "def sklearn_z_score_normalize_dataframe(df):\n",
        "    \"\"\"\n",
        "    Normalizes a DataFrame using z-score normalization (mean and standard deviation) from Scikit-Learn.\n",
        "\n",
        "    Parameters:\n",
        "    df (pd.DataFrame): The DataFrame to be normalized.\n",
        "\n",
        "    Returns:\n",
        "    pd.DataFrame: The z-score normalized DataFrame.\n",
        "    \"\"\"\n",
        "    # Create a StandardScaler instance\n",
        "    scaler = StandardScaler()\n",
        "\n",
        "    # Fit the scaler on the DataFrame and transform the data\n",
        "    normalized_data = scaler.fit_transform(df)\n",
        "\n",
        "    # Create a new DataFrame with the scaled data\n",
        "    normalized_df = pd.DataFrame(normalized_data, columns=df.columns)\n",
        "\n",
        "    return normalized_df"
      ]
    },
    {
      "cell_type": "code",
      "execution_count": null,
      "metadata": {
        "id": "RkAL6nnCldVl"
      },
      "outputs": [],
      "source": [
        "def normalize_dataframe(df):\n",
        "    \"\"\"\n",
        "    Normalizes a DataFrame using the min-max scaling method.\n",
        "\n",
        "    Parameters:\n",
        "    df (pd.DataFrame): The DataFrame to be normalized.\n",
        "\n",
        "    Returns:\n",
        "    pd.DataFrame: The normalized DataFrame.\n",
        "    \"\"\"\n",
        "    # Copy the input DataFrame to avoid modifying the original\n",
        "    normalized_df = df.copy()\n",
        "\n",
        "    # Iterate through each numeric column and apply min-max scaling\n",
        "    for column in normalized_df.columns:\n",
        "        if pd.api.types.is_numeric_dtype(normalized_df[column]):\n",
        "            min_val = normalized_df[column].min()\n",
        "            max_val = normalized_df[column].max()\n",
        "            if min_val != max_val:\n",
        "                normalized_df[column] = (normalized_df[column] - min_val) / (max_val - min_val)\n",
        "\n",
        "    return normalized_df"
      ]
    },
    {
      "cell_type": "code",
      "execution_count": null,
      "metadata": {
        "id": "ESMGHzdW5ZK_"
      },
      "outputs": [],
      "source": [
        "X_y_norm = X_copy_nan.copy()\n",
        "X_y_norm = sklearn_z_score_normalize_dataframe(X_y_norm)\n"
      ]
    },
    {
      "cell_type": "code",
      "execution_count": null,
      "metadata": {
        "id": "ivgJqyS9lnWQ"
      },
      "outputs": [],
      "source": [
        "X_y_norm_2 = X_copy_nan.copy()\n",
        "X_y_norm_max = normalize_dataframe(X_y_norm_2)"
      ]
    },
    {
      "cell_type": "code",
      "execution_count": null,
      "metadata": {
        "colab": {
          "base_uri": "https://localhost:8080/",
          "height": 320
        },
        "id": "-TvRjxEMlvz6",
        "outputId": "d15ff22d-7dcc-4a78-cfc7-64593ae6ed50"
      },
      "outputs": [],
      "source": [
        "X_y_norm_max.describe()"
      ]
    },
    {
      "cell_type": "code",
      "execution_count": null,
      "metadata": {
        "colab": {
          "base_uri": "https://localhost:8080/",
          "height": 407
        },
        "id": "9R5odoClDZ8L",
        "outputId": "ce8bc1b3-cb42-4534-e690-1e7bae82a8b4"
      },
      "outputs": [],
      "source": [
        "X_y_norm.describe()"
      ]
    },
    {
      "cell_type": "markdown",
      "metadata": {
        "id": "uxlUGQkwP4Bp"
      },
      "source": [
        "## Réalisation du Random Forest"
      ]
    },
    {
      "cell_type": "code",
      "execution_count": null,
      "metadata": {
        "id": "ezc6dhi3Pxe7"
      },
      "outputs": [],
      "source": [
        "from sklearn.ensemble import RandomForestRegressor\n",
        "from sklearn.model_selection import train_test_split\n",
        "from sklearn.metrics import mean_squared_error"
      ]
    },
    {
      "cell_type": "code",
      "execution_count": null,
      "metadata": {
        "id": "7tlUZ4PKCXAi"
      },
      "outputs": [],
      "source": [
        "def build_model(X_train, y_train, X_test, y_test, n_estimators=100, max_depth=10, random_state=42):\n",
        "    model = RandomForestRegressor(n_estimators=n_estimators, max_depth=max_depth, random_state=random_state)\n",
        "    model.fit(X_train, y_train)\n",
        "    y_pred = model.predict(X_test)\n",
        "    return model, y_pred, y_test"
      ]
    },
    {
      "cell_type": "code",
      "execution_count": null,
      "metadata": {
        "id": "lThN07JaCaH1"
      },
      "outputs": [],
      "source": [
        "def plot_feature_importances(model, X):\n",
        "    plt.figure(figsize=(10, 10))\n",
        "    plt.barh(X.columns, model.feature_importances_)"
      ]
    },
    {
      "cell_type": "code",
      "execution_count": null,
      "metadata": {
        "id": "ycCFlcF0Cvhu"
      },
      "outputs": [],
      "source": [
        "def analyse_model(y_pred, y_test):\n",
        "    rmse = mean_squared_error(y_test, y_pred, squared=False)\n",
        "    print(f\"RMSE: {rmse}\")\n",
        "    plt.figure(figsize=(10, 10))\n",
        "    plt.scatter(y_test, y_pred)\n",
        "    plt.plot([0, 1], [0, 1], color='red')\n",
        "    plt.xlabel('y_test')\n",
        "    plt.ylabel('y_pred')"
      ]
    },
    {
      "cell_type": "code",
      "execution_count": null,
      "metadata": {
        "id": "3sOYH45PCcJK"
      },
      "outputs": [],
      "source": [
        "model, y_pred, y_test = build_model(X_y_norm_max,y,     ,       ,n_estimators=50, max_depth=15)"
      ]
    },
    {
      "cell_type": "code",
      "execution_count": null,
      "metadata": {
        "colab": {
          "base_uri": "https://localhost:8080/",
          "height": 867
        },
        "id": "38oe-L8HCj7C",
        "outputId": "d7527266-7ce0-46d5-d0d4-9319934feecc"
      },
      "outputs": [],
      "source": [
        "analyse_model(y_pred, y_test)"
      ]
    },
    {
      "cell_type": "code",
      "execution_count": null,
      "metadata": {
        "colab": {
          "base_uri": "https://localhost:8080/",
          "height": 830
        },
        "id": "YG-eTODTC81j",
        "outputId": "7f9d43f3-46be-4177-b461-43139b081bc9"
      },
      "outputs": [],
      "source": [
        "plot_feature_importances(model, X_y_norm)"
      ]
    },
    {
      "cell_type": "markdown",
      "metadata": {
        "id": "ZMiNfLrxFH5g"
      },
      "source": [
        "## Ajout d'un polynomial feature avant normalisation\n"
      ]
    },
    {
      "cell_type": "code",
      "execution_count": null,
      "metadata": {
        "id": "wq8qZLUrFLfv"
      },
      "outputs": [],
      "source": [
        "from sklearn.preprocessing import PolynomialFeatures"
      ]
    },
    {
      "cell_type": "code",
      "execution_count": null,
      "metadata": {
        "id": "0k4HvLGoFNSA"
      },
      "outputs": [],
      "source": [
        "def add_polynomial_feature(X, degree=2):\n",
        "    poly = PolynomialFeatures(degree=degree, include_bias=False)\n",
        "    X_poly = poly.fit_transform(X)\n",
        "\n",
        "    # Obtenir les noms des colonnes d'origine\n",
        "    orig_column_names = X.columns.tolist()\n",
        "\n",
        "    # Générer les noms des nouvelles colonnes en concaténant les noms d'origine\n",
        "    new_column_names = []\n",
        "    for i in range(X_poly.shape[1]):\n",
        "        feature_name = ''\n",
        "        for j in range(len(orig_column_names)):\n",
        "            if X_poly[0][i] == 1:  # Ne pas ajouter 'X' pour les colonnes constantes\n",
        "                feature_name += '1'\n",
        "            else:\n",
        "                feature_name += orig_column_names[j] + '^' + str(int(X_poly[0][i]))\n",
        "            if j < len(orig_column_names) - 1:\n",
        "                feature_name += '_'\n",
        "        new_column_names.append(feature_name)\n",
        "\n",
        "    X_poly = pd.DataFrame(X_poly, columns=new_column_names)\n",
        "\n",
        "    return X_poly"
      ]
    },
    {
      "cell_type": "code",
      "execution_count": null,
      "metadata": {
        "id": "7ktGkEcrFOja"
      },
      "outputs": [],
      "source": [
        "X_deg_2 = add_polynomial_feature(X_copy_nan, degree=2)\n",
        "X_deg_2 = sklearn_z_score_normalize_dataframe(X_deg_2)"
      ]
    },
    {
      "cell_type": "markdown",
      "metadata": {
        "id": "EmUie4ACwPi-"
      },
      "source": [
        "## Test sur les localisations indépendantes :"
      ]
    },
    {
      "cell_type": "code",
      "execution_count": null,
      "metadata": {
        "id": "IFukC25pwTKU"
      },
      "outputs": [],
      "source": [
        "# Extraction d'une localisation"
      ]
    },
    {
      "cell_type": "code",
      "execution_count": null,
      "metadata": {
        "id": "pWFqV6-MwWD_"
      },
      "outputs": [],
      "source": [
        "X_a = X_y[X_y[\"location\"] == 1]"
      ]
    },
    {
      "cell_type": "code",
      "execution_count": null,
      "metadata": {
        "colab": {
          "base_uri": "https://localhost:8080/",
          "height": 320
        },
        "id": "lzYefXcqxOay",
        "outputId": "df9200d0-da9a-4844-e879-c87a23628306"
      },
      "outputs": [],
      "source": [
        "X_a.describe()"
      ]
    },
    {
      "cell_type": "code",
      "execution_count": null,
      "metadata": {
        "id": "M61ejYKNyhHa"
      },
      "outputs": [],
      "source": [
        "test_size = int(0.2 * len(X_a))\n",
        "X_train_a = X_a.iloc[:-test_size]\n",
        "X_test_a = X_a.iloc[-test_size:]"
      ]
    },
    {
      "cell_type": "code",
      "execution_count": null,
      "metadata": {
        "id": "ihwelN51yy3C"
      },
      "outputs": [],
      "source": [
        "# Preprocessing :\n",
        "def preprocessing(df):\n",
        "  # gestion des Nan\n",
        "  df = df.dropna(axis=1, how='any')\n",
        "  # gestion index\n",
        "  df.reset_index(drop=True, inplace=True)\n",
        "  # gestion type de la date\n",
        "  print(df.dtypes)\n",
        "  df[('date_forecast')] = df[('date_forecast')].values.astype(\"float64\")\n",
        "  # separation en X et y\n",
        "  y = df['pv_measurement']\n",
        "  X = df.drop(['pv_measurement'],axis=1)\n",
        "  # normalisation de X\n",
        "  X = sklearn_z_score_normalize_dataframe(X) # moyenne std\n",
        "  #X = normalize_dataframe(X) # min max\n",
        "  return X,y\n"
      ]
    },
    {
      "cell_type": "code",
      "execution_count": null,
      "metadata": {
        "colab": {
          "base_uri": "https://localhost:8080/"
        },
        "id": "BPxtw4TVzoPM",
        "outputId": "87ada760-3bb4-4d60-9755-f88c9a1e3699"
      },
      "outputs": [],
      "source": [
        "X_train_a_preprocessed_base = X_train_a.copy()\n",
        "X_test_a_preprocessed_base = X_test_a.copy()\n",
        "\n",
        "X_train_a_preprocessed , y_train_a= preprocessing(X_train_a_preprocessed_base)\n",
        "X_test_a_preprocessed , y_test_a = preprocessing(X_test_a_preprocessed_base)"
      ]
    },
    {
      "cell_type": "code",
      "execution_count": null,
      "metadata": {
        "colab": {
          "base_uri": "https://localhost:8080/",
          "height": 407
        },
        "id": "E-gXxVOJz7jK",
        "outputId": "e6ffa10c-a070-4274-ccb7-ccf66d03b23c"
      },
      "outputs": [],
      "source": [
        "X_train_a_preprocessed.describe()"
      ]
    },
    {
      "cell_type": "code",
      "execution_count": null,
      "metadata": {
        "id": "25h05qtg3Bgf"
      },
      "outputs": [],
      "source": [
        "model, y_pred, y_test = build_model(X_train_a_preprocessed,y_train_a,X_test_a_preprocessed,y_test_a,n_estimators=150, max_depth=15)"
      ]
    },
    {
      "cell_type": "code",
      "execution_count": null,
      "metadata": {
        "colab": {
          "base_uri": "https://localhost:8080/",
          "height": 867
        },
        "id": "PdRS-3ti3cTo",
        "outputId": "5c946b79-ea39-4a73-aa53-82d65b15a8ed"
      },
      "outputs": [],
      "source": [
        "analyse_model(y_pred, y_test)"
      ]
    },
    {
      "cell_type": "code",
      "execution_count": null,
      "metadata": {
        "colab": {
          "base_uri": "https://localhost:8080/",
          "height": 830
        },
        "id": "8o7iGDTD3gF7",
        "outputId": "4d3c35fa-7858-4fe7-9648-8a83e33c4528"
      },
      "outputs": [],
      "source": [
        "plot_feature_importances(model, X_train_a_preprocessed)"
      ]
    },
    {
      "cell_type": "markdown",
      "metadata": {
        "id": "M5W0LOe_vuNP"
      },
      "source": [
        "## Remarques :"
      ]
    },
    {
      "cell_type": "markdown",
      "metadata": {
        "id": "C19DZ9gVoewE"
      },
      "source": [
        "**Attention** : pour le rendu, on demande à des dates dans le futur. Il faut donc que le modèle prenne en compte les aspects chronologiques. Un simple random Forest ne suffit pas forcément , il faut faire attention à la séparation train test !!!\n",
        "\n",
        "\n",
        "**Autres** : pour que le modèle comprenne les relations temporels, faire potentiellement 3 modèle différents !"
      ]
    },
    {
      "cell_type": "markdown",
      "metadata": {
        "id": "NG9Js2hj89xu"
      },
      "source": [
        "# Code pour traiter et générer le fichier à déposer sur Kagle"
      ]
    },
    {
      "cell_type": "code",
      "execution_count": null,
      "metadata": {
        "id": "NlRr4iYV89Ux"
      },
      "outputs": [],
      "source": [
        "# Lecture du fichier test\n",
        "test = pd.read_csv('/content/drive/MyDrive/EcolesIngenieur/NTNU/MachineLearning/GroupWork/test.csv')\n",
        "test.rename(columns={'time': 'date_forecast'}, inplace=True)\n",
        "\n",
        "# Lecture du fichier à rendre\n",
        "sample_submission = pd.read_csv('/content/drive/MyDrive/EcolesIngenieur/NTNU/MachineLearning/GroupWork/sample_submission.csv')"
      ]
    },
    {
      "cell_type": "code",
      "execution_count": null,
      "metadata": {
        "colab": {
          "base_uri": "https://localhost:8080/"
        },
        "id": "x-mqDUAu_9LL",
        "outputId": "f307afe1-87ec-4182-9ac1-5d0805590806"
      },
      "outputs": [],
      "source": [
        "test.shape"
      ]
    },
    {
      "cell_type": "code",
      "execution_count": null,
      "metadata": {
        "id": "0nSFoevkIGfV"
      },
      "outputs": [],
      "source": [
        "test[\"date_forecast\"] = pd.to_datetime(test[\"date_forecast\"])"
      ]
    },
    {
      "cell_type": "code",
      "execution_count": null,
      "metadata": {
        "colab": {
          "base_uri": "https://localhost:8080/"
        },
        "id": "EjcBGRSNIPJI",
        "outputId": "9417e9cf-0bf9-4e4d-d2d8-3ffbbf307975"
      },
      "outputs": [],
      "source": [
        "test.dtypes"
      ]
    },
    {
      "cell_type": "code",
      "execution_count": null,
      "metadata": {
        "colab": {
          "base_uri": "https://localhost:8080/"
        },
        "id": "bACzaFoyAATN",
        "outputId": "e372d49b-ed70-4f08-f518-150f7de567fc"
      },
      "outputs": [],
      "source": [
        "X_test_estimated_a[\"date_forecast\"]"
      ]
    },
    {
      "cell_type": "code",
      "execution_count": null,
      "metadata": {
        "colab": {
          "base_uri": "https://localhost:8080/",
          "height": 791
        },
        "id": "ssMlfD0T_OaN",
        "outputId": "6846ba20-b1ab-47b7-8b90-04511a3f37cf"
      },
      "outputs": [],
      "source": [
        "# Lecture des données météo associée :\n",
        "merged_df_a = pd.merge(X_test_estimated_a, test, on='date_forecast', how='inner')\n",
        "merged_df_a\n"
      ]
    },
    {
      "cell_type": "code",
      "execution_count": null,
      "metadata": {
        "id": "2_193vjq-kRP"
      },
      "outputs": [],
      "source": [
        "# Example, let the predictions be random values\n",
        "test['prediction'] = np.random.rand(len(test))\n",
        "sample_submission = sample_submission[['id']].merge(test[['id', 'prediction']], on='id', how='left')\n",
        "sample_submission.to_csv('my_first_submission.csv', index=False)"
      ]
    }
  ],
  "metadata": {
    "accelerator": "GPU",
    "colab": {
      "collapsed_sections": [
        "dUOGrNvsOflF",
        "6uDclMjaOcEe",
        "WcyzG-y2OteL"
      ],
      "gpuType": "T4",
      "provenance": []
    },
    "kernelspec": {
      "display_name": "mlsolar",
      "language": "python",
      "name": "mlsolar"
    },
    "language_info": {
      "codemirror_mode": {
        "name": "ipython",
        "version": 3
      },
      "file_extension": ".py",
      "mimetype": "text/x-python",
      "name": "python",
      "nbconvert_exporter": "python",
      "pygments_lexer": "ipython3",
      "version": "3.10.11"
    }
  },
  "nbformat": 4,
  "nbformat_minor": 0
}
