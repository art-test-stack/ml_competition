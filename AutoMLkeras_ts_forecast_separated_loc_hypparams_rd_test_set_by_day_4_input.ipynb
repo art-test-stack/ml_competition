{
  "cells": [
    {
      "cell_type": "code",
      "execution_count": 2,
      "metadata": {
        "colab": {
          "base_uri": "https://localhost:8080/"
        },
        "id": "D8J4eNw8to8q",
        "outputId": "c940eb4c-54df-493d-9e64-02944d68c265"
      },
      "outputs": [],
      "source": [
        "# from google.colab import drive\n",
        "# drive.mount('/content/drive/')"
      ]
    },
    {
      "cell_type": "code",
      "execution_count": 3,
      "metadata": {
        "id": "xyUFazkBu4_S"
      },
      "outputs": [],
      "source": [
        "import os\n",
        "import pandas as pd\n",
        "import numpy as np\n",
        "import matplotlib.pylab as plt\n",
        "import seaborn as sns\n",
        "from tqdm import tqdm\n",
        "import networkx as nx\n",
        "import scipy\n",
        "import json\n",
        "import sys\n",
        "path = ''\n",
        "sys.path.append(path)\n",
        "import utils\n",
        "import settings\n",
        "import pickle\n",
        "from sklearn.preprocessing import StandardScaler, Normalizer, RobustScaler, MinMaxScaler\n",
        "from sklearn.model_selection import train_test_split\n",
        "\n",
        "pd.set_option('display.max_rows', 200)\n",
        "pd.set_option('display.max_columns', 200)"
      ]
    },
    {
      "cell_type": "code",
      "execution_count": 4,
      "metadata": {
        "id": "TkJVCDaBvEUt"
      },
      "outputs": [],
      "source": [
        "def save(nom,model):\n",
        "  # Enregistrez le modele (ML/scaler/autre) dans un fichier\n",
        "  with open(nom+'.pkl', 'wb') as f:\n",
        "      pickle.dump(model, f)"
      ]
    },
    {
      "cell_type": "code",
      "execution_count": 5,
      "metadata": {
        "id": "VlShtaIBvGei"
      },
      "outputs": [],
      "source": [
        "def f_open(chemin):\n",
        "  with open(chemin, 'rb') as f:\n",
        "    modele = pickle.load(f)\n",
        "  return modele"
      ]
    },
    {
      "cell_type": "markdown",
      "metadata": {},
      "source": [
        "# Hyper params"
      ]
    },
    {
      "cell_type": "code",
      "execution_count": 6,
      "metadata": {},
      "outputs": [],
      "source": [
        "train_delta_t = 0\n",
        "max_depth = 4\n",
        "eval_metric = 'rmse'\n",
        "n_estimators = 10000\n",
        "scaler_name = 'MinMaxScaler'\n",
        "scaler_a = MinMaxScaler()\n",
        "scaler_b = MinMaxScaler()\n",
        "scaler_c = MinMaxScaler()\n",
        "random_state = 42\n",
        "submission_path = 'sub_4_inputs/'\n",
        "test_set_param = 'basic'"
      ]
    },
    {
      "cell_type": "code",
      "execution_count": 7,
      "metadata": {
        "id": "EJEI78QVvMHt"
      },
      "outputs": [],
      "source": [
        "path = path\n",
        "train_a, train_b, train_c, X_train_estimated_a, X_train_estimated_b, X_train_estimated_c, X_train_observed_a, X_train_observed_b, X_train_observed_c, X_test_estimated_a, X_test_estimated_b, X_test_estimated_c = utils.read_files(diff_path=path)\n",
        "test = pd.read_csv(path+\"test.csv\")\n",
        "sample_submission = pd.read_csv(path+\"sample_submission.csv\")"
      ]
    },
    {
      "cell_type": "code",
      "execution_count": 8,
      "metadata": {},
      "outputs": [],
      "source": [
        "X_train_estimated_a, X_train_estimated_b, X_train_estimated_c, X_train_observed_a, X_train_observed_b, X_train_observed_c, X_test_estimated_a, X_test_estimated_b, X_test_estimated_c = utils.get_reshaped_files3()"
      ]
    },
    {
      "cell_type": "code",
      "execution_count": 9,
      "metadata": {},
      "outputs": [],
      "source": [
        "def clean_reshaped_data(df: pd.DataFrame):\n",
        "    columns_to_drop = ['date_forecast_1', 'date_forecast_2', 'date_forecast_0']\n",
        "    df_cleaned = df.copy()\n",
        "    df_cleaned.rename(columns={'date_forecast_3': 'date_forecast'}, inplace=True)\n",
        "    df_cleaned = df_cleaned.drop(columns=columns_to_drop)\n",
        "    df_cleaned['date_forecast'] = df_cleaned['date_forecast'] # + pd.Timedelta(hours=1)\n",
        "    return df_cleaned"
      ]
    },
    {
      "cell_type": "code",
      "execution_count": 10,
      "metadata": {},
      "outputs": [],
      "source": [
        "X_train_estimated_a = clean_reshaped_data(X_train_estimated_a)\n",
        "X_train_estimated_b = clean_reshaped_data(X_train_estimated_b)\n",
        "X_train_estimated_c = clean_reshaped_data(X_train_estimated_c)\n",
        "X_train_observed_a = clean_reshaped_data(X_train_observed_a)\n",
        "X_train_observed_b = clean_reshaped_data(X_train_observed_b)\n",
        "X_train_observed_c = clean_reshaped_data(X_train_observed_c)\n",
        "X_test_estimated_a = clean_reshaped_data(X_test_estimated_a)\n",
        "X_test_estimated_b = clean_reshaped_data(X_test_estimated_b)\n",
        "X_test_estimated_c = clean_reshaped_data(X_test_estimated_c)"
      ]
    },
    {
      "cell_type": "code",
      "execution_count": 11,
      "metadata": {},
      "outputs": [],
      "source": [
        "X_train_estimated_b['date_forecast'] = X_train_estimated_b['date_forecast']+ pd.Timedelta(minutes=15)"
      ]
    },
    {
      "cell_type": "markdown",
      "metadata": {},
      "source": [
        "# B and C clean up"
      ]
    },
    {
      "cell_type": "code",
      "execution_count": 12,
      "metadata": {},
      "outputs": [],
      "source": [
        "def filter_dates_when_constants(df, date_c = 'time', y = 'pv_measurement', delta = { 'days': 3 }):\n",
        "    df = df.copy()\n",
        "    mask_y_change = df[y] != df[y].shift(1)\n",
        "\n",
        "    start_date = None\n",
        "    end_date = None\n",
        "\n",
        "    constant_periods = []\n",
        "\n",
        "    for index, row in df.iterrows():\n",
        "        if not mask_y_change[index]:\n",
        "            if start_date is None:\n",
        "                start_date = row[date_c]\n",
        "            end_date = row[date_c]\n",
        "        else:\n",
        "            if start_date is not None and (end_date - start_date) >= pd.Timedelta(**delta):\n",
        "                constant_periods.append((start_date, end_date))\n",
        "            start_date = None\n",
        "            end_date = None\n",
        "\n",
        "    if start_date is not None and (end_date - start_date) >= pd.Timedelta(**delta):\n",
        "        constant_periods.append((start_date, end_date))\n",
        "    return constant_periods"
      ]
    },
    {
      "cell_type": "code",
      "execution_count": 13,
      "metadata": {},
      "outputs": [],
      "source": [
        "def delete_date_range_from_df(df, dates, date_c = 'time'):\n",
        "    df = df.copy()\n",
        "    c = 0\n",
        "    for start_date, end_date in dates:\n",
        "        mask = (df[date_c] >= start_date) & (df[date_c] < end_date)\n",
        "        df = df[~mask]\n",
        "    df.reset_index(drop=True, inplace=True)\n",
        "    return df"
      ]
    },
    {
      "cell_type": "code",
      "execution_count": 14,
      "metadata": {},
      "outputs": [],
      "source": [
        "delta = { 'hours': 12 * 5}\n",
        "train_a = delete_date_range_from_df(train_a, filter_dates_when_constants(train_a, delta=delta))\n",
        "train_b = delete_date_range_from_df(train_b, filter_dates_when_constants(train_b, delta=delta))\n",
        "train_c = delete_date_range_from_df(train_c, filter_dates_when_constants(train_c, delta=delta))"
      ]
    },
    {
      "cell_type": "code",
      "execution_count": 15,
      "metadata": {},
      "outputs": [],
      "source": [
        "delta_title = str(train_delta_t)\n",
        "delta_h = pd.Timedelta(minutes=train_delta_t)\n",
        "train_a['date_forecast'] = train_a['time'] - delta_h\n",
        "train_b['date_forecast'] = train_b['time'] - delta_h\n",
        "train_c['date_forecast'] = train_c['time'] - delta_h"
      ]
    },
    {
      "cell_type": "markdown",
      "metadata": {
        "id": "KxAteBV8PYeY"
      },
      "source": [
        "# Réorganisation des df :"
      ]
    },
    {
      "cell_type": "code",
      "execution_count": 16,
      "metadata": {
        "id": "5toXOJy4kFqf"
      },
      "outputs": [],
      "source": [
        "# observed + estimated\n",
        "X_total_a = pd.concat([X_train_observed_a,X_train_estimated_a])\n",
        "X_total_b = pd.concat([X_train_observed_b,X_train_estimated_b])\n",
        "X_total_c = pd.concat([X_train_observed_c,X_train_estimated_c])"
      ]
    },
    {
      "cell_type": "markdown",
      "metadata": {
        "id": "OF3JN3oIlreX"
      },
      "source": [
        "Attention, il faut penser à revoir les valeurs météo et pv de estimated !!!"
      ]
    },
    {
      "cell_type": "markdown",
      "metadata": {
        "id": "3gri4yq2s749"
      },
      "source": [
        "# Changement nom time dans les train"
      ]
    },
    {
      "cell_type": "code",
      "execution_count": 18,
      "metadata": {
        "id": "c6egYZKNs6-d"
      },
      "outputs": [],
      "source": [
        "# train_a.rename(columns={'time': 'date_forecast'}, inplace=True) #pour faire le merge\n",
        "# train_b.rename(columns={'time': 'date_forecast'}, inplace=True) #pour faire le merge\n",
        "# train_c.rename(columns={'time': 'date_forecast'}, inplace=True) #pour faire le merge\n",
        "# test.rename(columns={'time': 'date_forecast'}, inplace=True)\n",
        "train_a, train_b, train_c = train_a.drop(columns='time'), train_b.drop(columns='time'), train_c.drop(columns='time')\n",
        "train_a.dropna(subset=['pv_measurement'], inplace=True)  #Supprime les lignes vides\n",
        "train_b.dropna(subset=['pv_measurement'], inplace=True)  #Supprime les lignes vides\n",
        "train_c.dropna(subset=['pv_measurement'], inplace=True)  #Supprime les lignes vides"
      ]
    },
    {
      "cell_type": "markdown",
      "metadata": {
        "id": "Kye01adKsBSE"
      },
      "source": [
        "# Correspondance X et y :"
      ]
    },
    {
      "cell_type": "markdown",
      "metadata": {
        "id": "NvWmIBTEsFcs"
      },
      "source": [
        "Ici nous avons plusieurs choix :    \n",
        "- matcher directement sur dateforcast\n",
        "- matcher sur dateforcast et résumer nos variables météo en moyenne et écart type\n",
        "- matcher sur un autre créneau (peut être fais sur des variables spécifique !)"
      ]
    },
    {
      "cell_type": "markdown",
      "metadata": {
        "id": "ovYZlj3Ksaci"
      },
      "source": [
        "Dans un premier temps on fera directement sur dateforcast"
      ]
    },
    {
      "cell_type": "code",
      "execution_count": 19,
      "metadata": {
        "id": "w7gHKkBosZst"
      },
      "outputs": [],
      "source": [
        "X_total_a_y = pd.merge(X_total_a, train_a, on='date_forecast', how='inner')\n",
        "X_total_b_y = pd.merge(X_total_b, train_b, on='date_forecast', how='inner')\n",
        "X_total_c_y = pd.merge(X_total_c, train_c, on='date_forecast', how='inner')"
      ]
    },
    {
      "cell_type": "code",
      "execution_count": 20,
      "metadata": {},
      "outputs": [],
      "source": [
        "def gestion_nan(df):\n",
        "  df_copy = df.copy()\n",
        "  #delete of the snow density column\n",
        "  df_copy = df_copy.drop('snow_density:kgm3',axis=1)\n",
        "  # Approximation of the other two columns\n",
        "  df_copy['ceiling_height_agl:m'] = df_copy['ceiling_height_agl:m'].interpolate(method='linear', limit_direction='both')\n",
        "  df_copy['cloud_base_agl:m'] = df_copy['cloud_base_agl:m'].interpolate(method='linear', limit_direction='both')\n",
        "  return df_copy"
      ]
    },
    {
      "cell_type": "code",
      "execution_count": 21,
      "metadata": {
        "id": "s-sP7k-TTLN2"
      },
      "outputs": [],
      "source": [
        "def gestion_nan(df):\n",
        "  df_copy = df.copy()\n",
        "  snow_density = [ f'snow_density:kgm3_{k}' for k in range(4) ]\n",
        "  #delete of the snow density column\n",
        "  for k in range(4): \n",
        "    df_copy = df_copy.drop(snow_density[k],axis=1)\n",
        "  # Approximation of the other two columns\n",
        "    df_copy[f'ceiling_height_agl:m_{k}'] = df_copy[f'ceiling_height_agl:m_{k}'].interpolate(method='linear', limit_direction='both')\n",
        "    df_copy[f'cloud_base_agl:m_{k}'] = df_copy[f'cloud_base_agl:m_{k}'].interpolate(method='linear', limit_direction='both')\n",
        "  return df_copy"
      ]
    },
    {
      "cell_type": "code",
      "execution_count": 22,
      "metadata": {
        "id": "COlGJ5ATU8st"
      },
      "outputs": [],
      "source": [
        "X_train_observed_a_nan = gestion_nan(X_train_observed_a)"
      ]
    },
    {
      "cell_type": "markdown",
      "metadata": {
        "id": "yFQ4yv46wlMA"
      },
      "source": [
        "# Traitement des df + séparation train/test"
      ]
    },
    {
      "cell_type": "markdown",
      "metadata": {
        "id": "LVSQrEZNxJNU"
      },
      "source": [
        "## Séparation train/test"
      ]
    },
    {
      "cell_type": "markdown",
      "metadata": {
        "id": "8Rh-BL2-myEh"
      },
      "source": [
        "A la fin on va projeter à partir de donnée météo estimer sur un periode non rencontré.\n",
        "\n",
        "On va donc séparer notre train/test sur les même conditions, à savoir que le test sera issue de estimated. Il ne reste qu'à fixer la date à partir de laquelle on fait la séparation.\n",
        "\n",
        "L'objectif est aussi d'avoir de l'estimated dans l'entrainement pour prendre en compte la différence entre observed et estimated qui devra être régler plus tard."
      ]
    },
    {
      "cell_type": "code",
      "execution_count": 23,
      "metadata": {
        "colab": {
          "base_uri": "https://localhost:8080/"
        },
        "id": "otDF8xN6m07V",
        "outputId": "c3a94cb4-ac54-4c7f-fc85-40548e15cbcd"
      },
      "outputs": [
        {
          "name": "stdout",
          "output_type": "stream",
          "text": [
            "30904\n",
            "4577\n",
            "0.12899861897917195\n"
          ]
        }
      ],
      "source": [
        "print(len(X_train_observed_a))\n",
        "print(len(X_train_estimated_a))\n",
        "print(len(X_train_estimated_a)/(len(X_train_estimated_a)+len(X_train_observed_a)))"
      ]
    },
    {
      "cell_type": "code",
      "execution_count": 24,
      "metadata": {
        "id": "vpzCuuBVXkZb"
      },
      "outputs": [],
      "source": [
        "X_total_a_y_nan = gestion_nan(X_total_a_y)\n",
        "X_total_b_y_nan = gestion_nan(X_total_b_y)\n",
        "X_total_c_y_nan = gestion_nan(X_total_c_y)"
      ]
    },
    {
      "cell_type": "code",
      "execution_count": 25,
      "metadata": {},
      "outputs": [],
      "source": [
        "split_date_a = X_train_estimated_a['date_forecast'].quantile(0.25)\n",
        "split_date_b = X_train_estimated_b['date_forecast'].quantile(0.25)\n",
        "split_date_c = X_train_estimated_c['date_forecast'].quantile(0.25)"
      ]
    },
    {
      "cell_type": "code",
      "execution_count": 26,
      "metadata": {},
      "outputs": [],
      "source": [
        "split_date_a = pd.to_datetime(\"2021-04-15\")\n",
        "split_date2_a = pd.to_datetime(\"2021-08-15\")\n",
        "\n",
        "split_date_b = pd.to_datetime(\"2019-04-15\")\n",
        "split_date2_b = pd.to_datetime(\"2019-08-15\")\n",
        "\n",
        "split_date_c = pd.to_datetime(\"2021-04-15\")\n",
        "split_date2_c = pd.to_datetime(\"2021-08-15\")"
      ]
    },
    {
      "cell_type": "code",
      "execution_count": 27,
      "metadata": {},
      "outputs": [],
      "source": [
        "start_2019 = pd.to_datetime(\"2019-04-21\")\n",
        "end_2019 = pd.to_datetime(\"2019-07-22\")\n",
        "\n",
        "start_2020 = pd.to_datetime(\"2020-04-21\")\n",
        "end_2020 = pd.to_datetime(\"2020-07-22\")\n",
        "\n",
        "start_2021 = pd.to_datetime(\"2021-04-21\")\n",
        "end_2021 = pd.to_datetime(\"2021-07-22\")\n",
        "\n",
        "start_2022 = pd.to_datetime(\"2022-04-21\")\n",
        "end_2022 = pd.to_datetime(\"2022-07-22\")"
      ]
    },
    {
      "cell_type": "code",
      "execution_count": 28,
      "metadata": {},
      "outputs": [],
      "source": [
        "def create_mask_for_split_training_and_testing(df, start_estimated, time_column = 'date_forecast'):\n",
        "    mask_2019 = ((df[time_column] >= start_2019) & (df[time_column] < end_2019))\n",
        "    mask_2020 = ((df[time_column] >= start_2020) & (df[time_column] < end_2020))\n",
        "    mask_2021 = ((df[time_column] >= start_2021) & (df[time_column] < end_2021))\n",
        "    mask_2022 = ((df[time_column] >= start_2022) & (df[time_column] < end_2022))\n",
        "    mask_estimated = (df[time_column] >= start_estimated)\n",
        "    return mask_2019, mask_2020, mask_2021, mask_2022,mask_estimated"
      ]
    },
    {
      "cell_type": "code",
      "execution_count": 29,
      "metadata": {},
      "outputs": [],
      "source": [
        "def split_training_testing_set_on_test_set_dates():\n",
        "    quantile = .25\n",
        "    pv_train_a = X_total_a_y_nan[X_total_a_y_nan['date_forecast'] <= X_train_estimated_a['date_forecast'].quantile(quantile)].copy()\n",
        "    pv_test_a = X_total_a_y_nan[X_total_a_y_nan['date_forecast'] > X_train_estimated_a['date_forecast'].quantile(quantile)].copy()\n",
        "\n",
        "    pv_train_b = X_total_b_y_nan[X_total_b_y_nan['date_forecast'] <= X_train_estimated_b['date_forecast'].quantile(quantile)].copy()\n",
        "    pv_test_b = X_total_b_y_nan[X_total_b_y_nan['date_forecast'] > X_train_estimated_b['date_forecast'].quantile(quantile)].copy()\n",
        "\n",
        "    pv_train_c = X_total_c_y_nan[X_total_c_y_nan['date_forecast'] <= X_train_estimated_c['date_forecast'].quantile(quantile)].copy()\n",
        "    pv_test_c = X_total_c_y_nan[X_total_c_y_nan['date_forecast'] > X_train_estimated_c['date_forecast'].quantile(quantile)].copy() \n",
        "    return pv_train_a, pv_test_a, pv_train_b, pv_test_b, pv_train_c, pv_test_c"
      ]
    },
    {
      "cell_type": "code",
      "execution_count": 30,
      "metadata": {},
      "outputs": [],
      "source": [
        "def split_training_testing_set(df, start_estimated, random_state=42, test_size = .1, time_column = 'date_forecast'):\n",
        "    df_to_split = df.copy()\n",
        "    mask_2019, mask_2020, mask_2021, mask_2022, mask_estimated = create_mask_for_split_training_and_testing(df_to_split, start_estimated)\n",
        "\n",
        "    df_summers = df_to_split[mask_2019 | mask_2020 | mask_2021 | mask_2022]\n",
        "    df_estimated = df_to_split[mask_estimated]\n",
        "    print(len(df_estimated))\n",
        "    df_not_summer = df_to_split[~(mask_2019 | mask_2020 | mask_2021 | mask_2022 | mask_estimated)]\n",
        "\n",
        "    # test_size_summer = test_size * (len(df_summers) + len(df_not_summer) + len(df_estimated)) / (len(df_summers) + len(df_estimated))\n",
        "    # test_size_estimated = test_size * (len(df_summers) + len(df_not_summer) + len(df_estimated)) / (len(df_summers) + len(df_estimated))\n",
        "\n",
        "    test_size_estimated = 0.8\n",
        "    test_size_summer = ( test_size * (len(df_summers) + len(df_not_summer) + len(df_estimated)) - test_size_estimated * len(df_estimated) ) / len(df_summers)\n",
        "    # test_size_summer = ( test_size * (len(df_summers) + len(df_not_summer) + len(df_estimated)) - test_size_estimated * len(df_estimated) ) / len(df_summers)\n",
        "    # test_size_estimated = 1 - test_size_summer\n",
        "    # train_data_summer, pv_test_not_ordered = train_test_split(df_summers, test_size=test_size, random_state=random_state)\n",
        "\n",
        "    unique_dates_summer = df_summers[time_column].dt.date.unique()\n",
        "    unique_dates_estimated = df_summers[time_column].dt.date.unique()\n",
        "\n",
        "    train_dates_summer, test_dates_summer = train_test_split(unique_dates_summer, test_size=test_size_summer, random_state=random_state)\n",
        "    train_dates_estimated, test_dates_estimated = train_test_split(unique_dates_estimated, test_size=test_size_estimated, random_state=random_state)\n",
        "\n",
        "    train_data_summer = df_summers[df_summers[time_column].dt.date.isin(train_dates_summer)]\n",
        "    train_data_estimated = df_estimated[df_estimated[time_column].dt.date.isin(train_dates_estimated)]\n",
        "\n",
        "    pv_test_summer_not_ordered = df_summers[df_summers[time_column].dt.date.isin(test_dates_summer)]\n",
        "    pv_test_estimated_not_ordered = df_estimated[df_estimated[time_column].dt.date.isin(test_dates_estimated)]\n",
        "\n",
        "    pv_test_not_ordered = pd.concat([pv_test_summer_not_ordered, pv_test_estimated_not_ordered])\n",
        "    pv_train_not_ordered = pd.concat([train_data_summer, train_data_estimated, df_not_summer])\n",
        "\n",
        "    pv_train = pv_train_not_ordered.sort_values(by=time_column)\n",
        "    pv_test = pv_test_not_ordered.sort_values(by=time_column)\n",
        "    return pv_train, pv_test"
      ]
    },
    {
      "cell_type": "code",
      "execution_count": 31,
      "metadata": {},
      "outputs": [],
      "source": [
        "def split_training_testing_set(df, start_estimated, random_state=42, text_size = .1, time_column = 'date_forecast'):\n",
        "    df_to_split = df.copy()\n",
        "    mask_2019, mask_2020, mask_2021, mask_2022, mask_estimated = create_mask_for_split_training_and_testing(df_to_split, start_estimated)\n",
        "    df_summers = df_to_split[mask_2019 | mask_2020 | mask_2021 | mask_2022 | mask_estimated]\n",
        "    df_not_summer = df_to_split[~(mask_2019 | mask_2020 | mask_2021 | mask_2022 | mask_estimated)]\n",
        "    test_size = text_size * (len(df_summers) + len(df_not_summer)) / len(df_summers)\n",
        "    train_data_summer, pv_test_not_ordered = train_test_split(df_summers, test_size=test_size, random_state=random_state)\n",
        "\n",
        "    pv_train_not_ordered = pd.concat([train_data_summer, df_not_summer])\n",
        "    pv_train = pv_train_not_ordered.sort_values(by='date_forecast')\n",
        "    pv_test = pv_test_not_ordered.sort_values(by='date_forecast')\n",
        "    return pv_train, pv_test"
      ]
    },
    {
      "cell_type": "code",
      "execution_count": 32,
      "metadata": {},
      "outputs": [],
      "source": [
        "# create_mask_for_split_training_and_testing(df, start_estimated, time_column = 'date_forecast')\n",
        "df_to_split = X_total_b_y_nan\n",
        "start_estimated = X_train_estimated_b[\"date_forecast\"].mean()\n",
        "mask_2019, mask_2020, mask_2021, mask_2022, mask_estimated = create_mask_for_split_training_and_testing(df_to_split, start_estimated)"
      ]
    },
    {
      "cell_type": "code",
      "execution_count": 33,
      "metadata": {},
      "outputs": [],
      "source": [
        "pv_train_a, pv_test_a = split_training_testing_set(X_total_a_y_nan, X_train_estimated_a[\"date_forecast\"].mean(), random_state=random_state)\n",
        "pv_train_b, pv_test_b = split_training_testing_set(X_total_b_y_nan, X_train_estimated_b[\"date_forecast\"].mean(), random_state=random_state)\n",
        "pv_train_c, pv_test_c = split_training_testing_set(X_total_c_y_nan, X_train_estimated_c[\"date_forecast\"].mean(), random_state=random_state)"
      ]
    },
    {
      "cell_type": "code",
      "execution_count": 34,
      "metadata": {},
      "outputs": [],
      "source": [
        "if test_set_param=='basic': pv_train_a, pv_test_a, pv_train_b, pv_test_b, pv_train_c, pv_test_c = split_training_testing_set_on_test_set_dates()"
      ]
    },
    {
      "cell_type": "code",
      "execution_count": 35,
      "metadata": {
        "colab": {
          "base_uri": "https://localhost:8080/"
        },
        "id": "v_1dTdJYxT9q",
        "outputId": "af1e5cd4-d79f-4309-a6c7-452801dea0a1"
      },
      "outputs": [
        {
          "name": "stdout",
          "output_type": "stream",
          "text": [
            "train_a : (30750, 178)\n",
            "test_a : (3294, 178)\n",
            "Rapport test/total : 9.700000000000001 %\n",
            "train_b : (24468, 178)\n",
            "test_b : (2693, 178)\n",
            "Rapport test/total : 9.9 %\n",
            "train_c : (19675, 178)\n",
            "test_c : (2026, 178)\n",
            "Rapport test/total : 9.3 %\n"
          ]
        }
      ],
      "source": [
        "\n",
        "print(\"train_a :\",pv_train_a.shape)\n",
        "print(\"test_a :\",pv_test_a.shape)\n",
        "print(\"Rapport test/total :\", round(pv_test_a.shape[0]/(pv_test_a.shape[0]+pv_train_a.shape[0]),3)*100, '%')\n",
        "print(\"train_b :\",pv_train_b.shape)\n",
        "print(\"test_b :\",pv_test_b.shape)\n",
        "print(\"Rapport test/total :\", round(pv_test_b.shape[0]/(pv_test_b.shape[0]+pv_train_b.shape[0]),3)*100, '%')\n",
        "print(\"train_c :\",pv_train_c.shape)\n",
        "print(\"test_c :\",pv_test_c.shape)\n",
        "print(\"Rapport test/total :\", round(pv_test_c.shape[0]/(pv_test_c.shape[0]+pv_train_c.shape[0]),3)*100, '%')"
      ]
    },
    {
      "cell_type": "markdown",
      "metadata": {
        "id": "BvJgNqxMoPK3"
      },
      "source": [
        "## Changement type de la date_forecast"
      ]
    },
    {
      "cell_type": "code",
      "execution_count": 36,
      "metadata": {
        "id": "6YwsnFtQxI72"
      },
      "outputs": [],
      "source": [
        "# on change le type de date_forecast\n",
        "pv_train_a['date_forecast'] = pd.to_datetime(pv_train_a['date_forecast'])\n",
        "pv_test_a['date_forecast'] = pd.to_datetime(pv_test_a['date_forecast'])\n",
        "\n",
        "pv_train_b['date_forecast'] = pd.to_datetime(pv_train_b['date_forecast'])\n",
        "pv_test_b['date_forecast'] = pd.to_datetime(pv_test_b['date_forecast'])\n",
        "\n",
        "pv_train_c['date_forecast'] = pd.to_datetime(pv_train_c['date_forecast'])\n",
        "pv_test_c['date_forecast'] = pd.to_datetime(pv_test_c['date_forecast'])"
      ]
    },
    {
      "cell_type": "markdown",
      "metadata": {
        "id": "GcD5npiww7DB"
      },
      "source": [
        "## Filtrage des variables"
      ]
    },
    {
      "cell_type": "code",
      "execution_count": 37,
      "metadata": {
        "id": "vrSBNA6lwiVf"
      },
      "outputs": [],
      "source": [
        "#function to apply XGBoost model\n",
        "def create_features(df, label):\n",
        "\n",
        "    # V2\n",
        "    df['hour'] = df[\"date_forecast\"].dt.hour\n",
        "    df['dayofweek'] = df[\"date_forecast\"].dt.dayofweek\n",
        "    df['quarter'] = df[\"date_forecast\"].dt.quarter\n",
        "    df['month'] = df[\"date_forecast\"].dt.month\n",
        "    df['year'] = df[\"date_forecast\"].dt.year\n",
        "    df['dayofyear'] = df[\"date_forecast\"].dt.dayofyear\n",
        "    df['dayofmonth'] = df[\"date_forecast\"].dt.day\n",
        "    # fin V2\n",
        "    df = df.drop([\"date_calc\",\"date_forecast\"],axis=1) if \"date_calc\" in df.columns else df.drop([\"date_forecast\"],axis=1) # date de calcul des estimated inutil pour l'instant\n",
        "    if label:\n",
        "        y = df[label]\n",
        "        df = df.drop(label,axis=1)\n",
        "        return df, y\n",
        "    return df"
      ]
    },
    {
      "cell_type": "code",
      "execution_count": 38,
      "metadata": {
        "id": "Hg8hidKFxGYS"
      },
      "outputs": [],
      "source": [
        "X_train_a, y_train_a = create_features(pv_train_a, label='pv_measurement')\n",
        "X_test_a, y_test_a = create_features(pv_test_a, label='pv_measurement')\n",
        "\n",
        "X_train_b, y_train_b = create_features(pv_train_b, label='pv_measurement')\n",
        "X_test_b, y_test_b = create_features(pv_test_b, label='pv_measurement')\n",
        "\n",
        "X_train_c, y_train_c = create_features(pv_train_c, label='pv_measurement')\n",
        "X_test_c, y_test_c = create_features(pv_test_c, label='pv_measurement')"
      ]
    },
    {
      "cell_type": "markdown",
      "metadata": {
        "id": "nZcMisI0yLLN"
      },
      "source": [
        "## Normalisation"
      ]
    },
    {
      "cell_type": "code",
      "execution_count": 39,
      "metadata": {
        "id": "wuby8RfayOh4"
      },
      "outputs": [],
      "source": [
        "def sklearn_z_score_normalize_dataframe(df,return_scaler=False,scaler=None,fit=True):\n",
        "    \"\"\"\n",
        "    Normalizes a DataFrame using z-score normalization (mean and standard deviation) from Scikit-Learn.\n",
        "\n",
        "    Parameters:\n",
        "    df (pd.DataFrame): The DataFrame to be normalized.\n",
        "\n",
        "    Returns:\n",
        "    pd.DataFrame: The z-score normalized DataFrame.\n",
        "    \"\"\"\n",
        "    if scaler == None :\n",
        "      # Create a StandardScaler instance\n",
        "      # scaler = Normalizer()\n",
        "      # scaler = RobustScaler()\n",
        "      scaler = StandardScaler()\n",
        "\n",
        "      # Fit the scaler on the DataFrame and transform the data\n",
        "      normalized_data = scaler.fit_transform(df)\n",
        "\n",
        "    else : \n",
        "      if fit:\n",
        "        normalized_data = scaler.fit_transform(df)\n",
        "      else: \n",
        "        normalized_data = scaler.transform(df)\n",
        "\n",
        "    # Create a new DataFrame with the scaled data\n",
        "    normalized_df = pd.DataFrame(normalized_data, columns=df.columns)\n",
        "\n",
        "    # retourner le scaler\n",
        "    if return_scaler :\n",
        "      return normalized_df,scaler\n",
        "    return normalized_df"
      ]
    },
    {
      "cell_type": "code",
      "execution_count": 40,
      "metadata": {
        "id": "HDvBAoHIycUd"
      },
      "outputs": [],
      "source": [
        "X_train_a_norm,scaler_a = sklearn_z_score_normalize_dataframe(X_train_a,return_scaler=True, scaler=scaler_a)\n",
        "X_train_b_norm,scaler_b = sklearn_z_score_normalize_dataframe(X_train_b,return_scaler=True, scaler=scaler_b)\n",
        "X_train_c_norm,scaler_c = sklearn_z_score_normalize_dataframe(X_train_c,return_scaler=True, scaler=scaler_c)"
      ]
    },
    {
      "cell_type": "code",
      "execution_count": 41,
      "metadata": {
        "id": "MgKwlaf2zeQ9"
      },
      "outputs": [],
      "source": [
        "X_test_a_norm = sklearn_z_score_normalize_dataframe(X_test_a,return_scaler=False,scaler=scaler_a, fit=False)\n",
        "X_test_b_norm = sklearn_z_score_normalize_dataframe(X_test_b,return_scaler=False,scaler=scaler_b, fit=False)\n",
        "X_test_c_norm = sklearn_z_score_normalize_dataframe(X_test_c,return_scaler=False,scaler=scaler_c, fit=False)"
      ]
    },
    {
      "cell_type": "markdown",
      "metadata": {
        "id": "acBk2cFgyO0i"
      },
      "source": [
        "## Preprocessing globale"
      ]
    },
    {
      "cell_type": "markdown",
      "metadata": {
        "id": "n0Y9jp38z14j"
      },
      "source": [
        "faire un code qui reprend toute les étapes ci dessus pour éviter de faire plein de lignes qui  se répêtes !!!"
      ]
    },
    {
      "cell_type": "markdown",
      "metadata": {
        "id": "zAz9UF7nv0NB"
      },
      "source": [
        "# Partie XBGoost de base (Nahel)"
      ]
    },
    {
      "cell_type": "code",
      "execution_count": 42,
      "metadata": {
        "id": "Mp5zO1levNPT"
      },
      "outputs": [],
      "source": [
        "import xgboost as xgb\n",
        "from xgboost import plot_importance, plot_tree\n",
        "from sklearn.metrics import mean_squared_error"
      ]
    },
    {
      "cell_type": "code",
      "execution_count": 43,
      "metadata": {},
      "outputs": [
        {
          "name": "stdout",
          "output_type": "stream",
          "text": [
            "Using TensorFlow backend\n"
          ]
        }
      ],
      "source": [
        "import pandas as pd\n",
        "import tensorflow as tf\n",
        "\n",
        "import autokeras as ak"
      ]
    },
    {
      "cell_type": "code",
      "execution_count": null,
      "metadata": {},
      "outputs": [],
      "source": [
        "tf.keras.optimizers.legacy.Adam"
      ]
    },
    {
      "cell_type": "code",
      "execution_count": 44,
      "metadata": {},
      "outputs": [
        {
          "name": "stdout",
          "output_type": "stream",
          "text": [
            "Trial 1 Complete [00h 03m 14s]\n",
            "val_loss: 980343.3125\n",
            "\n",
            "Best val_loss So Far: 980343.3125\n",
            "Total elapsed time: 00h 03m 14s\n"
          ]
        },
        {
          "name": "stderr",
          "output_type": "stream",
          "text": [
            "WARNING:absl:At this time, the v2.11+ optimizer `tf.keras.optimizers.Adam` runs slowly on M1/M2 Macs, please use the legacy Keras optimizer instead, located at `tf.keras.optimizers.legacy.Adam`.\n"
          ]
        },
        {
          "name": "stdout",
          "output_type": "stream",
          "text": [
            "Epoch 1/10\n",
            "961/961 [==============================] - 14s 13ms/step - loss: 1673115.7500 - mean_squared_error: 1673115.7500 - val_loss: 1012266.7500 - val_mean_squared_error: 1012266.7500\n",
            "Epoch 2/10\n",
            "961/961 [==============================] - 12s 13ms/step - loss: 1514393.8750 - mean_squared_error: 1514393.8750 - val_loss: 984679.6875 - val_mean_squared_error: 984679.6875\n",
            "Epoch 3/10\n",
            "961/961 [==============================] - 13s 13ms/step - loss: 1443173.1250 - mean_squared_error: 1443173.1250 - val_loss: 992067.4375 - val_mean_squared_error: 992067.4375\n",
            "Epoch 4/10\n",
            "961/961 [==============================] - 12s 13ms/step - loss: 1415028.3750 - mean_squared_error: 1415028.3750 - val_loss: 1007795.6875 - val_mean_squared_error: 1007795.6875\n",
            "Epoch 5/10\n",
            "961/961 [==============================] - 12s 12ms/step - loss: 1459849.1250 - mean_squared_error: 1459849.1250 - val_loss: 1000527.0000 - val_mean_squared_error: 1000527.0000\n",
            "Epoch 6/10\n",
            "961/961 [==============================] - 11s 11ms/step - loss: 1537131.7500 - mean_squared_error: 1537131.7500 - val_loss: 984523.5000 - val_mean_squared_error: 984523.5000\n",
            "Epoch 7/10\n",
            "961/961 [==============================] - 11s 11ms/step - loss: 1487155.0000 - mean_squared_error: 1487155.0000 - val_loss: 985110.1875 - val_mean_squared_error: 985110.1875\n",
            "Epoch 8/10\n",
            "961/961 [==============================] - 12s 13ms/step - loss: 1457062.3750 - mean_squared_error: 1457062.3750 - val_loss: 986713.1250 - val_mean_squared_error: 986713.1250\n",
            "Epoch 9/10\n",
            "961/961 [==============================] - 13s 13ms/step - loss: 1453118.1250 - mean_squared_error: 1453118.1250 - val_loss: 984903.5625 - val_mean_squared_error: 984903.5625\n",
            "Epoch 10/10\n",
            "961/961 [==============================] - 12s 12ms/step - loss: 1466406.1250 - mean_squared_error: 1466406.1250 - val_loss: 984690.0625 - val_mean_squared_error: 984690.0625\n",
            "INFO:tensorflow:Assets written to: ./time_series_forecaster/best_model/assets\n"
          ]
        },
        {
          "name": "stderr",
          "output_type": "stream",
          "text": [
            "INFO:tensorflow:Assets written to: ./time_series_forecaster/best_model/assets\n"
          ]
        },
        {
          "ename": "ValueError",
          "evalue": "The prediction data requires the original training data to make predictions on subsequent data points",
          "output_type": "error",
          "traceback": [
            "\u001b[0;31m---------------------------------------------------------------------------\u001b[0m",
            "\u001b[0;31mValueError\u001b[0m                                Traceback (most recent call last)",
            "\u001b[1;32m/Users/arthurtestard/ntnu_code/machine_learning/ml_competition/AutoMLkeras_separated_loc_hypparams_rd_test_set_by_day_4_input copy.ipynb Cell 60\u001b[0m line \u001b[0;36m2\n\u001b[1;32m     <a href='vscode-notebook-cell:/Users/arthurtestard/ntnu_code/machine_learning/ml_competition/AutoMLkeras_separated_loc_hypparams_rd_test_set_by_day_4_input%20copy.ipynb#Y153sZmlsZQ%3D%3D?line=11'>12</a>\u001b[0m clf_a\u001b[39m.\u001b[39mfit(\n\u001b[1;32m     <a href='vscode-notebook-cell:/Users/arthurtestard/ntnu_code/machine_learning/ml_competition/AutoMLkeras_separated_loc_hypparams_rd_test_set_by_day_4_input%20copy.ipynb#Y153sZmlsZQ%3D%3D?line=12'>13</a>\u001b[0m     x\u001b[39m=\u001b[39mX_train_a_norm,\n\u001b[1;32m     <a href='vscode-notebook-cell:/Users/arthurtestard/ntnu_code/machine_learning/ml_competition/AutoMLkeras_separated_loc_hypparams_rd_test_set_by_day_4_input%20copy.ipynb#Y153sZmlsZQ%3D%3D?line=13'>14</a>\u001b[0m     y\u001b[39m=\u001b[39my_train_a,\n\u001b[0;32m   (...)\u001b[0m\n\u001b[1;32m     <a href='vscode-notebook-cell:/Users/arthurtestard/ntnu_code/machine_learning/ml_competition/AutoMLkeras_separated_loc_hypparams_rd_test_set_by_day_4_input%20copy.ipynb#Y153sZmlsZQ%3D%3D?line=16'>17</a>\u001b[0m     epochs\u001b[39m=\u001b[39m\u001b[39m10\u001b[39m,\n\u001b[1;32m     <a href='vscode-notebook-cell:/Users/arthurtestard/ntnu_code/machine_learning/ml_competition/AutoMLkeras_separated_loc_hypparams_rd_test_set_by_day_4_input%20copy.ipynb#Y153sZmlsZQ%3D%3D?line=17'>18</a>\u001b[0m )\n\u001b[1;32m     <a href='vscode-notebook-cell:/Users/arthurtestard/ntnu_code/machine_learning/ml_competition/AutoMLkeras_separated_loc_hypparams_rd_test_set_by_day_4_input%20copy.ipynb#Y153sZmlsZQ%3D%3D?line=18'>19</a>\u001b[0m \u001b[39m# Predict with the best model(includes original training data).\u001b[39;00m\n\u001b[0;32m---> <a href='vscode-notebook-cell:/Users/arthurtestard/ntnu_code/machine_learning/ml_competition/AutoMLkeras_separated_loc_hypparams_rd_test_set_by_day_4_input%20copy.ipynb#Y153sZmlsZQ%3D%3D?line=19'>20</a>\u001b[0m predictions \u001b[39m=\u001b[39m clf_a\u001b[39m.\u001b[39;49mpredict(X_test_a_norm)\n\u001b[1;32m     <a href='vscode-notebook-cell:/Users/arthurtestard/ntnu_code/machine_learning/ml_competition/AutoMLkeras_separated_loc_hypparams_rd_test_set_by_day_4_input%20copy.ipynb#Y153sZmlsZQ%3D%3D?line=20'>21</a>\u001b[0m \u001b[39mprint\u001b[39m(predictions\u001b[39m.\u001b[39mshape)\n\u001b[1;32m     <a href='vscode-notebook-cell:/Users/arthurtestard/ntnu_code/machine_learning/ml_competition/AutoMLkeras_separated_loc_hypparams_rd_test_set_by_day_4_input%20copy.ipynb#Y153sZmlsZQ%3D%3D?line=21'>22</a>\u001b[0m \u001b[39m# Evaluate the best model with testing data.\u001b[39;00m\n",
            "File \u001b[0;32m~/envs/ntnu/mlsolar/lib/python3.10/site-packages/autokeras/tasks/time_series_forecaster.py:289\u001b[0m, in \u001b[0;36mTimeseriesForecaster.predict\u001b[0;34m(self, x, **kwargs)\u001b[0m\n\u001b[1;32m    276\u001b[0m \u001b[39mdef\u001b[39;00m \u001b[39mpredict\u001b[39m(\u001b[39mself\u001b[39m, x\u001b[39m=\u001b[39m\u001b[39mNone\u001b[39;00m, \u001b[39m*\u001b[39m\u001b[39m*\u001b[39mkwargs):\n\u001b[1;32m    277\u001b[0m \u001b[39m    \u001b[39m\u001b[39m\"\"\"Predict the output for a given testing data.\u001b[39;00m\n\u001b[1;32m    278\u001b[0m \n\u001b[1;32m    279\u001b[0m \u001b[39m    # Arguments\u001b[39;00m\n\u001b[0;32m   (...)\u001b[0m\n\u001b[1;32m    287\u001b[0m \u001b[39m        The predicted results.\u001b[39;00m\n\u001b[1;32m    288\u001b[0m \u001b[39m    \"\"\"\u001b[39;00m\n\u001b[0;32m--> 289\u001b[0m     \u001b[39mreturn\u001b[39;00m \u001b[39msuper\u001b[39;49m()\u001b[39m.\u001b[39;49mpredict(x\u001b[39m=\u001b[39;49mx, \u001b[39m*\u001b[39;49m\u001b[39m*\u001b[39;49mkwargs)\n",
            "File \u001b[0;32m~/envs/ntnu/mlsolar/lib/python3.10/site-packages/autokeras/tasks/time_series_forecaster.py:102\u001b[0m, in \u001b[0;36mSupervisedTimeseriesDataPipeline.predict\u001b[0;34m(self, x, **kwargs)\u001b[0m\n\u001b[1;32m    100\u001b[0m x \u001b[39m=\u001b[39m \u001b[39mself\u001b[39m\u001b[39m.\u001b[39mread_for_predict(x)\n\u001b[1;32m    101\u001b[0m \u001b[39mif\u001b[39;00m \u001b[39mlen\u001b[39m(x) \u001b[39m<\u001b[39m \u001b[39mself\u001b[39m\u001b[39m.\u001b[39mtrain_len:\n\u001b[0;32m--> 102\u001b[0m     \u001b[39mraise\u001b[39;00m \u001b[39mValueError\u001b[39;00m(\n\u001b[1;32m    103\u001b[0m         \u001b[39m\"\u001b[39m\u001b[39mThe prediction data requires the original training\u001b[39m\u001b[39m\"\u001b[39m\n\u001b[1;32m    104\u001b[0m         \u001b[39m\"\u001b[39m\u001b[39m data to make predictions on subsequent data points\u001b[39m\u001b[39m\"\u001b[39m\n\u001b[1;32m    105\u001b[0m     )\n\u001b[1;32m    106\u001b[0m y_pred \u001b[39m=\u001b[39m \u001b[39msuper\u001b[39m()\u001b[39m.\u001b[39mpredict(x\u001b[39m=\u001b[39mx, \u001b[39m*\u001b[39m\u001b[39m*\u001b[39mkwargs)\n\u001b[1;32m    107\u001b[0m lower_bound \u001b[39m=\u001b[39m \u001b[39mself\u001b[39m\u001b[39m.\u001b[39mtrain_len \u001b[39m+\u001b[39m \u001b[39mself\u001b[39m\u001b[39m.\u001b[39mpredict_from\n",
            "\u001b[0;31mValueError\u001b[0m: The prediction data requires the original training data to make predictions on subsequent data points"
          ]
        }
      ],
      "source": [
        "predict_from = 1\n",
        "predict_until = 10\n",
        "lookback = 3\n",
        "clf_a = ak.TimeseriesForecaster(\n",
        "    lookback=lookback,\n",
        "    predict_from=predict_from,\n",
        "    predict_until=predict_until,\n",
        "    max_trials=1,\n",
        "    objective=\"val_loss\",\n",
        ")\n",
        "# Train the TimeSeriesForecaster with train data\n",
        "clf_a.fit(\n",
        "    x=X_train_a_norm,\n",
        "    y=y_train_a,\n",
        "    validation_data=(X_test_a_norm, y_test_a),\n",
        "    batch_size=32,\n",
        "    epochs=10,\n",
        ")\n"
      ]
    },
    {
      "cell_type": "code",
      "execution_count": 45,
      "metadata": {},
      "outputs": [
        {
          "name": "stderr",
          "output_type": "stream",
          "text": [
            "WARNING:absl:At this time, the v2.11+ optimizer `tf.keras.optimizers.RestoredOptimizer` runs slowly on M1/M2 Macs, please use the legacy Keras optimizer instead, located at `tf.keras.optimizers.legacy.RestoredOptimizer`.\n",
            "WARNING:absl:At this time, the v2.11+ optimizer `tf.keras.optimizers.Adam` runs slowly on M1/M2 Macs, please use the legacy Keras optimizer instead, located at `tf.keras.optimizers.legacy.Adam`.\n"
          ]
        },
        {
          "name": "stdout",
          "output_type": "stream",
          "text": [
            "961/961 [==============================] - 6s 5ms/step\n",
            "961/961 [==============================] - 5s 5ms/step\n",
            "(0, 1)\n"
          ]
        },
        {
          "name": "stderr",
          "output_type": "stream",
          "text": [
            "WARNING:absl:At this time, the v2.11+ optimizer `tf.keras.optimizers.RestoredOptimizer` runs slowly on M1/M2 Macs, please use the legacy Keras optimizer instead, located at `tf.keras.optimizers.legacy.RestoredOptimizer`.\n",
            "WARNING:absl:At this time, the v2.11+ optimizer `tf.keras.optimizers.Adam` runs slowly on M1/M2 Macs, please use the legacy Keras optimizer instead, located at `tf.keras.optimizers.legacy.Adam`.\n"
          ]
        },
        {
          "name": "stdout",
          "output_type": "stream",
          "text": [
            "103/103 [==============================] - 1s 3ms/step - loss: 984690.0625 - mean_squared_error: 984690.0625\n",
            "[984690.0625, 984690.0625]\n"
          ]
        }
      ],
      "source": [
        "\n",
        "# Predict with the best model(includes original training data).\n",
        "predictions = clf_a.predict(X_train_a_norm)\n",
        "print(predictions.shape)\n",
        "# Evaluate the best model with testing data.\n",
        "print(clf_a.evaluate(X_test_a_norm, y_test_a))"
      ]
    },
    {
      "cell_type": "code",
      "execution_count": 46,
      "metadata": {},
      "outputs": [
        {
          "name": "stderr",
          "output_type": "stream",
          "text": [
            "WARNING:absl:At this time, the v2.11+ optimizer `tf.keras.optimizers.RestoredOptimizer` runs slowly on M1/M2 Macs, please use the legacy Keras optimizer instead, located at `tf.keras.optimizers.legacy.RestoredOptimizer`.\n",
            "WARNING:absl:At this time, the v2.11+ optimizer `tf.keras.optimizers.Adam` runs slowly on M1/M2 Macs, please use the legacy Keras optimizer instead, located at `tf.keras.optimizers.legacy.Adam`.\n"
          ]
        },
        {
          "name": "stdout",
          "output_type": "stream",
          "text": [
            "103/103 [==============================] - 1s 3ms/step - loss: 984690.0625 - mean_squared_error: 984690.0625\n",
            "[984690.0625, 984690.0625]\n"
          ]
        }
      ],
      "source": [
        "\n",
        "print(clf_a.evaluate(X_test_a_norm, y_test_a))"
      ]
    },
    {
      "cell_type": "code",
      "execution_count": 48,
      "metadata": {},
      "outputs": [
        {
          "data": {
            "text/plain": [
              "array([], shape=(0, 1), dtype=float32)"
            ]
          },
          "execution_count": 48,
          "metadata": {},
          "output_type": "execute_result"
        }
      ],
      "source": [
        "predictions"
      ]
    },
    {
      "cell_type": "code",
      "execution_count": 47,
      "metadata": {},
      "outputs": [
        {
          "data": {
            "text/plain": [
              "[<matplotlib.lines.Line2D at 0x29c2c3b80>]"
            ]
          },
          "execution_count": 47,
          "metadata": {},
          "output_type": "execute_result"
        },
        {
          "data": {
            "image/png": "[encoded data removed]",
            "text/plain": [
              "<Figure size 640x480 with 1 Axes>"
            ]
          },
          "metadata": {},
          "output_type": "display_data"
        }
      ],
      "source": [
        "plt.plot(predictions)"
      ]
    },
    {
      "cell_type": "code",
      "execution_count": null,
      "metadata": {
        "colab": {
          "base_uri": "https://localhost:8080/",
          "height": 1000
        },
        "id": "iJ6U7ie7whyI",
        "outputId": "e5ee1dee-99c2-45e3-a422-8a166d9c1259"
      },
      "outputs": [],
      "source": [
        "# Créez un modèle XGBoost\n",
        "reg_a = xgb.XGBRegressor(n_estimators = n_estimators,\n",
        "                        max_depth = max_depth,\n",
        "                        eval_metric = eval_metric,\n",
        "                        )\n",
        "\n",
        "# Entraînez le modèle et suivez l'évolution des erreurs\n",
        "reg_a.fit(X_train_a_norm, y_train_a,\n",
        "          eval_set=[(X_train_a_norm, y_train_a), (X_test_a_norm, y_test_a)],\n",
        "          early_stopping_rounds=50,\n",
        "          verbose=True)\n",
        "\n",
        "reg_b = xgb.XGBRegressor(n_estimators = n_estimators,\n",
        "                        max_depth = max_depth,\n",
        "                        eval_metric = eval_metric,\n",
        "                        )\n",
        "reg_b.fit(X_train_b_norm, y_train_b,\n",
        "          eval_set=[(X_train_b_norm, y_train_b), (X_test_b_norm, y_test_b)],\n",
        "          early_stopping_rounds=50,\n",
        "          verbose=True)\n",
        "\n",
        "reg_c = xgb.XGBRegressor(n_estimators = n_estimators,\n",
        "                        max_depth = max_depth,\n",
        "                        eval_metric = eval_metric,\n",
        "                        )\n",
        "reg_c.fit(X_train_c_norm, y_train_c,\n",
        "          eval_set=[(X_train_c_norm, y_train_c), (X_test_c_norm, y_test_c)],\n",
        "          early_stopping_rounds=50,\n",
        "          verbose=True)"
      ]
    },
    {
      "cell_type": "code",
      "execution_count": null,
      "metadata": {
        "colab": {
          "base_uri": "https://localhost:8080/",
          "height": 1000
        },
        "id": "L8tJyNqw2ajl",
        "outputId": "d1d82059-64ed-41e7-efa6-89cb907ed5f3"
      },
      "outputs": [],
      "source": [
        "# Créez des listes vides pour stocker les erreurs d'entraînement et de test\n",
        "train_errors = []\n",
        "test_errors = []\n",
        "\n",
        "# Accédez aux erreurs d'entraînement et de test après chaque itération\n",
        "results = reg_a.evals_result()\n",
        "train_errors = results['validation_0'][eval_metric]\n",
        "test_errors = results['validation_1'][eval_metric]\n",
        "\n",
        "# Tracez les courbes d'apprentissage\n",
        "plt.figure(figsize=(10, 6))\n",
        "plt.plot(train_errors, label='Train')\n",
        "plt.plot(test_errors, label='Test')\n",
        "plt.xlabel('Boosting Rounds')\n",
        "plt.ylabel(eval_metric)\n",
        "plt.legend()\n",
        "plt.title('Learning Curves')\n",
        "plt.show()\n",
        "\n",
        "min_error_a = min(test_errors)\n",
        "# Créez des listes vides pour stocker les erreurs d'entraînement et de test\n",
        "train_errors = []\n",
        "test_errors = []\n",
        "\n",
        "# Accédez aux erreurs d'entraînement et de test après chaque itération\n",
        "results = reg_b.evals_result()\n",
        "train_errors = results['validation_0'][eval_metric]\n",
        "test_errors = results['validation_1'][eval_metric]\n",
        "\n",
        "# Tracez les courbes d'apprentissage\n",
        "plt.figure(figsize=(10, 6))\n",
        "plt.plot(train_errors, label='Train')\n",
        "plt.plot(test_errors, label='Test')\n",
        "plt.xlabel('Boosting Rounds')\n",
        "plt.ylabel(eval_metric)\n",
        "plt.legend()\n",
        "plt.title('Learning Curves')\n",
        "plt.show()\n",
        "\n",
        "min_error_b = min(test_errors)\n",
        "# Créez des listes vides pour stocker les erreurs d'entraînement et de test\n",
        "train_errors = []\n",
        "test_errors = []\n",
        "\n",
        "# Accédez aux erreurs d'entraînement et de test après chaque itération\n",
        "results = reg_c.evals_result()\n",
        "train_errors = results['validation_0'][eval_metric]\n",
        "test_errors = results['validation_1'][eval_metric]\n",
        "\n",
        "min_error_c = min(test_errors)\n",
        "# Tracez les courbes d'apprentissage\n",
        "plt.figure(figsize=(10, 6))\n",
        "plt.plot(train_errors, label='Train')\n",
        "plt.plot(test_errors, label='Test')\n",
        "plt.xlabel('Boosting Rounds')\n",
        "plt.ylabel(eval_metric)\n",
        "plt.legend()\n",
        "plt.title('Learning Curves')\n",
        "plt.show()"
      ]
    },
    {
      "cell_type": "code",
      "execution_count": null,
      "metadata": {},
      "outputs": [],
      "source": [
        "min_error_a, min_error_b, min_error_c"
      ]
    },
    {
      "cell_type": "code",
      "execution_count": null,
      "metadata": {
        "colab": {
          "base_uri": "https://localhost:8080/",
          "height": 1000
        },
        "id": "0Cpiem0U0J6m",
        "outputId": "67557c5d-d422-46aa-b3a5-1b4d56eed6a7"
      },
      "outputs": [],
      "source": [
        "plot_importance(reg_a, height=.9)\n",
        "plt.gcf().set_size_inches(14, 8 * 4)\n",
        "plot_importance(reg_b, height=0.9)\n",
        "plt.gcf().set_size_inches(14, 8 * 4)\n",
        "plot_importance(reg_c, height=0.9)\n",
        "plt.gcf().set_size_inches(14, 8 * 4)"
      ]
    },
    {
      "cell_type": "code",
      "execution_count": null,
      "metadata": {
        "id": "CzEzDsH5gc0p"
      },
      "outputs": [],
      "source": [
        "pv_test_a['pv_measurement_prediction'] = reg_a.predict(X_test_a_norm)\n",
        "pv_all_a = pd.concat([pv_test_a, pv_train_a], sort=False)\n",
        "\n",
        "pv_test_b['pv_measurement_prediction'] = reg_b.predict(X_test_b_norm)\n",
        "pv_all_b = pd.concat([pv_test_b, pv_train_b], sort=False)\n",
        "\n",
        "pv_test_c['pv_measurement_prediction'] = reg_c.predict(X_test_c_norm)\n",
        "pv_all_c = pd.concat([pv_test_c, pv_train_c], sort=False)"
      ]
    },
    {
      "cell_type": "code",
      "execution_count": null,
      "metadata": {},
      "outputs": [],
      "source": [
        "pv_test_a[pv_test_a['pv_measurement_prediction'] < 10 ]['pv_measurement_prediction'] = 0.\n",
        "pv_test_b[pv_test_b['pv_measurement_prediction'] < 10 ]['pv_measurement_prediction'] = 0.\n",
        "pv_test_c[pv_test_c['pv_measurement_prediction'] < 10 ]['pv_measurement_prediction'] = 0."
      ]
    },
    {
      "cell_type": "code",
      "execution_count": null,
      "metadata": {},
      "outputs": [],
      "source": [
        "mae_a = np.mean(np.abs(pv_all_a['pv_measurement'] - pv_all_a['pv_measurement_prediction']))\n",
        "mae_b = np.mean(np.abs(pv_all_b['pv_measurement'] - pv_all_b['pv_measurement_prediction']))\n",
        "mae_c = np.mean(np.abs(pv_all_a['pv_measurement'] - pv_all_c['pv_measurement_prediction']))\n",
        "\n",
        "df_mae = pd.concat([pv_all_a, pv_all_b, pv_all_a])\n",
        "mae = np.mean(np.abs(df_mae['pv_measurement'] - df_mae['pv_measurement_prediction']))\n",
        "print(\"MAE a:\", mae_a, \"MAE b:\", mae_b, \"MAE c:\", mae_c)\n",
        "print(\"MAE on test set:\", mae)"
      ]
    },
    {
      "cell_type": "code",
      "execution_count": null,
      "metadata": {
        "colab": {
          "base_uri": "https://localhost:8080/",
          "height": 1000
        },
        "id": "AqaBX7A0gfSt",
        "outputId": "3bafca8f-5b8b-41b1-f8c4-2b05d55d2f62"
      },
      "outputs": [],
      "source": [
        "graph = pv_all_a[['pv_measurement','pv_measurement_prediction']].plot(figsize=(15, 5)).scatter('pv_measurement','pv_measurement_prediction')\n",
        "graph = pv_all_b[['pv_measurement','pv_measurement_prediction']].plot(figsize=(15, 5)).scatter('pv_measurement','pv_measurement_prediction')\n",
        "graph = pv_all_c[['pv_measurement','pv_measurement_prediction']].plot(figsize=(15, 5)).scatter('pv_measurement','pv_measurement_prediction')"
      ]
    },
    {
      "cell_type": "code",
      "execution_count": null,
      "metadata": {},
      "outputs": [],
      "source": [
        "np_pv_c = np.array(pv_all_c['pv_measurement'])\n",
        "plt.plot(np_pv_c)"
      ]
    },
    {
      "cell_type": "markdown",
      "metadata": {
        "id": "VE0_jFOv23vB"
      },
      "source": [
        "# Export sur Kaggle"
      ]
    },
    {
      "cell_type": "code",
      "execution_count": null,
      "metadata": {
        "id": "I43fCNu60TX_"
      },
      "outputs": [],
      "source": [
        "test = pd.read_csv(path+\"test.csv\")\n",
        "test_copy = test.copy()\n",
        "test.rename(columns={'time': 'date_forecast'}, inplace=True) #pour faire le merge\n",
        "test[\"date_forecast\"] = pd.to_datetime(test[\"date_forecast\"]) #mettre le bon type"
      ]
    },
    {
      "cell_type": "code",
      "execution_count": null,
      "metadata": {
        "id": "hg7yQqAA4E0g"
      },
      "outputs": [],
      "source": [
        "# Lecture des données météo associée :\n",
        "merged_df_pre_a = pd.merge(X_test_estimated_a, test, on='date_forecast', how='inner')\n",
        "merged_df_a = merged_df_pre_a[merged_df_pre_a[\"location\"]==\"A\"]\n",
        "merged_df_pre_b = pd.merge(X_test_estimated_b, test, on='date_forecast', how='inner')\n",
        "merged_df_b = merged_df_pre_b[merged_df_pre_b[\"location\"]==\"B\"]\n",
        "merged_df_pre_c = pd.merge(X_test_estimated_c, test, on='date_forecast', how='inner')\n",
        "merged_df_c = merged_df_pre_c[merged_df_pre_c[\"location\"]==\"C\"]"
      ]
    },
    {
      "cell_type": "code",
      "execution_count": null,
      "metadata": {
        "id": "JkPxzaLxPE3y"
      },
      "outputs": [],
      "source": [
        "def preprocessing_test(df,scaler):\n",
        "  X_test = df.drop([\"id\",\"location\",\"prediction\"],axis=1)\n",
        "  X_test = create_features(X_test, None)\n",
        "  #X_test[('date_forecast')] = X_test[('date_forecast')].values.astype(\"float64\")\n",
        "  X_test = gestion_nan(X_test)\n",
        "  X_test = sklearn_z_score_normalize_dataframe(X_test,return_scaler=False,scaler=scaler, fit=False)\n",
        "  return X_test"
      ]
    },
    {
      "cell_type": "code",
      "execution_count": null,
      "metadata": {
        "id": "9m42fLq9Y4ZA"
      },
      "outputs": [],
      "source": [
        "X_test_a_test = preprocessing_test(merged_df_a,scaler_a)\n",
        "X_test_b_test = preprocessing_test(merged_df_b,scaler_b)\n",
        "X_test_c_test = preprocessing_test(merged_df_c,scaler_c)"
      ]
    },
    {
      "cell_type": "code",
      "execution_count": null,
      "metadata": {
        "id": "N4V9YUIYZiGr"
      },
      "outputs": [],
      "source": [
        "result_A = reg_a.predict(X_test_a_test)\n",
        "result_B = reg_b.predict(X_test_b_test)\n",
        "result_C = reg_c.predict(X_test_c_test)"
      ]
    },
    {
      "cell_type": "code",
      "execution_count": null,
      "metadata": {},
      "outputs": [],
      "source": [
        "len(result_A) + len(result_B) + len(result_C)"
      ]
    },
    {
      "cell_type": "code",
      "execution_count": null,
      "metadata": {
        "colab": {
          "base_uri": "https://localhost:8080/",
          "height": 447
        },
        "id": "4E4A-WF5ih-0",
        "outputId": "94ac5b1b-1328-411d-b918-4359d052895d"
      },
      "outputs": [],
      "source": [
        "plt.plot(result_A)"
      ]
    },
    {
      "cell_type": "code",
      "execution_count": null,
      "metadata": {
        "id": "LTSbJj5lZc1s"
      },
      "outputs": [],
      "source": [
        "# nom_fichier = 'XGBoost_Valentin_V2'\n",
        "# repertoire = path\n",
        "# result = np.concatenate((np.concatenate((result_A,result_B)), result_C))\n",
        "# test_copy['prediction'] = result\n",
        "# sample_submission = sample_submission[['id']].merge(test_copy[['id', 'prediction']], on='id', how='left')\n",
        "# sample_submission.to_csv(repertoire+ nom_fichier+'.csv', index=False)"
      ]
    },
    {
      "cell_type": "markdown",
      "metadata": {
        "id": "sL8tKAK-tx2P"
      },
      "source": [
        "Prochaines amélioration\n",
        "\n",
        "- mettre un minimum *Done*\n",
        "- suppression des zones continues en B et C *To DO*\n",
        "- prise en compte de la date (jour/mois/heure) *Done* peut être ajusté ?\n",
        "- prendre le meilleur model : celui avec le meilleur score sur le deuxième testset (A : 2,8% B : 5,5%  C: 11,5%) (score eval prévu : 166) --> déjà pris en copmte dans la fonction ...\n",
        "\n",
        "\n",
        "Perf V1:\n",
        "\n",
        "A : Test 2 : 446 / 459\n",
        "\n",
        "B : Test 2 : 101 / 107\n",
        "\n",
        "C : Test 2 : 68 / 78\n",
        "\n",
        "Perf V2:\n",
        "\n",
        "A : Test 1 : 243 | Test 2 : 438 / 455\n",
        "\n",
        "B : Test 1 : 35 | Test 2 : 106 / 110\n",
        "\n",
        "C : Test 1 : 26 | Test 2 : 65 / 71"
      ]
    },
    {
      "cell_type": "markdown",
      "metadata": {
        "id": "XHFXLird0mW5"
      },
      "source": [
        "# Post traitement"
      ]
    },
    {
      "cell_type": "markdown",
      "metadata": {
        "id": "cwUbdVUh0oeY"
      },
      "source": [
        "Ici, on va faire en sorte de n'avoir que des valeurs positives (cela ne représente qu'une légère amélioration"
      ]
    },
    {
      "cell_type": "code",
      "execution_count": null,
      "metadata": {
        "id": "5jqFf_a-0jTF"
      },
      "outputs": [],
      "source": [
        "result = np.concatenate((np.concatenate((result_A,result_B)), result_C))"
      ]
    },
    {
      "cell_type": "code",
      "execution_count": null,
      "metadata": {},
      "outputs": [],
      "source": [
        "len(result_A), len(result_B), len(result_C)"
      ]
    },
    {
      "cell_type": "code",
      "execution_count": null,
      "metadata": {
        "colab": {
          "base_uri": "https://localhost:8080/"
        },
        "id": "5OUxyuzi4EDa",
        "outputId": "84a0b4cd-1db4-4d9a-e9d6-8d603e905a3e"
      },
      "outputs": [],
      "source": [
        "negative_values = result[result < 0]\n",
        "sum_of_negatives = np.sum(negative_values**2)/len(result)\n",
        "np.sqrt(sum_of_negatives)"
      ]
    },
    {
      "cell_type": "code",
      "execution_count": null,
      "metadata": {
        "id": "p03W8Xa751Y4"
      },
      "outputs": [],
      "source": [
        "negative_mask = result < 5\n",
        "result[negative_mask] = 0"
      ]
    },
    {
      "cell_type": "code",
      "execution_count": null,
      "metadata": {
        "id": "DC-LsEUl59-r"
      },
      "outputs": [],
      "source": [
        "nom_fichier = f'AUTOML_separated_loc_4_inputs_n_estimators_{n_estimators}_delta_{delta_title}_min_{scaler_name}_{eval_metric}_max_depth_{max_depth}_mae_{int(mae)}_rmse_{int(min_error_a)}_{int(min_error_b)}_{int(min_error_c)}_test_set_gen_{test_set_param}_{random_state}_by_day'\n",
        "repertoire = submission_path\n",
        "test_copy['prediction'] = result\n",
        "sample_submission = sample_submission[['id']].merge(test_copy[['id', 'prediction']], on='id', how='left')\n",
        "sample_submission.to_csv(repertoire+ nom_fichier+'.csv', index=False)"
      ]
    },
    {
      "cell_type": "code",
      "execution_count": null,
      "metadata": {},
      "outputs": [],
      "source": [
        "result2 = np.concatenate((np.concatenate((result_A,result_B)), result_C))"
      ]
    },
    {
      "cell_type": "code",
      "execution_count": null,
      "metadata": {},
      "outputs": [],
      "source": [
        "negative_mask2 = result2 < 10\n",
        "result2[negative_mask2] = 0"
      ]
    }
  ],
  "metadata": {
    "accelerator": "GPU",
    "colab": {
      "gpuType": "T4",
      "provenance": []
    },
    "kernelspec": {
      "display_name": "mlsolar",
      "language": "python",
      "name": "mlsolar"
    },
    "language_info": {
      "codemirror_mode": {
        "name": "ipython",
        "version": 3
      },
      "file_extension": ".py",
      "mimetype": "text/x-python",
      "name": "python",
      "nbconvert_exporter": "python",
      "pygments_lexer": "ipython3",
      "version": "3.10.11"
    }
  },
  "nbformat": 4,
  "nbformat_minor": 0
}
