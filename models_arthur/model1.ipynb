{
 "cells": [
  {
   "cell_type": "code",
   "execution_count": null,
   "metadata": {},
   "outputs": [],
   "source": [
    "import os\n",
    "import pandas as pd\n",
    "import numpy as np\n",
    "import matplotlib.pylab as plt\n",
    "import seaborn as sns\n",
    "from tqdm import tqdm\n",
    "%matplotlib inline\n",
    "\n",
    "pd.set_option('display.max_rows', 200)\n",
    "pd.set_option('display.max_columns', 200)\n",
    "\n",
    "import sys\n",
    "sys.path.append('../')\n",
    "import utils\n",
    "import settings"
   ]
  },
  {
   "cell_type": "code",
   "execution_count": null,
   "metadata": {},
   "outputs": [],
   "source": [
    "train_a, train_b, train_c, X_train_estimated_a, X_train_estimated_b, X_train_estimated_c, X_train_observed_a, X_train_observed_b, X_train_observed_c, X_test_estimated_a, X_test_estimated_b, X_test_estimated_c = utils.read_files(diff_path='../')"
   ]
  },
  {
   "cell_type": "code",
   "execution_count": null,
   "metadata": {},
   "outputs": [],
   "source": [
    "X_reshaped_train_estimated_a, X_reshaped_train_estimated_b, X_reshaped_train_estimated_c, X_reshaped_train_observed_a, X_reshaped_train_observed_b, X_reshaped_train_observed_c, X_reshaped_test_estimated_a, X_reshaped_test_estimated_b, X_reshaped_test_estimated_c = utils.get_reshaped_files(diff_path='../')"
   ]
  },
  {
   "cell_type": "code",
   "execution_count": null,
   "metadata": {},
   "outputs": [],
   "source": [
    "X_a_reshaped = pd.concat([X_reshaped_train_observed_a, X_reshaped_test_estimated_a])\n",
    "X_a_reshaped"
   ]
  },
  {
   "cell_type": "code",
   "execution_count": null,
   "metadata": {},
   "outputs": [],
   "source": [
    "days = utils.get_for_days_to_predict()\n",
    "len(days)"
   ]
  },
  {
   "cell_type": "code",
   "execution_count": null,
   "metadata": {},
   "outputs": [],
   "source": [
    "30 + 31 + 3 "
   ]
  },
  {
   "cell_type": "code",
   "execution_count": null,
   "metadata": {},
   "outputs": [],
   "source": [
    "keys = [1, 2, 3]\n",
    "X_reshaped_frame_a = [ X_reshaped_train_estimated_a, X_reshaped_train_observed_a, X_reshaped_test_estimated_a ]\n",
    "X_frame_a = pd.concat(X_reshaped_frame_a, keys=keys)\n",
    "X_frame_a.reset_index(level=0, inplace=True, names='frame_type')\n",
    "\n",
    "train_a = train_a.rename(columns={'time': 'date_forecast_0'})\n",
    "\n",
    "X_frame_a['date_forecast_0'] = pd.to_datetime(X_frame_a['date_forecast_0'])\n",
    "train_a['date_forecast_0'] = pd.to_datetime(train_a['date_forecast_0'])\n",
    "\n",
    "X_y_a = X_frame_a.merge(train_a, on='date_forecast_0', how='inner')\n",
    "X_y_a.reset_index(drop=True, inplace=True)"
   ]
  },
  {
   "cell_type": "code",
   "execution_count": null,
   "metadata": {},
   "outputs": [],
   "source": [
    "X_y_a2 = X_frame_a.merge(train_a, on='date_forecast_0', how=\"outer\", indicator=True)\n",
    "X_y_a2.reset_index(drop=True, inplace=True)"
   ]
  },
  {
   "cell_type": "code",
   "execution_count": null,
   "metadata": {},
   "outputs": [],
   "source": [
    "X_train_observed_a"
   ]
  },
  {
   "cell_type": "code",
   "execution_count": null,
   "metadata": {},
   "outputs": [],
   "source": [
    "X_frame_a.describe()"
   ]
  },
  {
   "cell_type": "code",
   "execution_count": null,
   "metadata": {},
   "outputs": [],
   "source": [
    "X_y_a"
   ]
  },
  {
   "cell_type": "code",
   "execution_count": null,
   "metadata": {},
   "outputs": [],
   "source": [
    "# fig, axs = plt.subplots(3, 1, figsize=(20, 10), sharex=True)\n",
    "# feature_name = 'pv_measurement'\n",
    "# train_a[['time', feature_name]].set_index('time').plot(ax=axs[0], title='Train A', color='red')\n",
    "# train_b[['time', feature_name]].set_index('time').plot(ax=axs[1], title='Train B', color='blue')\n",
    "# train_c[['time', feature_name]].set_index('time').plot(ax=axs[2], title='Train C', color='green')\n"
   ]
  },
  {
   "cell_type": "code",
   "execution_count": null,
   "metadata": {},
   "outputs": [],
   "source": [
    "date1 = np.datetime64('2020-04-29 08:00:00')\n",
    "date2 = np.datetime64('2020-05-03 22:00:00')"
   ]
  },
  {
   "cell_type": "code",
   "execution_count": null,
   "metadata": {},
   "outputs": [],
   "source": [
    "important_keys = utils.get_most_important_keys()"
   ]
  },
  {
   "cell_type": "code",
   "execution_count": null,
   "metadata": {},
   "outputs": [],
   "source": [
    "y = np.array(train_a[\"pv_measurement\"])\n",
    "fft_y = np.fft.fft(y[:29668])\n",
    "freq_y = np.fft.fftfreq(len(y)) # Spacing in hour\n",
    "plt.figure(figsize=(10,8))\n",
    "plt.plot(freq_y[:len(fft_y)//2], np.abs(fft_y)[:len(fft_y)//2])\n",
    "plt.title(\"Magn of fft(pv_measurement) on frequency (hours^-1)\")\n",
    "plt.grid()\n",
    "plt.plot()\n"
   ]
  },
  {
   "cell_type": "code",
   "execution_count": null,
   "metadata": {},
   "outputs": [],
   "source": [
    "1 / freq_y[np.argmax(np.abs(fft_y[1:len(fft_y)//2]))]"
   ]
  },
  {
   "cell_type": "markdown",
   "metadata": {},
   "source": [
    "A priori la différence d'échelle est trop grande entre les fréquences pour pouvoir avoir les frequences à l'échelle des mois/années\n",
    "\n",
    "Pour cela on doit échantilloner y en prenant une mesure par jour ou 2 jours ou semaine etc"
   ]
  },
  {
   "cell_type": "code",
   "execution_count": null,
   "metadata": {},
   "outputs": [],
   "source": [
    "plt.figure(figsize=(10,8))\n",
    "plt.plot(freq_y[:len(fft_y)//2], 20 * np.log10(np.abs(fft_y))[:len(fft_y)//2])\n",
    "plt.title(\"Magn of fft(pv_measurement) on frequency (hours^-1)\")\n",
    "plt.grid()\n",
    "plt.plot()"
   ]
  },
  {
   "cell_type": "code",
   "execution_count": null,
   "metadata": {},
   "outputs": [],
   "source": [
    "keys2 = important_keys\n",
    "\n",
    "X = np.array(X_train_observed_a[['clear_sky_energy_1h:J', 'clear_sky_rad:W', 'diffuse_rad:W', 'diffuse_rad_1h:J','direct_rad:W']])\n",
    "# fft_x = np.fft.fft(X, axis=(0,))\n",
    "fft_x = np.zeros(X.shape, dtype=complex)\n",
    "for dim in range(X.shape[1]):\n",
    "    fft_x[:, dim] = np.fft.fft(X[:, dim])\n",
    "freq_x = np.fft.fftfreq(118669, .25) # Spacing in quarter hour\n",
    "plt.figure(figsize=(10,8))\n",
    "for s in range(fft_x.shape[1]):\n",
    "    plt.plot(freq_x[:len(freq_x)//2], np.abs(fft_x.T[s])[:len(freq_x)//2])\n",
    "plt.title(\"Magn of fft(pv_measurement) on frequency (hours^-1)\")\n",
    "plt.grid()\n",
    "plt.plot()"
   ]
  },
  {
   "cell_type": "code",
   "execution_count": null,
   "metadata": {},
   "outputs": [],
   "source": [
    "important_keys"
   ]
  },
  {
   "cell_type": "code",
   "execution_count": null,
   "metadata": {},
   "outputs": [],
   "source": [
    "keys2 = important_keys\n",
    "\n",
    "x = np.array(X_train_observed_a[['clear_sky_energy_1h:J', 'clear_sky_rad:W', 'diffuse_rad:W', 'diffuse_rad_1h:J','direct_rad:W']])\n",
    "x = np.array([ x[k,:] for k in range(0, len(X), 4)])\n",
    "fft_x = np.zeros(x.shape, dtype=complex)\n",
    "for dim in range(x.shape[1]):\n",
    "    fft_x[:, dim] = np.fft.fft(x[:, dim])\n",
    "freq_x = np.fft.fftfreq(len(x), .25)\n",
    "\n",
    "plt.figure(figsize=(10,8))\n",
    "for s in range(fft_x.shape[1]):\n",
    "    plt.subplot(5, 1, s + 1)\n",
    "    plt.plot(freq_x[:len(freq_x)//2], np.abs(fft_x.T[s])[:len(freq_x)//2])\n",
    "    plt.title(\"Magn of fft(pv_measurement) on frequency (hours^-1)\")\n",
    "    plt.grid()\n",
    "\n",
    "plt.subplots_adjust(top=1., hspace=0.5)\n",
    "plt.plot()"
   ]
  },
  {
   "cell_type": "code",
   "execution_count": null,
   "metadata": {},
   "outputs": [],
   "source": [
    "X_train_observed_a[['clear_sky_energy_1h:J', 'clear_sky_rad:W', 'diffuse_rad:W', 'diffuse_rad_1h:J','direct_rad:W']]"
   ]
  },
  {
   "cell_type": "code",
   "execution_count": null,
   "metadata": {},
   "outputs": [],
   "source": [
    "fig, axs = plt.subplots(3, 1, figsize=(20, 10), sharex=True)\n",
    "feature_name = 'clear_sky_energy_1h:J' # 'pv_measurement'\n",
    "X_train_observed_a[['date_forecast', feature_name]].set_index('date_forecast').plot(ax=axs[0], title='Train A', color='red')\n",
    "X_train_observed_a[['date_forecast', feature_name]].set_index('date_forecast').plot(ax=axs[1], title='Train B', color='blue')\n",
    "X_train_observed_a[['date_forecast', feature_name]].set_index('date_forecast').plot(ax=axs[2], title='Train C', color='green')"
   ]
  },
  {
   "cell_type": "code",
   "execution_count": null,
   "metadata": {},
   "outputs": [],
   "source": [
    "H = np.array([ fft_y / fft_x[:, k] for k in range(fft_x.shape[1]) ]).T\n",
    "H.shape"
   ]
  },
  {
   "cell_type": "code",
   "execution_count": null,
   "metadata": {},
   "outputs": [],
   "source": [
    "keys2 = important_keys\n",
    "plt.figure(figsize=(10,8))\n",
    "for s in range(H.shape[1]):\n",
    "    plt.subplot(5, 1, s + 1)\n",
    "    plt.plot(freq_x[:len(freq_x)//2], np.abs(H.T[s])[:len(freq_x)//2])\n",
    "    plt.title(\"Magn of fft(pv_measurement) on frequency (hours^-1)\")\n",
    "    plt.grid()\n",
    "\n",
    "plt.subplots_adjust(top=1., hspace=0.5)\n",
    "plt.plot()"
   ]
  },
  {
   "cell_type": "code",
   "execution_count": null,
   "metadata": {},
   "outputs": [],
   "source": [
    "h = np.fft.ifft(H)"
   ]
  },
  {
   "cell_type": "code",
   "execution_count": null,
   "metadata": {},
   "outputs": [],
   "source": [
    "plt.plot(h)"
   ]
  },
  {
   "cell_type": "code",
   "execution_count": null,
   "metadata": {},
   "outputs": [],
   "source": [
    "h.shape"
   ]
  },
  {
   "cell_type": "code",
   "execution_count": null,
   "metadata": {},
   "outputs": [],
   "source": [
    "y_pred = np.convolve(h[:,0], x[:,0], mode='full')\n",
    "plt.plot(y_pred)\n",
    "plt.show()\n",
    "for k in range(1, x.shape[1]):\n",
    "    y_pred += np.convolve(h[:,k], x[:,k], mode='full')\n",
    "    plt.plot(y_pred)\n",
    "    plt.show()\n",
    "plt.show()\n",
    "plt.plot(y_pred)"
   ]
  },
  {
   "cell_type": "code",
   "execution_count": null,
   "metadata": {},
   "outputs": [],
   "source": [
    "plt.plot(train_a['pv_measurement'])"
   ]
  },
  {
   "cell_type": "code",
   "execution_count": null,
   "metadata": {},
   "outputs": [],
   "source": [
    "# fft_test_estimated_a = np.fft.fft(X_test_estimated_a[])"
   ]
  },
  {
   "cell_type": "code",
   "execution_count": null,
   "metadata": {},
   "outputs": [],
   "source": [
    "x = np.array(X_train_observed_a[['clear_sky_energy_1h:J', 'clear_sky_rad:W', 'diffuse_rad:W', 'diffuse_rad_1h:J','direct_rad:W']])\n",
    "x = np.array([ x[k,:] for k in range(0, len(x), 4)])\n",
    "\n",
    "y = np.array(train_a[\"pv_measurement\"])\n",
    "x.shape, y.shape"
   ]
  },
  {
   "cell_type": "code",
   "execution_count": null,
   "metadata": {},
   "outputs": [],
   "source": [
    "def minmax_norm(df):\n",
    "    return ( df - np.min(df) ) / ( np.max(df) - np.min(df))"
   ]
  },
  {
   "cell_type": "code",
   "execution_count": null,
   "metadata": {},
   "outputs": [],
   "source": [
    "from sklearn.preprocessing import normalize"
   ]
  },
  {
   "cell_type": "code",
   "execution_count": null,
   "metadata": {},
   "outputs": [],
   "source": [
    "keys2 = important_keys\n",
    "\n",
    "x = np.array(X_train_observed_a[['clear_sky_energy_1h:J', 'clear_sky_rad:W', 'diffuse_rad:W', 'diffuse_rad_1h:J','direct_rad:W']])\n",
    "x = np.array([ x[k, :] for k in range(0, len(x), 4)])\n",
    "# print(x.shape)\n",
    "for k in range(x.shape[1]):\n",
    "    print(x[:, k].reshape(-1, 1).shape)\n",
    "x = np.array( [ normalize(x[:, k].reshape(-1, 1), norm='l2') for k in range(x.shape[1])]).T.reshape(-1, x.shape[1])\n",
    "# print(x.shape)\n",
    "y = np.array(train_a[\"pv_measurement\"])[:len(x)]\n",
    "y = np.array([ normalize(y.reshape(-1, 1), norm='l2') for _ in range(x.shape[1])]).T.reshape(-1, x.shape[1])\n",
    "\n",
    "# x[:, 0] = np.log(x[:, 0])\n",
    "# y[:, 0] = 1 - np.exp(- y[:, 0])\n",
    "x2 = x[:, 0] + np.exp(x[:, 0])\n",
    "\n",
    "plt.figure(figsize=(10,8))\n",
    "for s in range(x.shape[1]):\n",
    "    plt.subplot(5, 1, s + 1)\n",
    "    sns.scatterplot(x=x[:, s], y=y[:, s]) # , hue='y', data=data_1)\n",
    "    # plt.plot(x.T[s], y[:, s])\n",
    "    plt.title(f\"pv_measurement on {important_keys[s+1]}\")\n",
    "    plt.grid()\n",
    "\n",
    "plt.subplots_adjust(top=1., hspace=0.5)\n",
    "plt.plot()"
   ]
  },
  {
   "cell_type": "code",
   "execution_count": null,
   "metadata": {},
   "outputs": [],
   "source": [
    "\n",
    "import numpy as np\n",
    "from sklearn.model_selection import train_test_split\n",
    "from sklearn.linear_model import LinearRegression\n",
    "from sklearn.metrics import mean_squared_error\n",
    "\n",
    "x_train, x_test, y_train, y_test = train_test_split(x.reshape(-1, 1), y, test_size=0.2, random_state=42)\n",
    "# Créez un modèle de régression linéaire\n",
    "model = LinearRegression()\n",
    "\n",
    "# Entraînez le modèle sur les données d'entraînement\n",
    "model.fit(x_train, y_train)\n",
    "\n",
    "# Faites des prédictions sur les données de test\n",
    "y_pred = model.predict(x_test)\n",
    "\n",
    "# Évaluez les performances du modèle\n",
    "mse = mean_squared_error(y_test, y_pred)\n",
    "print(\"Mean Squared Error:\", mse)\n",
    "\n",
    "# Maintenant, vous pouvez utiliser le modèle pour prédire y à partir de nouvelles données x\n",
    "new_x = np.array([6, 7, 8])\n",
    "predicted_y = model.predict(new_x.reshape(-1, 1))\n",
    "print(\"Predicted y:\", predicted_y)"
   ]
  },
  {
   "cell_type": "code",
   "execution_count": null,
   "metadata": {},
   "outputs": [],
   "source": [
    "# plt.plot(np.arctan(predicted_y))"
   ]
  },
  {
   "cell_type": "code",
   "execution_count": null,
   "metadata": {},
   "outputs": [],
   "source": [
    "plt.plot(x[:, 0], y)\n",
    "plt.show()\n",
    "plt.plot(x2, y)"
   ]
  },
  {
   "cell_type": "code",
   "execution_count": null,
   "metadata": {},
   "outputs": [],
   "source": [
    "plt.plot(y)"
   ]
  },
  {
   "cell_type": "code",
   "execution_count": null,
   "metadata": {},
   "outputs": [],
   "source": [
    "np.cov(X_train_observed_a['clear_sky_energy_1h:J'][:30000])\n",
    "x = np.array(X_train_observed_a[['clear_sky_energy_1h:J', 'clear_sky_rad:W', 'diffuse_rad:W', 'diffuse_rad_1h:J','direct_rad:W']])\n",
    "x = np.array([ x[k,:] for k in range(0, len(x), 4) ])\n",
    "plt.plot(x[:,0])"
   ]
  },
  {
   "cell_type": "code",
   "execution_count": null,
   "metadata": {},
   "outputs": [],
   "source": [
    "to_plot = (x[:, 0] / np.max(x[:, 0])) * 2 - 1\n",
    "# toplot2 = ((x[:, 0] / np.max(x[:, 0]))) \n",
    "# plt.plot(to_plot - toplot2)\n",
    "a = np.linspace(0, len(to_plot), len(to_plot))\n",
    "freq = 1 / ((np.argmax(x[:, 0]) - np.argmax(x[:5000, 0])) / 2)\n",
    "plt.plot(np.sin(2 * np.pi * freq * (a + (np.arcsin(x[15, 0]) * 2 - 1))) )\n",
    "# plt.plot(to_plot)\n"
   ]
  },
  {
   "cell_type": "code",
   "execution_count": null,
   "metadata": {},
   "outputs": [],
   "source": [
    "a + np.arcsin(x[15, 0])"
   ]
  },
  {
   "cell_type": "code",
   "execution_count": null,
   "metadata": {},
   "outputs": [],
   "source": [
    "x[15, 0] / np.max(x[:, 0])"
   ]
  },
  {
   "cell_type": "code",
   "execution_count": null,
   "metadata": {},
   "outputs": [],
   "source": []
  }
 ],
 "metadata": {
  "kernelspec": {
   "display_name": "mlsolar",
   "language": "python",
   "name": "mlsolar"
  },
  "language_info": {
   "codemirror_mode": {
    "name": "ipython",
    "version": 3
   },
   "file_extension": ".py",
   "mimetype": "text/x-python",
   "name": "python",
   "nbconvert_exporter": "python",
   "pygments_lexer": "ipython3",
   "version": "3.10.11"
  }
 },
 "nbformat": 4,
 "nbformat_minor": 2
}
