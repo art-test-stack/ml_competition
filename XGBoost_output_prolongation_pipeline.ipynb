{
  "cells": [
    {
      "cell_type": "code",
      "execution_count": null,
      "metadata": {
        "colab": {
          "base_uri": "https://localhost:8080/"
        },
        "id": "D8J4eNw8to8q",
        "outputId": "c940eb4c-54df-493d-9e64-02944d68c265"
      },
      "outputs": [],
      "source": [
        "# from google.colab import drive\n",
        "# drive.mount('/content/drive/')"
      ]
    },
    {
      "cell_type": "code",
      "execution_count": null,
      "metadata": {
        "id": "xyUFazkBu4_S"
      },
      "outputs": [],
      "source": [
        "import os\n",
        "import pandas as pd\n",
        "import numpy as np\n",
        "import matplotlib.pylab as plt\n",
        "import seaborn as sns\n",
        "from tqdm import tqdm\n",
        "import networkx as nx\n",
        "import scipy\n",
        "import json\n",
        "import sys\n",
        "path = ''\n",
        "sys.path.append(path)\n",
        "import utils\n",
        "import settings\n",
        "import pickle\n",
        "from sklearn.preprocessing import StandardScaler, Normalizer, RobustScaler, MinMaxScaler\n",
        "from sklearn.model_selection import train_test_split\n",
        "from datetime import datetime\n",
        "\n",
        "pd.set_option('display.max_rows', 200)\n",
        "pd.set_option('display.max_columns', 200)"
      ]
    },
    {
      "cell_type": "code",
      "execution_count": null,
      "metadata": {
        "id": "TkJVCDaBvEUt"
      },
      "outputs": [],
      "source": [
        "def save(nom,model):\n",
        "  # Enregistrez le modele (ML/scaler/autre) dans un fichier\n",
        "  with open(nom+'.pkl', 'wb') as f:\n",
        "      pickle.dump(model, f)"
      ]
    },
    {
      "cell_type": "code",
      "execution_count": null,
      "metadata": {
        "id": "VlShtaIBvGei"
      },
      "outputs": [],
      "source": [
        "def f_open(chemin):\n",
        "  with open(chemin, 'rb') as f:\n",
        "    modele = pickle.load(f)\n",
        "  return modele"
      ]
    },
    {
      "cell_type": "markdown",
      "metadata": {},
      "source": [
        "# Hyper params"
      ]
    },
    {
      "cell_type": "code",
      "execution_count": null,
      "metadata": {},
      "outputs": [],
      "source": [
        "train_delta_t = 0\n",
        "max_depth = 4\n",
        "eval_metric = 'mae'\n",
        "n_estimators = 1000\n",
        "scaler_name = 'NormalizerMinMax'\n",
        "scaler_a = MinMaxScaler()\n",
        "scaler_b = MinMaxScaler()\n",
        "scaler_c = MinMaxScaler()\n",
        "random_state = 42\n",
        "interpolation_method = 'linear' # 'from_derivatives'\n",
        "submission_path = '8nov_sub/'\n",
        "test_set_param = 'rd_set' # 'basic'\n",
        "eta = 1e-2"
      ]
    },
    {
      "cell_type": "code",
      "execution_count": null,
      "metadata": {
        "id": "EJEI78QVvMHt"
      },
      "outputs": [],
      "source": [
        "path = path\n",
        "train_a, train_b, train_c, X_train_estimated_a, X_train_estimated_b, X_train_estimated_c, X_train_observed_a, X_train_observed_b, X_train_observed_c, X_test_estimated_a, X_test_estimated_b, X_test_estimated_c = utils.read_files(diff_path=path)\n",
        "test = pd.read_csv(path+\"test.csv\")\n",
        "sample_submission = pd.read_csv(path+\"sample_submission.csv\")"
      ]
    },
    {
      "cell_type": "code",
      "execution_count": null,
      "metadata": {},
      "outputs": [],
      "source": [
        "# def add_linear_value_to_output(df):\n",
        "#     new_df = df.copy()\n",
        "\n",
        "#     for i in range(len(df) - 1):\n",
        "#         row = df.iloc[i]\n",
        "#         next_row = df.iloc[i + 1]\n",
        "#         if next_row['time'] == row['time'] + pd.Timedelta(hours=1):\n",
        "#             quarter_hour = 0.75 * row['pv_measurement'] + 0.25 * next_row['pv_measurement']\n",
        "#             half_hour = 0.5 * row['pv_measurement'] + 0.5 * next_row['pv_measurement']\n",
        "#             three_quarters_hour = 0.25 * row['pv_measurement'] + 0.75 * next_row['pv_measurement']\n",
        "\n",
        "#             new_df = pd.concat([new_df, pd.DataFrame({'time': [row['time'] + pd.Timedelta(minutes=15)], 'pv_measurement': [quarter_hour]})], ignore_index=True)\n",
        "#             new_df = pd.concat([new_df, pd.DataFrame({'time': [row['time'] + pd.Timedelta(minutes=30)], 'pv_measurement': [half_hour]})], ignore_index=True)\n",
        "#             new_df = pd.concat([new_df, pd.DataFrame({'time': [row['time'] + pd.Timedelta(minutes=45)], 'pv_measurement': [three_quarters_hour]})], ignore_index=True)\n",
        "\n",
        "#     new_df = new_df.sort_values(by='time')\n",
        "#     new_df.reset_index(drop=True, inplace=True)\n",
        "\n",
        "#     return new_df"
      ]
    },
    {
      "cell_type": "code",
      "execution_count": null,
      "metadata": {},
      "outputs": [],
      "source": [
        "def add_linear_value_to_output(df):\n",
        "    freq = '15T'\n",
        "    df = df.set_index('time').resample(freq).asfreq()\n",
        "    df['pv_measurement'] = df['pv_measurement'].interpolate(method=interpolation_method)\n",
        "    df = df.reset_index()\n",
        "    return df"
      ]
    },
    {
      "cell_type": "code",
      "execution_count": null,
      "metadata": {},
      "outputs": [],
      "source": [
        "train_a = add_linear_value_to_output(train_a)\n",
        "train_b = add_linear_value_to_output(train_b)\n",
        "train_c = add_linear_value_to_output(train_c)"
      ]
    },
    {
      "cell_type": "markdown",
      "metadata": {},
      "source": [
        "# B and C clean up"
      ]
    },
    {
      "cell_type": "code",
      "execution_count": null,
      "metadata": {},
      "outputs": [],
      "source": [
        "def filter_dates_when_constants(df, date_c = 'time', y = 'pv_measurement', delta = { 'days': 3 }):\n",
        "    df = df.copy()\n",
        "    mask_y_change = df[y] != df[y].shift(1)\n",
        "\n",
        "    start_date = None\n",
        "    end_date = None\n",
        "\n",
        "    constant_periods = []\n",
        "\n",
        "    for index, row in df.iterrows():\n",
        "        if not mask_y_change[index]:\n",
        "            if start_date is None:\n",
        "                start_date = row[date_c]\n",
        "            end_date = row[date_c]\n",
        "        else:\n",
        "            if start_date is not None and (end_date - start_date) >= pd.Timedelta(**delta):\n",
        "                constant_periods.append((start_date, end_date))\n",
        "            start_date = None\n",
        "            end_date = None\n",
        "\n",
        "    if start_date is not None and (end_date - start_date) >= pd.Timedelta(**delta):\n",
        "        constant_periods.append((start_date, end_date))\n",
        "    return constant_periods"
      ]
    },
    {
      "cell_type": "code",
      "execution_count": null,
      "metadata": {},
      "outputs": [],
      "source": [
        "def delete_date_range_from_df(df, dates, date_c = 'time'):\n",
        "    df = df.copy()\n",
        "    c = 0\n",
        "    for start_date, end_date in dates:\n",
        "        mask = (df[date_c] >= start_date) & (df[date_c] < end_date)\n",
        "        df = df[~mask]\n",
        "    df.reset_index(drop=True, inplace=True)\n",
        "    return df"
      ]
    },
    {
      "cell_type": "code",
      "execution_count": null,
      "metadata": {},
      "outputs": [],
      "source": [
        "delta = { 'hours': 12 * 4 }\n",
        "train_a = delete_date_range_from_df(train_a, filter_dates_when_constants(train_a, delta=delta))\n",
        "train_b = delete_date_range_from_df(train_b, filter_dates_when_constants(train_b, delta=delta))\n",
        "train_c = delete_date_range_from_df(train_c, filter_dates_when_constants(train_c, delta=delta))"
      ]
    },
    {
      "cell_type": "code",
      "execution_count": null,
      "metadata": {},
      "outputs": [],
      "source": [
        "# delta_title = str(train_delta_t)\n",
        "# delta_h = pd.Timedelta(minutes=train_delta_t)\n",
        "# train_a['date_forecast'] = train_a['time'] - delta_h\n",
        "# train_b['date_forecast'] = train_b['time'] - delta_h\n",
        "# train_c['date_forecast'] = train_c['time'] - delta_h"
      ]
    },
    {
      "cell_type": "markdown",
      "metadata": {
        "id": "KxAteBV8PYeY"
      },
      "source": [
        "# Réorganisation des df :"
      ]
    },
    {
      "cell_type": "code",
      "execution_count": null,
      "metadata": {},
      "outputs": [],
      "source": [
        "len(X_train_observed_a), len(X_train_estimated_a)"
      ]
    },
    {
      "cell_type": "code",
      "execution_count": null,
      "metadata": {
        "id": "5toXOJy4kFqf"
      },
      "outputs": [],
      "source": [
        "# observed + estimated\n",
        "X_total_a = pd.concat([X_train_observed_a, X_train_estimated_a], ignore_index=True)\n",
        "X_total_b = pd.concat([X_train_observed_b, X_train_estimated_b], ignore_index=True)\n",
        "X_total_c = pd.concat([X_train_observed_c, X_train_estimated_c], ignore_index=True)"
      ]
    },
    {
      "cell_type": "markdown",
      "metadata": {
        "id": "OF3JN3oIlreX"
      },
      "source": [
        "Attention, il faut penser à revoir les valeurs météo et pv de estimated !!!"
      ]
    },
    {
      "cell_type": "markdown",
      "metadata": {
        "id": "3gri4yq2s749"
      },
      "source": [
        "# Changement nom time dans les train"
      ]
    },
    {
      "cell_type": "code",
      "execution_count": null,
      "metadata": {
        "id": "c6egYZKNs6-d"
      },
      "outputs": [],
      "source": [
        "train_a.rename(columns={'time': 'date_forecast'}, inplace=True) #pour faire le merge\n",
        "train_b.rename(columns={'time': 'date_forecast'}, inplace=True) #pour faire le merge\n",
        "train_c.rename(columns={'time': 'date_forecast'}, inplace=True) #pour faire le merge\n",
        "# test.rename(columns={'time': 'date_forecast'}, inplace=True)\n",
        "# train_a, train_b, train_c = train_a.drop(columns='time'), train_b.drop(columns='time'), train_c.drop(columns='time')\n",
        "train_a.dropna(subset=['pv_measurement'], inplace=True)  #Supprime les lignes vides\n",
        "train_b.dropna(subset=['pv_measurement'], inplace=True)  #Supprime les lignes vides\n",
        "train_c.dropna(subset=['pv_measurement'], inplace=True)  #Supprime les lignes vides"
      ]
    },
    {
      "cell_type": "markdown",
      "metadata": {
        "id": "Kye01adKsBSE"
      },
      "source": [
        "# Correspondance X et y :"
      ]
    },
    {
      "cell_type": "markdown",
      "metadata": {
        "id": "NvWmIBTEsFcs"
      },
      "source": [
        "Ici nous avons plusieurs choix :    \n",
        "- matcher directement sur dateforcast\n",
        "- matcher sur dateforcast et résumer nos variables météo en moyenne et écart type\n",
        "- matcher sur un autre créneau (peut être fais sur des variables spécifique !)"
      ]
    },
    {
      "cell_type": "markdown",
      "metadata": {
        "id": "ovYZlj3Ksaci"
      },
      "source": [
        "Dans un premier temps on fera directement sur dateforcast"
      ]
    },
    {
      "cell_type": "code",
      "execution_count": null,
      "metadata": {
        "id": "w7gHKkBosZst"
      },
      "outputs": [],
      "source": [
        "X_total_a_y = pd.merge(X_total_a, train_a, on='date_forecast', how='inner')\n",
        "X_total_b_y = pd.merge(X_total_b, train_b, on='date_forecast', how='inner')\n",
        "X_total_c_y = pd.merge(X_total_c, train_c, on='date_forecast', how='inner')"
      ]
    },
    {
      "cell_type": "code",
      "execution_count": null,
      "metadata": {},
      "outputs": [],
      "source": [
        "def gestion_nan(df):\n",
        "  df_copy = df.copy()\n",
        "  #delete of the snow density column\n",
        "  df_copy = df_copy.drop('snow_density:kgm3',axis=1)\n",
        "  # Approximation of the other two columns\n",
        "  df_copy['ceiling_height_agl:m'] = df_copy['ceiling_height_agl:m'].interpolate(method='linear', limit_direction='both')\n",
        "  df_copy['cloud_base_agl:m'] = df_copy['cloud_base_agl:m'].interpolate(method='linear', limit_direction='both')\n",
        "  return df_copy"
      ]
    },
    {
      "cell_type": "code",
      "execution_count": null,
      "metadata": {
        "id": "s-sP7k-TTLN2"
      },
      "outputs": [],
      "source": [
        "def gestion_nan(df):\n",
        "  df_copy = df.copy()\n",
        "  df_copy = df_copy.drop('snow_density:kgm3',axis=1)\n",
        "  df_copy[f'ceiling_height_agl:m'] = df_copy[f'ceiling_height_agl:m'].interpolate(method='linear', limit_direction='both')\n",
        "  df_copy[f'cloud_base_agl:m'] = df_copy[f'cloud_base_agl:m'].interpolate(method='linear', limit_direction='both')\n",
        "  return df_copy"
      ]
    },
    {
      "cell_type": "code",
      "execution_count": null,
      "metadata": {
        "id": "COlGJ5ATU8st"
      },
      "outputs": [],
      "source": [
        "X_train_observed_a_nan = gestion_nan(X_train_observed_a)"
      ]
    },
    {
      "cell_type": "markdown",
      "metadata": {
        "id": "yFQ4yv46wlMA"
      },
      "source": [
        "# Traitement des df + séparation train/test"
      ]
    },
    {
      "cell_type": "markdown",
      "metadata": {
        "id": "LVSQrEZNxJNU"
      },
      "source": [
        "## Séparation train/test"
      ]
    },
    {
      "cell_type": "markdown",
      "metadata": {
        "id": "8Rh-BL2-myEh"
      },
      "source": [
        "A la fin on va projeter à partir de donnée météo estimer sur un periode non rencontré.\n",
        "\n",
        "On va donc séparer notre train/test sur les même conditions, à savoir que le test sera issue de estimated. Il ne reste qu'à fixer la date à partir de laquelle on fait la séparation.\n",
        "\n",
        "L'objectif est aussi d'avoir de l'estimated dans l'entrainement pour prendre en compte la différence entre observed et estimated qui devra être régler plus tard."
      ]
    },
    {
      "cell_type": "code",
      "execution_count": null,
      "metadata": {
        "colab": {
          "base_uri": "https://localhost:8080/"
        },
        "id": "otDF8xN6m07V",
        "outputId": "c3a94cb4-ac54-4c7f-fc85-40548e15cbcd"
      },
      "outputs": [],
      "source": [
        "print(len(X_train_observed_a))\n",
        "print(len(X_train_estimated_a))\n",
        "print(len(X_train_estimated_a)/(len(X_train_estimated_a)+len(X_train_observed_a)))"
      ]
    },
    {
      "cell_type": "code",
      "execution_count": null,
      "metadata": {
        "id": "vpzCuuBVXkZb"
      },
      "outputs": [],
      "source": [
        "X_total_a_y_nan = gestion_nan(X_total_a_y)\n",
        "X_total_b_y_nan = gestion_nan(X_total_b_y)\n",
        "X_total_c_y_nan = gestion_nan(X_total_c_y)"
      ]
    },
    {
      "cell_type": "code",
      "execution_count": null,
      "metadata": {},
      "outputs": [],
      "source": [
        "split_date_a = X_train_estimated_a['date_forecast'].quantile(0.25)\n",
        "split_date_b = X_train_estimated_b['date_forecast'].quantile(0.25)\n",
        "split_date_c = X_train_estimated_c['date_forecast'].quantile(0.25)"
      ]
    },
    {
      "cell_type": "code",
      "execution_count": null,
      "metadata": {},
      "outputs": [],
      "source": [
        "split_date_a = pd.to_datetime(\"2021-04-15\")\n",
        "split_date2_a = pd.to_datetime(\"2021-08-15\")\n",
        "\n",
        "split_date_b = pd.to_datetime(\"2019-04-15\")\n",
        "split_date2_b = pd.to_datetime(\"2019-08-15\")\n",
        "\n",
        "split_date_c = pd.to_datetime(\"2021-04-15\")\n",
        "split_date2_c = pd.to_datetime(\"2021-08-15\")"
      ]
    },
    {
      "cell_type": "code",
      "execution_count": null,
      "metadata": {},
      "outputs": [],
      "source": [
        "start_2019 = pd.to_datetime(\"2019-04-21\")\n",
        "end_2019 = pd.to_datetime(\"2019-07-22\")\n",
        "\n",
        "start_2020 = pd.to_datetime(\"2020-04-21\")\n",
        "end_2020 = pd.to_datetime(\"2020-07-22\")\n",
        "\n",
        "start_2021 = pd.to_datetime(\"2021-04-21\")\n",
        "end_2021 = pd.to_datetime(\"2021-07-22\")\n",
        "\n",
        "start_2022 = pd.to_datetime(\"2022-04-21\")\n",
        "end_2022 = pd.to_datetime(\"2022-07-22\")"
      ]
    },
    {
      "cell_type": "code",
      "execution_count": null,
      "metadata": {},
      "outputs": [],
      "source": [
        "def create_mask_for_split_training_and_testing(df, start_estimated, time_column = 'date_forecast'):\n",
        "    # mask_2019 = ((df[time_column] >= start_2019) & (df[time_column] < end_2019))\n",
        "    mask_2020 = ((df[time_column] >= start_2020) & (df[time_column] < end_2020))\n",
        "    mask_2021 = ((df[time_column] >= start_2021) & (df[time_column] < end_2021))\n",
        "    mask_2022 = ((df[time_column] >= start_2022) & (df[time_column] < end_2022))\n",
        "    mask_estimated = (df[time_column] >= start_estimated)\n",
        "    # return mask_2019, mask_2020, mask_2021, mask_2022,mask_estimated\n",
        "    return mask_2020, mask_2021, mask_2022,mask_estimated"
      ]
    },
    {
      "cell_type": "code",
      "execution_count": null,
      "metadata": {},
      "outputs": [],
      "source": [
        "def split_training_testing_set_on_test_set_dates():\n",
        "    quantile = .25\n",
        "    pv_train_a = X_total_a_y_nan[X_total_a_y_nan['date_forecast'] <= X_train_estimated_a['date_forecast'].quantile(quantile)].copy()\n",
        "    pv_test_a = X_total_a_y_nan[X_total_a_y_nan['date_forecast'] > X_train_estimated_a['date_forecast'].quantile(quantile)].copy()\n",
        "\n",
        "    pv_train_b = X_total_b_y_nan[X_total_b_y_nan['date_forecast'] <= X_train_estimated_b['date_forecast'].quantile(quantile)].copy()\n",
        "    pv_test_b = X_total_b_y_nan[X_total_b_y_nan['date_forecast'] > X_train_estimated_b['date_forecast'].quantile(quantile)].copy()\n",
        "\n",
        "    pv_train_c = X_total_c_y_nan[X_total_c_y_nan['date_forecast'] <= X_train_estimated_c['date_forecast'].quantile(quantile)].copy()\n",
        "    pv_test_c = X_total_c_y_nan[X_total_c_y_nan['date_forecast'] > X_train_estimated_c['date_forecast'].quantile(quantile)].copy() \n",
        "    return pv_train_a, pv_test_a, pv_train_b, pv_test_b, pv_train_c, pv_test_c"
      ]
    },
    {
      "cell_type": "code",
      "execution_count": null,
      "metadata": {},
      "outputs": [],
      "source": [
        "# def split_training_testing_set(df, start_estimated, random_state=42, test_size = .15, time_column = 'date_forecast'):\n",
        "#     df_to_split = df.copy()\n",
        "#     mask_2021, mask_2022, mask_estimated = create_mask_for_split_training_and_testing(df_to_split, start_estimated)\n",
        "\n",
        "#     df_summers = df_to_split[ mask_2021 | mask_2022]\n",
        "#     df_estimated = df_to_split[mask_estimated]\n",
        "#     print(len(df_estimated))\n",
        "#     df_not_summer = df_to_split[~(mask_2021 | mask_2022 | mask_estimated)]\n",
        "\n",
        "#     # test_size_summer = test_size * (len(df_summers) + len(df_not_summer) + len(df_estimated)) / (len(df_summers) + len(df_estimated))\n",
        "#     # test_size_estimated = test_size * (len(df_summers) + len(df_not_summer) + len(df_estimated)) / (len(df_summers) + len(df_estimated))\n",
        "\n",
        "#     test_size_estimated = 0.8\n",
        "#     test_size_summer = ( test_size * (len(df_summers) + len(df_not_summer) + len(df_estimated)) - test_size_estimated * len(df_estimated) ) / len(df_summers)\n",
        "#     # test_size_summer = ( test_size * (len(df_summers) + len(df_not_summer) + len(df_estimated)) - test_size_estimated * len(df_estimated) ) / len(df_summers)\n",
        "#     # test_size_estimated = 1 - test_size_summer\n",
        "#     # train_data_summer, pv_test_not_ordered = train_test_split(df_summers, test_size=test_size, random_state=random_state)\n",
        "\n",
        "#     unique_dates_summer = df_summers[time_column].dt.date.unique()\n",
        "#     unique_dates_estimated = df_summers[time_column].dt.date.unique()\n",
        "\n",
        "#     train_dates_summer, test_dates_summer = train_test_split(unique_dates_summer, test_size=test_size_summer, random_state=random_state)\n",
        "#     train_dates_estimated, test_dates_estimated = train_test_split(unique_dates_estimated, test_size=test_size_estimated, random_state=random_state)\n",
        "\n",
        "#     train_data_summer = df_summers[df_summers[time_column].dt.date.isin(train_dates_summer)]\n",
        "#     train_data_estimated = df_estimated[df_estimated[time_column].dt.date.isin(train_dates_estimated)]\n",
        "\n",
        "#     pv_test_summer_not_ordered = df_summers[df_summers[time_column].dt.date.isin(test_dates_summer)]\n",
        "#     pv_test_estimated_not_ordered = df_estimated[df_estimated[time_column].dt.date.isin(test_dates_estimated)]\n",
        "\n",
        "#     pv_test_not_ordered = pd.concat([pv_test_summer_not_ordered, pv_test_estimated_not_ordered])\n",
        "#     pv_train_not_ordered = pd.concat([train_data_summer, train_data_estimated, df_not_summer])\n",
        "\n",
        "#     pv_train = pv_train_not_ordered.sort_values(by=time_column)\n",
        "#     pv_test = pv_test_not_ordered.sort_values(by=time_column)\n",
        "#     return pv_train, pv_test"
      ]
    },
    {
      "cell_type": "code",
      "execution_count": null,
      "metadata": {},
      "outputs": [],
      "source": [
        "def split_training_testing_set(df, start_estimated, random_state=42, test_size = .1, time_column = 'date_forecast'):\n",
        "    df_to_split = df.copy()\n",
        "    # mask_2019, mask_2020, mask_2021, mask_2022, mask_estimated = create_mask_for_split_training_and_testing(df_to_split, start_estimated)\n",
        "    mask_2020, mask_2021, mask_2022, mask_estimated = create_mask_for_split_training_and_testing(df_to_split, start_estimated)\n",
        "    # mask_2021, mask_2022, mask_estimated = create_mask_for_split_training_and_testing(df_to_split, start_estimated)\n",
        "    df_summers = df_to_split[ mask_2020 | mask_2021 | mask_2022 | mask_estimated]\n",
        "    df_not_summer = df_to_split[~(mask_2020 | mask_2021 | mask_2022 | mask_estimated)]\n",
        "    test_size = test_size * (len(df_summers) + len(df_not_summer)) / len(df_summers)\n",
        "    train_data_summer, pv_test_not_ordered = train_test_split(df_summers, test_size=test_size, random_state=random_state)\n",
        "\n",
        "    pv_train_not_ordered = pd.concat([train_data_summer, df_not_summer])\n",
        "    pv_train = pv_train_not_ordered.sort_values(by='date_forecast')\n",
        "    pv_test = pv_test_not_ordered.sort_values(by='date_forecast')\n",
        "    return pv_train, pv_test"
      ]
    },
    {
      "cell_type": "code",
      "execution_count": null,
      "metadata": {},
      "outputs": [],
      "source": [
        "# create_mask_for_split_training_and_testing(df, start_estimated, time_column = 'date_forecast')\n",
        "df_to_split = X_total_b_y_nan\n",
        "start_estimated = X_train_estimated_b[\"date_forecast\"].mean()\n",
        "mask_2020, mask_2021, mask_2022, mask_estimated = create_mask_for_split_training_and_testing(df_to_split, start_estimated)"
      ]
    },
    {
      "cell_type": "code",
      "execution_count": null,
      "metadata": {},
      "outputs": [],
      "source": [
        "pv_train_a, pv_test_a = split_training_testing_set(X_total_a_y_nan, X_train_estimated_a[\"date_forecast\"].mean(), random_state=random_state)\n",
        "pv_train_b, pv_test_b = split_training_testing_set(X_total_b_y_nan, X_train_estimated_b[\"date_forecast\"].mean(), random_state=random_state)\n",
        "pv_train_c, pv_test_c = split_training_testing_set(X_total_c_y_nan, X_train_estimated_c[\"date_forecast\"].mean(), random_state=random_state)"
      ]
    },
    {
      "cell_type": "code",
      "execution_count": null,
      "metadata": {},
      "outputs": [],
      "source": [
        "if test_set_param=='basic': pv_train_a, pv_test_a, pv_train_b, pv_test_b, pv_train_c, pv_test_c = split_training_testing_set_on_test_set_dates()"
      ]
    },
    {
      "cell_type": "code",
      "execution_count": null,
      "metadata": {
        "colab": {
          "base_uri": "https://localhost:8080/"
        },
        "id": "v_1dTdJYxT9q",
        "outputId": "af1e5cd4-d79f-4309-a6c7-452801dea0a1"
      },
      "outputs": [],
      "source": [
        "\n",
        "print(\"train_a :\",pv_train_a.shape)\n",
        "print(\"test_a :\",pv_test_a.shape)\n",
        "print(\"Rapport test/total :\", round(pv_test_a.shape[0]/(pv_test_a.shape[0]+pv_train_a.shape[0]),3)*100, '%')\n",
        "print(\"train_b :\",pv_train_b.shape)\n",
        "print(\"test_b :\",pv_test_b.shape)\n",
        "print(\"Rapport test/total :\", round(pv_test_b.shape[0]/(pv_test_b.shape[0]+pv_train_b.shape[0]),3)*100, '%')\n",
        "print(\"train_c :\",pv_train_c.shape)\n",
        "print(\"test_c :\",pv_test_c.shape)\n",
        "print(\"Rapport test/total :\", round(pv_test_c.shape[0]/(pv_test_c.shape[0]+pv_train_c.shape[0]),3)*100, '%')"
      ]
    },
    {
      "cell_type": "markdown",
      "metadata": {
        "id": "BvJgNqxMoPK3"
      },
      "source": [
        "## Changement type de la date_forecast"
      ]
    },
    {
      "cell_type": "code",
      "execution_count": null,
      "metadata": {
        "id": "6YwsnFtQxI72"
      },
      "outputs": [],
      "source": [
        "# on change le type de date_forecast\n",
        "pv_train_a['date_forecast'] = pd.to_datetime(pv_train_a['date_forecast'])\n",
        "pv_test_a['date_forecast'] = pd.to_datetime(pv_test_a['date_forecast'])\n",
        "\n",
        "pv_train_b['date_forecast'] = pd.to_datetime(pv_train_b['date_forecast'])\n",
        "pv_test_b['date_forecast'] = pd.to_datetime(pv_test_b['date_forecast'])\n",
        "\n",
        "pv_train_c['date_forecast'] = pd.to_datetime(pv_train_c['date_forecast'])\n",
        "pv_test_c['date_forecast'] = pd.to_datetime(pv_test_c['date_forecast'])"
      ]
    },
    {
      "cell_type": "markdown",
      "metadata": {
        "id": "GcD5npiww7DB"
      },
      "source": [
        "## Filtrage des variables"
      ]
    },
    {
      "cell_type": "code",
      "execution_count": null,
      "metadata": {
        "id": "vrSBNA6lwiVf"
      },
      "outputs": [],
      "source": [
        "#function to apply XGBoost model\n",
        "def create_features(df, label):\n",
        "\n",
        "    # V2\n",
        "    df['hour'] = df[\"date_forecast\"].dt.hour\n",
        "    df['dayofweek'] = df[\"date_forecast\"].dt.dayofweek\n",
        "    df['quarter'] = df[\"date_forecast\"].dt.quarter\n",
        "    df['month'] = df[\"date_forecast\"].dt.month\n",
        "    df['year'] = df[\"date_forecast\"].dt.year\n",
        "    df['dayofyear'] = df[\"date_forecast\"].dt.dayofyear\n",
        "    df['dayofmonth'] = df[\"date_forecast\"].dt.day\n",
        "    # fin V2\n",
        "    df = df.drop([\"date_calc\",\"date_forecast\"],axis=1) if \"date_calc\" in df.columns else df.drop([\"date_forecast\"],axis=1)\n",
        "    \n",
        "    df[f'sun_azimuth:d'] = df[f'sun_azimuth:d'].apply(lambda x : np.cos(x/180*np.pi + np.pi))\n",
        "    \n",
        "    if label:\n",
        "        y = df[label]\n",
        "        df = df.drop(label,axis=1)\n",
        "        return df, y\n",
        "    return df"
      ]
    },
    {
      "cell_type": "code",
      "execution_count": null,
      "metadata": {
        "id": "Hg8hidKFxGYS"
      },
      "outputs": [],
      "source": [
        "X_train_a, y_train_a = create_features(pv_train_a, label='pv_measurement')\n",
        "X_test_a, y_test_a = create_features(pv_test_a, label='pv_measurement')\n",
        "\n",
        "X_train_b, y_train_b = create_features(pv_train_b, label='pv_measurement')\n",
        "X_test_b, y_test_b = create_features(pv_test_b, label='pv_measurement')\n",
        "\n",
        "X_train_c, y_train_c = create_features(pv_train_c, label='pv_measurement')\n",
        "X_test_c, y_test_c = create_features(pv_test_c, label='pv_measurement')"
      ]
    },
    {
      "cell_type": "markdown",
      "metadata": {
        "id": "nZcMisI0yLLN"
      },
      "source": [
        "## Normalisation"
      ]
    },
    {
      "cell_type": "code",
      "execution_count": null,
      "metadata": {
        "id": "wuby8RfayOh4"
      },
      "outputs": [],
      "source": [
        "def sklearn_z_score_normalize_dataframe(df,return_scaler=False,scaler=None,fit=True):\n",
        "    \"\"\"\n",
        "    Normalizes a DataFrame using z-score normalization (mean and standard deviation) from Scikit-Learn.\n",
        "\n",
        "    Parameters:\n",
        "    df (pd.DataFrame): The DataFrame to be normalized.\n",
        "\n",
        "    Returns:\n",
        "    pd.DataFrame: The z-score normalized DataFrame.\n",
        "    \"\"\"\n",
        "    if scaler == None :\n",
        "      # Create a StandardScaler instance\n",
        "      # scaler = Normalizer()\n",
        "      # scaler = RobustScaler()\n",
        "      scaler = StandardScaler()\n",
        "\n",
        "      # Fit the scaler on the DataFrame and transform the data\n",
        "      normalized_data = scaler.fit_transform(df)\n",
        "\n",
        "    else : \n",
        "      if fit:\n",
        "        normalized_data = scaler.fit_transform(df)\n",
        "      else: \n",
        "        normalized_data = scaler.transform(df)\n",
        "\n",
        "    # Create a new DataFrame with the scaled data\n",
        "    normalized_df = pd.DataFrame(normalized_data, columns=df.columns)\n",
        "\n",
        "    # retourner le scaler\n",
        "    if return_scaler :\n",
        "      return normalized_df,scaler\n",
        "    return normalized_df"
      ]
    },
    {
      "cell_type": "code",
      "execution_count": null,
      "metadata": {
        "id": "HDvBAoHIycUd"
      },
      "outputs": [],
      "source": [
        "X_train_a_norm,scaler_a = sklearn_z_score_normalize_dataframe(X_train_a,return_scaler=True, scaler=scaler_a)\n",
        "X_train_b_norm,scaler_b = sklearn_z_score_normalize_dataframe(X_train_b,return_scaler=True, scaler=scaler_b)\n",
        "X_train_c_norm,scaler_c = sklearn_z_score_normalize_dataframe(X_train_c,return_scaler=True, scaler=scaler_c)"
      ]
    },
    {
      "cell_type": "code",
      "execution_count": null,
      "metadata": {
        "id": "MgKwlaf2zeQ9"
      },
      "outputs": [],
      "source": [
        "X_test_a_norm = sklearn_z_score_normalize_dataframe(X_test_a,return_scaler=False,scaler=scaler_a, fit=False)\n",
        "X_test_b_norm = sklearn_z_score_normalize_dataframe(X_test_b,return_scaler=False,scaler=scaler_b, fit=False)\n",
        "X_test_c_norm = sklearn_z_score_normalize_dataframe(X_test_c,return_scaler=False,scaler=scaler_c, fit=False)"
      ]
    },
    {
      "cell_type": "markdown",
      "metadata": {
        "id": "acBk2cFgyO0i"
      },
      "source": [
        "## Preprocessing globale"
      ]
    },
    {
      "cell_type": "markdown",
      "metadata": {
        "id": "n0Y9jp38z14j"
      },
      "source": [
        "faire un code qui reprend toute les étapes ci dessus pour éviter de faire plein de lignes qui  se répêtes !!!"
      ]
    },
    {
      "cell_type": "markdown",
      "metadata": {
        "id": "zAz9UF7nv0NB"
      },
      "source": [
        "# Partie XBGoost de base (Nahel)"
      ]
    },
    {
      "cell_type": "code",
      "execution_count": null,
      "metadata": {
        "id": "Mp5zO1levNPT"
      },
      "outputs": [],
      "source": [
        "import xgboost as xgb\n",
        "from xgboost import plot_importance, plot_tree\n",
        "from sklearn.metrics import mean_squared_error"
      ]
    },
    {
      "cell_type": "code",
      "execution_count": null,
      "metadata": {},
      "outputs": [],
      "source": [
        "hyper_params_a = {'n_estimators': 4000, 'subsample': 0.6, 'refresh_leaf': 1, 'min_child_weight': 10, 'max_depth': 5, 'gamma': 0.5, 'eta': 0.01, 'colsample_bytree': 1.0}\n",
        "# BEST ESTIMATION -- BELLOW\n",
        "hyper_params_a = {'subsample': 0.6, 'refresh_leaf': 1, 'n_estimators': 4000, 'min_child_weight': 15, 'max_depth': 4, 'gamma': 0.5, 'eta': 0.005, 'colsample_bytree': 0.8}\n",
        "hyper_params_b = {'n_estimators': 4000, 'subsample': 0.6, 'refresh_leaf': 1, 'min_child_weight': 5, 'max_depth': 5, 'gamma': 0.5, 'eta': 0.01, 'colsample_bytree': 0.6}\n",
        "hyper_params_c = {'n_estimators': 4000, 'subsample': 0.6, 'refresh_leaf': 1, 'min_child_weight': 5, 'max_depth': 5, 'gamma': 0.5, 'eta': 0.05, 'colsample_bytree': 1.0}\n",
        "# BEST ESTIMATION -- ABOVE\n",
        "hyper_params_b = {\n",
        "    'n_estimators': 4000, \n",
        "    'subsample': 0.6,\n",
        "    'min_child_weight': 5,\n",
        "    'max_depth': 5,\n",
        "    'gamma': 0.5,\n",
        "    'colsample_bytree': 0.6,\n",
        "    'refresh_leaf': 1,\n",
        "    'eta': 0.01\n",
        "    }\n",
        "\n",
        "hyper_params_c = {\n",
        "    'n_estimators': 4000, \n",
        "    'subsample': 0.6,\n",
        "    'min_child_weight': 5,\n",
        "    'max_depth': 5,\n",
        "    'gamma': 0.5,\n",
        "    'colsample_bytree': 1.0,\n",
        "    'refresh_leaf': 1,\n",
        "    'eta': 0.05\n",
        "    }"
      ]
    },
    {
      "cell_type": "code",
      "execution_count": null,
      "metadata": {
        "colab": {
          "base_uri": "https://localhost:8080/",
          "height": 1000
        },
        "id": "iJ6U7ie7whyI",
        "outputId": "e5ee1dee-99c2-45e3-a422-8a166d9c1259"
      },
      "outputs": [],
      "source": [
        "reg_a = xgb.XGBRegressor(\n",
        "    # n_estimators = n_estimators,\n",
        "    # max_depth = max_depth,\n",
        "    eval_metric = eval_metric,\n",
        "    # eta=eta,\n",
        "    **hyper_params_a\n",
        "    )\n",
        "\n",
        "\n",
        "reg_b = xgb.XGBRegressor(\n",
        "    # n_estimators = n_estimators,\n",
        "    # max_depth = max_depth,\n",
        "    eval_metric = eval_metric,\n",
        "    # eta=eta,\n",
        "    **hyper_params_b\n",
        "    )\n",
        "\n",
        "reg_c = xgb.XGBRegressor(\n",
        "    # n_estimators = n_estimators,\n",
        "    # max_depth = max_depth,\n",
        "    eval_metric = eval_metric,\n",
        "    # eta=eta,\n",
        "    **hyper_params_c\n",
        "    )"
      ]
    },
    {
      "cell_type": "code",
      "execution_count": null,
      "metadata": {},
      "outputs": [],
      "source": [
        "# gen_params = {\n",
        "#         'n_estimators': [2000, 3000, 3500],\n",
        "#         # 'min_child_weight': [1, 5, 10],\n",
        "#         'gamma': [0.5, 1, 5],\n",
        "#         'subsample': [0.6, 1.0],\n",
        "#         # 'colsample_bytree': [0.6, 1.0],\n",
        "#         'max_depth': [4, 5],\n",
        "#         'eta': [ 0.005, 0.01, 0.05],\n",
        "#         # 'refresh_leaf': [ 1 ],\n",
        "#         'n_estimators': [ 3000, 4000 ]\n",
        "#         # 'num_boost_round': 128,\n",
        "#         }\n",
        "\n",
        "# params_a = {\n",
        "#         'min_child_weight': [ 10, 12, 15 ],\n",
        "#         # 'gamma': [0.5, 1, 2, 5],\n",
        "#         # 'subsample': [0.6, 1.0],\n",
        "#         'colsample_bytree': [0.8, 1.0],\n",
        "#         # 'max_depth': [3, 5],\n",
        "#         # 'eta': [ 0.005, 0.01, 0.05],\n",
        "#         'refresh_leaf': [ .7, 1 ],\n",
        "#         **gen_params\n",
        "#         # 'num_boost_round': 128,\n",
        "#         }\n",
        "\n",
        "# params_b = {\n",
        "#         'min_child_weight': [3, 5, 7],\n",
        "#         # 'gamma': [0.5, 1, 2, 5],\n",
        "#         # 'subsample': [0.6, 1.0],\n",
        "#         'colsample_bytree': [.7, 0.6, .5],\n",
        "#         # 'max_depth': [3, 5],\n",
        "#         # 'eta': [ 0.005, 0.01, 0.05],\n",
        "#         'refresh_leaf': [ 1 ],\n",
        "#         **gen_params\n",
        "#         # 'num_boost_round': 128,\n",
        "#         }\n",
        "\n",
        "# params_c = {\n",
        "#         'min_child_weight': [3, 5, 7],\n",
        "#         # 'gamma': [0.5, 1, 2, 5],\n",
        "#         # 'subsample': [0.6, 1.0],\n",
        "#         'colsample_bytree': [ 0.6 ],\n",
        "#         # 'max_depth': [3, 5],\n",
        "#         # 'eta': [ 0.005, 0.01, 0.05],\n",
        "#         'refresh_leaf': [ 1 ],\n",
        "#         **gen_params\n",
        "#         # 'num_boost_round': 128,\n",
        "#         }"
      ]
    },
    {
      "cell_type": "markdown",
      "metadata": {},
      "source": [
        "base_score=None, booster=None, callbacks=None,\n",
        "             colsample_bylevel=None, colsample_bynode=None,\n",
        "             colsample_bytree=1.0, device=None, early_stopping_rounds=None,\n",
        "             enable_categorical=False, eta=0.01, eval_metric='rmse',\n",
        "             feature_types=None, gamma=5, grow_policy=None,\n",
        "             importance_type=None, interaction_constraints=None,\n",
        "             learning_rate=None, max_bin=None, max_cat_threshold=None,\n",
        "             max_cat_to_onehot=None, max_delta_step=None, max_depth=3,\n",
        "             max_leaves=None, min_child_weight=5, missing=nan,\n",
        "             monotone_constraints=None, multi_strategy=None, n_estimators=1000,\n",
        "             n_jobs=None, num_parallel_tree=None,"
      ]
    },
    {
      "cell_type": "code",
      "execution_count": null,
      "metadata": {},
      "outputs": [],
      "source": [
        "\n",
        "# parameters = {'nthread':[4], #when use hyperthread, xgboost may become slower\n",
        "#             #   'objective':['reg:linear'],\n",
        "#               'learning_rate': [.03, 0.05, .07], #so called `eta` value\n",
        "#               'max_depth': [5, 6, 7],\n",
        "#               'min_child_weight': [0, 4],\n",
        "#               'silent': [1],\n",
        "#               'subsample': [0.7],\n",
        "#               'colsample_bytree': [0.7],\n",
        "#               'n_estimators': [500]}"
      ]
    },
    {
      "cell_type": "code",
      "execution_count": null,
      "metadata": {},
      "outputs": [],
      "source": [
        "# from functools import reduce\n",
        "# lens_a = [len(v) for v in params_a.values()]\n",
        "# lens_b = [len(v) for v in params_b.values()]\n",
        "# lens_c = [len(v) for v in params_c.values()]\n",
        "# def product(a):\n",
        "#     return reduce(lambda x,y: x*y, a)"
      ]
    },
    {
      "cell_type": "code",
      "execution_count": null,
      "metadata": {},
      "outputs": [],
      "source": [
        "# product(lens_a), product(lens_b), product(lens_c)"
      ]
    },
    {
      "cell_type": "code",
      "execution_count": null,
      "metadata": {},
      "outputs": [],
      "source": [
        "# from sklearn.model_selection import RandomizedSearchCV, GridSearchCV, TimeSeriesSplit\n",
        "# from sklearn.metrics import mean_squared_error\n",
        "\n",
        "# param_comb_a = product(lens_a)\n",
        "# param_comb_b = product(lens_b)\n",
        "# param_comb_c = product(lens_c)\n",
        "# n_jobs = 10\n",
        "\n",
        "\n",
        "# random_search_a = RandomizedSearchCV(reg_a, param_distributions=params_a, n_iter=param_comb_a, scoring='neg_mean_squared_error', n_jobs=n_jobs, cv=2, verbose=3, random_state=1001 )\n",
        "# random_search_b = RandomizedSearchCV(reg_b, param_distributions=params_b, n_iter=param_comb_b, scoring='neg_mean_squared_error', n_jobs=n_jobs, cv=2, verbose=3, random_state=1001 )\n",
        "# random_search_c = RandomizedSearchCV(reg_c, param_distributions=params_c, n_iter=param_comb_c, scoring='neg_mean_squared_error', n_jobs=n_jobs, cv=2, verbose=3, random_state=1001 )\n"
      ]
    },
    {
      "cell_type": "code",
      "execution_count": null,
      "metadata": {},
      "outputs": [],
      "source": [
        "# xgb_grid = GridSearchCV(reg_a,\n",
        "#                         parameters,\n",
        "#                         cv = 2,\n",
        "#                         n_jobs = 5,\n",
        "#                         verbose=True)\n",
        "\n",
        "# random_search_a.fit(\n",
        "#     X_train_a_norm, y_train_a,\n",
        "#     eval_set=[(X_train_a_norm, y_train_a), (X_test_a_norm, y_test_a)],\n",
        "#     early_stopping_rounds=50,\n",
        "#     verbose=True,\n",
        "#     )"
      ]
    },
    {
      "cell_type": "code",
      "execution_count": null,
      "metadata": {},
      "outputs": [],
      "source": [
        "# reg_a.fit(X_train_a_norm, y_train_a,\n",
        "#           eval_set=[(X_train_a_norm, y_train_a), (X_test_a_norm, y_test_a)],\n",
        "#           early_stopping_rounds=50,\n",
        "#           verbose=True,\n",
        "#           )\n",
        "# reg_b.fit(X_train_b_norm, y_train_b,\n",
        "#           eval_set=[(X_train_b_norm, y_train_b), (X_test_b_norm, y_test_b)],\n",
        "#           early_stopping_rounds=50,\n",
        "#           verbose=True,\n",
        "#           )\n",
        "# reg_c.fit(X_train_c_norm, y_train_c,\n",
        "#           eval_set=[(X_train_c_norm, y_train_c), (X_test_c_norm, y_test_c)],\n",
        "#           early_stopping_rounds=50,\n",
        "#           verbose=True,\n",
        "#           )"
      ]
    },
    {
      "cell_type": "code",
      "execution_count": null,
      "metadata": {},
      "outputs": [],
      "source": [
        "# random_search_a.fit(\n",
        "#     X_train_a_norm, y_train_a,\n",
        "#     eval_set=[(X_train_a_norm, y_train_a), (X_test_a_norm, y_test_a)],\n",
        "#     early_stopping_rounds=50,\n",
        "#     verbose=True,\n",
        "#     )"
      ]
    },
    {
      "cell_type": "code",
      "execution_count": null,
      "metadata": {},
      "outputs": [],
      "source": [
        "# print('\\n All results:')\n",
        "# # print(random_search_a.cv_results_)\n",
        "# print('\\n Best estimator:')\n",
        "# print(random_search_a.best_estimator_)\n",
        "# # print('\\n Best normalized gini score for %d-fold search with %d parameter combinations:' % (folds, param_comb))\n",
        "# print(random_search_a.best_score_ * 2 - 1)\n",
        "# print('\\n Best hyperparameters:')\n",
        "# print(random_search_a.best_params_)\n",
        "# # results_a = pd.DataFrame(random_search_a.cv_results_)"
      ]
    },
    {
      "cell_type": "markdown",
      "metadata": {},
      "source": [
        "{'subsample': 0.6, 'refresh_leaf': 1, 'n_estimators': 4000, 'min_child_weight': 15, 'max_depth': 4, 'gamma': 0.5, 'eta': 0.005, 'colsample_bytree': 0.8}"
      ]
    },
    {
      "cell_type": "code",
      "execution_count": null,
      "metadata": {},
      "outputs": [],
      "source": [
        "# random_search_b.fit(\n",
        "#     X_train_b_norm, y_train_b,\n",
        "#     eval_set=[(X_train_b_norm, y_train_b), (X_test_b_norm, y_test_b)],\n",
        "#     early_stopping_rounds=50,\n",
        "#     verbose=True,\n",
        "#     )"
      ]
    },
    {
      "cell_type": "code",
      "execution_count": null,
      "metadata": {},
      "outputs": [],
      "source": [
        "# print('\\n All results:')\n",
        "# print(random_search_b.cv_results_)\n",
        "# print('\\n Best estimator:')\n",
        "# print(random_search_b.best_estimator_)\n",
        "# # print('\\n Best normalized gini score for %d-fold search with %d parameter combinations:' % (folds, param_comb))\n",
        "# print(random_search_b.best_score_ * 2 - 1)\n",
        "# print('\\n Best hyperparameters:')\n",
        "# print(random_search_b.best_params_)\n",
        "# # results_b = pd.DataFrame(random_search_b.cv_results_)"
      ]
    },
    {
      "cell_type": "code",
      "execution_count": null,
      "metadata": {},
      "outputs": [],
      "source": [
        "# random_search_c.fit(\n",
        "#     X_train_c_norm, y_train_c,\n",
        "#     eval_set=[(X_train_c_norm, y_train_c), (X_test_c_norm, y_test_c)],\n",
        "#     early_stopping_rounds=50,\n",
        "#     verbose=True,\n",
        "#     )"
      ]
    },
    {
      "cell_type": "markdown",
      "metadata": {},
      "source": [
        "A: \n",
        "{'max_depth': 4, 'gamma': 5, 'colsample_bytree': 0.8}\n",
        "\n",
        "{'subsample': 0.6, 'refresh_leaf': 1, 'min_child_weight': 10, 'max_depth': 3, 'gamma': 1.5, 'eta': 0.1, 'colsample_bytree': 0.8}"
      ]
    },
    {
      "cell_type": "markdown",
      "metadata": {},
      "source": [
        "B: \n",
        "{'max_depth': 5, 'gamma': 2, 'colsample_bytree': 0.6}\n",
        "\n",
        "{'subsample': 0.8, 'refresh_leaf': 1, 'min_child_weight': 10, 'max_depth': 10, 'gamma': 1, 'eta': 0.01, 'colsample_bytree': 1.0}"
      ]
    },
    {
      "cell_type": "code",
      "execution_count": null,
      "metadata": {},
      "outputs": [],
      "source": [
        "# print('\\n All results:')\n",
        "# print(random_search_c.cv_results_)\n",
        "# print('\\n Best estimator:')\n",
        "# print(random_search_c.best_estimator_)\n",
        "# # print('\\n Best normalized gini score for %d-fold search with %d parameter combinations:' % (folds, param_comb))\n",
        "# print(random_search_c.best_score_ * 2 - 1)\n",
        "# print('\\n Best hyperparameters:')\n",
        "# print(random_search_c.best_params_)\n",
        "# # results_c = pd.DataFrame(random_search_c.cv_results_)"
      ]
    },
    {
      "cell_type": "markdown",
      "metadata": {},
      "source": [
        "C: \n",
        "{'max_depth': 3, 'gamma': 1, 'colsample_bytree': 0.6}\n",
        "\n",
        "{'subsample': 0.6, 'refresh_leaf': 1, 'min_child_weight': 1, 'max_depth': 3, 'gamma': 1.5, 'eta': 0.005, 'colsample_bytree': 0.6}"
      ]
    },
    {
      "cell_type": "markdown",
      "metadata": {},
      "source": [
        "Best: \n",
        "\n",
        "A: {'subsample': 0.6, 'refresh_leaf': 1, 'min_child_weight': 10, 'max_depth': 5, 'gamma': 0.5, 'eta': 0.01, 'colsample_bytree': 1.0}\n",
        "\n",
        "B: {'subsample': 0.6, 'refresh_leaf': 1, 'min_child_weight': 5, 'max_depth': \n",
        "5, 'gamma': 0.5, 'eta': 0.01, 'colsample_bytree': 0.6}\n",
        "\n",
        "C: {'subsample': 0.6, 'refresh_leaf': 1, 'min_child_weight': 5, 'max_depth': 5, 'gamma': 0.5, 'eta': 0.05, 'colsample_bytree': 1.0}"
      ]
    },
    {
      "cell_type": "code",
      "execution_count": null,
      "metadata": {},
      "outputs": [],
      "source": [
        "# reg_a = random_search_a.best_estimator_\n",
        "# reg_b = random_search_b.best_estimator_\n",
        "# reg_c = random_search_c.best_estimator_"
      ]
    },
    {
      "cell_type": "code",
      "execution_count": null,
      "metadata": {},
      "outputs": [],
      "source": [
        "reg_a.fit(X_train_a_norm, y_train_a,\n",
        "          eval_set=[(X_train_a_norm, y_train_a), (X_test_a_norm, y_test_a)],\n",
        "          early_stopping_rounds=50,\n",
        "          verbose=True,\n",
        "          )\n",
        "reg_b.fit(X_train_b_norm, y_train_b,\n",
        "          eval_set=[(X_train_b_norm, y_train_b), (X_test_b_norm, y_test_b)],\n",
        "          early_stopping_rounds=50,\n",
        "          verbose=True,\n",
        "          )\n",
        "reg_c.fit(X_train_c_norm, y_train_c,\n",
        "          eval_set=[(X_train_c_norm, y_train_c), (X_test_c_norm, y_test_c)],\n",
        "          early_stopping_rounds=50,\n",
        "          verbose=True,\n",
        "          )"
      ]
    },
    {
      "cell_type": "code",
      "execution_count": null,
      "metadata": {
        "colab": {
          "base_uri": "https://localhost:8080/",
          "height": 1000
        },
        "id": "L8tJyNqw2ajl",
        "outputId": "d1d82059-64ed-41e7-efa6-89cb907ed5f3"
      },
      "outputs": [],
      "source": [
        "# Créez des listes vides pour stocker les erreurs d'entraînement et de test\n",
        "train_errors = []\n",
        "test_errors = []\n",
        "\n",
        "# Accédez aux erreurs d'entraînement et de test après chaque itération\n",
        "results = reg_a.evals_result()\n",
        "train_errors = results['validation_0'][eval_metric]\n",
        "test_errors = results['validation_1'][eval_metric]\n",
        "\n",
        "# Tracez les courbes d'apprentissage\n",
        "plt.figure(figsize=(10, 6))\n",
        "plt.plot(train_errors, label='Train')\n",
        "plt.plot(test_errors, label='Test')\n",
        "plt.xlabel('Boosting Rounds')\n",
        "plt.ylabel(eval_metric)\n",
        "plt.legend()\n",
        "plt.title('Learning Curves')\n",
        "plt.show()\n",
        "\n",
        "min_error_a = min(test_errors)\n",
        "# Créez des listes vides pour stocker les erreurs d'entraînement et de test\n",
        "train_errors = []\n",
        "test_errors = []\n",
        "\n",
        "# Accédez aux erreurs d'entraînement et de test après chaque itération\n",
        "results = reg_b.evals_result()\n",
        "train_errors = results['validation_0'][eval_metric]\n",
        "test_errors = results['validation_1'][eval_metric]\n",
        "\n",
        "# Tracez les courbes d'apprentissage\n",
        "plt.figure(figsize=(10, 6))\n",
        "plt.plot(train_errors, label='Train')\n",
        "plt.plot(test_errors, label='Test')\n",
        "plt.xlabel('Boosting Rounds')\n",
        "plt.ylabel(eval_metric)\n",
        "plt.legend()\n",
        "plt.title('Learning Curves')\n",
        "plt.show()\n",
        "\n",
        "min_error_b = min(test_errors)\n",
        "# Créez des listes vides pour stocker les erreurs d'entraînement et de test\n",
        "train_errors = []\n",
        "test_errors = []\n",
        "\n",
        "# Accédez aux erreurs d'entraînement et de test après chaque itération\n",
        "results = reg_c.evals_result()\n",
        "train_errors = results['validation_0'][eval_metric]\n",
        "test_errors = results['validation_1'][eval_metric]\n",
        "\n",
        "min_error_c = min(test_errors)\n",
        "# Tracez les courbes d'apprentissage\n",
        "plt.figure(figsize=(10, 6))\n",
        "plt.plot(train_errors, label='Train')\n",
        "plt.plot(test_errors, label='Test')\n",
        "plt.xlabel('Boosting Rounds')\n",
        "plt.ylabel(eval_metric)\n",
        "plt.legend()\n",
        "plt.title('Learning Curves')\n",
        "plt.show()"
      ]
    },
    {
      "cell_type": "code",
      "execution_count": null,
      "metadata": {},
      "outputs": [],
      "source": [
        "min_error_a, min_error_b, min_error_c"
      ]
    },
    {
      "cell_type": "code",
      "execution_count": null,
      "metadata": {
        "colab": {
          "base_uri": "https://localhost:8080/",
          "height": 1000
        },
        "id": "0Cpiem0U0J6m",
        "outputId": "67557c5d-d422-46aa-b3a5-1b4d56eed6a7"
      },
      "outputs": [],
      "source": [
        "plot_importance(reg_a, height=.9)\n",
        "plt.gcf().set_size_inches(14, 8)\n",
        "plot_importance(reg_b, height=0.9)\n",
        "plt.gcf().set_size_inches(14, 8)\n",
        "plot_importance(reg_c, height=0.9)\n",
        "plt.gcf().set_size_inches(14, 8)"
      ]
    },
    {
      "cell_type": "code",
      "execution_count": null,
      "metadata": {
        "id": "CzEzDsH5gc0p"
      },
      "outputs": [],
      "source": [
        "pv_test_a['pv_measurement_prediction'] = reg_a.predict(X_test_a_norm)\n",
        "pv_all_a = pd.concat([pv_test_a, pv_train_a], sort=False)\n",
        "\n",
        "pv_test_b['pv_measurement_prediction'] = reg_b.predict(X_test_b_norm)\n",
        "pv_all_b = pd.concat([pv_test_b, pv_train_b], sort=False)\n",
        "\n",
        "pv_test_c['pv_measurement_prediction'] = reg_c.predict(X_test_c_norm)\n",
        "pv_all_c = pd.concat([pv_test_c, pv_train_c], sort=False)"
      ]
    },
    {
      "cell_type": "code",
      "execution_count": null,
      "metadata": {},
      "outputs": [],
      "source": [
        "# XGBoost_separated_loc_4_inputs_n_estimators_10000_delta_0_min_StandardScaler_rmse_max_depth_3_mae_123_rmse_367_60_57_rd_subsets_42_by_day.csv\n",
        "\n"
      ]
    },
    {
      "cell_type": "code",
      "execution_count": null,
      "metadata": {},
      "outputs": [],
      "source": [
        "sum(pv_test_c['pv_measurement_prediction'] < 10 )\n"
      ]
    },
    {
      "cell_type": "code",
      "execution_count": null,
      "metadata": {},
      "outputs": [],
      "source": [
        "pv_test_a[pv_test_a['pv_measurement_prediction'] < 10 ]['pv_measurement_prediction'] = 0.\n",
        "pv_test_b[pv_test_b['pv_measurement_prediction'] < 10 ]['pv_measurement_prediction'] = 0.\n",
        "pv_test_c[pv_test_c['pv_measurement_prediction'] < 10 ]['pv_measurement_prediction'] = 0."
      ]
    },
    {
      "cell_type": "code",
      "execution_count": null,
      "metadata": {},
      "outputs": [],
      "source": []
    },
    {
      "cell_type": "code",
      "execution_count": null,
      "metadata": {},
      "outputs": [],
      "source": [
        "mae_a = np.mean(np.abs(pv_all_a['pv_measurement'] - pv_all_a['pv_measurement_prediction']))\n",
        "mae_b = np.mean(np.abs(pv_all_b['pv_measurement'] - pv_all_b['pv_measurement_prediction']))\n",
        "mae_c = np.mean(np.abs(pv_all_c['pv_measurement'] - pv_all_c['pv_measurement_prediction']))\n",
        "\n",
        "df_mae = pd.concat([pv_all_a, pv_all_b, pv_all_a])\n",
        "mae = np.mean(np.abs(df_mae['pv_measurement'] - df_mae['pv_measurement_prediction']))\n",
        "print(\"MAE a:\", mae_a, \"MAE b:\", mae_b, \"MAE c:\", mae_c)\n",
        "print(\"MAE on test set:\", mae)"
      ]
    },
    {
      "cell_type": "code",
      "execution_count": null,
      "metadata": {
        "colab": {
          "base_uri": "https://localhost:8080/",
          "height": 1000
        },
        "id": "AqaBX7A0gfSt",
        "outputId": "3bafca8f-5b8b-41b1-f8c4-2b05d55d2f62"
      },
      "outputs": [],
      "source": [
        "graph = pv_all_a[['pv_measurement','pv_measurement_prediction']].plot(figsize=(15, 5)).scatter('pv_measurement','pv_measurement_prediction')\n",
        "graph = pv_all_b[['pv_measurement','pv_measurement_prediction']].plot(figsize=(15, 5)).scatter('pv_measurement','pv_measurement_prediction')\n",
        "graph = pv_all_c[['pv_measurement','pv_measurement_prediction']].plot(figsize=(15, 5)).scatter('pv_measurement','pv_measurement_prediction')"
      ]
    },
    {
      "cell_type": "code",
      "execution_count": null,
      "metadata": {},
      "outputs": [],
      "source": [
        "plt.figure(figsize=(15, 5))\n",
        "plt.plot(pv_all_a['pv_measurement'])\n",
        "plt.plot(pv_all_a['pv_measurement'] - pv_all_a['pv_measurement_prediction'])\n",
        "plt.show()\n",
        "plt.figure(figsize=(15, 5))\n",
        "plt.plot(pv_all_b['pv_measurement'])\n",
        "plt.plot(pv_all_b['pv_measurement'] - pv_all_b['pv_measurement_prediction'])\n",
        "plt.show()\n",
        "plt.figure(figsize=(15, 5))\n",
        "plt.plot(pv_all_c['pv_measurement'])\n",
        "plt.plot(pv_all_c['pv_measurement'] - pv_all_c['pv_measurement_prediction'])\n",
        "plt.show()"
      ]
    },
    {
      "cell_type": "code",
      "execution_count": null,
      "metadata": {},
      "outputs": [],
      "source": [
        "np_pv_c = np.array(pv_all_c['pv_measurement'])\n",
        "plt.plot(np_pv_c)"
      ]
    },
    {
      "cell_type": "markdown",
      "metadata": {
        "id": "VE0_jFOv23vB"
      },
      "source": [
        "# Export sur Kaggle"
      ]
    },
    {
      "cell_type": "code",
      "execution_count": null,
      "metadata": {
        "id": "I43fCNu60TX_"
      },
      "outputs": [],
      "source": [
        "test = pd.read_csv(path+\"test.csv\")\n",
        "test_copy = test.copy()\n",
        "test.rename(columns={'time': 'date_forecast'}, inplace=True) #pour faire le merge\n",
        "test[\"date_forecast\"] = pd.to_datetime(test[\"date_forecast\"]) #mettre le bon type"
      ]
    },
    {
      "cell_type": "code",
      "execution_count": null,
      "metadata": {
        "id": "hg7yQqAA4E0g"
      },
      "outputs": [],
      "source": [
        "# Lecture des données météo associée :\n",
        "merged_df_pre_a = pd.merge(X_test_estimated_a, test, on='date_forecast', how='inner')\n",
        "merged_df_a = merged_df_pre_a[merged_df_pre_a[\"location\"]==\"A\"]\n",
        "merged_df_pre_b = pd.merge(X_test_estimated_b, test, on='date_forecast', how='inner')\n",
        "merged_df_b = merged_df_pre_b[merged_df_pre_b[\"location\"]==\"B\"]\n",
        "merged_df_pre_c = pd.merge(X_test_estimated_c, test, on='date_forecast', how='inner')\n",
        "merged_df_c = merged_df_pre_c[merged_df_pre_c[\"location\"]==\"C\"]"
      ]
    },
    {
      "cell_type": "code",
      "execution_count": null,
      "metadata": {
        "id": "JkPxzaLxPE3y"
      },
      "outputs": [],
      "source": [
        "def preprocessing_test(df,scaler):\n",
        "  X_test = df.drop([\"id\",\"location\",\"prediction\"],axis=1)\n",
        "  X_test = create_features(X_test, None)\n",
        "  #X_test[('date_forecast')] = X_test[('date_forecast')].values.astype(\"float64\")\n",
        "  X_test = gestion_nan(X_test)\n",
        "  X_test = sklearn_z_score_normalize_dataframe(X_test,return_scaler=False,scaler=scaler, fit=False)\n",
        "  return X_test"
      ]
    },
    {
      "cell_type": "code",
      "execution_count": null,
      "metadata": {
        "id": "9m42fLq9Y4ZA"
      },
      "outputs": [],
      "source": [
        "X_test_a_test = preprocessing_test(merged_df_a,scaler_a)\n",
        "X_test_b_test = preprocessing_test(merged_df_b,scaler_b)\n",
        "X_test_c_test = preprocessing_test(merged_df_c,scaler_c)"
      ]
    },
    {
      "cell_type": "code",
      "execution_count": null,
      "metadata": {
        "id": "N4V9YUIYZiGr"
      },
      "outputs": [],
      "source": [
        "result_A = reg_a.predict(X_test_a_test)\n",
        "result_B = reg_b.predict(X_test_b_test)\n",
        "result_C = reg_c.predict(X_test_c_test)"
      ]
    },
    {
      "cell_type": "code",
      "execution_count": null,
      "metadata": {},
      "outputs": [],
      "source": [
        "len(result_A) + len(result_B) + len(result_C)"
      ]
    },
    {
      "cell_type": "code",
      "execution_count": null,
      "metadata": {
        "colab": {
          "base_uri": "https://localhost:8080/",
          "height": 447
        },
        "id": "4E4A-WF5ih-0",
        "outputId": "94ac5b1b-1328-411d-b918-4359d052895d"
      },
      "outputs": [],
      "source": [
        "plt.plot(result_A)"
      ]
    },
    {
      "cell_type": "code",
      "execution_count": null,
      "metadata": {
        "id": "LTSbJj5lZc1s"
      },
      "outputs": [],
      "source": [
        "# nom_fichier = 'XGBoost_Valentin_V2'\n",
        "# repertoire = path\n",
        "# result = np.concatenate((np.concatenate((result_A,result_B)), result_C))\n",
        "# test_copy['prediction'] = result\n",
        "# sample_submission = sample_submission[['id']].merge(test_copy[['id', 'prediction']], on='id', how='left')\n",
        "# sample_submission.to_csv(repertoire+ nom_fichier+'.csv', index=False)"
      ]
    },
    {
      "cell_type": "markdown",
      "metadata": {
        "id": "XHFXLird0mW5"
      },
      "source": [
        "# Post traitement"
      ]
    },
    {
      "cell_type": "markdown",
      "metadata": {
        "id": "cwUbdVUh0oeY"
      },
      "source": [
        "Ici, on va faire en sorte de n'avoir que des valeurs positives (cela ne représente qu'une légère amélioration"
      ]
    },
    {
      "cell_type": "code",
      "execution_count": null,
      "metadata": {
        "id": "5jqFf_a-0jTF"
      },
      "outputs": [],
      "source": [
        "result = np.concatenate((np.concatenate((result_A,result_B)), result_C))"
      ]
    },
    {
      "cell_type": "code",
      "execution_count": null,
      "metadata": {},
      "outputs": [],
      "source": [
        "len(result_A), len(result_B), len(result_C)"
      ]
    },
    {
      "cell_type": "code",
      "execution_count": null,
      "metadata": {
        "colab": {
          "base_uri": "https://localhost:8080/"
        },
        "id": "5OUxyuzi4EDa",
        "outputId": "84a0b4cd-1db4-4d9a-e9d6-8d603e905a3e"
      },
      "outputs": [],
      "source": [
        "negative_values = result[result < 0]\n",
        "sum_of_negatives = np.sum(negative_values**2)/len(result)\n",
        "np.sqrt(sum_of_negatives)"
      ]
    },
    {
      "cell_type": "code",
      "execution_count": null,
      "metadata": {
        "id": "p03W8Xa751Y4"
      },
      "outputs": [],
      "source": [
        "negative_mask = result < 5\n",
        "result[negative_mask] = 0"
      ]
    },
    {
      "cell_type": "code",
      "execution_count": null,
      "metadata": {
        "id": "DC-LsEUl59-r"
      },
      "outputs": [],
      "source": [
        "nom_fichier = f'XGBoost_separated_loc_output_interpolate_{interpolation_method}_min_{scaler_name}_max_depth_{max_depth}_mae_{int(mae)}_{eval_metric}_{int(min_error_a)}_{int(min_error_b)}_{int(min_error_c)}_test_set_gen_{test_set_param}_{random_state}_by_day'\n",
        "repertoire = submission_path\n",
        "test_copy['prediction'] = result\n",
        "sample_submission = sample_submission[['id']].merge(test_copy[['id', 'prediction']], on='id', how='left')\n",
        "sample_submission.to_csv(repertoire+ nom_fichier+'.csv', index=False)"
      ]
    },
    {
      "cell_type": "code",
      "execution_count": null,
      "metadata": {},
      "outputs": [],
      "source": [
        "result2 = np.concatenate((np.concatenate((result_A,result_B)), result_C))"
      ]
    },
    {
      "cell_type": "code",
      "execution_count": null,
      "metadata": {},
      "outputs": [],
      "source": [
        "negative_mask2 = result2 < 10\n",
        "result2[negative_mask2] = 0"
      ]
    }
  ],
  "metadata": {
    "accelerator": "GPU",
    "colab": {
      "gpuType": "T4",
      "provenance": []
    },
    "kernelspec": {
      "display_name": "mlsolar",
      "language": "python",
      "name": "mlsolar"
    },
    "language_info": {
      "codemirror_mode": {
        "name": "ipython",
        "version": 3
      },
      "file_extension": ".py",
      "mimetype": "text/x-python",
      "name": "python",
      "nbconvert_exporter": "python",
      "pygments_lexer": "ipython3",
      "version": "3.10.11"
    }
  },
  "nbformat": 4,
  "nbformat_minor": 0
}
