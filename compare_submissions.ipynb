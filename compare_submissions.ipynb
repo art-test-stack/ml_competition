{
 "cells": [
  {
   "cell_type": "code",
   "execution_count": null,
   "metadata": {},
   "outputs": [],
   "source": [
    "import pandas as pd\n",
    "import numpy as np\n",
    "import matplotlib.pyplot as plt\n",
    "import os\n",
    "import glob"
   ]
  },
  {
   "cell_type": "code",
   "execution_count": null,
   "metadata": {},
   "outputs": [],
   "source": [
    "dossier = '8nov_sub'\n",
    "\n",
    "noms_fichiers_csv = glob.glob(os.path.join(dossier, '*.csv'))\n",
    "X = { fichier: pd.read_csv(fichier, index_col='id') for fichier in noms_fichiers_csv}"
   ]
  },
  {
   "cell_type": "code",
   "execution_count": null,
   "metadata": {},
   "outputs": [],
   "source": [
    "noms_fichiers_csv"
   ]
  },
  {
   "cell_type": "code",
   "execution_count": null,
   "metadata": {},
   "outputs": [],
   "source": [
    "# match_already_done = []\n",
    "nom = 'XGBoost_Valentin_V4'\n",
    "fichier = dossier + '/' + nom + '.csv'\n",
    "# for fichier in noms_fichiers_csv:\n",
    "for fichier2 in noms_fichiers_csv:\n",
    "    # if (fichier != fichier2) and ((fichier2, fichier) not in match_already_done):\n",
    "    if (fichier != fichier2):\n",
    "        plt.figure(figsize=(15, 7))\n",
    "        plt.plot(X[fichier]['prediction']-X[fichier2]['prediction'], label='H', alpha=0.5)\n",
    "        plt.grid()\n",
    "        plt.legend()\n",
    "        plt.title(f\"difference between {fichier} and {fichier2}\")\n",
    "        plt.show()\n",
    "\n",
    "        print(fichier2)\n",
    "        print('MAE: ', np.mean(np.abs(X[fichier]['prediction']-X[fichier2]['prediction'])))\n",
    "        print('RMSE: ', np.sqrt(np.mean(np.abs(X[fichier]['prediction']**2-X[fichier2]['prediction']**2))))"
   ]
  },
  {
   "cell_type": "code",
   "execution_count": null,
   "metadata": {},
   "outputs": [],
   "source": []
  }
 ],
 "metadata": {
  "kernelspec": {
   "display_name": "mlsolar",
   "language": "python",
   "name": "mlsolar"
  },
  "language_info": {
   "codemirror_mode": {
    "name": "ipython",
    "version": 3
   },
   "file_extension": ".py",
   "mimetype": "text/x-python",
   "name": "python",
   "nbconvert_exporter": "python",
   "pygments_lexer": "ipython3",
   "version": "3.10.11"
  }
 },
 "nbformat": 4,
 "nbformat_minor": 2
}
