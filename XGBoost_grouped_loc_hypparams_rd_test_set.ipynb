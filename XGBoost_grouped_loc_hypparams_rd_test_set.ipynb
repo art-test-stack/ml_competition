{
  "cells": [
    {
      "cell_type": "code",
      "execution_count": 219,
      "metadata": {
        "colab": {
          "base_uri": "https://localhost:8080/"
        },
        "id": "D8J4eNw8to8q",
        "outputId": "c940eb4c-54df-493d-9e64-02944d68c265"
      },
      "outputs": [],
      "source": [
        "# from google.colab import drive\n",
        "# drive.mount('/content/drive/')"
      ]
    },
    {
      "cell_type": "code",
      "execution_count": 220,
      "metadata": {
        "id": "xyUFazkBu4_S"
      },
      "outputs": [],
      "source": [
        "import os\n",
        "import pandas as pd\n",
        "import numpy as np\n",
        "import matplotlib.pylab as plt\n",
        "import seaborn as sns\n",
        "from tqdm import tqdm\n",
        "import networkx as nx\n",
        "import scipy\n",
        "import json\n",
        "import sys\n",
        "path = ''\n",
        "sys.path.append(path)\n",
        "import utils\n",
        "import settings\n",
        "import pickle\n",
        "from sklearn.preprocessing import StandardScaler, Normalizer, RobustScaler, MinMaxScaler\n",
        "from sklearn.model_selection import train_test_split\n",
        "\n",
        "pd.set_option('display.max_rows', 200)\n",
        "pd.set_option('display.max_columns', 200)"
      ]
    },
    {
      "cell_type": "code",
      "execution_count": 221,
      "metadata": {
        "id": "TkJVCDaBvEUt"
      },
      "outputs": [],
      "source": [
        "def save(nom,model):\n",
        "  # Enregistrez le modele (ML/scaler/autre) dans un fichier\n",
        "  with open(nom+'.pkl', 'wb') as f:\n",
        "      pickle.dump(model, f)"
      ]
    },
    {
      "cell_type": "code",
      "execution_count": 222,
      "metadata": {
        "id": "VlShtaIBvGei"
      },
      "outputs": [],
      "source": [
        "def f_open(chemin):\n",
        "  with open(chemin, 'rb') as f:\n",
        "    modele = pickle.load(f)\n",
        "  return modele"
      ]
    },
    {
      "cell_type": "markdown",
      "metadata": {},
      "source": [
        "# Hyper params"
      ]
    },
    {
      "cell_type": "code",
      "execution_count": 223,
      "metadata": {},
      "outputs": [],
      "source": [
        "train_delta_t = 0\n",
        "max_depth = 4\n",
        "eval_metric = 'rmse'\n",
        "n_estimators = 10000\n",
        "scaler_name = 'Normalizer'\n",
        "scaler_a = Normalizer()\n",
        "scaler_b = Normalizer()\n",
        "scaler_c = Normalizer()\n",
        "random_state = 37\n",
        "submission_path = 'random_set_sub/'"
      ]
    },
    {
      "cell_type": "code",
      "execution_count": 224,
      "metadata": {
        "id": "EJEI78QVvMHt"
      },
      "outputs": [],
      "source": [
        "path = path\n",
        "train_a, train_b, train_c, X_train_estimated_a, X_train_estimated_b, X_train_estimated_c, X_train_observed_a, X_train_observed_b, X_train_observed_c, X_test_estimated_a, X_test_estimated_b, X_test_estimated_c = utils.read_files(diff_path=path)\n",
        "test = pd.read_csv(path+\"test.csv\")\n",
        "sample_submission = pd.read_csv(path+\"sample_submission.csv\")"
      ]
    },
    {
      "cell_type": "markdown",
      "metadata": {},
      "source": [
        "# B and C clean up"
      ]
    },
    {
      "cell_type": "code",
      "execution_count": 225,
      "metadata": {},
      "outputs": [],
      "source": [
        "def filter_dates_when_constants(df, date_c = 'time', y = 'pv_measurement', delta = { 'days': 3 }):\n",
        "    df = df.copy()\n",
        "    mask_y_change = df[y] != df[y].shift(1)\n",
        "\n",
        "    start_date = None\n",
        "    end_date = None\n",
        "\n",
        "    constant_periods = []\n",
        "\n",
        "    for index, row in df.iterrows():\n",
        "        if not mask_y_change[index]:\n",
        "            if start_date is None:\n",
        "                start_date = row[date_c]\n",
        "            end_date = row[date_c]\n",
        "        else:\n",
        "            if start_date is not None and (end_date - start_date) >= pd.Timedelta(**delta):\n",
        "                constant_periods.append((start_date, end_date))\n",
        "            start_date = None\n",
        "            end_date = None\n",
        "\n",
        "    if start_date is not None and (end_date - start_date) >= pd.Timedelta(**delta):\n",
        "        constant_periods.append((start_date, end_date))\n",
        "    return constant_periods"
      ]
    },
    {
      "cell_type": "code",
      "execution_count": 226,
      "metadata": {},
      "outputs": [],
      "source": [
        "def delete_date_range_from_df(df, dates, date_c = 'time'):\n",
        "    df = df.copy()\n",
        "    c = 0\n",
        "    for start_date, end_date in dates:\n",
        "        mask = (df[date_c] >= start_date) & (df[date_c] < end_date)\n",
        "        df = df[~mask]\n",
        "    df.reset_index(drop=True, inplace=True)\n",
        "    return df"
      ]
    },
    {
      "cell_type": "code",
      "execution_count": 227,
      "metadata": {},
      "outputs": [],
      "source": [
        "delta = { 'hours': 12 * 5}\n",
        "train_a = delete_date_range_from_df(train_a, filter_dates_when_constants(train_a, delta=delta))\n",
        "train_b = delete_date_range_from_df(train_b, filter_dates_when_constants(train_b, delta=delta))\n",
        "train_c = delete_date_range_from_df(train_c, filter_dates_when_constants(train_c, delta=delta))"
      ]
    },
    {
      "cell_type": "code",
      "execution_count": 228,
      "metadata": {},
      "outputs": [],
      "source": [
        "delta_title = str(train_delta_t)\n",
        "delta_h = pd.Timedelta(minutes=train_delta_t)\n",
        "train_a['date_forecast'] = train_a['time'] - delta_h\n",
        "train_b['date_forecast'] = train_b['time'] - delta_h\n",
        "train_c['date_forecast'] = train_c['time'] - delta_h"
      ]
    },
    {
      "cell_type": "markdown",
      "metadata": {
        "id": "KxAteBV8PYeY"
      },
      "source": [
        "# Réorganisation des df :"
      ]
    },
    {
      "cell_type": "code",
      "execution_count": 229,
      "metadata": {
        "id": "5toXOJy4kFqf"
      },
      "outputs": [],
      "source": [
        "# observed + estimated\n",
        "X_total_a = pd.concat([X_train_observed_a,X_train_estimated_a])\n",
        "X_total_b = pd.concat([X_train_observed_b,X_train_estimated_b])\n",
        "X_total_c = pd.concat([X_train_observed_c,X_train_estimated_c])"
      ]
    },
    {
      "cell_type": "markdown",
      "metadata": {
        "id": "OF3JN3oIlreX"
      },
      "source": [
        "Attention, il faut penser à revoir les valeurs météo et pv de estimated !!!"
      ]
    },
    {
      "cell_type": "markdown",
      "metadata": {
        "id": "3gri4yq2s749"
      },
      "source": [
        "# Changement nom time dans les train"
      ]
    },
    {
      "cell_type": "code",
      "execution_count": 230,
      "metadata": {
        "id": "c6egYZKNs6-d"
      },
      "outputs": [],
      "source": [
        "# train_a.rename(columns={'time': 'date_forecast'}, inplace=True) #pour faire le merge\n",
        "# train_b.rename(columns={'time': 'date_forecast'}, inplace=True) #pour faire le merge\n",
        "# train_c.rename(columns={'time': 'date_forecast'}, inplace=True) #pour faire le merge\n",
        "# test.rename(columns={'time': 'date_forecast'}, inplace=True)\n",
        "train_a, train_b, train_c = train_a.drop(columns='time'), train_b.drop(columns='time'), train_c.drop(columns='time')\n",
        "train_a.dropna(subset=['pv_measurement'], inplace=True)  #Supprime les lignes vides\n",
        "train_b.dropna(subset=['pv_measurement'], inplace=True)  #Supprime les lignes vides\n",
        "train_c.dropna(subset=['pv_measurement'], inplace=True)  #Supprime les lignes vides"
      ]
    },
    {
      "cell_type": "markdown",
      "metadata": {
        "id": "Kye01adKsBSE"
      },
      "source": [
        "# Correspondance X et y :"
      ]
    },
    {
      "cell_type": "markdown",
      "metadata": {
        "id": "NvWmIBTEsFcs"
      },
      "source": [
        "Ici nous avons plusieurs choix :    \n",
        "- matcher directement sur dateforcast\n",
        "- matcher sur dateforcast et résumer nos variables météo en moyenne et écart type\n",
        "- matcher sur un autre créneau (peut être fais sur des variables spécifique !)"
      ]
    },
    {
      "cell_type": "markdown",
      "metadata": {
        "id": "ovYZlj3Ksaci"
      },
      "source": [
        "Dans un premier temps on fera directement sur dateforcast"
      ]
    },
    {
      "cell_type": "code",
      "execution_count": 231,
      "metadata": {
        "id": "w7gHKkBosZst"
      },
      "outputs": [],
      "source": [
        "X_total_a_y = pd.merge(X_total_a, train_a, on='date_forecast', how='inner')\n",
        "X_total_b_y = pd.merge(X_total_b, train_b, on='date_forecast', how='inner')\n",
        "X_total_c_y = pd.merge(X_total_c, train_c, on='date_forecast', how='inner')"
      ]
    },
    {
      "cell_type": "code",
      "execution_count": 232,
      "metadata": {
        "id": "s-sP7k-TTLN2"
      },
      "outputs": [],
      "source": [
        "def gestion_nan(df):\n",
        "  df_copy = df.copy()\n",
        "  #delete of the snow density column\n",
        "  df_copy = df_copy.drop('snow_density:kgm3',axis=1)\n",
        "  # Approximation of the other two columns\n",
        "  df_copy['ceiling_height_agl:m'] = df_copy['ceiling_height_agl:m'].interpolate(method='linear', limit_direction='both')\n",
        "  df_copy['cloud_base_agl:m'] = df_copy['cloud_base_agl:m'].interpolate(method='linear', limit_direction='both')\n",
        "  return df_copy"
      ]
    },
    {
      "cell_type": "code",
      "execution_count": 233,
      "metadata": {
        "id": "COlGJ5ATU8st"
      },
      "outputs": [],
      "source": [
        "X_train_observed_a_nan = gestion_nan(X_train_observed_a)"
      ]
    },
    {
      "cell_type": "markdown",
      "metadata": {
        "id": "yFQ4yv46wlMA"
      },
      "source": [
        "# Traitement des df + séparation train/test"
      ]
    },
    {
      "cell_type": "markdown",
      "metadata": {
        "id": "LVSQrEZNxJNU"
      },
      "source": [
        "## Séparation train/test"
      ]
    },
    {
      "cell_type": "markdown",
      "metadata": {
        "id": "8Rh-BL2-myEh"
      },
      "source": [
        "A la fin on va projeter à partir de donnée météo estimer sur un periode non rencontré.\n",
        "\n",
        "On va donc séparer notre train/test sur les même conditions, à savoir que le test sera issue de estimated. Il ne reste qu'à fixer la date à partir de laquelle on fait la séparation.\n",
        "\n",
        "L'objectif est aussi d'avoir de l'estimated dans l'entrainement pour prendre en compte la différence entre observed et estimated qui devra être régler plus tard."
      ]
    },
    {
      "cell_type": "code",
      "execution_count": 234,
      "metadata": {
        "colab": {
          "base_uri": "https://localhost:8080/"
        },
        "id": "otDF8xN6m07V",
        "outputId": "c3a94cb4-ac54-4c7f-fc85-40548e15cbcd"
      },
      "outputs": [
        {
          "name": "stdout",
          "output_type": "stream",
          "text": [
            "118669\n",
            "17576\n",
            "0.12900289918896107\n"
          ]
        }
      ],
      "source": [
        "print(len(X_train_observed_a))\n",
        "print(len(X_train_estimated_a))\n",
        "print(len(X_train_estimated_a)/(len(X_train_estimated_a)+len(X_train_observed_a)))"
      ]
    },
    {
      "cell_type": "code",
      "execution_count": 235,
      "metadata": {
        "id": "vpzCuuBVXkZb"
      },
      "outputs": [],
      "source": [
        "X_total_a_y_nan = gestion_nan(X_total_a_y)\n",
        "X_total_b_y_nan = gestion_nan(X_total_b_y)\n",
        "X_total_c_y_nan = gestion_nan(X_total_c_y)"
      ]
    },
    {
      "cell_type": "code",
      "execution_count": 236,
      "metadata": {},
      "outputs": [],
      "source": [
        "split_date_a = X_train_estimated_a['date_forecast'].quantile(0.25)\n",
        "split_date_b = X_train_estimated_b['date_forecast'].quantile(0.25)\n",
        "split_date_c = X_train_estimated_c['date_forecast'].quantile(0.25)"
      ]
    },
    {
      "cell_type": "code",
      "execution_count": 237,
      "metadata": {},
      "outputs": [],
      "source": [
        "split_date_a = pd.to_datetime(\"2021-04-15\")\n",
        "split_date2_a = pd.to_datetime(\"2021-08-15\")\n",
        "\n",
        "split_date_b = pd.to_datetime(\"2019-04-15\")\n",
        "split_date2_b = pd.to_datetime(\"2019-08-15\")\n",
        "\n",
        "split_date_c = pd.to_datetime(\"2021-04-15\")\n",
        "split_date2_c = pd.to_datetime(\"2021-08-15\")"
      ]
    },
    {
      "cell_type": "code",
      "execution_count": 238,
      "metadata": {},
      "outputs": [],
      "source": [
        "start_2019 = pd.to_datetime(\"2019-03-21\")\n",
        "end_2019 = pd.to_datetime(\"2019-09-22\")\n",
        "\n",
        "start_2020 = pd.to_datetime(\"2020-03-21\")\n",
        "end_2020 = pd.to_datetime(\"2020-09-22\")\n",
        "\n",
        "start_2021 = pd.to_datetime(\"2021-03-21\")\n",
        "end_2021 = pd.to_datetime(\"2021-09-22\")\n",
        "\n",
        "start_2022 = pd.to_datetime(\"2022-03-21\")\n",
        "end_2022 = pd.to_datetime(\"2022-09-22\")"
      ]
    },
    {
      "cell_type": "code",
      "execution_count": 239,
      "metadata": {},
      "outputs": [],
      "source": [
        "def create_mask_for_split_training_and_testing(df, start_estimated, time_column = 'date_forecast'):\n",
        "    mask_2019 = ((df[time_column] >= start_2019) & (df[time_column] < end_2019))\n",
        "    mask_2020 = ((df[time_column] >= start_2020) & (df[time_column] < end_2020))\n",
        "    mask_2021 = ((df[time_column] >= start_2021) & (df[time_column] < end_2021))\n",
        "    mask_2022 = ((df[time_column] >= start_2022) & (df[time_column] < end_2022))\n",
        "    mask_estimated = (df[time_column] >= start_estimated)\n",
        "    return mask_2019, mask_2020, mask_2021, mask_2022,mask_estimated"
      ]
    },
    {
      "cell_type": "code",
      "execution_count": 240,
      "metadata": {},
      "outputs": [],
      "source": [
        "def split_training_testing_set(df, start_estimated, random_state=42, text_size = .1):\n",
        "    df_to_split = df.copy()\n",
        "    mask_2019, mask_2020, mask_2021, mask_2022, mask_estimated = create_mask_for_split_training_and_testing(df_to_split, start_estimated)\n",
        "    df_summers = df_to_split[mask_2019 | mask_2020 | mask_2021 | mask_2022 | mask_estimated]\n",
        "    df_not_summer = df_to_split[~(mask_2019 | mask_2020 | mask_2021 | mask_2022 | mask_estimated)]\n",
        "    test_size = text_size * (len(df_summers) + len(df_not_summer)) / len(df_summers)\n",
        "    train_data_summer, pv_test_not_ordered = train_test_split(df_summers, test_size=test_size, random_state=random_state)\n",
        "\n",
        "    pv_train_not_ordered = pd.concat([train_data_summer, df_not_summer])\n",
        "    pv_train = pv_train_not_ordered.sort_values(by='date_forecast')\n",
        "    pv_test = pv_test_not_ordered.sort_values(by='date_forecast')\n",
        "    return pv_train, pv_test"
      ]
    },
    {
      "cell_type": "code",
      "execution_count": 241,
      "metadata": {},
      "outputs": [],
      "source": [
        "pv_train_a, pv_test_a = split_training_testing_set(X_total_a_y_nan, X_train_estimated_a[\"date_forecast\"].mean(), random_state=random_state)\n",
        "pv_train_b, pv_test_b = split_training_testing_set(X_total_b_y_nan, X_train_estimated_b[\"date_forecast\"].mean(), random_state=random_state)\n",
        "pv_train_c, pv_test_c = split_training_testing_set(X_total_c_y_nan, X_train_estimated_c[\"date_forecast\"].mean(), random_state=random_state)"
      ]
    },
    {
      "cell_type": "code",
      "execution_count": 242,
      "metadata": {},
      "outputs": [
        {
          "data": {
            "text/html": [
              "<div>\n",
              "<style scoped>\n",
              "    .dataframe tbody tr th:only-of-type {\n",
              "        vertical-align: middle;\n",
              "    }\n",
              "\n",
              "    .dataframe tbody tr th {\n",
              "        vertical-align: top;\n",
              "    }\n",
              "\n",
              "    .dataframe thead th {\n",
              "        text-align: right;\n",
              "    }\n",
              "</style>\n",
              "<table border=\"1\" class=\"dataframe\">\n",
              "  <thead>\n",
              "    <tr style=\"text-align: right;\">\n",
              "      <th></th>\n",
              "      <th>date_forecast</th>\n",
              "      <th>absolute_humidity_2m:gm3</th>\n",
              "      <th>air_density_2m:kgm3</th>\n",
              "      <th>ceiling_height_agl:m</th>\n",
              "      <th>clear_sky_energy_1h:J</th>\n",
              "      <th>clear_sky_rad:W</th>\n",
              "      <th>cloud_base_agl:m</th>\n",
              "      <th>dew_or_rime:idx</th>\n",
              "      <th>dew_point_2m:K</th>\n",
              "      <th>diffuse_rad:W</th>\n",
              "      <th>diffuse_rad_1h:J</th>\n",
              "      <th>direct_rad:W</th>\n",
              "      <th>direct_rad_1h:J</th>\n",
              "      <th>effective_cloud_cover:p</th>\n",
              "      <th>elevation:m</th>\n",
              "      <th>fresh_snow_12h:cm</th>\n",
              "      <th>fresh_snow_1h:cm</th>\n",
              "      <th>fresh_snow_24h:cm</th>\n",
              "      <th>fresh_snow_3h:cm</th>\n",
              "      <th>fresh_snow_6h:cm</th>\n",
              "      <th>is_day:idx</th>\n",
              "      <th>is_in_shadow:idx</th>\n",
              "      <th>msl_pressure:hPa</th>\n",
              "      <th>precip_5min:mm</th>\n",
              "      <th>precip_type_5min:idx</th>\n",
              "      <th>pressure_100m:hPa</th>\n",
              "      <th>pressure_50m:hPa</th>\n",
              "      <th>prob_rime:p</th>\n",
              "      <th>rain_water:kgm2</th>\n",
              "      <th>relative_humidity_1000hPa:p</th>\n",
              "      <th>sfc_pressure:hPa</th>\n",
              "      <th>snow_depth:cm</th>\n",
              "      <th>snow_drift:idx</th>\n",
              "      <th>snow_melt_10min:mm</th>\n",
              "      <th>snow_water:kgm2</th>\n",
              "      <th>sun_azimuth:d</th>\n",
              "      <th>sun_elevation:d</th>\n",
              "      <th>super_cooled_liquid_water:kgm2</th>\n",
              "      <th>t_1000hPa:K</th>\n",
              "      <th>total_cloud_cover:p</th>\n",
              "      <th>visibility:m</th>\n",
              "      <th>wind_speed_10m:ms</th>\n",
              "      <th>wind_speed_u_10m:ms</th>\n",
              "      <th>wind_speed_v_10m:ms</th>\n",
              "      <th>wind_speed_w_1000hPa:ms</th>\n",
              "      <th>date_calc</th>\n",
              "      <th>pv_measurement</th>\n",
              "    </tr>\n",
              "  </thead>\n",
              "  <tbody>\n",
              "    <tr>\n",
              "      <th>3</th>\n",
              "      <td>2019-06-03 01:00:00</td>\n",
              "      <td>8.2</td>\n",
              "      <td>1.218</td>\n",
              "      <td>1388.400024</td>\n",
              "      <td>0.000000e+00</td>\n",
              "      <td>0.000000</td>\n",
              "      <td>1388.400024</td>\n",
              "      <td>0.0</td>\n",
              "      <td>281.299988</td>\n",
              "      <td>0.000000</td>\n",
              "      <td>0.000000</td>\n",
              "      <td>0.000000</td>\n",
              "      <td>0.000000</td>\n",
              "      <td>100.000000</td>\n",
              "      <td>6.0</td>\n",
              "      <td>0.0</td>\n",
              "      <td>0.0</td>\n",
              "      <td>0.0</td>\n",
              "      <td>0.0</td>\n",
              "      <td>0.0</td>\n",
              "      <td>0.0</td>\n",
              "      <td>1.0</td>\n",
              "      <td>1004.400024</td>\n",
              "      <td>0.00</td>\n",
              "      <td>0.0</td>\n",
              "      <td>991.799988</td>\n",
              "      <td>997.799988</td>\n",
              "      <td>0.0</td>\n",
              "      <td>0.2</td>\n",
              "      <td>71.099998</td>\n",
              "      <td>1003.799988</td>\n",
              "      <td>0.0</td>\n",
              "      <td>0.0</td>\n",
              "      <td>-0.0</td>\n",
              "      <td>0.7</td>\n",
              "      <td>23.541000</td>\n",
              "      <td>-1.986000</td>\n",
              "      <td>0.0</td>\n",
              "      <td>286.899994</td>\n",
              "      <td>100.000000</td>\n",
              "      <td>2104.600098</td>\n",
              "      <td>2.8</td>\n",
              "      <td>-2.7</td>\n",
              "      <td>0.8</td>\n",
              "      <td>-0.0</td>\n",
              "      <td>NaT</td>\n",
              "      <td>0.00</td>\n",
              "    </tr>\n",
              "    <tr>\n",
              "      <th>8</th>\n",
              "      <td>2019-06-03 06:00:00</td>\n",
              "      <td>9.7</td>\n",
              "      <td>1.204</td>\n",
              "      <td>672.799988</td>\n",
              "      <td>1.180469e+06</td>\n",
              "      <td>393.799988</td>\n",
              "      <td>672.799988</td>\n",
              "      <td>0.0</td>\n",
              "      <td>283.799988</td>\n",
              "      <td>159.199997</td>\n",
              "      <td>503999.687500</td>\n",
              "      <td>43.400002</td>\n",
              "      <td>180710.906250</td>\n",
              "      <td>94.599998</td>\n",
              "      <td>6.0</td>\n",
              "      <td>0.0</td>\n",
              "      <td>0.0</td>\n",
              "      <td>0.0</td>\n",
              "      <td>0.0</td>\n",
              "      <td>0.0</td>\n",
              "      <td>1.0</td>\n",
              "      <td>0.0</td>\n",
              "      <td>1000.599976</td>\n",
              "      <td>0.00</td>\n",
              "      <td>0.0</td>\n",
              "      <td>988.200012</td>\n",
              "      <td>994.099976</td>\n",
              "      <td>0.0</td>\n",
              "      <td>0.0</td>\n",
              "      <td>76.199997</td>\n",
              "      <td>1000.000000</td>\n",
              "      <td>0.0</td>\n",
              "      <td>0.0</td>\n",
              "      <td>-0.0</td>\n",
              "      <td>0.0</td>\n",
              "      <td>89.064003</td>\n",
              "      <td>24.580000</td>\n",
              "      <td>0.0</td>\n",
              "      <td>287.600006</td>\n",
              "      <td>98.300003</td>\n",
              "      <td>38816.898438</td>\n",
              "      <td>2.1</td>\n",
              "      <td>-1.9</td>\n",
              "      <td>0.9</td>\n",
              "      <td>-0.0</td>\n",
              "      <td>NaT</td>\n",
              "      <td>904.42</td>\n",
              "    </tr>\n",
              "    <tr>\n",
              "      <th>9</th>\n",
              "      <td>2019-06-03 07:00:00</td>\n",
              "      <td>9.3</td>\n",
              "      <td>1.206</td>\n",
              "      <td>665.000000</td>\n",
              "      <td>1.651958e+06</td>\n",
              "      <td>522.599976</td>\n",
              "      <td>665.000000</td>\n",
              "      <td>0.0</td>\n",
              "      <td>283.299988</td>\n",
              "      <td>197.699997</td>\n",
              "      <td>642383.375000</td>\n",
              "      <td>23.000000</td>\n",
              "      <td>119572.398438</td>\n",
              "      <td>100.000000</td>\n",
              "      <td>6.0</td>\n",
              "      <td>0.0</td>\n",
              "      <td>0.0</td>\n",
              "      <td>0.0</td>\n",
              "      <td>0.0</td>\n",
              "      <td>0.0</td>\n",
              "      <td>1.0</td>\n",
              "      <td>0.0</td>\n",
              "      <td>1001.000000</td>\n",
              "      <td>0.00</td>\n",
              "      <td>0.0</td>\n",
              "      <td>988.500000</td>\n",
              "      <td>994.400024</td>\n",
              "      <td>0.0</td>\n",
              "      <td>0.1</td>\n",
              "      <td>73.300003</td>\n",
              "      <td>1000.400024</td>\n",
              "      <td>0.0</td>\n",
              "      <td>0.0</td>\n",
              "      <td>-0.0</td>\n",
              "      <td>0.3</td>\n",
              "      <td>102.903000</td>\n",
              "      <td>31.254000</td>\n",
              "      <td>0.0</td>\n",
              "      <td>287.200012</td>\n",
              "      <td>100.000000</td>\n",
              "      <td>3073.600098</td>\n",
              "      <td>2.8</td>\n",
              "      <td>-1.3</td>\n",
              "      <td>2.5</td>\n",
              "      <td>-0.0</td>\n",
              "      <td>NaT</td>\n",
              "      <td>1238.82</td>\n",
              "    </tr>\n",
              "    <tr>\n",
              "      <th>11</th>\n",
              "      <td>2019-06-03 09:00:00</td>\n",
              "      <td>10.1</td>\n",
              "      <td>1.201</td>\n",
              "      <td>649.200012</td>\n",
              "      <td>2.471160e+06</td>\n",
              "      <td>730.500000</td>\n",
              "      <td>649.200012</td>\n",
              "      <td>0.0</td>\n",
              "      <td>284.500000</td>\n",
              "      <td>242.100006</td>\n",
              "      <td>834273.500000</td>\n",
              "      <td>30.299999</td>\n",
              "      <td>76766.000000</td>\n",
              "      <td>99.699997</td>\n",
              "      <td>6.0</td>\n",
              "      <td>0.0</td>\n",
              "      <td>0.0</td>\n",
              "      <td>0.0</td>\n",
              "      <td>0.0</td>\n",
              "      <td>0.0</td>\n",
              "      <td>1.0</td>\n",
              "      <td>0.0</td>\n",
              "      <td>1000.599976</td>\n",
              "      <td>0.00</td>\n",
              "      <td>0.0</td>\n",
              "      <td>988.000000</td>\n",
              "      <td>993.799988</td>\n",
              "      <td>0.0</td>\n",
              "      <td>0.1</td>\n",
              "      <td>77.800003</td>\n",
              "      <td>999.799988</td>\n",
              "      <td>0.0</td>\n",
              "      <td>0.0</td>\n",
              "      <td>-0.0</td>\n",
              "      <td>0.3</td>\n",
              "      <td>134.822998</td>\n",
              "      <td>42.949001</td>\n",
              "      <td>0.0</td>\n",
              "      <td>287.700012</td>\n",
              "      <td>100.000000</td>\n",
              "      <td>3585.300049</td>\n",
              "      <td>2.4</td>\n",
              "      <td>-0.7</td>\n",
              "      <td>2.3</td>\n",
              "      <td>-0.0</td>\n",
              "      <td>NaT</td>\n",
              "      <td>3047.22</td>\n",
              "    </tr>\n",
              "    <tr>\n",
              "      <th>12</th>\n",
              "      <td>2019-06-03 10:00:00</td>\n",
              "      <td>10.0</td>\n",
              "      <td>1.194</td>\n",
              "      <td>1582.699951</td>\n",
              "      <td>2.752325e+06</td>\n",
              "      <td>793.099976</td>\n",
              "      <td>1582.699951</td>\n",
              "      <td>0.0</td>\n",
              "      <td>284.500000</td>\n",
              "      <td>277.100006</td>\n",
              "      <td>934553.500000</td>\n",
              "      <td>178.800003</td>\n",
              "      <td>376385.093750</td>\n",
              "      <td>79.199997</td>\n",
              "      <td>6.0</td>\n",
              "      <td>0.0</td>\n",
              "      <td>0.0</td>\n",
              "      <td>0.0</td>\n",
              "      <td>0.0</td>\n",
              "      <td>0.0</td>\n",
              "      <td>1.0</td>\n",
              "      <td>0.0</td>\n",
              "      <td>1000.099976</td>\n",
              "      <td>0.00</td>\n",
              "      <td>0.0</td>\n",
              "      <td>987.500000</td>\n",
              "      <td>993.299988</td>\n",
              "      <td>0.0</td>\n",
              "      <td>0.1</td>\n",
              "      <td>72.500000</td>\n",
              "      <td>999.200012</td>\n",
              "      <td>0.0</td>\n",
              "      <td>0.0</td>\n",
              "      <td>-0.0</td>\n",
              "      <td>0.0</td>\n",
              "      <td>153.731003</td>\n",
              "      <td>46.875000</td>\n",
              "      <td>0.0</td>\n",
              "      <td>288.700012</td>\n",
              "      <td>94.099998</td>\n",
              "      <td>9568.900391</td>\n",
              "      <td>2.0</td>\n",
              "      <td>-1.0</td>\n",
              "      <td>1.7</td>\n",
              "      <td>-0.0</td>\n",
              "      <td>NaT</td>\n",
              "      <td>2163.26</td>\n",
              "    </tr>\n",
              "    <tr>\n",
              "      <th>...</th>\n",
              "      <td>...</td>\n",
              "      <td>...</td>\n",
              "      <td>...</td>\n",
              "      <td>...</td>\n",
              "      <td>...</td>\n",
              "      <td>...</td>\n",
              "      <td>...</td>\n",
              "      <td>...</td>\n",
              "      <td>...</td>\n",
              "      <td>...</td>\n",
              "      <td>...</td>\n",
              "      <td>...</td>\n",
              "      <td>...</td>\n",
              "      <td>...</td>\n",
              "      <td>...</td>\n",
              "      <td>...</td>\n",
              "      <td>...</td>\n",
              "      <td>...</td>\n",
              "      <td>...</td>\n",
              "      <td>...</td>\n",
              "      <td>...</td>\n",
              "      <td>...</td>\n",
              "      <td>...</td>\n",
              "      <td>...</td>\n",
              "      <td>...</td>\n",
              "      <td>...</td>\n",
              "      <td>...</td>\n",
              "      <td>...</td>\n",
              "      <td>...</td>\n",
              "      <td>...</td>\n",
              "      <td>...</td>\n",
              "      <td>...</td>\n",
              "      <td>...</td>\n",
              "      <td>...</td>\n",
              "      <td>...</td>\n",
              "      <td>...</td>\n",
              "      <td>...</td>\n",
              "      <td>...</td>\n",
              "      <td>...</td>\n",
              "      <td>...</td>\n",
              "      <td>...</td>\n",
              "      <td>...</td>\n",
              "      <td>...</td>\n",
              "      <td>...</td>\n",
              "      <td>...</td>\n",
              "      <td>...</td>\n",
              "      <td>...</td>\n",
              "    </tr>\n",
              "    <tr>\n",
              "      <th>34005</th>\n",
              "      <td>2023-04-29 08:00:00</td>\n",
              "      <td>4.4</td>\n",
              "      <td>1.274</td>\n",
              "      <td>631.099976</td>\n",
              "      <td>1.636698e+06</td>\n",
              "      <td>513.200012</td>\n",
              "      <td>275.200012</td>\n",
              "      <td>0.0</td>\n",
              "      <td>271.899994</td>\n",
              "      <td>101.199997</td>\n",
              "      <td>321381.187500</td>\n",
              "      <td>2.400000</td>\n",
              "      <td>4316.100098</td>\n",
              "      <td>100.000000</td>\n",
              "      <td>6.0</td>\n",
              "      <td>0.0</td>\n",
              "      <td>0.0</td>\n",
              "      <td>0.0</td>\n",
              "      <td>0.0</td>\n",
              "      <td>0.0</td>\n",
              "      <td>1.0</td>\n",
              "      <td>0.0</td>\n",
              "      <td>1008.099976</td>\n",
              "      <td>0.07</td>\n",
              "      <td>3.0</td>\n",
              "      <td>995.000000</td>\n",
              "      <td>1001.299988</td>\n",
              "      <td>0.0</td>\n",
              "      <td>0.0</td>\n",
              "      <td>87.000000</td>\n",
              "      <td>1007.500000</td>\n",
              "      <td>0.0</td>\n",
              "      <td>0.0</td>\n",
              "      <td>-0.0</td>\n",
              "      <td>0.3</td>\n",
              "      <td>122.000000</td>\n",
              "      <td>30.344999</td>\n",
              "      <td>0.2</td>\n",
              "      <td>273.899994</td>\n",
              "      <td>100.000000</td>\n",
              "      <td>3575.899902</td>\n",
              "      <td>0.8</td>\n",
              "      <td>0.8</td>\n",
              "      <td>-0.0</td>\n",
              "      <td>0.0</td>\n",
              "      <td>2023-04-28 07:00:04</td>\n",
              "      <td>646.14</td>\n",
              "    </tr>\n",
              "    <tr>\n",
              "      <th>34022</th>\n",
              "      <td>2023-04-30 01:00:00</td>\n",
              "      <td>4.3</td>\n",
              "      <td>1.279</td>\n",
              "      <td>3045.699951</td>\n",
              "      <td>0.000000e+00</td>\n",
              "      <td>0.000000</td>\n",
              "      <td>1058.099976</td>\n",
              "      <td>0.0</td>\n",
              "      <td>271.700012</td>\n",
              "      <td>0.000000</td>\n",
              "      <td>0.000000</td>\n",
              "      <td>0.000000</td>\n",
              "      <td>0.000000</td>\n",
              "      <td>100.000000</td>\n",
              "      <td>6.0</td>\n",
              "      <td>0.0</td>\n",
              "      <td>0.0</td>\n",
              "      <td>0.0</td>\n",
              "      <td>0.0</td>\n",
              "      <td>0.0</td>\n",
              "      <td>0.0</td>\n",
              "      <td>1.0</td>\n",
              "      <td>1011.000000</td>\n",
              "      <td>0.00</td>\n",
              "      <td>0.0</td>\n",
              "      <td>998.000000</td>\n",
              "      <td>1004.200012</td>\n",
              "      <td>0.0</td>\n",
              "      <td>0.0</td>\n",
              "      <td>77.599998</td>\n",
              "      <td>1010.500000</td>\n",
              "      <td>0.0</td>\n",
              "      <td>0.0</td>\n",
              "      <td>-0.0</td>\n",
              "      <td>0.1</td>\n",
              "      <td>25.165001</td>\n",
              "      <td>-9.435000</td>\n",
              "      <td>0.0</td>\n",
              "      <td>274.299988</td>\n",
              "      <td>100.000000</td>\n",
              "      <td>23015.000000</td>\n",
              "      <td>4.5</td>\n",
              "      <td>2.8</td>\n",
              "      <td>3.5</td>\n",
              "      <td>-0.0</td>\n",
              "      <td>2023-04-29 07:00:05</td>\n",
              "      <td>0.00</td>\n",
              "    </tr>\n",
              "    <tr>\n",
              "      <th>34023</th>\n",
              "      <td>2023-04-30 02:00:00</td>\n",
              "      <td>4.3</td>\n",
              "      <td>1.277</td>\n",
              "      <td>856.000000</td>\n",
              "      <td>0.000000e+00</td>\n",
              "      <td>0.000000</td>\n",
              "      <td>769.299988</td>\n",
              "      <td>0.0</td>\n",
              "      <td>271.600006</td>\n",
              "      <td>0.000000</td>\n",
              "      <td>0.000000</td>\n",
              "      <td>0.000000</td>\n",
              "      <td>0.000000</td>\n",
              "      <td>98.300003</td>\n",
              "      <td>6.0</td>\n",
              "      <td>0.0</td>\n",
              "      <td>0.0</td>\n",
              "      <td>0.0</td>\n",
              "      <td>0.0</td>\n",
              "      <td>0.0</td>\n",
              "      <td>0.0</td>\n",
              "      <td>1.0</td>\n",
              "      <td>1010.900024</td>\n",
              "      <td>0.00</td>\n",
              "      <td>0.0</td>\n",
              "      <td>997.799988</td>\n",
              "      <td>1004.000000</td>\n",
              "      <td>0.0</td>\n",
              "      <td>0.0</td>\n",
              "      <td>76.500000</td>\n",
              "      <td>1010.299988</td>\n",
              "      <td>0.0</td>\n",
              "      <td>0.0</td>\n",
              "      <td>-0.0</td>\n",
              "      <td>0.0</td>\n",
              "      <td>39.396000</td>\n",
              "      <td>-5.848000</td>\n",
              "      <td>0.0</td>\n",
              "      <td>274.399994</td>\n",
              "      <td>98.300003</td>\n",
              "      <td>32221.000000</td>\n",
              "      <td>4.8</td>\n",
              "      <td>3.1</td>\n",
              "      <td>3.7</td>\n",
              "      <td>-0.0</td>\n",
              "      <td>2023-04-29 07:00:05</td>\n",
              "      <td>0.00</td>\n",
              "    </tr>\n",
              "    <tr>\n",
              "      <th>34024</th>\n",
              "      <td>2023-04-30 03:00:00</td>\n",
              "      <td>4.3</td>\n",
              "      <td>1.277</td>\n",
              "      <td>4756.000000</td>\n",
              "      <td>0.000000e+00</td>\n",
              "      <td>0.000000</td>\n",
              "      <td>3252.699951</td>\n",
              "      <td>0.0</td>\n",
              "      <td>271.600006</td>\n",
              "      <td>0.000000</td>\n",
              "      <td>0.000000</td>\n",
              "      <td>0.000000</td>\n",
              "      <td>0.000000</td>\n",
              "      <td>54.900002</td>\n",
              "      <td>6.0</td>\n",
              "      <td>0.0</td>\n",
              "      <td>0.0</td>\n",
              "      <td>0.0</td>\n",
              "      <td>0.0</td>\n",
              "      <td>0.0</td>\n",
              "      <td>0.0</td>\n",
              "      <td>1.0</td>\n",
              "      <td>1010.599976</td>\n",
              "      <td>0.00</td>\n",
              "      <td>0.0</td>\n",
              "      <td>997.400024</td>\n",
              "      <td>1003.700012</td>\n",
              "      <td>0.0</td>\n",
              "      <td>0.0</td>\n",
              "      <td>76.800003</td>\n",
              "      <td>1009.900024</td>\n",
              "      <td>0.0</td>\n",
              "      <td>0.0</td>\n",
              "      <td>-0.0</td>\n",
              "      <td>0.0</td>\n",
              "      <td>53.141998</td>\n",
              "      <td>-0.996000</td>\n",
              "      <td>0.0</td>\n",
              "      <td>274.399994</td>\n",
              "      <td>55.299999</td>\n",
              "      <td>31191.500000</td>\n",
              "      <td>5.2</td>\n",
              "      <td>2.8</td>\n",
              "      <td>4.3</td>\n",
              "      <td>-0.0</td>\n",
              "      <td>2023-04-29 07:00:05</td>\n",
              "      <td>36.08</td>\n",
              "    </tr>\n",
              "    <tr>\n",
              "      <th>34025</th>\n",
              "      <td>2023-04-30 04:00:00</td>\n",
              "      <td>4.2</td>\n",
              "      <td>1.275</td>\n",
              "      <td>1128.800049</td>\n",
              "      <td>5.181120e+04</td>\n",
              "      <td>39.599998</td>\n",
              "      <td>1024.599976</td>\n",
              "      <td>0.0</td>\n",
              "      <td>271.399994</td>\n",
              "      <td>28.500000</td>\n",
              "      <td>51343.398438</td>\n",
              "      <td>8.500000</td>\n",
              "      <td>15305.400391</td>\n",
              "      <td>53.400002</td>\n",
              "      <td>6.0</td>\n",
              "      <td>0.0</td>\n",
              "      <td>0.0</td>\n",
              "      <td>0.0</td>\n",
              "      <td>0.0</td>\n",
              "      <td>0.0</td>\n",
              "      <td>1.0</td>\n",
              "      <td>0.0</td>\n",
              "      <td>1010.299988</td>\n",
              "      <td>0.00</td>\n",
              "      <td>0.0</td>\n",
              "      <td>997.099976</td>\n",
              "      <td>1003.400024</td>\n",
              "      <td>0.0</td>\n",
              "      <td>0.0</td>\n",
              "      <td>75.300003</td>\n",
              "      <td>1009.599976</td>\n",
              "      <td>0.0</td>\n",
              "      <td>0.0</td>\n",
              "      <td>-0.0</td>\n",
              "      <td>0.0</td>\n",
              "      <td>66.499001</td>\n",
              "      <td>4.806000</td>\n",
              "      <td>0.0</td>\n",
              "      <td>274.500000</td>\n",
              "      <td>54.599998</td>\n",
              "      <td>27596.699219</td>\n",
              "      <td>5.5</td>\n",
              "      <td>2.9</td>\n",
              "      <td>4.7</td>\n",
              "      <td>-0.0</td>\n",
              "      <td>2023-04-29 07:00:05</td>\n",
              "      <td>187.66</td>\n",
              "    </tr>\n",
              "  </tbody>\n",
              "</table>\n",
              "<p>3405 rows × 47 columns</p>\n",
              "</div>"
            ],
            "text/plain": [
              "            date_forecast  absolute_humidity_2m:gm3  air_density_2m:kgm3  \\\n",
              "3     2019-06-03 01:00:00                       8.2                1.218   \n",
              "8     2019-06-03 06:00:00                       9.7                1.204   \n",
              "9     2019-06-03 07:00:00                       9.3                1.206   \n",
              "11    2019-06-03 09:00:00                      10.1                1.201   \n",
              "12    2019-06-03 10:00:00                      10.0                1.194   \n",
              "...                   ...                       ...                  ...   \n",
              "34005 2023-04-29 08:00:00                       4.4                1.274   \n",
              "34022 2023-04-30 01:00:00                       4.3                1.279   \n",
              "34023 2023-04-30 02:00:00                       4.3                1.277   \n",
              "34024 2023-04-30 03:00:00                       4.3                1.277   \n",
              "34025 2023-04-30 04:00:00                       4.2                1.275   \n",
              "\n",
              "       ceiling_height_agl:m  clear_sky_energy_1h:J  clear_sky_rad:W  \\\n",
              "3               1388.400024           0.000000e+00         0.000000   \n",
              "8                672.799988           1.180469e+06       393.799988   \n",
              "9                665.000000           1.651958e+06       522.599976   \n",
              "11               649.200012           2.471160e+06       730.500000   \n",
              "12              1582.699951           2.752325e+06       793.099976   \n",
              "...                     ...                    ...              ...   \n",
              "34005            631.099976           1.636698e+06       513.200012   \n",
              "34022           3045.699951           0.000000e+00         0.000000   \n",
              "34023            856.000000           0.000000e+00         0.000000   \n",
              "34024           4756.000000           0.000000e+00         0.000000   \n",
              "34025           1128.800049           5.181120e+04        39.599998   \n",
              "\n",
              "       cloud_base_agl:m  dew_or_rime:idx  dew_point_2m:K  diffuse_rad:W  \\\n",
              "3           1388.400024              0.0      281.299988       0.000000   \n",
              "8            672.799988              0.0      283.799988     159.199997   \n",
              "9            665.000000              0.0      283.299988     197.699997   \n",
              "11           649.200012              0.0      284.500000     242.100006   \n",
              "12          1582.699951              0.0      284.500000     277.100006   \n",
              "...                 ...              ...             ...            ...   \n",
              "34005        275.200012              0.0      271.899994     101.199997   \n",
              "34022       1058.099976              0.0      271.700012       0.000000   \n",
              "34023        769.299988              0.0      271.600006       0.000000   \n",
              "34024       3252.699951              0.0      271.600006       0.000000   \n",
              "34025       1024.599976              0.0      271.399994      28.500000   \n",
              "\n",
              "       diffuse_rad_1h:J  direct_rad:W  direct_rad_1h:J  \\\n",
              "3              0.000000      0.000000         0.000000   \n",
              "8         503999.687500     43.400002    180710.906250   \n",
              "9         642383.375000     23.000000    119572.398438   \n",
              "11        834273.500000     30.299999     76766.000000   \n",
              "12        934553.500000    178.800003    376385.093750   \n",
              "...                 ...           ...              ...   \n",
              "34005     321381.187500      2.400000      4316.100098   \n",
              "34022          0.000000      0.000000         0.000000   \n",
              "34023          0.000000      0.000000         0.000000   \n",
              "34024          0.000000      0.000000         0.000000   \n",
              "34025      51343.398438      8.500000     15305.400391   \n",
              "\n",
              "       effective_cloud_cover:p  elevation:m  fresh_snow_12h:cm  \\\n",
              "3                   100.000000          6.0                0.0   \n",
              "8                    94.599998          6.0                0.0   \n",
              "9                   100.000000          6.0                0.0   \n",
              "11                   99.699997          6.0                0.0   \n",
              "12                   79.199997          6.0                0.0   \n",
              "...                        ...          ...                ...   \n",
              "34005               100.000000          6.0                0.0   \n",
              "34022               100.000000          6.0                0.0   \n",
              "34023                98.300003          6.0                0.0   \n",
              "34024                54.900002          6.0                0.0   \n",
              "34025                53.400002          6.0                0.0   \n",
              "\n",
              "       fresh_snow_1h:cm  fresh_snow_24h:cm  fresh_snow_3h:cm  \\\n",
              "3                   0.0                0.0               0.0   \n",
              "8                   0.0                0.0               0.0   \n",
              "9                   0.0                0.0               0.0   \n",
              "11                  0.0                0.0               0.0   \n",
              "12                  0.0                0.0               0.0   \n",
              "...                 ...                ...               ...   \n",
              "34005               0.0                0.0               0.0   \n",
              "34022               0.0                0.0               0.0   \n",
              "34023               0.0                0.0               0.0   \n",
              "34024               0.0                0.0               0.0   \n",
              "34025               0.0                0.0               0.0   \n",
              "\n",
              "       fresh_snow_6h:cm  is_day:idx  is_in_shadow:idx  msl_pressure:hPa  \\\n",
              "3                   0.0         0.0               1.0       1004.400024   \n",
              "8                   0.0         1.0               0.0       1000.599976   \n",
              "9                   0.0         1.0               0.0       1001.000000   \n",
              "11                  0.0         1.0               0.0       1000.599976   \n",
              "12                  0.0         1.0               0.0       1000.099976   \n",
              "...                 ...         ...               ...               ...   \n",
              "34005               0.0         1.0               0.0       1008.099976   \n",
              "34022               0.0         0.0               1.0       1011.000000   \n",
              "34023               0.0         0.0               1.0       1010.900024   \n",
              "34024               0.0         0.0               1.0       1010.599976   \n",
              "34025               0.0         1.0               0.0       1010.299988   \n",
              "\n",
              "       precip_5min:mm  precip_type_5min:idx  pressure_100m:hPa  \\\n",
              "3                0.00                   0.0         991.799988   \n",
              "8                0.00                   0.0         988.200012   \n",
              "9                0.00                   0.0         988.500000   \n",
              "11               0.00                   0.0         988.000000   \n",
              "12               0.00                   0.0         987.500000   \n",
              "...               ...                   ...                ...   \n",
              "34005            0.07                   3.0         995.000000   \n",
              "34022            0.00                   0.0         998.000000   \n",
              "34023            0.00                   0.0         997.799988   \n",
              "34024            0.00                   0.0         997.400024   \n",
              "34025            0.00                   0.0         997.099976   \n",
              "\n",
              "       pressure_50m:hPa  prob_rime:p  rain_water:kgm2  \\\n",
              "3            997.799988          0.0              0.2   \n",
              "8            994.099976          0.0              0.0   \n",
              "9            994.400024          0.0              0.1   \n",
              "11           993.799988          0.0              0.1   \n",
              "12           993.299988          0.0              0.1   \n",
              "...                 ...          ...              ...   \n",
              "34005       1001.299988          0.0              0.0   \n",
              "34022       1004.200012          0.0              0.0   \n",
              "34023       1004.000000          0.0              0.0   \n",
              "34024       1003.700012          0.0              0.0   \n",
              "34025       1003.400024          0.0              0.0   \n",
              "\n",
              "       relative_humidity_1000hPa:p  sfc_pressure:hPa  snow_depth:cm  \\\n",
              "3                        71.099998       1003.799988            0.0   \n",
              "8                        76.199997       1000.000000            0.0   \n",
              "9                        73.300003       1000.400024            0.0   \n",
              "11                       77.800003        999.799988            0.0   \n",
              "12                       72.500000        999.200012            0.0   \n",
              "...                            ...               ...            ...   \n",
              "34005                    87.000000       1007.500000            0.0   \n",
              "34022                    77.599998       1010.500000            0.0   \n",
              "34023                    76.500000       1010.299988            0.0   \n",
              "34024                    76.800003       1009.900024            0.0   \n",
              "34025                    75.300003       1009.599976            0.0   \n",
              "\n",
              "       snow_drift:idx  snow_melt_10min:mm  snow_water:kgm2  sun_azimuth:d  \\\n",
              "3                 0.0                -0.0              0.7      23.541000   \n",
              "8                 0.0                -0.0              0.0      89.064003   \n",
              "9                 0.0                -0.0              0.3     102.903000   \n",
              "11                0.0                -0.0              0.3     134.822998   \n",
              "12                0.0                -0.0              0.0     153.731003   \n",
              "...               ...                 ...              ...            ...   \n",
              "34005             0.0                -0.0              0.3     122.000000   \n",
              "34022             0.0                -0.0              0.1      25.165001   \n",
              "34023             0.0                -0.0              0.0      39.396000   \n",
              "34024             0.0                -0.0              0.0      53.141998   \n",
              "34025             0.0                -0.0              0.0      66.499001   \n",
              "\n",
              "       sun_elevation:d  super_cooled_liquid_water:kgm2  t_1000hPa:K  \\\n",
              "3            -1.986000                             0.0   286.899994   \n",
              "8            24.580000                             0.0   287.600006   \n",
              "9            31.254000                             0.0   287.200012   \n",
              "11           42.949001                             0.0   287.700012   \n",
              "12           46.875000                             0.0   288.700012   \n",
              "...                ...                             ...          ...   \n",
              "34005        30.344999                             0.2   273.899994   \n",
              "34022        -9.435000                             0.0   274.299988   \n",
              "34023        -5.848000                             0.0   274.399994   \n",
              "34024        -0.996000                             0.0   274.399994   \n",
              "34025         4.806000                             0.0   274.500000   \n",
              "\n",
              "       total_cloud_cover:p  visibility:m  wind_speed_10m:ms  \\\n",
              "3               100.000000   2104.600098                2.8   \n",
              "8                98.300003  38816.898438                2.1   \n",
              "9               100.000000   3073.600098                2.8   \n",
              "11              100.000000   3585.300049                2.4   \n",
              "12               94.099998   9568.900391                2.0   \n",
              "...                    ...           ...                ...   \n",
              "34005           100.000000   3575.899902                0.8   \n",
              "34022           100.000000  23015.000000                4.5   \n",
              "34023            98.300003  32221.000000                4.8   \n",
              "34024            55.299999  31191.500000                5.2   \n",
              "34025            54.599998  27596.699219                5.5   \n",
              "\n",
              "       wind_speed_u_10m:ms  wind_speed_v_10m:ms  wind_speed_w_1000hPa:ms  \\\n",
              "3                     -2.7                  0.8                     -0.0   \n",
              "8                     -1.9                  0.9                     -0.0   \n",
              "9                     -1.3                  2.5                     -0.0   \n",
              "11                    -0.7                  2.3                     -0.0   \n",
              "12                    -1.0                  1.7                     -0.0   \n",
              "...                    ...                  ...                      ...   \n",
              "34005                  0.8                 -0.0                      0.0   \n",
              "34022                  2.8                  3.5                     -0.0   \n",
              "34023                  3.1                  3.7                     -0.0   \n",
              "34024                  2.8                  4.3                     -0.0   \n",
              "34025                  2.9                  4.7                     -0.0   \n",
              "\n",
              "                date_calc  pv_measurement  \n",
              "3                     NaT            0.00  \n",
              "8                     NaT          904.42  \n",
              "9                     NaT         1238.82  \n",
              "11                    NaT         3047.22  \n",
              "12                    NaT         2163.26  \n",
              "...                   ...             ...  \n",
              "34005 2023-04-28 07:00:04          646.14  \n",
              "34022 2023-04-29 07:00:05            0.00  \n",
              "34023 2023-04-29 07:00:05            0.00  \n",
              "34024 2023-04-29 07:00:05           36.08  \n",
              "34025 2023-04-29 07:00:05          187.66  \n",
              "\n",
              "[3405 rows x 47 columns]"
            ]
          },
          "execution_count": 242,
          "metadata": {},
          "output_type": "execute_result"
        }
      ],
      "source": [
        "pv_test_a"
      ]
    },
    {
      "cell_type": "code",
      "execution_count": 243,
      "metadata": {
        "colab": {
          "base_uri": "https://localhost:8080/"
        },
        "id": "v_1dTdJYxT9q",
        "outputId": "af1e5cd4-d79f-4309-a6c7-452801dea0a1"
      },
      "outputs": [
        {
          "name": "stdout",
          "output_type": "stream",
          "text": [
            "train_a : (30640, 47)\n",
            "test_a : (3405, 47)\n",
            "Rapport test/total : 10.0\n",
            "train_b : (24446, 47)\n",
            "test_b : (2717, 47)\n",
            "Rapport test/total : 10.0\n",
            "train_c : (19531, 47)\n",
            "test_c : (2171, 47)\n",
            "Rapport test/total : 10.0\n"
          ]
        }
      ],
      "source": [
        "\n",
        "print(\"train_a :\",pv_train_a.shape)\n",
        "print(\"test_a :\",pv_test_a.shape)\n",
        "print(\"Rapport test/total :\", round(pv_test_a.shape[0]/(pv_test_a.shape[0]+pv_train_a.shape[0]),3)*100)\n",
        "print(\"train_b :\",pv_train_b.shape)\n",
        "print(\"test_b :\",pv_test_b.shape)\n",
        "print(\"Rapport test/total :\", round(pv_test_b.shape[0]/(pv_test_b.shape[0]+pv_train_b.shape[0]),3)*100)\n",
        "print(\"train_c :\",pv_train_c.shape)\n",
        "print(\"test_c :\",pv_test_c.shape)\n",
        "print(\"Rapport test/total :\", round(pv_test_c.shape[0]/(pv_test_c.shape[0]+pv_train_c.shape[0]),3)*100)"
      ]
    },
    {
      "cell_type": "markdown",
      "metadata": {
        "id": "BvJgNqxMoPK3"
      },
      "source": [
        "## Changement type de la date_forecast"
      ]
    },
    {
      "cell_type": "code",
      "execution_count": 244,
      "metadata": {
        "id": "6YwsnFtQxI72"
      },
      "outputs": [],
      "source": [
        "# on change le type de date_forecast\n",
        "pv_train_a['date_forecast'] = pd.to_datetime(pv_train_a['date_forecast'])\n",
        "pv_test_a['date_forecast'] = pd.to_datetime(pv_test_a['date_forecast'])\n",
        "\n",
        "pv_train_b['date_forecast'] = pd.to_datetime(pv_train_b['date_forecast'])\n",
        "pv_test_b['date_forecast'] = pd.to_datetime(pv_test_b['date_forecast'])\n",
        "\n",
        "pv_train_c['date_forecast'] = pd.to_datetime(pv_train_c['date_forecast'])\n",
        "pv_test_c['date_forecast'] = pd.to_datetime(pv_test_c['date_forecast'])"
      ]
    },
    {
      "cell_type": "markdown",
      "metadata": {
        "id": "GcD5npiww7DB"
      },
      "source": [
        "## Filtrage des variables"
      ]
    },
    {
      "cell_type": "code",
      "execution_count": 245,
      "metadata": {
        "id": "vrSBNA6lwiVf"
      },
      "outputs": [],
      "source": [
        "#function to apply XGBoost model\n",
        "def create_features(df, label):\n",
        "\n",
        "    # V2\n",
        "    df['hour'] = df[\"date_forecast\"].dt.hour\n",
        "    df['dayofweek'] = df[\"date_forecast\"].dt.dayofweek\n",
        "    df['quarter'] = df[\"date_forecast\"].dt.quarter\n",
        "    df['month'] = df[\"date_forecast\"].dt.month\n",
        "    df['year'] = df[\"date_forecast\"].dt.year\n",
        "    df['dayofyear'] = df[\"date_forecast\"].dt.dayofyear\n",
        "    df['dayofmonth'] = df[\"date_forecast\"].dt.day\n",
        "    # fin V2\n",
        "    df = df.drop([\"date_calc\",\"date_forecast\"],axis=1) # date de calcul des estimated inutil pour l'instant\n",
        "    if label:\n",
        "        y = df[label]\n",
        "        df = df.drop(label,axis=1)\n",
        "        return df, y\n",
        "    return df"
      ]
    },
    {
      "cell_type": "code",
      "execution_count": 246,
      "metadata": {
        "id": "Hg8hidKFxGYS"
      },
      "outputs": [],
      "source": [
        "X_train_a, y_train_a = create_features(pv_train_a, label='pv_measurement')\n",
        "X_test_a, y_test_a = create_features(pv_test_a, label='pv_measurement')\n",
        "\n",
        "X_train_b, y_train_b = create_features(pv_train_b, label='pv_measurement')\n",
        "X_test_b, y_test_b = create_features(pv_test_b, label='pv_measurement')\n",
        "\n",
        "X_train_c, y_train_c = create_features(pv_train_c, label='pv_measurement')\n",
        "X_test_c, y_test_c = create_features(pv_test_c, label='pv_measurement')"
      ]
    },
    {
      "cell_type": "markdown",
      "metadata": {
        "id": "nZcMisI0yLLN"
      },
      "source": [
        "## Normalisation"
      ]
    },
    {
      "cell_type": "code",
      "execution_count": 247,
      "metadata": {
        "id": "wuby8RfayOh4"
      },
      "outputs": [],
      "source": [
        "def sklearn_z_score_normalize_dataframe(df,return_scaler=False,scaler=None):\n",
        "    \"\"\"\n",
        "    Normalizes a DataFrame using z-score normalization (mean and standard deviation) from Scikit-Learn.\n",
        "\n",
        "    Parameters:\n",
        "    df (pd.DataFrame): The DataFrame to be normalized.\n",
        "\n",
        "    Returns:\n",
        "    pd.DataFrame: The z-score normalized DataFrame.\n",
        "    \"\"\"\n",
        "    if scaler == None :\n",
        "      # Create a StandardScaler instance\n",
        "      # scaler = Normalizer()\n",
        "      # scaler = RobustScaler()\n",
        "      scaler = StandardScaler()\n",
        "\n",
        "      # Fit the scaler on the DataFrame and transform the data\n",
        "      normalized_data = scaler.fit_transform(df)\n",
        "\n",
        "    else : normalized_data = scaler.fit_transform(df)\n",
        "\n",
        "    # Create a new DataFrame with the scaled data\n",
        "    normalized_df = pd.DataFrame(normalized_data, columns=df.columns)\n",
        "\n",
        "    # retourner le scaler\n",
        "    if return_scaler :\n",
        "      return normalized_df,scaler\n",
        "    return normalized_df"
      ]
    },
    {
      "cell_type": "code",
      "execution_count": 248,
      "metadata": {
        "id": "HDvBAoHIycUd"
      },
      "outputs": [],
      "source": [
        "X_train_a_norm,scaler_a = sklearn_z_score_normalize_dataframe(X_train_a,return_scaler=True, scaler=scaler_a)\n",
        "X_train_b_norm,scaler_b = sklearn_z_score_normalize_dataframe(X_train_b,return_scaler=True, scaler=scaler_b)\n",
        "X_train_c_norm,scaler_c = sklearn_z_score_normalize_dataframe(X_train_c,return_scaler=True, scaler=scaler_c)"
      ]
    },
    {
      "cell_type": "code",
      "execution_count": 249,
      "metadata": {
        "id": "MgKwlaf2zeQ9"
      },
      "outputs": [],
      "source": [
        "X_test_a_norm = sklearn_z_score_normalize_dataframe(X_test_a,return_scaler=False,scaler=scaler_a)\n",
        "X_test_b_norm = sklearn_z_score_normalize_dataframe(X_test_b,return_scaler=False,scaler=scaler_b)\n",
        "X_test_c_norm = sklearn_z_score_normalize_dataframe(X_test_c,return_scaler=False,scaler=scaler_c)"
      ]
    },
    {
      "cell_type": "code",
      "execution_count": 250,
      "metadata": {},
      "outputs": [],
      "source": [
        "locations = ['A', 'B', 'C']\n",
        "def concat_df_from_differents_locations(dfs):\n",
        "    dfs_to_concat = { k: df.copy() for (k, df) in dfs.items() }\n",
        "    for key, df in dfs_to_concat.items():\n",
        "        for loc in locations:\n",
        "            df[f'location_{loc}'] = 0\n",
        "        df[f'location_{key}'] = 1\n",
        "    dfs_to_concat_listed = [ df for _, df in dfs_to_concat.items() ]\n",
        "    df_to_return = pd.concat(dfs_to_concat_listed, ignore_index=True)\n",
        "    return df_to_return"
      ]
    },
    {
      "cell_type": "code",
      "execution_count": 251,
      "metadata": {},
      "outputs": [],
      "source": [
        "X_train_to_concat = { 'A': X_train_a_norm, 'B': X_train_b_norm, 'C': X_train_c_norm }\n",
        "X_train_norm = concat_df_from_differents_locations(X_train_to_concat)\n",
        "\n",
        "X_test_to_concat = { 'A': X_test_a_norm, 'B': X_test_b_norm, 'C': X_test_c_norm }\n",
        "X_test_norm = concat_df_from_differents_locations(X_test_to_concat)\n",
        "\n",
        "y_train = pd.concat([y_train_a, y_train_b, y_train_c], ignore_index=True)\n",
        "y_test= pd.concat([y_test_a, y_test_b, y_test_c], ignore_index=True)"
      ]
    },
    {
      "cell_type": "markdown",
      "metadata": {
        "id": "acBk2cFgyO0i"
      },
      "source": [
        "## Preprocessing globale"
      ]
    },
    {
      "cell_type": "markdown",
      "metadata": {
        "id": "n0Y9jp38z14j"
      },
      "source": [
        "faire un code qui reprend toute les étapes ci dessus pour éviter de faire plein de lignes qui  se répêtes !!!"
      ]
    },
    {
      "cell_type": "markdown",
      "metadata": {
        "id": "zAz9UF7nv0NB"
      },
      "source": [
        "# Partie XBGoost de base (Nahel)"
      ]
    },
    {
      "cell_type": "code",
      "execution_count": 252,
      "metadata": {
        "id": "Mp5zO1levNPT"
      },
      "outputs": [],
      "source": [
        "import xgboost as xgb\n",
        "from xgboost import plot_importance, plot_tree\n",
        "from sklearn.metrics import mean_squared_error"
      ]
    },
    {
      "cell_type": "code",
      "execution_count": 253,
      "metadata": {
        "colab": {
          "base_uri": "https://localhost:8080/",
          "height": 1000
        },
        "id": "iJ6U7ie7whyI",
        "outputId": "e5ee1dee-99c2-45e3-a422-8a166d9c1259"
      },
      "outputs": [
        {
          "name": "stdout",
          "output_type": "stream",
          "text": [
            "[0]\tvalidation_0-rmse:603.24971\tvalidation_1-rmse:783.63165\n",
            "[1]\tvalidation_0-rmse:488.12531\tvalidation_1-rmse:635.22969\n",
            "[2]\tvalidation_0-rmse:416.22603\tvalidation_1-rmse:540.59135\n",
            "[3]\tvalidation_0-rmse:371.33416\tvalidation_1-rmse:485.13317\n",
            "[4]\tvalidation_0-rmse:343.78105\tvalidation_1-rmse:449.32659\n",
            "[5]\tvalidation_0-rmse:327.44665\tvalidation_1-rmse:430.20084\n",
            "[6]\tvalidation_0-rmse:317.88582\tvalidation_1-rmse:419.69433\n",
            "[7]\tvalidation_0-rmse:310.89731\tvalidation_1-rmse:411.13995\n",
            "[8]\tvalidation_0-rmse:306.43173\tvalidation_1-rmse:405.56816\n",
            "[9]\tvalidation_0-rmse:302.72235\tvalidation_1-rmse:399.99264\n",
            "[10]\tvalidation_0-rmse:300.35314\tvalidation_1-rmse:397.28001\n",
            "[11]\tvalidation_0-rmse:298.15435\tvalidation_1-rmse:395.16391\n",
            "[12]\tvalidation_0-rmse:296.63788\tvalidation_1-rmse:393.22651\n",
            "[13]\tvalidation_0-rmse:295.01515\tvalidation_1-rmse:392.11737\n",
            "[14]\tvalidation_0-rmse:293.67570\tvalidation_1-rmse:391.00287\n",
            "[15]\tvalidation_0-rmse:292.39062\tvalidation_1-rmse:389.86512\n",
            "[16]\tvalidation_0-rmse:290.59771\tvalidation_1-rmse:388.30862\n",
            "[17]\tvalidation_0-rmse:289.19351\tvalidation_1-rmse:387.18832\n",
            "[18]\tvalidation_0-rmse:287.54251\tvalidation_1-rmse:384.72008\n",
            "[19]\tvalidation_0-rmse:286.25876\tvalidation_1-rmse:383.25170\n",
            "[20]\tvalidation_0-rmse:285.36414\tvalidation_1-rmse:382.81676\n",
            "[21]\tvalidation_0-rmse:284.54800\tvalidation_1-rmse:381.72708\n",
            "[22]\tvalidation_0-rmse:284.02075\tvalidation_1-rmse:381.38386\n",
            "[23]\tvalidation_0-rmse:283.32348\tvalidation_1-rmse:381.12911\n",
            "[24]\tvalidation_0-rmse:282.76488\tvalidation_1-rmse:380.89502\n",
            "[25]\tvalidation_0-rmse:282.15190\tvalidation_1-rmse:380.21917\n",
            "[26]\tvalidation_0-rmse:281.20698\tvalidation_1-rmse:379.19334\n",
            "[27]\tvalidation_0-rmse:280.26269\tvalidation_1-rmse:378.57209\n",
            "[28]\tvalidation_0-rmse:279.42281\tvalidation_1-rmse:378.23525\n",
            "[29]\tvalidation_0-rmse:278.66793\tvalidation_1-rmse:377.98154\n",
            "[30]\tvalidation_0-rmse:277.97048\tvalidation_1-rmse:377.42828\n",
            "[31]\tvalidation_0-rmse:277.21575\tvalidation_1-rmse:377.47081\n",
            "[32]\tvalidation_0-rmse:276.32829\tvalidation_1-rmse:377.00075\n",
            "[33]\tvalidation_0-rmse:275.93818\tvalidation_1-rmse:377.00709\n",
            "[34]\tvalidation_0-rmse:275.09440\tvalidation_1-rmse:376.25368\n",
            "[35]\tvalidation_0-rmse:274.50011\tvalidation_1-rmse:376.24066\n",
            "[36]\tvalidation_0-rmse:273.99610\tvalidation_1-rmse:375.68248\n",
            "[37]\tvalidation_0-rmse:273.49788\tvalidation_1-rmse:375.15210\n"
          ]
        },
        {
          "name": "stderr",
          "output_type": "stream",
          "text": [
            "/Users/arthurtestard/envs/ntnu/mlsolar/lib/python3.10/site-packages/xgboost/sklearn.py:885: UserWarning: `early_stopping_rounds` in `fit` method is deprecated for better compatibility with scikit-learn, use `early_stopping_rounds` in constructor or`set_params` instead.\n",
            "  warnings.warn(\n"
          ]
        },
        {
          "name": "stdout",
          "output_type": "stream",
          "text": [
            "[38]\tvalidation_0-rmse:273.16329\tvalidation_1-rmse:375.09838\n",
            "[39]\tvalidation_0-rmse:272.68781\tvalidation_1-rmse:374.75478\n",
            "[40]\tvalidation_0-rmse:272.15465\tvalidation_1-rmse:374.34810\n",
            "[41]\tvalidation_0-rmse:271.32203\tvalidation_1-rmse:374.45288\n",
            "[42]\tvalidation_0-rmse:270.72964\tvalidation_1-rmse:374.39444\n",
            "[43]\tvalidation_0-rmse:270.10437\tvalidation_1-rmse:374.90240\n",
            "[44]\tvalidation_0-rmse:269.61087\tvalidation_1-rmse:374.59411\n",
            "[45]\tvalidation_0-rmse:268.92000\tvalidation_1-rmse:374.23720\n",
            "[46]\tvalidation_0-rmse:268.57637\tvalidation_1-rmse:373.88488\n",
            "[47]\tvalidation_0-rmse:267.98221\tvalidation_1-rmse:373.18670\n",
            "[48]\tvalidation_0-rmse:267.51690\tvalidation_1-rmse:373.40029\n",
            "[49]\tvalidation_0-rmse:267.05120\tvalidation_1-rmse:373.03317\n",
            "[50]\tvalidation_0-rmse:266.61053\tvalidation_1-rmse:373.45254\n",
            "[51]\tvalidation_0-rmse:265.85785\tvalidation_1-rmse:372.67895\n",
            "[52]\tvalidation_0-rmse:265.52835\tvalidation_1-rmse:372.66415\n",
            "[53]\tvalidation_0-rmse:265.03516\tvalidation_1-rmse:372.54395\n",
            "[54]\tvalidation_0-rmse:264.59755\tvalidation_1-rmse:372.09847\n",
            "[55]\tvalidation_0-rmse:264.02736\tvalidation_1-rmse:371.87058\n",
            "[56]\tvalidation_0-rmse:263.49248\tvalidation_1-rmse:371.46733\n",
            "[57]\tvalidation_0-rmse:263.25519\tvalidation_1-rmse:371.43256\n",
            "[58]\tvalidation_0-rmse:262.74145\tvalidation_1-rmse:371.12067\n",
            "[59]\tvalidation_0-rmse:262.20844\tvalidation_1-rmse:370.74794\n",
            "[60]\tvalidation_0-rmse:261.71073\tvalidation_1-rmse:370.32689\n",
            "[61]\tvalidation_0-rmse:261.28457\tvalidation_1-rmse:370.54199\n",
            "[62]\tvalidation_0-rmse:260.88293\tvalidation_1-rmse:370.27370\n",
            "[63]\tvalidation_0-rmse:260.66168\tvalidation_1-rmse:370.21467\n",
            "[64]\tvalidation_0-rmse:260.13923\tvalidation_1-rmse:369.92227\n",
            "[65]\tvalidation_0-rmse:259.79464\tvalidation_1-rmse:369.76749\n",
            "[66]\tvalidation_0-rmse:259.53269\tvalidation_1-rmse:369.65825\n",
            "[67]\tvalidation_0-rmse:259.01745\tvalidation_1-rmse:368.59776\n",
            "[68]\tvalidation_0-rmse:258.48076\tvalidation_1-rmse:368.38535\n",
            "[69]\tvalidation_0-rmse:258.24170\tvalidation_1-rmse:368.33595\n",
            "[70]\tvalidation_0-rmse:257.94203\tvalidation_1-rmse:368.35660\n",
            "[71]\tvalidation_0-rmse:257.60316\tvalidation_1-rmse:368.31745\n",
            "[72]\tvalidation_0-rmse:257.19502\tvalidation_1-rmse:368.46843\n",
            "[73]\tvalidation_0-rmse:256.81040\tvalidation_1-rmse:368.50557\n",
            "[74]\tvalidation_0-rmse:256.33708\tvalidation_1-rmse:368.37740\n",
            "[75]\tvalidation_0-rmse:256.04137\tvalidation_1-rmse:368.34269\n",
            "[76]\tvalidation_0-rmse:255.54694\tvalidation_1-rmse:368.05879\n",
            "[77]\tvalidation_0-rmse:255.15681\tvalidation_1-rmse:368.13400\n",
            "[78]\tvalidation_0-rmse:254.96770\tvalidation_1-rmse:368.00331\n",
            "[79]\tvalidation_0-rmse:254.51695\tvalidation_1-rmse:367.75373\n",
            "[80]\tvalidation_0-rmse:254.12728\tvalidation_1-rmse:367.40176\n",
            "[81]\tvalidation_0-rmse:253.77898\tvalidation_1-rmse:367.64686\n",
            "[82]\tvalidation_0-rmse:253.48619\tvalidation_1-rmse:367.71374\n",
            "[83]\tvalidation_0-rmse:253.12230\tvalidation_1-rmse:367.48555\n",
            "[84]\tvalidation_0-rmse:252.63064\tvalidation_1-rmse:367.33922\n",
            "[85]\tvalidation_0-rmse:252.13489\tvalidation_1-rmse:367.07055\n",
            "[86]\tvalidation_0-rmse:251.75745\tvalidation_1-rmse:367.01530\n",
            "[87]\tvalidation_0-rmse:251.29595\tvalidation_1-rmse:366.88133\n",
            "[88]\tvalidation_0-rmse:251.03133\tvalidation_1-rmse:366.79717\n",
            "[89]\tvalidation_0-rmse:250.68244\tvalidation_1-rmse:366.73858\n",
            "[90]\tvalidation_0-rmse:250.47733\tvalidation_1-rmse:366.68944\n",
            "[91]\tvalidation_0-rmse:249.99112\tvalidation_1-rmse:366.29690\n",
            "[92]\tvalidation_0-rmse:249.45490\tvalidation_1-rmse:366.57770\n",
            "[93]\tvalidation_0-rmse:248.98868\tvalidation_1-rmse:366.15880\n",
            "[94]\tvalidation_0-rmse:248.66599\tvalidation_1-rmse:366.11243\n",
            "[95]\tvalidation_0-rmse:248.50650\tvalidation_1-rmse:366.07396\n",
            "[96]\tvalidation_0-rmse:248.26618\tvalidation_1-rmse:365.84455\n",
            "[97]\tvalidation_0-rmse:247.75948\tvalidation_1-rmse:365.83707\n",
            "[98]\tvalidation_0-rmse:247.68128\tvalidation_1-rmse:365.81257\n",
            "[99]\tvalidation_0-rmse:247.43359\tvalidation_1-rmse:365.69492\n",
            "[100]\tvalidation_0-rmse:246.98047\tvalidation_1-rmse:365.33099\n",
            "[101]\tvalidation_0-rmse:246.62216\tvalidation_1-rmse:365.09523\n",
            "[102]\tvalidation_0-rmse:246.29576\tvalidation_1-rmse:365.03498\n",
            "[103]\tvalidation_0-rmse:245.94001\tvalidation_1-rmse:364.94245\n",
            "[104]\tvalidation_0-rmse:245.35641\tvalidation_1-rmse:364.85335\n",
            "[105]\tvalidation_0-rmse:244.98743\tvalidation_1-rmse:364.95555\n",
            "[106]\tvalidation_0-rmse:244.59359\tvalidation_1-rmse:364.91807\n",
            "[107]\tvalidation_0-rmse:244.33953\tvalidation_1-rmse:365.09207\n",
            "[108]\tvalidation_0-rmse:244.11895\tvalidation_1-rmse:364.97817\n",
            "[109]\tvalidation_0-rmse:243.99607\tvalidation_1-rmse:364.93399\n",
            "[110]\tvalidation_0-rmse:243.84267\tvalidation_1-rmse:364.92446\n",
            "[111]\tvalidation_0-rmse:243.79138\tvalidation_1-rmse:364.97471\n",
            "[112]\tvalidation_0-rmse:243.40692\tvalidation_1-rmse:364.60334\n",
            "[113]\tvalidation_0-rmse:243.17628\tvalidation_1-rmse:364.50971\n",
            "[114]\tvalidation_0-rmse:242.86751\tvalidation_1-rmse:364.40324\n",
            "[115]\tvalidation_0-rmse:242.44489\tvalidation_1-rmse:364.34013\n",
            "[116]\tvalidation_0-rmse:242.12260\tvalidation_1-rmse:364.36438\n",
            "[117]\tvalidation_0-rmse:241.72428\tvalidation_1-rmse:364.61458\n",
            "[118]\tvalidation_0-rmse:241.26865\tvalidation_1-rmse:364.83492\n",
            "[119]\tvalidation_0-rmse:240.89541\tvalidation_1-rmse:364.71277\n",
            "[120]\tvalidation_0-rmse:240.67311\tvalidation_1-rmse:364.68236\n",
            "[121]\tvalidation_0-rmse:240.47833\tvalidation_1-rmse:364.56361\n",
            "[122]\tvalidation_0-rmse:240.26849\tvalidation_1-rmse:364.65903\n",
            "[123]\tvalidation_0-rmse:239.94921\tvalidation_1-rmse:364.45129\n",
            "[124]\tvalidation_0-rmse:239.62200\tvalidation_1-rmse:364.31265\n",
            "[125]\tvalidation_0-rmse:239.42679\tvalidation_1-rmse:364.29822\n",
            "[126]\tvalidation_0-rmse:239.13219\tvalidation_1-rmse:364.12344\n",
            "[127]\tvalidation_0-rmse:238.76249\tvalidation_1-rmse:363.71857\n",
            "[128]\tvalidation_0-rmse:238.39609\tvalidation_1-rmse:363.62643\n",
            "[129]\tvalidation_0-rmse:237.95376\tvalidation_1-rmse:363.37500\n",
            "[130]\tvalidation_0-rmse:237.64345\tvalidation_1-rmse:363.41187\n",
            "[131]\tvalidation_0-rmse:237.25552\tvalidation_1-rmse:363.57385\n",
            "[132]\tvalidation_0-rmse:236.98776\tvalidation_1-rmse:363.60442\n",
            "[133]\tvalidation_0-rmse:236.82137\tvalidation_1-rmse:363.68469\n",
            "[134]\tvalidation_0-rmse:236.54885\tvalidation_1-rmse:363.42439\n",
            "[135]\tvalidation_0-rmse:236.20909\tvalidation_1-rmse:363.34223\n",
            "[136]\tvalidation_0-rmse:235.89471\tvalidation_1-rmse:363.56251\n",
            "[137]\tvalidation_0-rmse:235.57423\tvalidation_1-rmse:363.75687\n",
            "[138]\tvalidation_0-rmse:235.35008\tvalidation_1-rmse:363.83675\n",
            "[139]\tvalidation_0-rmse:235.02254\tvalidation_1-rmse:363.48308\n",
            "[140]\tvalidation_0-rmse:234.72113\tvalidation_1-rmse:363.54076\n",
            "[141]\tvalidation_0-rmse:234.58525\tvalidation_1-rmse:363.43583\n",
            "[142]\tvalidation_0-rmse:234.18047\tvalidation_1-rmse:363.38248\n",
            "[143]\tvalidation_0-rmse:233.78462\tvalidation_1-rmse:363.17968\n",
            "[144]\tvalidation_0-rmse:233.66270\tvalidation_1-rmse:363.19865\n",
            "[145]\tvalidation_0-rmse:233.40384\tvalidation_1-rmse:363.09713\n",
            "[146]\tvalidation_0-rmse:233.22141\tvalidation_1-rmse:363.00817\n",
            "[147]\tvalidation_0-rmse:232.94979\tvalidation_1-rmse:363.31917\n",
            "[148]\tvalidation_0-rmse:232.83326\tvalidation_1-rmse:363.26915\n",
            "[149]\tvalidation_0-rmse:232.36252\tvalidation_1-rmse:363.09528\n",
            "[150]\tvalidation_0-rmse:232.06250\tvalidation_1-rmse:362.74182\n",
            "[151]\tvalidation_0-rmse:231.81769\tvalidation_1-rmse:362.82008\n",
            "[152]\tvalidation_0-rmse:231.52541\tvalidation_1-rmse:362.74281\n",
            "[153]\tvalidation_0-rmse:231.29335\tvalidation_1-rmse:362.69627\n",
            "[154]\tvalidation_0-rmse:231.05389\tvalidation_1-rmse:362.69076\n",
            "[155]\tvalidation_0-rmse:230.61848\tvalidation_1-rmse:362.91525\n",
            "[156]\tvalidation_0-rmse:230.35009\tvalidation_1-rmse:362.77822\n",
            "[157]\tvalidation_0-rmse:230.11908\tvalidation_1-rmse:362.75675\n",
            "[158]\tvalidation_0-rmse:229.75176\tvalidation_1-rmse:362.86129\n",
            "[159]\tvalidation_0-rmse:229.47545\tvalidation_1-rmse:362.86862\n",
            "[160]\tvalidation_0-rmse:229.15687\tvalidation_1-rmse:363.27786\n",
            "[161]\tvalidation_0-rmse:228.91023\tvalidation_1-rmse:363.37741\n",
            "[162]\tvalidation_0-rmse:228.53942\tvalidation_1-rmse:363.29273\n",
            "[163]\tvalidation_0-rmse:228.50157\tvalidation_1-rmse:363.28138\n",
            "[164]\tvalidation_0-rmse:228.26237\tvalidation_1-rmse:363.15420\n",
            "[165]\tvalidation_0-rmse:228.01271\tvalidation_1-rmse:363.14361\n",
            "[166]\tvalidation_0-rmse:227.70933\tvalidation_1-rmse:362.74990\n",
            "[167]\tvalidation_0-rmse:227.51379\tvalidation_1-rmse:362.87695\n",
            "[168]\tvalidation_0-rmse:227.30991\tvalidation_1-rmse:362.89863\n",
            "[169]\tvalidation_0-rmse:226.99556\tvalidation_1-rmse:362.88712\n",
            "[170]\tvalidation_0-rmse:226.86280\tvalidation_1-rmse:362.89613\n",
            "[171]\tvalidation_0-rmse:226.78467\tvalidation_1-rmse:362.89480\n",
            "[172]\tvalidation_0-rmse:226.48742\tvalidation_1-rmse:362.86292\n",
            "[173]\tvalidation_0-rmse:226.17752\tvalidation_1-rmse:362.72638\n",
            "[174]\tvalidation_0-rmse:225.86979\tvalidation_1-rmse:362.51499\n",
            "[175]\tvalidation_0-rmse:225.55403\tvalidation_1-rmse:362.46661\n",
            "[176]\tvalidation_0-rmse:225.30645\tvalidation_1-rmse:362.14844\n",
            "[177]\tvalidation_0-rmse:225.02727\tvalidation_1-rmse:361.96799\n",
            "[178]\tvalidation_0-rmse:224.78084\tvalidation_1-rmse:361.97543\n",
            "[179]\tvalidation_0-rmse:224.60877\tvalidation_1-rmse:362.02316\n",
            "[180]\tvalidation_0-rmse:224.33895\tvalidation_1-rmse:362.24418\n",
            "[181]\tvalidation_0-rmse:224.12994\tvalidation_1-rmse:362.32810\n",
            "[182]\tvalidation_0-rmse:223.99197\tvalidation_1-rmse:362.14037\n",
            "[183]\tvalidation_0-rmse:223.86982\tvalidation_1-rmse:362.19075\n",
            "[184]\tvalidation_0-rmse:223.76064\tvalidation_1-rmse:362.13732\n",
            "[185]\tvalidation_0-rmse:223.53749\tvalidation_1-rmse:362.00110\n",
            "[186]\tvalidation_0-rmse:223.22528\tvalidation_1-rmse:361.63172\n",
            "[187]\tvalidation_0-rmse:222.88635\tvalidation_1-rmse:361.39484\n",
            "[188]\tvalidation_0-rmse:222.60589\tvalidation_1-rmse:361.36124\n",
            "[189]\tvalidation_0-rmse:222.35551\tvalidation_1-rmse:361.40013\n",
            "[190]\tvalidation_0-rmse:222.11118\tvalidation_1-rmse:361.59335\n",
            "[191]\tvalidation_0-rmse:221.86664\tvalidation_1-rmse:361.72808\n",
            "[192]\tvalidation_0-rmse:221.49288\tvalidation_1-rmse:361.70242\n",
            "[193]\tvalidation_0-rmse:221.30230\tvalidation_1-rmse:361.72302\n",
            "[194]\tvalidation_0-rmse:220.97557\tvalidation_1-rmse:361.60751\n",
            "[195]\tvalidation_0-rmse:220.80064\tvalidation_1-rmse:361.47513\n",
            "[196]\tvalidation_0-rmse:220.58042\tvalidation_1-rmse:361.57452\n",
            "[197]\tvalidation_0-rmse:220.41105\tvalidation_1-rmse:361.45465\n",
            "[198]\tvalidation_0-rmse:220.10713\tvalidation_1-rmse:361.60532\n",
            "[199]\tvalidation_0-rmse:219.95802\tvalidation_1-rmse:361.55360\n",
            "[200]\tvalidation_0-rmse:219.69992\tvalidation_1-rmse:361.51439\n",
            "[201]\tvalidation_0-rmse:219.53027\tvalidation_1-rmse:361.43433\n",
            "[202]\tvalidation_0-rmse:219.23720\tvalidation_1-rmse:361.54226\n",
            "[203]\tvalidation_0-rmse:218.92300\tvalidation_1-rmse:361.34339\n",
            "[204]\tvalidation_0-rmse:218.75453\tvalidation_1-rmse:361.10284\n",
            "[205]\tvalidation_0-rmse:218.52282\tvalidation_1-rmse:361.12775\n",
            "[206]\tvalidation_0-rmse:218.30360\tvalidation_1-rmse:361.21120\n",
            "[207]\tvalidation_0-rmse:217.98189\tvalidation_1-rmse:361.25063\n",
            "[208]\tvalidation_0-rmse:217.81147\tvalidation_1-rmse:361.31768\n",
            "[209]\tvalidation_0-rmse:217.56697\tvalidation_1-rmse:361.08114\n",
            "[210]\tvalidation_0-rmse:217.34634\tvalidation_1-rmse:360.96710\n",
            "[211]\tvalidation_0-rmse:217.23366\tvalidation_1-rmse:360.98419\n",
            "[212]\tvalidation_0-rmse:217.00837\tvalidation_1-rmse:360.95754\n",
            "[213]\tvalidation_0-rmse:216.82193\tvalidation_1-rmse:360.89833\n",
            "[214]\tvalidation_0-rmse:216.56250\tvalidation_1-rmse:360.82671\n",
            "[215]\tvalidation_0-rmse:216.26182\tvalidation_1-rmse:360.87992\n",
            "[216]\tvalidation_0-rmse:216.01598\tvalidation_1-rmse:360.87145\n",
            "[217]\tvalidation_0-rmse:215.78023\tvalidation_1-rmse:360.69449\n",
            "[218]\tvalidation_0-rmse:215.65358\tvalidation_1-rmse:360.76095\n",
            "[219]\tvalidation_0-rmse:215.48584\tvalidation_1-rmse:360.80102\n",
            "[220]\tvalidation_0-rmse:215.32213\tvalidation_1-rmse:360.77686\n",
            "[221]\tvalidation_0-rmse:214.99760\tvalidation_1-rmse:360.76575\n",
            "[222]\tvalidation_0-rmse:214.85219\tvalidation_1-rmse:360.82210\n",
            "[223]\tvalidation_0-rmse:214.65143\tvalidation_1-rmse:360.85298\n",
            "[224]\tvalidation_0-rmse:214.45457\tvalidation_1-rmse:360.83661\n",
            "[225]\tvalidation_0-rmse:214.17090\tvalidation_1-rmse:360.90995\n",
            "[226]\tvalidation_0-rmse:213.94438\tvalidation_1-rmse:360.75003\n",
            "[227]\tvalidation_0-rmse:213.67591\tvalidation_1-rmse:360.78957\n",
            "[228]\tvalidation_0-rmse:213.41314\tvalidation_1-rmse:361.02703\n",
            "[229]\tvalidation_0-rmse:213.20145\tvalidation_1-rmse:360.95046\n",
            "[230]\tvalidation_0-rmse:213.07617\tvalidation_1-rmse:360.92710\n",
            "[231]\tvalidation_0-rmse:212.93244\tvalidation_1-rmse:360.87808\n",
            "[232]\tvalidation_0-rmse:212.86756\tvalidation_1-rmse:360.86671\n",
            "[233]\tvalidation_0-rmse:212.76152\tvalidation_1-rmse:360.83352\n",
            "[234]\tvalidation_0-rmse:212.49109\tvalidation_1-rmse:360.82818\n",
            "[235]\tvalidation_0-rmse:212.29984\tvalidation_1-rmse:360.83100\n",
            "[236]\tvalidation_0-rmse:212.04468\tvalidation_1-rmse:360.76146\n",
            "[237]\tvalidation_0-rmse:211.76941\tvalidation_1-rmse:361.18145\n",
            "[238]\tvalidation_0-rmse:211.55831\tvalidation_1-rmse:361.24475\n",
            "[239]\tvalidation_0-rmse:211.29277\tvalidation_1-rmse:361.08736\n",
            "[240]\tvalidation_0-rmse:211.11830\tvalidation_1-rmse:361.12547\n",
            "[241]\tvalidation_0-rmse:210.78624\tvalidation_1-rmse:361.39018\n",
            "[242]\tvalidation_0-rmse:210.53915\tvalidation_1-rmse:361.30940\n",
            "[243]\tvalidation_0-rmse:210.37774\tvalidation_1-rmse:361.25229\n",
            "[244]\tvalidation_0-rmse:210.28581\tvalidation_1-rmse:361.14594\n",
            "[245]\tvalidation_0-rmse:209.99788\tvalidation_1-rmse:361.08529\n",
            "[246]\tvalidation_0-rmse:209.78060\tvalidation_1-rmse:361.35977\n",
            "[247]\tvalidation_0-rmse:209.53900\tvalidation_1-rmse:361.46574\n",
            "[248]\tvalidation_0-rmse:209.30145\tvalidation_1-rmse:361.43002\n",
            "[249]\tvalidation_0-rmse:208.98021\tvalidation_1-rmse:361.46203\n",
            "[250]\tvalidation_0-rmse:208.83426\tvalidation_1-rmse:361.44146\n",
            "[251]\tvalidation_0-rmse:208.65301\tvalidation_1-rmse:361.48593\n",
            "[252]\tvalidation_0-rmse:208.39181\tvalidation_1-rmse:361.29125\n",
            "[253]\tvalidation_0-rmse:208.13321\tvalidation_1-rmse:361.41857\n",
            "[254]\tvalidation_0-rmse:207.98060\tvalidation_1-rmse:361.66582\n",
            "[255]\tvalidation_0-rmse:207.88067\tvalidation_1-rmse:361.64866\n",
            "[256]\tvalidation_0-rmse:207.71962\tvalidation_1-rmse:361.89497\n",
            "[257]\tvalidation_0-rmse:207.63138\tvalidation_1-rmse:361.92466\n",
            "[258]\tvalidation_0-rmse:207.60424\tvalidation_1-rmse:361.84592\n",
            "[259]\tvalidation_0-rmse:207.30853\tvalidation_1-rmse:361.79010\n",
            "[260]\tvalidation_0-rmse:207.05538\tvalidation_1-rmse:361.54018\n",
            "[261]\tvalidation_0-rmse:206.81229\tvalidation_1-rmse:361.61263\n",
            "[262]\tvalidation_0-rmse:206.59700\tvalidation_1-rmse:361.55408\n",
            "[263]\tvalidation_0-rmse:206.43172\tvalidation_1-rmse:361.34518\n",
            "[264]\tvalidation_0-rmse:206.17269\tvalidation_1-rmse:361.35887\n",
            "[265]\tvalidation_0-rmse:205.83314\tvalidation_1-rmse:361.41867\n",
            "[266]\tvalidation_0-rmse:205.60940\tvalidation_1-rmse:361.39958\n",
            "[267]\tvalidation_0-rmse:205.46949\tvalidation_1-rmse:361.34260\n"
          ]
        },
        {
          "data": {
            "text/html": [
              "<style>#sk-container-id-5 {color: black;}#sk-container-id-5 pre{padding: 0;}#sk-container-id-5 div.sk-toggleable {background-color: white;}#sk-container-id-5 label.sk-toggleable__label {cursor: pointer;display: block;width: 100%;margin-bottom: 0;padding: 0.3em;box-sizing: border-box;text-align: center;}#sk-container-id-5 label.sk-toggleable__label-arrow:before {content: \"▸\";float: left;margin-right: 0.25em;color: #696969;}#sk-container-id-5 label.sk-toggleable__label-arrow:hover:before {color: black;}#sk-container-id-5 div.sk-estimator:hover label.sk-toggleable__label-arrow:before {color: black;}#sk-container-id-5 div.sk-toggleable__content {max-height: 0;max-width: 0;overflow: hidden;text-align: left;background-color: #f0f8ff;}#sk-container-id-5 div.sk-toggleable__content pre {margin: 0.2em;color: black;border-radius: 0.25em;background-color: #f0f8ff;}#sk-container-id-5 input.sk-toggleable__control:checked~div.sk-toggleable__content {max-height: 200px;max-width: 100%;overflow: auto;}#sk-container-id-5 input.sk-toggleable__control:checked~label.sk-toggleable__label-arrow:before {content: \"▾\";}#sk-container-id-5 div.sk-estimator input.sk-toggleable__control:checked~label.sk-toggleable__label {background-color: #d4ebff;}#sk-container-id-5 div.sk-label input.sk-toggleable__control:checked~label.sk-toggleable__label {background-color: #d4ebff;}#sk-container-id-5 input.sk-hidden--visually {border: 0;clip: rect(1px 1px 1px 1px);clip: rect(1px, 1px, 1px, 1px);height: 1px;margin: -1px;overflow: hidden;padding: 0;position: absolute;width: 1px;}#sk-container-id-5 div.sk-estimator {font-family: monospace;background-color: #f0f8ff;border: 1px dotted black;border-radius: 0.25em;box-sizing: border-box;margin-bottom: 0.5em;}#sk-container-id-5 div.sk-estimator:hover {background-color: #d4ebff;}#sk-container-id-5 div.sk-parallel-item::after {content: \"\";width: 100%;border-bottom: 1px solid gray;flex-grow: 1;}#sk-container-id-5 div.sk-label:hover label.sk-toggleable__label {background-color: #d4ebff;}#sk-container-id-5 div.sk-serial::before {content: \"\";position: absolute;border-left: 1px solid gray;box-sizing: border-box;top: 0;bottom: 0;left: 50%;z-index: 0;}#sk-container-id-5 div.sk-serial {display: flex;flex-direction: column;align-items: center;background-color: white;padding-right: 0.2em;padding-left: 0.2em;position: relative;}#sk-container-id-5 div.sk-item {position: relative;z-index: 1;}#sk-container-id-5 div.sk-parallel {display: flex;align-items: stretch;justify-content: center;background-color: white;position: relative;}#sk-container-id-5 div.sk-item::before, #sk-container-id-5 div.sk-parallel-item::before {content: \"\";position: absolute;border-left: 1px solid gray;box-sizing: border-box;top: 0;bottom: 0;left: 50%;z-index: -1;}#sk-container-id-5 div.sk-parallel-item {display: flex;flex-direction: column;z-index: 1;position: relative;background-color: white;}#sk-container-id-5 div.sk-parallel-item:first-child::after {align-self: flex-end;width: 50%;}#sk-container-id-5 div.sk-parallel-item:last-child::after {align-self: flex-start;width: 50%;}#sk-container-id-5 div.sk-parallel-item:only-child::after {width: 0;}#sk-container-id-5 div.sk-dashed-wrapped {border: 1px dashed gray;margin: 0 0.4em 0.5em 0.4em;box-sizing: border-box;padding-bottom: 0.4em;background-color: white;}#sk-container-id-5 div.sk-label label {font-family: monospace;font-weight: bold;display: inline-block;line-height: 1.2em;}#sk-container-id-5 div.sk-label-container {text-align: center;}#sk-container-id-5 div.sk-container {/* jupyter's `normalize.less` sets `[hidden] { display: none; }` but bootstrap.min.css set `[hidden] { display: none !important; }` so we also need the `!important` here to be able to override the default hidden behavior on the sphinx rendered scikit-learn.org. See: https://github.com/scikit-learn/scikit-learn/issues/21755 */display: inline-block !important;position: relative;}#sk-container-id-5 div.sk-text-repr-fallback {display: none;}</style><div id=\"sk-container-id-5\" class=\"sk-top-container\"><div class=\"sk-text-repr-fallback\"><pre>XGBRegressor(base_score=None, booster=None, callbacks=None,\n",
              "             colsample_bylevel=None, colsample_bynode=None,\n",
              "             colsample_bytree=None, device=None, early_stopping_rounds=None,\n",
              "             enable_categorical=False, eval_metric=&#x27;rmse&#x27;, feature_types=None,\n",
              "             gamma=None, grow_policy=None, importance_type=None,\n",
              "             interaction_constraints=None, learning_rate=None, max_bin=None,\n",
              "             max_cat_threshold=None, max_cat_to_onehot=None,\n",
              "             max_delta_step=None, max_depth=4, max_leaves=None,\n",
              "             min_child_weight=None, missing=nan, monotone_constraints=None,\n",
              "             multi_strategy=None, n_estimators=10000, n_jobs=None,\n",
              "             num_parallel_tree=None, random_state=None, ...)</pre><b>In a Jupyter environment, please rerun this cell to show the HTML representation or trust the notebook. <br />On GitHub, the HTML representation is unable to render, please try loading this page with nbviewer.org.</b></div><div class=\"sk-container\" hidden><div class=\"sk-item\"><div class=\"sk-estimator sk-toggleable\"><input class=\"sk-toggleable__control sk-hidden--visually\" id=\"sk-estimator-id-5\" type=\"checkbox\" checked><label for=\"sk-estimator-id-5\" class=\"sk-toggleable__label sk-toggleable__label-arrow\">XGBRegressor</label><div class=\"sk-toggleable__content\"><pre>XGBRegressor(base_score=None, booster=None, callbacks=None,\n",
              "             colsample_bylevel=None, colsample_bynode=None,\n",
              "             colsample_bytree=None, device=None, early_stopping_rounds=None,\n",
              "             enable_categorical=False, eval_metric=&#x27;rmse&#x27;, feature_types=None,\n",
              "             gamma=None, grow_policy=None, importance_type=None,\n",
              "             interaction_constraints=None, learning_rate=None, max_bin=None,\n",
              "             max_cat_threshold=None, max_cat_to_onehot=None,\n",
              "             max_delta_step=None, max_depth=4, max_leaves=None,\n",
              "             min_child_weight=None, missing=nan, monotone_constraints=None,\n",
              "             multi_strategy=None, n_estimators=10000, n_jobs=None,\n",
              "             num_parallel_tree=None, random_state=None, ...)</pre></div></div></div></div></div>"
            ],
            "text/plain": [
              "XGBRegressor(base_score=None, booster=None, callbacks=None,\n",
              "             colsample_bylevel=None, colsample_bynode=None,\n",
              "             colsample_bytree=None, device=None, early_stopping_rounds=None,\n",
              "             enable_categorical=False, eval_metric='rmse', feature_types=None,\n",
              "             gamma=None, grow_policy=None, importance_type=None,\n",
              "             interaction_constraints=None, learning_rate=None, max_bin=None,\n",
              "             max_cat_threshold=None, max_cat_to_onehot=None,\n",
              "             max_delta_step=None, max_depth=4, max_leaves=None,\n",
              "             min_child_weight=None, missing=nan, monotone_constraints=None,\n",
              "             multi_strategy=None, n_estimators=10000, n_jobs=None,\n",
              "             num_parallel_tree=None, random_state=None, ...)"
            ]
          },
          "execution_count": 253,
          "metadata": {},
          "output_type": "execute_result"
        }
      ],
      "source": [
        "reg = xgb.XGBRegressor(n_estimators =  n_estimators,\n",
        "                        max_depth = max_depth,\n",
        "                        eval_metric = eval_metric,\n",
        "                        )\n",
        "\n",
        "# Entraînez le modèle et suivez l'évolution des erreurs\n",
        "reg.fit(X_train_norm, y_train,\n",
        "          eval_set=[(X_train_norm, y_train), (X_test_norm, y_test)],\n",
        "          early_stopping_rounds=50,\n",
        "          verbose=True)"
      ]
    },
    {
      "cell_type": "code",
      "execution_count": 254,
      "metadata": {
        "colab": {
          "base_uri": "https://localhost:8080/",
          "height": 1000
        },
        "id": "L8tJyNqw2ajl",
        "outputId": "d1d82059-64ed-41e7-efa6-89cb907ed5f3"
      },
      "outputs": [
        {
          "data": {
            "image/png": "[encoded data removed]",
            "text/plain": [
              "<Figure size 1000x600 with 1 Axes>"
            ]
          },
          "metadata": {},
          "output_type": "display_data"
        }
      ],
      "source": [
        "# Créez des listes vides pour stocker les erreurs d'entraînement et de test\n",
        "train_errors = []\n",
        "test_errors = []\n",
        "\n",
        "# Accédez aux erreurs d'entraînement et de test après chaque itération\n",
        "results = reg.evals_result()\n",
        "train_errors = results['validation_0'][eval_metric]\n",
        "test_errors = results['validation_1'][eval_metric]\n",
        "\n",
        "# Tracez les courbes d'apprentissage\n",
        "plt.figure(figsize=(10, 6))\n",
        "plt.plot(train_errors, label='Train')\n",
        "plt.plot(test_errors, label='Test')\n",
        "plt.xlabel('Boosting Rounds')\n",
        "plt.ylabel(eval_metric)\n",
        "plt.legend()\n",
        "plt.title('Learning Curves')\n",
        "plt.show()\n",
        "\n",
        "min_error_a = min(test_errors)"
      ]
    },
    {
      "cell_type": "code",
      "execution_count": 255,
      "metadata": {},
      "outputs": [
        {
          "data": {
            "text/plain": [
              "360.69449047301714"
            ]
          },
          "execution_count": 255,
          "metadata": {},
          "output_type": "execute_result"
        }
      ],
      "source": [
        "min_error_a"
      ]
    },
    {
      "cell_type": "code",
      "execution_count": 256,
      "metadata": {
        "colab": {
          "base_uri": "https://localhost:8080/",
          "height": 1000
        },
        "id": "0Cpiem0U0J6m",
        "outputId": "67557c5d-d422-46aa-b3a5-1b4d56eed6a7"
      },
      "outputs": [
        {
          "data": {
            "image/png": "[encoded data removed]",
            "text/plain": [
              "<Figure size 1400x800 with 1 Axes>"
            ]
          },
          "metadata": {},
          "output_type": "display_data"
        }
      ],
      "source": [
        "plot_importance(reg, height=.9)\n",
        "plt.gcf().set_size_inches(14, 8)\n",
        "# plot_importance(reg_b, height=0.9)\n",
        "# plt.gcf().set_size_inches(14, 8)\n",
        "# plot_importance(reg_c, height=0.9)\n",
        "# plt.gcf().set_size_inches(14, 8)"
      ]
    },
    {
      "cell_type": "code",
      "execution_count": 257,
      "metadata": {},
      "outputs": [],
      "source": [
        "pv_test_to_concate= { 'A': pv_test_a, 'B': pv_test_b, 'C': pv_test_c }\n",
        "pv_test = concat_df_from_differents_locations(pv_test_to_concate)\n",
        "\n",
        "pv_train_to_concate = { 'A': pv_train_a, 'B': pv_train_b, 'C': pv_train_c }\n",
        "pv_train = concat_df_from_differents_locations(pv_train_to_concate)"
      ]
    },
    {
      "cell_type": "code",
      "execution_count": 258,
      "metadata": {
        "id": "CzEzDsH5gc0p"
      },
      "outputs": [],
      "source": [
        "# mask_a = ((pv_test['date_forecast'] > split_date_a) & (pv_test['date_forecast'] <= split_date2_a)) & (pv_test['location_A'] == 1)\n",
        "# mask_b = ((pv_test['date_forecast'] > split_date_b) & (pv_test['date_forecast'] <= split_date2_b)) & (pv_test['location_B'] == 1)\n",
        "# mask_c = ((pv_test['date_forecast'] > split_date_c) & (pv_test['date_forecast'] <= split_date2_c)) & (pv_test['location_C'] == 1)\n",
        "# mask = (mask_a | mask_b | mask_c)\n",
        "# pv_test['pv_measurement_prediction'] = pd.NA\n",
        "pv_test['pv_measurement_prediction'] = reg.predict(X_test_norm)\n",
        "# pv_test['pv_measurement_prediction'] = reg.predict(X_test_norm)\n",
        "pv_all = pd.concat([pv_test, pv_train], sort=False)\n",
        "pv_all = pv_all.sort_values(by=['location_C','location_B','location_A', 'date_forecast'])"
      ]
    },
    {
      "cell_type": "code",
      "execution_count": 259,
      "metadata": {},
      "outputs": [
        {
          "name": "stderr",
          "output_type": "stream",
          "text": [
            "/var/folders/dv/nzlg6jm168311nq7f93wfrd80000gn/T/ipykernel_50364/396292492.py:1: SettingWithCopyWarning: \n",
            "A value is trying to be set on a copy of a slice from a DataFrame.\n",
            "Try using .loc[row_indexer,col_indexer] = value instead\n",
            "\n",
            "See the caveats in the documentation: https://pandas.pydata.org/pandas-docs/stable/user_guide/indexing.html#returning-a-view-versus-a-copy\n",
            "  pv_test[pv_test['pv_measurement_prediction'] < 10 ]['pv_measurement_prediction'] = 0.\n"
          ]
        }
      ],
      "source": [
        "pv_test[pv_test['pv_measurement_prediction'] < 10 ]['pv_measurement_prediction'] = 0."
      ]
    },
    {
      "cell_type": "code",
      "execution_count": 260,
      "metadata": {},
      "outputs": [
        {
          "name": "stdout",
          "output_type": "stream",
          "text": [
            "MAE on test set: 156.63250514835872\n"
          ]
        }
      ],
      "source": [
        "mae = np.mean(np.abs(pv_all['pv_measurement'] - pv_all['pv_measurement_prediction']))\n",
        "# print(\"MAE a:\", mae_a, \"MAE b:\", mae_b, \"MAE c:\", mae_c)\n",
        "print(\"MAE on test set:\", mae)"
      ]
    },
    {
      "cell_type": "code",
      "execution_count": 261,
      "metadata": {
        "colab": {
          "base_uri": "https://localhost:8080/",
          "height": 1000
        },
        "id": "AqaBX7A0gfSt",
        "outputId": "3bafca8f-5b8b-41b1-f8c4-2b05d55d2f62"
      },
      "outputs": [
        {
          "data": {
            "image/png": "[encoded data removed]",
            "text/plain": [
              "<Figure size 1500x500 with 1 Axes>"
            ]
          },
          "metadata": {},
          "output_type": "display_data"
        }
      ],
      "source": [
        "graph = pv_all[['pv_measurement','pv_measurement_prediction']].plot(figsize=(15, 5)).scatter('pv_measurement','pv_measurement_prediction')\n",
        "# graph = pv_all_b[['pv_measurement','pv_measurement_prediction']].plot(figsize=(15, 5)).scatter('pv_measurement','pv_measurement_prediction')\n",
        "# graph = pv_all_c[['pv_measurement','pv_measurement_prediction']].plot(figsize=(15, 5)).scatter('pv_measurement','pv_measurement_prediction')"
      ]
    },
    {
      "cell_type": "code",
      "execution_count": 262,
      "metadata": {},
      "outputs": [],
      "source": [
        "# np_pv_c = np.array(pv_all_c['pv_measurement'])\n",
        "# plt.plot(np_pv_c)"
      ]
    },
    {
      "cell_type": "markdown",
      "metadata": {
        "id": "VE0_jFOv23vB"
      },
      "source": [
        "# Export sur Kaggle"
      ]
    },
    {
      "cell_type": "code",
      "execution_count": 263,
      "metadata": {
        "id": "I43fCNu60TX_"
      },
      "outputs": [],
      "source": [
        "test = pd.read_csv(path+\"test.csv\")\n",
        "test_copy = test.copy()\n",
        "test.rename(columns={'time': 'date_forecast'}, inplace=True) #pour faire le merge\n",
        "test[\"date_forecast\"] = pd.to_datetime(test[\"date_forecast\"]) #mettre le bon type"
      ]
    },
    {
      "cell_type": "code",
      "execution_count": 264,
      "metadata": {
        "id": "hg7yQqAA4E0g"
      },
      "outputs": [],
      "source": [
        "# Lecture des données météo associée :\n",
        "merged_df_pre_a = pd.merge(X_test_estimated_a, test, on='date_forecast', how='inner')\n",
        "merged_df_a = merged_df_pre_a[merged_df_pre_a[\"location\"]==\"A\"]\n",
        "merged_df_pre_b = pd.merge(X_test_estimated_b, test, on='date_forecast', how='inner')\n",
        "merged_df_b = merged_df_pre_b[merged_df_pre_b[\"location\"]==\"B\"]\n",
        "merged_df_pre_c = pd.merge(X_test_estimated_c, test, on='date_forecast', how='inner')\n",
        "merged_df_c = merged_df_pre_c[merged_df_pre_c[\"location\"]==\"C\"]"
      ]
    },
    {
      "cell_type": "code",
      "execution_count": 265,
      "metadata": {
        "id": "JkPxzaLxPE3y"
      },
      "outputs": [],
      "source": [
        "def preprocessing_test(df,scaler):\n",
        "  X_test = df.drop([\"id\",\"location\",\"prediction\"],axis=1)\n",
        "  X_test = create_features(X_test, None)\n",
        "  #X_test[('date_forecast')] = X_test[('date_forecast')].values.astype(\"float64\")\n",
        "  X_test = gestion_nan(X_test)\n",
        "  X_test = sklearn_z_score_normalize_dataframe(X_test,return_scaler=False,scaler=scaler)\n",
        "  return X_test"
      ]
    },
    {
      "cell_type": "code",
      "execution_count": 266,
      "metadata": {
        "id": "9m42fLq9Y4ZA"
      },
      "outputs": [],
      "source": [
        "X_test_a_test = preprocessing_test(merged_df_a,scaler_a)\n",
        "X_test_b_test = preprocessing_test(merged_df_b,scaler_b)\n",
        "X_test_c_test = preprocessing_test(merged_df_c,scaler_c)"
      ]
    },
    {
      "cell_type": "code",
      "execution_count": 267,
      "metadata": {},
      "outputs": [],
      "source": [
        "X_pred_to_concat = { 'A': X_test_a_test, 'B': X_test_b_test, 'C': X_test_c_test }\n",
        "X_pred = concat_df_from_differents_locations(X_pred_to_concat)"
      ]
    },
    {
      "cell_type": "code",
      "execution_count": 268,
      "metadata": {
        "id": "N4V9YUIYZiGr"
      },
      "outputs": [],
      "source": [
        "results = reg.predict(X_pred)"
      ]
    },
    {
      "cell_type": "code",
      "execution_count": 269,
      "metadata": {
        "colab": {
          "base_uri": "https://localhost:8080/",
          "height": 447
        },
        "id": "4E4A-WF5ih-0",
        "outputId": "94ac5b1b-1328-411d-b918-4359d052895d"
      },
      "outputs": [
        {
          "data": {
            "text/plain": [
              "[<matplotlib.lines.Line2D at 0x29f5a6aa0>]"
            ]
          },
          "execution_count": 269,
          "metadata": {},
          "output_type": "execute_result"
        },
        {
          "data": {
            "image/png": "[encoded data removed]",
            "text/plain": [
              "<Figure size 640x480 with 1 Axes>"
            ]
          },
          "metadata": {},
          "output_type": "display_data"
        }
      ],
      "source": [
        "plt.plot(results)"
      ]
    },
    {
      "cell_type": "code",
      "execution_count": 270,
      "metadata": {
        "id": "LTSbJj5lZc1s"
      },
      "outputs": [],
      "source": [
        "nom_fichier = 'XGBoost_Valentin_V2'\n",
        "repertoire = path\n",
        "# result = np.concatenate((np.concatenate((result_A,result_B)), result_C))\n",
        "test_copy['prediction'] = results\n",
        "sample_submission = sample_submission[['id']].merge(test_copy[['id', 'prediction']], on='id', how='left')\n",
        "sample_submission.to_csv(repertoire+ nom_fichier+'.csv', index=False)"
      ]
    },
    {
      "cell_type": "markdown",
      "metadata": {
        "id": "sL8tKAK-tx2P"
      },
      "source": [
        "Prochaines amélioration\n",
        "\n",
        "- mettre un minimum *Done*\n",
        "- suppression des zones continues en B et C *To DO*\n",
        "- prise en compte de la date (jour/mois/heure) *Done* peut être ajusté ?\n",
        "- prendre le meilleur model : celui avec le meilleur score sur le deuxième testset (A : 2,8% B : 5,5%  C: 11,5%) (score eval prévu : 166) --> déjà pris en copmte dans la fonction ...\n",
        "\n",
        "\n",
        "Perf V1:\n",
        "\n",
        "A : Test 2 : 446 / 459\n",
        "\n",
        "B : Test 2 : 101 / 107\n",
        "\n",
        "C : Test 2 : 68 / 78\n",
        "\n",
        "Perf V2:\n",
        "\n",
        "A : Test 1 : 243 | Test 2 : 438 / 455\n",
        "\n",
        "B : Test 1 : 35 | Test 2 : 106 / 110\n",
        "\n",
        "C : Test 1 : 26 | Test 2 : 65 / 71"
      ]
    },
    {
      "cell_type": "markdown",
      "metadata": {
        "id": "XHFXLird0mW5"
      },
      "source": [
        "# Post traitement"
      ]
    },
    {
      "cell_type": "markdown",
      "metadata": {
        "id": "cwUbdVUh0oeY"
      },
      "source": [
        "Ici, on va faire en sorte de n'avoir que des valeurs positives (cela ne représente qu'une légère amélioration"
      ]
    },
    {
      "cell_type": "code",
      "execution_count": 271,
      "metadata": {
        "id": "5jqFf_a-0jTF"
      },
      "outputs": [],
      "source": [
        "# result = np.concatenate((np.concatenate((result_A,result_B)), result_C))"
      ]
    },
    {
      "cell_type": "code",
      "execution_count": 272,
      "metadata": {
        "colab": {
          "base_uri": "https://localhost:8080/"
        },
        "id": "5OUxyuzi4EDa",
        "outputId": "84a0b4cd-1db4-4d9a-e9d6-8d603e905a3e"
      },
      "outputs": [
        {
          "data": {
            "text/plain": [
              "6.082728637183407"
            ]
          },
          "execution_count": 272,
          "metadata": {},
          "output_type": "execute_result"
        }
      ],
      "source": [
        "negative_values = results[results < 0]\n",
        "sum_of_negatives = np.sum(negative_values**2)/len(results)\n",
        "np.sqrt(sum_of_negatives)"
      ]
    },
    {
      "cell_type": "code",
      "execution_count": 273,
      "metadata": {
        "id": "p03W8Xa751Y4"
      },
      "outputs": [],
      "source": [
        "negative_mask = results < 10\n",
        "results[negative_mask] = 0"
      ]
    },
    {
      "cell_type": "code",
      "execution_count": 274,
      "metadata": {
        "id": "DC-LsEUl59-r"
      },
      "outputs": [],
      "source": [
        "nom_fichier = f'XGBoost_grouped_loc_n_estimators_{n_estimators}_delta_{delta_title}_min_{scaler_name}_max_depth_{max_depth}_mae_{int(mae)}_{eval_metric}_{int(min_error_a)}_rd_sets_{random_state}'\n",
        "repertoire = submission_path\n",
        "test_copy['prediction'] = results\n",
        "sample_submission = sample_submission[['id']].merge(test_copy[['id', 'prediction']], on='id', how='left')\n",
        "sample_submission.to_csv(repertoire+ nom_fichier+'.csv', index=False)"
      ]
    },
    {
      "cell_type": "code",
      "execution_count": 275,
      "metadata": {},
      "outputs": [],
      "source": [
        "# result2 = np.concatenate((np.concatenate((result_A,result_B)), result_C))"
      ]
    },
    {
      "cell_type": "code",
      "execution_count": 276,
      "metadata": {},
      "outputs": [],
      "source": [
        "# negative_mask2 = result2 < 10\n",
        "# result2[negative_mask2] = 0"
      ]
    }
  ],
  "metadata": {
    "accelerator": "GPU",
    "colab": {
      "gpuType": "T4",
      "provenance": []
    },
    "kernelspec": {
      "display_name": "mlsolar",
      "language": "python",
      "name": "mlsolar"
    },
    "language_info": {
      "codemirror_mode": {
        "name": "ipython",
        "version": 3
      },
      "file_extension": ".py",
      "mimetype": "text/x-python",
      "name": "python",
      "nbconvert_exporter": "python",
      "pygments_lexer": "ipython3",
      "version": "3.10.11"
    }
  },
  "nbformat": 4,
  "nbformat_minor": 0
}
