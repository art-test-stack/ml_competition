{
  "cells": [
    {
      "cell_type": "code",
      "execution_count": 1,
      "metadata": {
        "colab": {
          "base_uri": "https://localhost:8080/"
        },
        "id": "D8J4eNw8to8q",
        "outputId": "c940eb4c-54df-493d-9e64-02944d68c265"
      },
      "outputs": [],
      "source": [
        "# from google.colab import drive\n",
        "# drive.mount('/content/drive/')"
      ]
    },
    {
      "cell_type": "code",
      "execution_count": 2,
      "metadata": {
        "id": "xyUFazkBu4_S"
      },
      "outputs": [],
      "source": [
        "import os\n",
        "import pandas as pd\n",
        "import numpy as np\n",
        "import matplotlib.pylab as plt\n",
        "import seaborn as sns\n",
        "from tqdm import tqdm\n",
        "import networkx as nx\n",
        "import scipy\n",
        "import json\n",
        "import sys\n",
        "path = ''\n",
        "sys.path.append(path)\n",
        "import utils\n",
        "import settings\n",
        "import pickle\n",
        "from sklearn.preprocessing import StandardScaler, Normalizer, RobustScaler, MinMaxScaler\n",
        "from sklearn.model_selection import train_test_split\n",
        "from datetime import datetime\n",
        "\n",
        "pd.set_option('display.max_rows', 200)\n",
        "pd.set_option('display.max_columns', 200)"
      ]
    },
    {
      "cell_type": "code",
      "execution_count": 3,
      "metadata": {
        "id": "TkJVCDaBvEUt"
      },
      "outputs": [],
      "source": [
        "def save(nom,model):\n",
        "  # Enregistrez le modele (ML/scaler/autre) dans un fichier\n",
        "  with open(nom+'.pkl', 'wb') as f:\n",
        "      pickle.dump(model, f)"
      ]
    },
    {
      "cell_type": "code",
      "execution_count": 4,
      "metadata": {
        "id": "VlShtaIBvGei"
      },
      "outputs": [],
      "source": [
        "def f_open(chemin):\n",
        "  with open(chemin, 'rb') as f:\n",
        "    modele = pickle.load(f)\n",
        "  return modele"
      ]
    },
    {
      "cell_type": "markdown",
      "metadata": {},
      "source": [
        "# Hyper params"
      ]
    },
    {
      "cell_type": "code",
      "execution_count": 5,
      "metadata": {},
      "outputs": [],
      "source": [
        "train_delta_t = 0\n",
        "max_depth = 4\n",
        "eval_metric = 'rmse'\n",
        "n_estimators = 1000\n",
        "scaler_name = 'NormalizerMinMax'\n",
        "scaler_a = StandardScaler()\n",
        "scaler_b = Normalizer()\n",
        "scaler_c = MinMaxScaler()\n",
        "random_state = 42\n",
        "submission_path = '8nov_sub/'\n",
        "test_set_param = 'rd_set' # 'basic'\n",
        "eta = 1e-2"
      ]
    },
    {
      "cell_type": "code",
      "execution_count": 6,
      "metadata": {
        "id": "EJEI78QVvMHt"
      },
      "outputs": [],
      "source": [
        "path = path\n",
        "train_a, train_b, train_c, X_train_estimated_a, X_train_estimated_b, X_train_estimated_c, X_train_observed_a, X_train_observed_b, X_train_observed_c, X_test_estimated_a, X_test_estimated_b, X_test_estimated_c = utils.read_files(diff_path=path)\n",
        "test = pd.read_csv(path+\"test.csv\")\n",
        "sample_submission = pd.read_csv(path+\"sample_submission.csv\")"
      ]
    },
    {
      "cell_type": "code",
      "execution_count": 7,
      "metadata": {},
      "outputs": [],
      "source": [
        "X_train_estimated_a, X_train_estimated_b, X_train_estimated_c, X_train_observed_a, X_train_observed_b, X_train_observed_c, X_test_estimated_a, X_test_estimated_b, X_test_estimated_c = utils.get_reshaped_files3()"
      ]
    },
    {
      "cell_type": "code",
      "execution_count": 8,
      "metadata": {},
      "outputs": [],
      "source": [
        "def clean_reshaped_data(df: pd.DataFrame):\n",
        "    columns_to_drop = ['date_forecast_1', 'date_forecast_2', 'date_forecast_0']\n",
        "    df_cleaned = df.copy()\n",
        "    df_cleaned.rename(columns={'date_forecast_3': 'date_forecast'}, inplace=True)\n",
        "    df_cleaned = df_cleaned.drop(columns=columns_to_drop)\n",
        "    df_cleaned['date_forecast'] = df_cleaned['date_forecast'] # + pd.Timedelta(hours=1)\n",
        "    return df_cleaned"
      ]
    },
    {
      "cell_type": "code",
      "execution_count": 9,
      "metadata": {},
      "outputs": [],
      "source": [
        "X_train_estimated_a = clean_reshaped_data(X_train_estimated_a)\n",
        "X_train_estimated_b = clean_reshaped_data(X_train_estimated_b)\n",
        "X_train_estimated_c = clean_reshaped_data(X_train_estimated_c)\n",
        "X_train_observed_a = clean_reshaped_data(X_train_observed_a)\n",
        "X_train_observed_b = clean_reshaped_data(X_train_observed_b)\n",
        "X_train_observed_c = clean_reshaped_data(X_train_observed_c)\n",
        "X_test_estimated_a = clean_reshaped_data(X_test_estimated_a)\n",
        "X_test_estimated_b = clean_reshaped_data(X_test_estimated_b)\n",
        "X_test_estimated_c = clean_reshaped_data(X_test_estimated_c)"
      ]
    },
    {
      "cell_type": "code",
      "execution_count": 10,
      "metadata": {},
      "outputs": [],
      "source": [
        "X_train_estimated_b['date_forecast'] = X_train_estimated_b['date_forecast']+ pd.Timedelta(minutes=15)"
      ]
    },
    {
      "cell_type": "markdown",
      "metadata": {},
      "source": [
        "# B and C clean up"
      ]
    },
    {
      "cell_type": "code",
      "execution_count": 11,
      "metadata": {},
      "outputs": [],
      "source": [
        "def filter_dates_when_constants(df, date_c = 'time', y = 'pv_measurement', delta = { 'days': 3 }):\n",
        "    df = df.copy()\n",
        "    mask_y_change = df[y] != df[y].shift(1)\n",
        "\n",
        "    start_date = None\n",
        "    end_date = None\n",
        "\n",
        "    constant_periods = []\n",
        "\n",
        "    for index, row in df.iterrows():\n",
        "        if not mask_y_change[index]:\n",
        "            if start_date is None:\n",
        "                start_date = row[date_c]\n",
        "            end_date = row[date_c]\n",
        "        else:\n",
        "            if start_date is not None and (end_date - start_date) >= pd.Timedelta(**delta):\n",
        "                constant_periods.append((start_date, end_date))\n",
        "            start_date = None\n",
        "            end_date = None\n",
        "\n",
        "    if start_date is not None and (end_date - start_date) >= pd.Timedelta(**delta):\n",
        "        constant_periods.append((start_date, end_date))\n",
        "    return constant_periods"
      ]
    },
    {
      "cell_type": "code",
      "execution_count": 12,
      "metadata": {},
      "outputs": [],
      "source": [
        "def delete_date_range_from_df(df, dates, date_c = 'time'):\n",
        "    df = df.copy()\n",
        "    c = 0\n",
        "    for start_date, end_date in dates:\n",
        "        mask = (df[date_c] >= start_date) & (df[date_c] < end_date)\n",
        "        df = df[~mask]\n",
        "    df.reset_index(drop=True, inplace=True)\n",
        "    return df"
      ]
    },
    {
      "cell_type": "code",
      "execution_count": 13,
      "metadata": {},
      "outputs": [],
      "source": [
        "delta = { 'hours': 12 * 4}\n",
        "train_a = delete_date_range_from_df(train_a, filter_dates_when_constants(train_a, delta=delta))\n",
        "train_b = delete_date_range_from_df(train_b, filter_dates_when_constants(train_b, delta=delta))\n",
        "train_c = delete_date_range_from_df(train_c, filter_dates_when_constants(train_c, delta=delta))"
      ]
    },
    {
      "cell_type": "code",
      "execution_count": 14,
      "metadata": {},
      "outputs": [],
      "source": [
        "delta_title = str(train_delta_t)\n",
        "delta_h = pd.Timedelta(minutes=train_delta_t)\n",
        "train_a['date_forecast'] = train_a['time'] - delta_h\n",
        "train_b['date_forecast'] = train_b['time'] - delta_h\n",
        "train_c['date_forecast'] = train_c['time'] - delta_h"
      ]
    },
    {
      "cell_type": "markdown",
      "metadata": {
        "id": "KxAteBV8PYeY"
      },
      "source": [
        "# Réorganisation des df :"
      ]
    },
    {
      "cell_type": "code",
      "execution_count": 15,
      "metadata": {
        "id": "5toXOJy4kFqf"
      },
      "outputs": [],
      "source": [
        "# observed + estimated\n",
        "X_total_a = pd.concat([X_train_observed_a,X_train_estimated_a])\n",
        "X_total_b = pd.concat([X_train_observed_b,X_train_estimated_b])\n",
        "X_total_c = pd.concat([X_train_observed_c,X_train_estimated_c])"
      ]
    },
    {
      "cell_type": "markdown",
      "metadata": {
        "id": "OF3JN3oIlreX"
      },
      "source": [
        "Attention, il faut penser à revoir les valeurs météo et pv de estimated !!!"
      ]
    },
    {
      "cell_type": "markdown",
      "metadata": {
        "id": "3gri4yq2s749"
      },
      "source": [
        "# Changement nom time dans les train"
      ]
    },
    {
      "cell_type": "code",
      "execution_count": 16,
      "metadata": {
        "colab": {
          "base_uri": "https://localhost:8080/",
          "height": 465
        },
        "id": "autBw3kht2cG",
        "outputId": "61c8fc43-29f6-4fdd-e766-01f749de4c61"
      },
      "outputs": [
        {
          "data": {
            "text/plain": [
              "[<matplotlib.lines.Line2D at 0x17e93f2b0>,\n",
              " <matplotlib.lines.Line2D at 0x17e93f2e0>,\n",
              " <matplotlib.lines.Line2D at 0x17e93f3d0>]"
            ]
          },
          "execution_count": 16,
          "metadata": {},
          "output_type": "execute_result"
        },
        {
          "data": {
            "image/png": "[encoded data removed]",
            "text/plain": [
              "<Figure size 640x480 with 1 Axes>"
            ]
          },
          "metadata": {},
          "output_type": "display_data"
        }
      ],
      "source": [
        "plt.plot(train_c.isna())"
      ]
    },
    {
      "cell_type": "code",
      "execution_count": 17,
      "metadata": {
        "id": "c6egYZKNs6-d"
      },
      "outputs": [],
      "source": [
        "# train_a.rename(columns={'time': 'date_forecast'}, inplace=True) #pour faire le merge\n",
        "# train_b.rename(columns={'time': 'date_forecast'}, inplace=True) #pour faire le merge\n",
        "# train_c.rename(columns={'time': 'date_forecast'}, inplace=True) #pour faire le merge\n",
        "# test.rename(columns={'time': 'date_forecast'}, inplace=True)\n",
        "train_a, train_b, train_c = train_a.drop(columns='time'), train_b.drop(columns='time'), train_c.drop(columns='time')\n",
        "train_a.dropna(subset=['pv_measurement'], inplace=True)  #Supprime les lignes vides\n",
        "train_b.dropna(subset=['pv_measurement'], inplace=True)  #Supprime les lignes vides\n",
        "train_c.dropna(subset=['pv_measurement'], inplace=True)  #Supprime les lignes vides"
      ]
    },
    {
      "cell_type": "markdown",
      "metadata": {
        "id": "Kye01adKsBSE"
      },
      "source": [
        "# Correspondance X et y :"
      ]
    },
    {
      "cell_type": "markdown",
      "metadata": {
        "id": "NvWmIBTEsFcs"
      },
      "source": [
        "Ici nous avons plusieurs choix :    \n",
        "- matcher directement sur dateforcast\n",
        "- matcher sur dateforcast et résumer nos variables météo en moyenne et écart type\n",
        "- matcher sur un autre créneau (peut être fais sur des variables spécifique !)"
      ]
    },
    {
      "cell_type": "markdown",
      "metadata": {
        "id": "ovYZlj3Ksaci"
      },
      "source": [
        "Dans un premier temps on fera directement sur dateforcast"
      ]
    },
    {
      "cell_type": "code",
      "execution_count": 18,
      "metadata": {
        "id": "w7gHKkBosZst"
      },
      "outputs": [],
      "source": [
        "X_total_a_y = pd.merge(X_total_a, train_a, on='date_forecast', how='inner')\n",
        "X_total_b_y = pd.merge(X_total_b, train_b, on='date_forecast', how='inner')\n",
        "X_total_c_y = pd.merge(X_total_c, train_c, on='date_forecast', how='inner')"
      ]
    },
    {
      "cell_type": "code",
      "execution_count": 19,
      "metadata": {},
      "outputs": [],
      "source": [
        "def gestion_nan(df):\n",
        "  df_copy = df.copy()\n",
        "  #delete of the snow density column\n",
        "  df_copy = df_copy.drop('snow_density:kgm3',axis=1)\n",
        "  # Approximation of the other two columns\n",
        "  df_copy['ceiling_height_agl:m'] = df_copy['ceiling_height_agl:m'].interpolate(method='linear', limit_direction='both')\n",
        "  df_copy['cloud_base_agl:m'] = df_copy['cloud_base_agl:m'].interpolate(method='linear', limit_direction='both')\n",
        "  return df_copy"
      ]
    },
    {
      "cell_type": "code",
      "execution_count": 20,
      "metadata": {
        "id": "s-sP7k-TTLN2"
      },
      "outputs": [],
      "source": [
        "def gestion_nan(df):\n",
        "  df_copy = df.copy()\n",
        "  snow_density = [ f'snow_density:kgm3_{k}' for k in range(4) ]\n",
        "  #delete of the snow density column\n",
        "  for k in range(4): \n",
        "    df_copy = df_copy.drop(snow_density[k],axis=1)\n",
        "  # Approximation of the other two columns\n",
        "    df_copy[f'ceiling_height_agl:m_{k}'] = df_copy[f'ceiling_height_agl:m_{k}'].interpolate(method='linear', limit_direction='both')\n",
        "    df_copy[f'cloud_base_agl:m_{k}'] = df_copy[f'cloud_base_agl:m_{k}'].interpolate(method='linear', limit_direction='both')\n",
        "  return df_copy"
      ]
    },
    {
      "cell_type": "code",
      "execution_count": 21,
      "metadata": {
        "id": "COlGJ5ATU8st"
      },
      "outputs": [],
      "source": [
        "X_train_observed_a_nan = gestion_nan(X_train_observed_a)"
      ]
    },
    {
      "cell_type": "markdown",
      "metadata": {
        "id": "yFQ4yv46wlMA"
      },
      "source": [
        "# Traitement des df + séparation train/test"
      ]
    },
    {
      "cell_type": "markdown",
      "metadata": {
        "id": "LVSQrEZNxJNU"
      },
      "source": [
        "## Séparation train/test"
      ]
    },
    {
      "cell_type": "markdown",
      "metadata": {
        "id": "8Rh-BL2-myEh"
      },
      "source": [
        "A la fin on va projeter à partir de donnée météo estimer sur un periode non rencontré.\n",
        "\n",
        "On va donc séparer notre train/test sur les même conditions, à savoir que le test sera issue de estimated. Il ne reste qu'à fixer la date à partir de laquelle on fait la séparation.\n",
        "\n",
        "L'objectif est aussi d'avoir de l'estimated dans l'entrainement pour prendre en compte la différence entre observed et estimated qui devra être régler plus tard."
      ]
    },
    {
      "cell_type": "code",
      "execution_count": 22,
      "metadata": {
        "colab": {
          "base_uri": "https://localhost:8080/"
        },
        "id": "otDF8xN6m07V",
        "outputId": "c3a94cb4-ac54-4c7f-fc85-40548e15cbcd"
      },
      "outputs": [
        {
          "name": "stdout",
          "output_type": "stream",
          "text": [
            "30904\n",
            "4577\n",
            "0.12899861897917195\n"
          ]
        }
      ],
      "source": [
        "print(len(X_train_observed_a))\n",
        "print(len(X_train_estimated_a))\n",
        "print(len(X_train_estimated_a)/(len(X_train_estimated_a)+len(X_train_observed_a)))"
      ]
    },
    {
      "cell_type": "code",
      "execution_count": 23,
      "metadata": {
        "id": "vpzCuuBVXkZb"
      },
      "outputs": [],
      "source": [
        "X_total_a_y_nan = gestion_nan(X_total_a_y)\n",
        "X_total_b_y_nan = gestion_nan(X_total_b_y)\n",
        "X_total_c_y_nan = gestion_nan(X_total_c_y)"
      ]
    },
    {
      "cell_type": "code",
      "execution_count": 24,
      "metadata": {},
      "outputs": [],
      "source": [
        "split_date_a = X_train_estimated_a['date_forecast'].quantile(0.25)\n",
        "split_date_b = X_train_estimated_b['date_forecast'].quantile(0.25)\n",
        "split_date_c = X_train_estimated_c['date_forecast'].quantile(0.25)"
      ]
    },
    {
      "cell_type": "code",
      "execution_count": 25,
      "metadata": {},
      "outputs": [],
      "source": [
        "split_date_a = pd.to_datetime(\"2021-04-15\")\n",
        "split_date2_a = pd.to_datetime(\"2021-08-15\")\n",
        "\n",
        "split_date_b = pd.to_datetime(\"2019-04-15\")\n",
        "split_date2_b = pd.to_datetime(\"2019-08-15\")\n",
        "\n",
        "split_date_c = pd.to_datetime(\"2021-04-15\")\n",
        "split_date2_c = pd.to_datetime(\"2021-08-15\")"
      ]
    },
    {
      "cell_type": "code",
      "execution_count": 26,
      "metadata": {},
      "outputs": [],
      "source": [
        "start_2019 = pd.to_datetime(\"2019-04-21\")\n",
        "end_2019 = pd.to_datetime(\"2019-07-22\")\n",
        "\n",
        "start_2020 = pd.to_datetime(\"2020-04-21\")\n",
        "end_2020 = pd.to_datetime(\"2020-07-22\")\n",
        "\n",
        "start_2021 = pd.to_datetime(\"2021-04-21\")\n",
        "end_2021 = pd.to_datetime(\"2021-07-22\")\n",
        "\n",
        "start_2022 = pd.to_datetime(\"2022-04-21\")\n",
        "end_2022 = pd.to_datetime(\"2022-07-22\")"
      ]
    },
    {
      "cell_type": "code",
      "execution_count": 27,
      "metadata": {},
      "outputs": [],
      "source": [
        "def create_mask_for_split_training_and_testing(df, start_estimated, time_column = 'date_forecast'):\n",
        "    mask_2019 = ((df[time_column] >= start_2019) & (df[time_column] < end_2019))\n",
        "    mask_2020 = ((df[time_column] >= start_2020) & (df[time_column] < end_2020))\n",
        "    mask_2021 = ((df[time_column] >= start_2021) & (df[time_column] < end_2021))\n",
        "    mask_2022 = ((df[time_column] >= start_2022) & (df[time_column] < end_2022))\n",
        "    mask_estimated = (df[time_column] >= start_estimated)\n",
        "    return mask_2019, mask_2020, mask_2021, mask_2022,mask_estimated"
      ]
    },
    {
      "cell_type": "code",
      "execution_count": 28,
      "metadata": {},
      "outputs": [],
      "source": [
        "def split_training_testing_set_on_test_set_dates():\n",
        "    quantile = .25\n",
        "    pv_train_a = X_total_a_y_nan[X_total_a_y_nan['date_forecast'] <= X_train_estimated_a['date_forecast'].quantile(quantile)].copy()\n",
        "    pv_test_a = X_total_a_y_nan[X_total_a_y_nan['date_forecast'] > X_train_estimated_a['date_forecast'].quantile(quantile)].copy()\n",
        "\n",
        "    pv_train_b = X_total_b_y_nan[X_total_b_y_nan['date_forecast'] <= X_train_estimated_b['date_forecast'].quantile(quantile)].copy()\n",
        "    pv_test_b = X_total_b_y_nan[X_total_b_y_nan['date_forecast'] > X_train_estimated_b['date_forecast'].quantile(quantile)].copy()\n",
        "\n",
        "    pv_train_c = X_total_c_y_nan[X_total_c_y_nan['date_forecast'] <= X_train_estimated_c['date_forecast'].quantile(quantile)].copy()\n",
        "    pv_test_c = X_total_c_y_nan[X_total_c_y_nan['date_forecast'] > X_train_estimated_c['date_forecast'].quantile(quantile)].copy() \n",
        "    return pv_train_a, pv_test_a, pv_train_b, pv_test_b, pv_train_c, pv_test_c"
      ]
    },
    {
      "cell_type": "code",
      "execution_count": 29,
      "metadata": {},
      "outputs": [],
      "source": [
        "def split_training_testing_set(df, start_estimated, random_state=42, test_size = .15, time_column = 'date_forecast'):\n",
        "    df_to_split = df.copy()\n",
        "    mask_2019, mask_2020, mask_2021, mask_2022, mask_estimated = create_mask_for_split_training_and_testing(df_to_split, start_estimated)\n",
        "\n",
        "    df_summers = df_to_split[mask_2019 | mask_2020 | mask_2021 | mask_2022]\n",
        "    df_estimated = df_to_split[mask_estimated]\n",
        "    print(len(df_estimated))\n",
        "    df_not_summer = df_to_split[~(mask_2019 | mask_2020 | mask_2021 | mask_2022 | mask_estimated)]\n",
        "\n",
        "    # test_size_summer = test_size * (len(df_summers) + len(df_not_summer) + len(df_estimated)) / (len(df_summers) + len(df_estimated))\n",
        "    # test_size_estimated = test_size * (len(df_summers) + len(df_not_summer) + len(df_estimated)) / (len(df_summers) + len(df_estimated))\n",
        "\n",
        "    test_size_estimated = 0.8\n",
        "    test_size_summer = ( test_size * (len(df_summers) + len(df_not_summer) + len(df_estimated)) - test_size_estimated * len(df_estimated) ) / len(df_summers)\n",
        "    # test_size_summer = ( test_size * (len(df_summers) + len(df_not_summer) + len(df_estimated)) - test_size_estimated * len(df_estimated) ) / len(df_summers)\n",
        "    # test_size_estimated = 1 - test_size_summer\n",
        "    # train_data_summer, pv_test_not_ordered = train_test_split(df_summers, test_size=test_size, random_state=random_state)\n",
        "\n",
        "    unique_dates_summer = df_summers[time_column].dt.date.unique()\n",
        "    unique_dates_estimated = df_summers[time_column].dt.date.unique()\n",
        "\n",
        "    train_dates_summer, test_dates_summer = train_test_split(unique_dates_summer, test_size=test_size_summer, random_state=random_state)\n",
        "    train_dates_estimated, test_dates_estimated = train_test_split(unique_dates_estimated, test_size=test_size_estimated, random_state=random_state)\n",
        "\n",
        "    train_data_summer = df_summers[df_summers[time_column].dt.date.isin(train_dates_summer)]\n",
        "    train_data_estimated = df_estimated[df_estimated[time_column].dt.date.isin(train_dates_estimated)]\n",
        "\n",
        "    pv_test_summer_not_ordered = df_summers[df_summers[time_column].dt.date.isin(test_dates_summer)]\n",
        "    pv_test_estimated_not_ordered = df_estimated[df_estimated[time_column].dt.date.isin(test_dates_estimated)]\n",
        "\n",
        "    pv_test_not_ordered = pd.concat([pv_test_summer_not_ordered, pv_test_estimated_not_ordered])\n",
        "    pv_train_not_ordered = pd.concat([train_data_summer, train_data_estimated, df_not_summer])\n",
        "\n",
        "    pv_train = pv_train_not_ordered.sort_values(by=time_column)\n",
        "    pv_test = pv_test_not_ordered.sort_values(by=time_column)\n",
        "    return pv_train, pv_test"
      ]
    },
    {
      "cell_type": "code",
      "execution_count": 30,
      "metadata": {},
      "outputs": [],
      "source": [
        "def split_training_testing_set(df, start_estimated, random_state=42, test_size = .1, time_column = 'date_forecast'):\n",
        "    df_to_split = df.copy()\n",
        "    mask_2019, mask_2020, mask_2021, mask_2022, mask_estimated = create_mask_for_split_training_and_testing(df_to_split, start_estimated)\n",
        "    df_summers = df_to_split[mask_2019 | mask_2020 | mask_2021 | mask_2022 | mask_estimated]\n",
        "    df_not_summer = df_to_split[~(mask_2019 | mask_2020 | mask_2021 | mask_2022 | mask_estimated)]\n",
        "    test_size = test_size * (len(df_summers) + len(df_not_summer)) / len(df_summers)\n",
        "    train_data_summer, pv_test_not_ordered = train_test_split(df_summers, test_size=test_size, random_state=random_state)\n",
        "\n",
        "    pv_train_not_ordered = pd.concat([train_data_summer, df_not_summer])\n",
        "    pv_train = pv_train_not_ordered.sort_values(by='date_forecast')\n",
        "    pv_test = pv_test_not_ordered.sort_values(by='date_forecast')\n",
        "    return pv_train, pv_test"
      ]
    },
    {
      "cell_type": "code",
      "execution_count": 31,
      "metadata": {},
      "outputs": [],
      "source": [
        "# create_mask_for_split_training_and_testing(df, start_estimated, time_column = 'date_forecast')\n",
        "df_to_split = X_total_b_y_nan\n",
        "start_estimated = X_train_estimated_b[\"date_forecast\"].mean()\n",
        "mask_2019, mask_2020, mask_2021, mask_2022, mask_estimated = create_mask_for_split_training_and_testing(df_to_split, start_estimated)"
      ]
    },
    {
      "cell_type": "code",
      "execution_count": 32,
      "metadata": {},
      "outputs": [],
      "source": [
        "pv_train_a, pv_test_a = split_training_testing_set(X_total_a_y_nan, X_train_estimated_a[\"date_forecast\"].mean(), random_state=random_state)\n",
        "pv_train_b, pv_test_b = split_training_testing_set(X_total_b_y_nan, X_train_estimated_b[\"date_forecast\"].mean(), random_state=random_state)\n",
        "pv_train_c, pv_test_c = split_training_testing_set(X_total_c_y_nan, X_train_estimated_c[\"date_forecast\"].mean(), random_state=random_state)"
      ]
    },
    {
      "cell_type": "code",
      "execution_count": 33,
      "metadata": {},
      "outputs": [],
      "source": [
        "if test_set_param=='basic': pv_train_a, pv_test_a, pv_train_b, pv_test_b, pv_train_c, pv_test_c = split_training_testing_set_on_test_set_dates()"
      ]
    },
    {
      "cell_type": "code",
      "execution_count": 34,
      "metadata": {
        "colab": {
          "base_uri": "https://localhost:8080/"
        },
        "id": "v_1dTdJYxT9q",
        "outputId": "af1e5cd4-d79f-4309-a6c7-452801dea0a1"
      },
      "outputs": [
        {
          "name": "stdout",
          "output_type": "stream",
          "text": [
            "train_a : (30639, 178)\n",
            "test_a : (3405, 178)\n",
            "Rapport test/total : 10.0 %\n",
            "train_b : (24289, 178)\n",
            "test_b : (2699, 178)\n",
            "Rapport test/total : 10.0 %\n",
            "train_c : (19530, 178)\n",
            "test_c : (2171, 178)\n",
            "Rapport test/total : 10.0 %\n"
          ]
        }
      ],
      "source": [
        "\n",
        "print(\"train_a :\",pv_train_a.shape)\n",
        "print(\"test_a :\",pv_test_a.shape)\n",
        "print(\"Rapport test/total :\", round(pv_test_a.shape[0]/(pv_test_a.shape[0]+pv_train_a.shape[0]),3)*100, '%')\n",
        "print(\"train_b :\",pv_train_b.shape)\n",
        "print(\"test_b :\",pv_test_b.shape)\n",
        "print(\"Rapport test/total :\", round(pv_test_b.shape[0]/(pv_test_b.shape[0]+pv_train_b.shape[0]),3)*100, '%')\n",
        "print(\"train_c :\",pv_train_c.shape)\n",
        "print(\"test_c :\",pv_test_c.shape)\n",
        "print(\"Rapport test/total :\", round(pv_test_c.shape[0]/(pv_test_c.shape[0]+pv_train_c.shape[0]),3)*100, '%')"
      ]
    },
    {
      "cell_type": "markdown",
      "metadata": {
        "id": "BvJgNqxMoPK3"
      },
      "source": [
        "## Changement type de la date_forecast"
      ]
    },
    {
      "cell_type": "code",
      "execution_count": 35,
      "metadata": {
        "id": "6YwsnFtQxI72"
      },
      "outputs": [],
      "source": [
        "# on change le type de date_forecast\n",
        "pv_train_a['date_forecast'] = pd.to_datetime(pv_train_a['date_forecast'])\n",
        "pv_test_a['date_forecast'] = pd.to_datetime(pv_test_a['date_forecast'])\n",
        "\n",
        "pv_train_b['date_forecast'] = pd.to_datetime(pv_train_b['date_forecast'])\n",
        "pv_test_b['date_forecast'] = pd.to_datetime(pv_test_b['date_forecast'])\n",
        "\n",
        "pv_train_c['date_forecast'] = pd.to_datetime(pv_train_c['date_forecast'])\n",
        "pv_test_c['date_forecast'] = pd.to_datetime(pv_test_c['date_forecast'])"
      ]
    },
    {
      "cell_type": "markdown",
      "metadata": {
        "id": "GcD5npiww7DB"
      },
      "source": [
        "## Filtrage des variables"
      ]
    },
    {
      "cell_type": "code",
      "execution_count": 36,
      "metadata": {
        "id": "vrSBNA6lwiVf"
      },
      "outputs": [],
      "source": [
        "#function to apply XGBoost model\n",
        "def create_features(df, label):\n",
        "\n",
        "    # V2\n",
        "    df['hour'] = df[\"date_forecast\"].dt.hour\n",
        "    df['dayofweek'] = df[\"date_forecast\"].dt.dayofweek\n",
        "    df['quarter'] = df[\"date_forecast\"].dt.quarter\n",
        "    df['month'] = df[\"date_forecast\"].dt.month\n",
        "    df['year'] = df[\"date_forecast\"].dt.year\n",
        "    df['dayofyear'] = df[\"date_forecast\"].dt.dayofyear\n",
        "    df['dayofmonth'] = df[\"date_forecast\"].dt.day\n",
        "    # fin V2\n",
        "    df = df.drop([\"date_calc\",\"date_forecast\"],axis=1) if \"date_calc\" in df.columns else df.drop([\"date_forecast\"],axis=1)\n",
        "    for k in range(4):\n",
        "        df[f'sun_azimuth:d_{k}'] = df[f'sun_azimuth:d_{k}'].apply(lambda x : np.cos(x/180*np.pi + np.pi))\n",
        "    \n",
        "    if label:\n",
        "        y = df[label]\n",
        "        df = df.drop(label,axis=1)\n",
        "        return df, y\n",
        "    return gestion_constant_columns(df)"
      ]
    },
    {
      "cell_type": "code",
      "execution_count": 37,
      "metadata": {},
      "outputs": [],
      "source": [
        "def gestion_constant_columns(df, location):\n",
        "    location = 'A'\n",
        "    columns_to_drop = X_test_estimated_a.std()[X_test_estimated_a.std() == 0].keys() if location=='A' else X_test_estimated_b.std()[X_test_estimated_b.std() == 0].keys() if location=='B' else  X_test_estimated_c.std()[X_test_estimated_c.std() == 0].keys()\n",
        "    return df.drop(columns=columns_to_drop)"
      ]
    },
    {
      "cell_type": "code",
      "execution_count": 38,
      "metadata": {
        "id": "Hg8hidKFxGYS"
      },
      "outputs": [],
      "source": [
        "X_train_a, y_train_a = create_features(pv_train_a, label='pv_measurement')\n",
        "X_test_a, y_test_a = create_features(pv_test_a, label='pv_measurement')\n",
        "\n",
        "X_train_b, y_train_b = create_features(pv_train_b, label='pv_measurement')\n",
        "X_test_b, y_test_b = create_features(pv_test_b, label='pv_measurement')\n",
        "\n",
        "X_train_c, y_train_c = create_features(pv_train_c, label='pv_measurement')\n",
        "X_test_c, y_test_c = create_features(pv_test_c, label='pv_measurement')"
      ]
    },
    {
      "cell_type": "markdown",
      "metadata": {
        "id": "nZcMisI0yLLN"
      },
      "source": [
        "## Normalisation"
      ]
    },
    {
      "cell_type": "code",
      "execution_count": 39,
      "metadata": {
        "id": "wuby8RfayOh4"
      },
      "outputs": [],
      "source": [
        "def sklearn_z_score_normalize_dataframe(df,return_scaler=False,scaler=None,fit=True):\n",
        "    \"\"\"\n",
        "    Normalizes a DataFrame using z-score normalization (mean and standard deviation) from Scikit-Learn.\n",
        "\n",
        "    Parameters:\n",
        "    df (pd.DataFrame): The DataFrame to be normalized.\n",
        "\n",
        "    Returns:\n",
        "    pd.DataFrame: The z-score normalized DataFrame.\n",
        "    \"\"\"\n",
        "    if scaler == None :\n",
        "      # Create a StandardScaler instance\n",
        "      # scaler = Normalizer()\n",
        "      # scaler = RobustScaler()\n",
        "      scaler = StandardScaler()\n",
        "\n",
        "      # Fit the scaler on the DataFrame and transform the data\n",
        "      normalized_data = scaler.fit_transform(df)\n",
        "\n",
        "    else : \n",
        "      if fit:\n",
        "        normalized_data = scaler.fit_transform(df)\n",
        "      else: \n",
        "        normalized_data = scaler.transform(df)\n",
        "\n",
        "    # Create a new DataFrame with the scaled data\n",
        "    normalized_df = pd.DataFrame(normalized_data, columns=df.columns)\n",
        "\n",
        "    # retourner le scaler\n",
        "    if return_scaler :\n",
        "      return normalized_df,scaler\n",
        "    return normalized_df"
      ]
    },
    {
      "cell_type": "code",
      "execution_count": 40,
      "metadata": {
        "id": "HDvBAoHIycUd"
      },
      "outputs": [],
      "source": [
        "X_train_a_norm,scaler_a = sklearn_z_score_normalize_dataframe(X_train_a,return_scaler=True, scaler=scaler_a)\n",
        "X_train_b_norm,scaler_b = sklearn_z_score_normalize_dataframe(X_train_b,return_scaler=True, scaler=scaler_b)\n",
        "X_train_c_norm,scaler_c = sklearn_z_score_normalize_dataframe(X_train_c,return_scaler=True, scaler=scaler_c)"
      ]
    },
    {
      "cell_type": "code",
      "execution_count": 41,
      "metadata": {
        "id": "MgKwlaf2zeQ9"
      },
      "outputs": [],
      "source": [
        "X_test_a_norm = sklearn_z_score_normalize_dataframe(X_test_a,return_scaler=False,scaler=scaler_a, fit=False)\n",
        "X_test_b_norm = sklearn_z_score_normalize_dataframe(X_test_b,return_scaler=False,scaler=scaler_b, fit=False)\n",
        "X_test_c_norm = sklearn_z_score_normalize_dataframe(X_test_c,return_scaler=False,scaler=scaler_c, fit=False)"
      ]
    },
    {
      "cell_type": "markdown",
      "metadata": {
        "id": "acBk2cFgyO0i"
      },
      "source": [
        "## Preprocessing globale"
      ]
    },
    {
      "cell_type": "markdown",
      "metadata": {
        "id": "n0Y9jp38z14j"
      },
      "source": [
        "faire un code qui reprend toute les étapes ci dessus pour éviter de faire plein de lignes qui  se répêtes !!!"
      ]
    },
    {
      "cell_type": "markdown",
      "metadata": {
        "id": "zAz9UF7nv0NB"
      },
      "source": [
        "# Partie XBGoost de base (Nahel)"
      ]
    },
    {
      "cell_type": "code",
      "execution_count": 42,
      "metadata": {
        "id": "Mp5zO1levNPT"
      },
      "outputs": [],
      "source": [
        "import xgboost as xgb\n",
        "from xgboost import plot_importance, plot_tree\n",
        "from sklearn.metrics import mean_squared_error"
      ]
    },
    {
      "cell_type": "code",
      "execution_count": 43,
      "metadata": {},
      "outputs": [],
      "source": [
        "hyper_params = {\n",
        "    'subsample': 1.0, \n",
        "    'min_child_weight': 5, \n",
        "    'max_depth': 3, \n",
        "    'gamma': 5, \n",
        "    'colsample_bytree': 1.0\n",
        "    }"
      ]
    },
    {
      "cell_type": "code",
      "execution_count": 44,
      "metadata": {
        "colab": {
          "base_uri": "https://localhost:8080/",
          "height": 1000
        },
        "id": "iJ6U7ie7whyI",
        "outputId": "e5ee1dee-99c2-45e3-a422-8a166d9c1259"
      },
      "outputs": [],
      "source": [
        "# Créez un modèle XGBoost\n",
        "reg_a = xgb.XGBRegressor(\n",
        "    n_estimators = n_estimators,\n",
        "    # max_depth = max_depth,\n",
        "    eval_metric = eval_metric,\n",
        "    eta=eta,\n",
        "    **hyper_params\n",
        "    )\n",
        "\n",
        "# Entraînez le modèle et suivez l'évolution des erreurs\n",
        "# reg_a.fit(X_train_a_norm, y_train_a,\n",
        "#           eval_set=[(X_train_a_norm, y_train_a), (X_test_a_norm, y_test_a)],\n",
        "#           early_stopping_rounds=50,\n",
        "#           verbose=True,\n",
        "#           )\n",
        "\n",
        "reg_b = xgb.XGBRegressor(\n",
        "    n_estimators = n_estimators,\n",
        "    # max_depth = max_depth,\n",
        "    eval_metric = eval_metric,\n",
        "    eta=eta,\n",
        "    **hyper_params\n",
        "    )\n",
        "# reg_b.fit(X_train_b_norm, y_train_b,\n",
        "#           eval_set=[(X_train_b_norm, y_train_b), (X_test_b_norm, y_test_b)],\n",
        "#           early_stopping_rounds=50,\n",
        "#           verbose=True,\n",
        "#           )\n",
        "\n",
        "reg_c = xgb.XGBRegressor(\n",
        "    n_estimators = n_estimators,\n",
        "    # max_depth = max_depth,\n",
        "    eval_metric = eval_metric,\n",
        "    eta=eta,\n",
        "    **hyper_params\n",
        "    )\n",
        "# reg_c.fit(X_train_c_norm, y_train_c,\n",
        "#           eval_set=[(X_train_c_norm, y_train_c), (X_test_c_norm, y_test_c)],\n",
        "#           early_stopping_rounds=50,\n",
        "#           verbose=True,\n",
        "#           )"
      ]
    },
    {
      "cell_type": "code",
      "execution_count": 45,
      "metadata": {},
      "outputs": [],
      "source": [
        "gen_params = {\n",
        "        # 'min_child_weight': [1, 5, 10],\n",
        "        'gamma': [0.5, 1, 5],\n",
        "        'subsample': [0.6, 1.0],\n",
        "        # 'colsample_bytree': [0.6, 1.0],\n",
        "        'max_depth': [4, 5],\n",
        "        'eta': [ 0.005, 0.01, 0.05],\n",
        "        'refresh_leaf': [ 1 ],\n",
        "        'n_estimators': [ 3000, 4000 ]\n",
        "        # 'num_boost_round': 128,\n",
        "        }\n",
        "\n",
        "params_a = {\n",
        "        'min_child_weight': [ 8, 10, 12],\n",
        "        # 'gamma': [0.5, 1, 2, 5],\n",
        "        # 'subsample': [0.6, 1.0],\n",
        "        'colsample_bytree': [0.8, 1.0],\n",
        "        # 'max_depth': [3, 5],\n",
        "        # 'eta': [ 0.005, 0.01, 0.05],\n",
        "        # 'refresh_leaf': [ 1 ],\n",
        "        **gen_params\n",
        "        # 'num_boost_round': 128,\n",
        "        }\n",
        "\n",
        "params_b = {\n",
        "        'min_child_weight': [3, 5, 7],\n",
        "        # 'gamma': [0.5, 1, 2, 5],\n",
        "        # 'subsample': [0.6, 1.0],\n",
        "        'colsample_bytree': [0.6, .5],\n",
        "        # 'max_depth': [3, 5],\n",
        "        # 'eta': [ 0.005, 0.01, 0.05],\n",
        "        # 'refresh_leaf': [ 1 ],\n",
        "        **gen_params\n",
        "        # 'num_boost_round': 128,\n",
        "        }\n",
        "\n",
        "params_c = {\n",
        "        'min_child_weight': [3, 5, 7],\n",
        "        # 'gamma': [0.5, 1, 2, 5],\n",
        "        # 'subsample': [0.6, 1.0],\n",
        "        'colsample_bytree': [0.6, .5],\n",
        "        # 'max_depth': [3, 5],\n",
        "        # 'eta': [ 0.005, 0.01, 0.05],\n",
        "        # 'refresh_leaf': [ 1 ],\n",
        "        **gen_params\n",
        "        # 'num_boost_round': 128,\n",
        "        }"
      ]
    },
    {
      "cell_type": "markdown",
      "metadata": {},
      "source": [
        "base_score=None, booster=None, callbacks=None,\n",
        "             colsample_bylevel=None, colsample_bynode=None,\n",
        "             colsample_bytree=1.0, device=None, early_stopping_rounds=None,\n",
        "             enable_categorical=False, eta=0.01, eval_metric='rmse',\n",
        "             feature_types=None, gamma=5, grow_policy=None,\n",
        "             importance_type=None, interaction_constraints=None,\n",
        "             learning_rate=None, max_bin=None, max_cat_threshold=None,\n",
        "             max_cat_to_onehot=None, max_delta_step=None, max_depth=3,\n",
        "             max_leaves=None, min_child_weight=5, missing=nan,\n",
        "             monotone_constraints=None, multi_strategy=None, n_estimators=1000,\n",
        "             n_jobs=None, num_parallel_tree=None,"
      ]
    },
    {
      "cell_type": "code",
      "execution_count": 46,
      "metadata": {},
      "outputs": [],
      "source": [
        "\n",
        "# parameters = {'nthread':[4], #when use hyperthread, xgboost may become slower\n",
        "#             #   'objective':['reg:linear'],\n",
        "#               'learning_rate': [.03, 0.05, .07], #so called `eta` value\n",
        "#               'max_depth': [5, 6, 7],\n",
        "#               'min_child_weight': [0, 4],\n",
        "#               'silent': [1],\n",
        "#               'subsample': [0.7],\n",
        "#               'colsample_bytree': [0.7],\n",
        "#               'n_estimators': [500]}"
      ]
    },
    {
      "cell_type": "code",
      "execution_count": 47,
      "metadata": {},
      "outputs": [],
      "source": [
        "from functools import reduce\n",
        "lens_a = [len(v) for v in params_a.values()]\n",
        "lens_b = [len(v) for v in params_b.values()]\n",
        "lens_c = [len(v) for v in params_c.values()]\n",
        "def product(a):\n",
        "    return reduce(lambda x,y: x*y, a)"
      ]
    },
    {
      "cell_type": "code",
      "execution_count": 48,
      "metadata": {},
      "outputs": [
        {
          "data": {
            "text/plain": [
              "(432, 432, 432)"
            ]
          },
          "execution_count": 48,
          "metadata": {},
          "output_type": "execute_result"
        }
      ],
      "source": [
        "product(lens_a), product(lens_b), product(lens_c)"
      ]
    },
    {
      "cell_type": "code",
      "execution_count": 49,
      "metadata": {},
      "outputs": [],
      "source": [
        "# from sklearn.model_selection import RandomizedSearchCV, GridSearchCV, TimeSeriesSplit\n",
        "# from sklearn.metrics import mean_squared_error\n",
        "\n",
        "# param_comb_a = product(lens_a)\n",
        "# param_comb_b = product(lens_b)\n",
        "# param_comb_c = product(lens_c)\n",
        "# n_jobs = 10\n",
        "\n",
        "\n",
        "# random_search_a = RandomizedSearchCV(reg_a, param_distributions=params_a, n_iter=param_comb_a, scoring='neg_mean_squared_error', n_jobs=n_jobs, cv=2, verbose=3, random_state=1001 )\n",
        "# random_search_b = RandomizedSearchCV(reg_b, param_distributions=params_b, n_iter=param_comb_b, scoring='neg_mean_squared_error', n_jobs=n_jobs, cv=2, verbose=3, random_state=1001 )\n",
        "# random_search_c = RandomizedSearchCV(reg_c, param_distributions=params_c, n_iter=param_comb_c, scoring='neg_mean_squared_error', n_jobs=n_jobs, cv=2, verbose=3, random_state=1001 )\n"
      ]
    },
    {
      "cell_type": "code",
      "execution_count": 50,
      "metadata": {},
      "outputs": [],
      "source": [
        "# xgb_grid = GridSearchCV(reg_a,\n",
        "#                         parameters,\n",
        "#                         cv = 2,\n",
        "#                         n_jobs = 5,\n",
        "#                         verbose=True)\n",
        "\n",
        "# random_search_a.fit(\n",
        "#     X_train_a_norm, y_train_a,\n",
        "#     eval_set=[(X_train_a_norm, y_train_a), (X_test_a_norm, y_test_a)],\n",
        "#     early_stopping_rounds=50,\n",
        "#     verbose=True,\n",
        "#     )"
      ]
    },
    {
      "cell_type": "code",
      "execution_count": 51,
      "metadata": {},
      "outputs": [],
      "source": [
        "reg_a.fit(X_train_a_norm, y_train_a,\n",
        "          eval_set=[(X_train_a_norm, y_train_a), (X_test_a_norm, y_test_a)],\n",
        "          early_stopping_rounds=50,\n",
        "          verbose=True,\n",
        "          )\n",
        "reg_b.fit(X_train_b_norm, y_train_b,\n",
        "          eval_set=[(X_train_b_norm, y_train_b), (X_test_b_norm, y_test_b)],\n",
        "          early_stopping_rounds=50,\n",
        "          verbose=True,\n",
        "          )\n",
        "reg_c.fit(X_train_c_norm, y_train_c,\n",
        "          eval_set=[(X_train_c_norm, y_train_c), (X_test_c_norm, y_test_c)],\n",
        "          early_stopping_rounds=50,\n",
        "          verbose=True,\n",
        "          )"
      ]
    },
    {
      "cell_type": "code",
      "execution_count": 52,
      "metadata": {},
      "outputs": [
        {
          "name": "stdout",
          "output_type": "stream",
          "text": [
            "Fitting 2 folds for each of 432 candidates, totalling 864 fits\n"
          ]
        },
        {
          "name": "stderr",
          "output_type": "stream",
          "text": [
            "/Users/arthurtestard/envs/ntnu/mlsolar/lib/python3.10/site-packages/xgboost/sklearn.py:885: UserWarning: `early_stopping_rounds` in `fit` method is deprecated for better compatibility with scikit-learn, use `early_stopping_rounds` in constructor or`set_params` instead.\n",
            "  warnings.warn(\n",
            "/Users/arthurtestard/envs/ntnu/mlsolar/lib/python3.10/site-packages/xgboost/sklearn.py:885: UserWarning: `early_stopping_rounds` in `fit` method is deprecated for better compatibility with scikit-learn, use `early_stopping_rounds` in constructor or`set_params` instead.\n",
            "  warnings.warn(\n",
            "/Users/arthurtestard/envs/ntnu/mlsolar/lib/python3.10/site-packages/xgboost/sklearn.py:885: UserWarning: `early_stopping_rounds` in `fit` method is deprecated for better compatibility with scikit-learn, use `early_stopping_rounds` in constructor or`set_params` instead.\n",
            "  warnings.warn(\n",
            "/Users/arthurtestard/envs/ntnu/mlsolar/lib/python3.10/site-packages/xgboost/sklearn.py:885: UserWarning: `early_stopping_rounds` in `fit` method is deprecated for better compatibility with scikit-learn, use `early_stopping_rounds` in constructor or`set_params` instead.\n",
            "  warnings.warn(\n",
            "/Users/arthurtestard/envs/ntnu/mlsolar/lib/python3.10/site-packages/xgboost/sklearn.py:885: UserWarning: `early_stopping_rounds` in `fit` method is deprecated for better compatibility with scikit-learn, use `early_stopping_rounds` in constructor or`set_params` instead.\n",
            "  warnings.warn(\n",
            "/Users/arthurtestard/envs/ntnu/mlsolar/lib/python3.10/site-packages/xgboost/sklearn.py:885: UserWarning: `early_stopping_rounds` in `fit` method is deprecated for better compatibility with scikit-learn, use `early_stopping_rounds` in constructor or`set_params` instead.\n",
            "  warnings.warn(\n",
            "/Users/arthurtestard/envs/ntnu/mlsolar/lib/python3.10/site-packages/xgboost/sklearn.py:885: UserWarning: `early_stopping_rounds` in `fit` method is deprecated for better compatibility with scikit-learn, use `early_stopping_rounds` in constructor or`set_params` instead.\n",
            "  warnings.warn(\n",
            "/Users/arthurtestard/envs/ntnu/mlsolar/lib/python3.10/site-packages/xgboost/sklearn.py:885: UserWarning: `early_stopping_rounds` in `fit` method is deprecated for better compatibility with scikit-learn, use `early_stopping_rounds` in constructor or`set_params` instead.\n",
            "  warnings.warn(\n",
            "/Users/arthurtestard/envs/ntnu/mlsolar/lib/python3.10/site-packages/xgboost/sklearn.py:885: UserWarning: `early_stopping_rounds` in `fit` method is deprecated for better compatibility with scikit-learn, use `early_stopping_rounds` in constructor or`set_params` instead.\n",
            "  warnings.warn(\n"
          ]
        },
        {
          "name": "stdout",
          "output_type": "stream",
          "text": [
            "[0]\tvalidation_0-rmse:1122.87844\tvalidation_1-rmse:1465.00526\n",
            "[0]\tvalidation_0-rmse:1122.91664\tvalidation_1-rmse:1465.05748\n",
            "[1]\tvalidation_0-rmse:1118.38524\tvalidation_1-rmse:1459.25682\n",
            "[0]\tvalidation_0-rmse:1122.91664\tvalidation_1-rmse:1465.05748\n",
            "[0]\tvalidation_0-rmse:1123.15447\tvalidation_1-rmse:1483.43939\n",
            "[0]\tvalidation_0-rmse:1123.15447\tvalidation_1-rmse:1483.43939\n",
            "[1]\tvalidation_0-rmse:1118.40318\tvalidation_1-rmse:1459.25667\n",
            "[0]\tvalidation_0-rmse:1122.87844\tvalidation_1-rmse:1465.00526\n",
            "[0]\tvalidation_0-rmse:1123.15447\tvalidation_1-rmse:1483.43939\n",
            "[1]\tvalidation_0-rmse:1118.40318\tvalidation_1-rmse:1459.25667\n"
          ]
        },
        {
          "name": "stderr",
          "output_type": "stream",
          "text": [
            "/Users/arthurtestard/envs/ntnu/mlsolar/lib/python3.10/site-packages/xgboost/sklearn.py:885: UserWarning: `early_stopping_rounds` in `fit` method is deprecated for better compatibility with scikit-learn, use `early_stopping_rounds` in constructor or`set_params` instead.\n",
            "  warnings.warn(\n"
          ]
        },
        {
          "name": "stdout",
          "output_type": "stream",
          "text": [
            "[2]\tvalidation_0-rmse:1113.81532\tvalidation_1-rmse:1453.32571\n",
            "[0]\tvalidation_0-rmse:1122.91664\tvalidation_1-rmse:1465.05748\n",
            "[0]\tvalidation_0-rmse:1123.13484\tvalidation_1-rmse:1483.37734\n",
            "[0]\tvalidation_0-rmse:1123.13484\tvalidation_1-rmse:1483.37734\n",
            "[2]\tvalidation_0-rmse:1113.86821\tvalidation_1-rmse:1453.38706\n",
            "[1]\tvalidation_0-rmse:1118.98701\tvalidation_1-rmse:1477.99100\n",
            "[1]\tvalidation_0-rmse:1118.38524\tvalidation_1-rmse:1459.25682\n",
            "[1]\tvalidation_0-rmse:1118.98701\tvalidation_1-rmse:1477.99100\n",
            "[1]\tvalidation_0-rmse:1118.98701\tvalidation_1-rmse:1477.99100\n",
            "[1]\tvalidation_0-rmse:1118.40318\tvalidation_1-rmse:1459.25667\n",
            "[2]\tvalidation_0-rmse:1113.86821\tvalidation_1-rmse:1453.38706\n",
            "[3]\tvalidation_0-rmse:1109.22041\tvalidation_1-rmse:1447.39052\n",
            "[2]\tvalidation_0-rmse:1114.65121\tvalidation_1-rmse:1472.34804\n",
            "[3]\tvalidation_0-rmse:1109.26884\tvalidation_1-rmse:1447.41966\n",
            "[1]\tvalidation_0-rmse:1118.87519\tvalidation_1-rmse:1477.90728\n",
            "[1]\tvalidation_0-rmse:1118.87519\tvalidation_1-rmse:1477.90728\n",
            "[2]\tvalidation_0-rmse:1114.65121\tvalidation_1-rmse:1472.34804\n",
            "[2]\tvalidation_0-rmse:1114.65121\tvalidation_1-rmse:1472.34804\n",
            "[2]\tvalidation_0-rmse:1113.81532\tvalidation_1-rmse:1453.32571\n",
            "[2]\tvalidation_0-rmse:1113.86821\tvalidation_1-rmse:1453.38706\n",
            "[3]\tvalidation_0-rmse:1109.26884\tvalidation_1-rmse:1447.41966\n",
            "[3]\tvalidation_0-rmse:1110.31142\tvalidation_1-rmse:1466.65054\n",
            "[4]\tvalidation_0-rmse:1104.65174\tvalidation_1-rmse:1441.45147\n",
            "[2]\tvalidation_0-rmse:1114.54301\tvalidation_1-rmse:1472.25767\n",
            "[2]\tvalidation_0-rmse:1114.54301\tvalidation_1-rmse:1472.25767\n",
            "[3]\tvalidation_0-rmse:1110.31142\tvalidation_1-rmse:1466.65054\n",
            "[4]\tvalidation_0-rmse:1104.69638\tvalidation_1-rmse:1441.53874\n",
            "[4]\tvalidation_0-rmse:1104.69638\tvalidation_1-rmse:1441.53874\n",
            "[3]\tvalidation_0-rmse:1110.31142\tvalidation_1-rmse:1466.65054\n",
            "[3]\tvalidation_0-rmse:1109.26884\tvalidation_1-rmse:1447.41966\n",
            "[3]\tvalidation_0-rmse:1109.22041\tvalidation_1-rmse:1447.39052\n",
            "[5]\tvalidation_0-rmse:1100.14256\tvalidation_1-rmse:1435.65128\n",
            "[4]\tvalidation_0-rmse:1106.02393\tvalidation_1-rmse:1461.03909\n",
            "[3]\tvalidation_0-rmse:1110.19859\tvalidation_1-rmse:1466.54695\n",
            "[5]\tvalidation_0-rmse:1100.17061\tvalidation_1-rmse:1435.73466\n",
            "[5]\tvalidation_0-rmse:1100.17061\tvalidation_1-rmse:1435.73466\n",
            "[3]\tvalidation_0-rmse:1110.19859\tvalidation_1-rmse:1466.54695\n",
            "[4]\tvalidation_0-rmse:1106.02393\tvalidation_1-rmse:1461.03909\n",
            "[4]\tvalidation_0-rmse:1104.65174\tvalidation_1-rmse:1441.45147\n",
            "[4]\tvalidation_0-rmse:1106.02393\tvalidation_1-rmse:1461.03909\n",
            "[4]\tvalidation_0-rmse:1104.69638\tvalidation_1-rmse:1441.53874\n",
            "[5]\tvalidation_0-rmse:1101.80162\tvalidation_1-rmse:1455.56717\n",
            "[6]\tvalidation_0-rmse:1095.62697\tvalidation_1-rmse:1429.80910\n",
            "[4]\tvalidation_0-rmse:1105.87748\tvalidation_1-rmse:1460.87687\n",
            "[5]\tvalidation_0-rmse:1101.80162\tvalidation_1-rmse:1455.56717\n",
            "[6]\tvalidation_0-rmse:1095.66580\tvalidation_1-rmse:1429.94725\n",
            "[6]\tvalidation_0-rmse:1095.66580\tvalidation_1-rmse:1429.94725\n",
            "[4]\tvalidation_0-rmse:1105.87748\tvalidation_1-rmse:1460.87687\n",
            "[5]\tvalidation_0-rmse:1101.80162\tvalidation_1-rmse:1455.56717\n",
            "[5]\tvalidation_0-rmse:1100.17061\tvalidation_1-rmse:1435.73466\n",
            "[5]\tvalidation_0-rmse:1100.14256\tvalidation_1-rmse:1435.65128\n",
            "[6]\tvalidation_0-rmse:1097.55419\tvalidation_1-rmse:1450.01454\n",
            "[6]\tvalidation_0-rmse:1097.55419\tvalidation_1-rmse:1450.01454\n",
            "[7]\tvalidation_0-rmse:1091.21106\tvalidation_1-rmse:1424.23458\n",
            "[7]\tvalidation_0-rmse:1091.13818\tvalidation_1-rmse:1423.90802\n",
            "[5]\tvalidation_0-rmse:1101.61586\tvalidation_1-rmse:1455.34407\n",
            "[5]\tvalidation_0-rmse:1101.61586\tvalidation_1-rmse:1455.34407\n",
            "[7]\tvalidation_0-rmse:1091.21106\tvalidation_1-rmse:1424.23458\n",
            "[6]\tvalidation_0-rmse:1097.55419\tvalidation_1-rmse:1450.01454\n",
            "[6]\tvalidation_0-rmse:1095.62697\tvalidation_1-rmse:1429.80910\n",
            "[6]\tvalidation_0-rmse:1095.66580\tvalidation_1-rmse:1429.94725\n",
            "[7]\tvalidation_0-rmse:1093.35120\tvalidation_1-rmse:1444.50780\n",
            "[7]\tvalidation_0-rmse:1093.35120\tvalidation_1-rmse:1444.50780\n",
            "[8]\tvalidation_0-rmse:1086.76785\tvalidation_1-rmse:1418.52763\n",
            "[8]\tvalidation_0-rmse:1086.66775\tvalidation_1-rmse:1418.12492\n",
            "[8]\tvalidation_0-rmse:1086.76785\tvalidation_1-rmse:1418.52763\n",
            "[6]\tvalidation_0-rmse:1097.34488\tvalidation_1-rmse:1449.73948\n",
            "[6]\tvalidation_0-rmse:1097.34488\tvalidation_1-rmse:1449.73948\n",
            "[7]\tvalidation_0-rmse:1093.35120\tvalidation_1-rmse:1444.50780\n",
            "[7]\tvalidation_0-rmse:1091.13818\tvalidation_1-rmse:1423.90802\n",
            "[8]\tvalidation_0-rmse:1089.17490\tvalidation_1-rmse:1439.03734\n",
            "[7]\tvalidation_0-rmse:1091.21106\tvalidation_1-rmse:1424.23458\n",
            "[9]\tvalidation_0-rmse:1082.24496\tvalidation_1-rmse:1412.35732\n",
            "[8]\tvalidation_0-rmse:1089.18394\tvalidation_1-rmse:1439.06246\n",
            "[9]\tvalidation_0-rmse:1082.32234\tvalidation_1-rmse:1412.81243\n",
            "[9]\tvalidation_0-rmse:1082.32234\tvalidation_1-rmse:1412.81243\n",
            "[7]\tvalidation_0-rmse:1093.10283\tvalidation_1-rmse:1444.18627\n",
            "[7]\tvalidation_0-rmse:1093.10283\tvalidation_1-rmse:1444.18627\n",
            "[8]\tvalidation_0-rmse:1089.18394\tvalidation_1-rmse:1439.06246\n",
            "[8]\tvalidation_0-rmse:1086.76785\tvalidation_1-rmse:1418.52763\n",
            "[8]\tvalidation_0-rmse:1086.66775\tvalidation_1-rmse:1418.12492\n",
            "[10]\tvalidation_0-rmse:1077.91909\tvalidation_1-rmse:1407.14810\n",
            "[9]\tvalidation_0-rmse:1084.99516\tvalidation_1-rmse:1433.54290\n",
            "[9]\tvalidation_0-rmse:1084.98613\tvalidation_1-rmse:1433.51778\n",
            "[10]\tvalidation_0-rmse:1077.85710\tvalidation_1-rmse:1406.75626\n",
            "[8]\tvalidation_0-rmse:1088.88237\tvalidation_1-rmse:1438.64752\n",
            "[10]\tvalidation_0-rmse:1077.91909\tvalidation_1-rmse:1407.14810\n",
            "[8]\tvalidation_0-rmse:1088.88237\tvalidation_1-rmse:1438.64752\n",
            "[11]\tvalidation_0-rmse:1073.58200\tvalidation_1-rmse:1401.50707\n",
            "[10]\tvalidation_0-rmse:1080.85538\tvalidation_1-rmse:1428.15016\n",
            "[9]\tvalidation_0-rmse:1082.24496\tvalidation_1-rmse:1412.35732\n",
            "[9]\tvalidation_0-rmse:1084.99516\tvalidation_1-rmse:1433.54290\n",
            "[9]\tvalidation_0-rmse:1082.32234\tvalidation_1-rmse:1412.81243\n",
            "[10]\tvalidation_0-rmse:1080.84908\tvalidation_1-rmse:1428.15994\n",
            "[11]\tvalidation_0-rmse:1073.52290\tvalidation_1-rmse:1401.10405\n",
            "[11]\tvalidation_0-rmse:1073.58200\tvalidation_1-rmse:1401.50707\n",
            "[9]\tvalidation_0-rmse:1084.69056\tvalidation_1-rmse:1433.15975\n",
            "[9]\tvalidation_0-rmse:1084.69056\tvalidation_1-rmse:1433.15975\n",
            "[12]\tvalidation_0-rmse:1069.23602\tvalidation_1-rmse:1395.88762\n",
            "[10]\tvalidation_0-rmse:1080.85538\tvalidation_1-rmse:1428.15016\n",
            "[11]\tvalidation_0-rmse:1076.76951\tvalidation_1-rmse:1422.86722\n",
            "[10]\tvalidation_0-rmse:1077.85710\tvalidation_1-rmse:1406.75626\n",
            "[10]\tvalidation_0-rmse:1077.92607\tvalidation_1-rmse:1407.17292\n",
            "[12]\tvalidation_0-rmse:1069.23602\tvalidation_1-rmse:1395.88762\n",
            "[11]\tvalidation_0-rmse:1076.76331\tvalidation_1-rmse:1422.87708\n",
            "[12]\tvalidation_0-rmse:1069.15753\tvalidation_1-rmse:1395.45801\n",
            "[12]\tvalidation_0-rmse:1072.65592\tvalidation_1-rmse:1417.47795\n",
            "[11]\tvalidation_0-rmse:1073.60354\tvalidation_1-rmse:1401.54315\n",
            "[10]\tvalidation_0-rmse:1080.56029\tvalidation_1-rmse:1427.81562\n",
            "[10]\tvalidation_0-rmse:1080.56029\tvalidation_1-rmse:1427.81562\n",
            "[12]\tvalidation_0-rmse:1072.64984\tvalidation_1-rmse:1417.48785\n",
            "[13]\tvalidation_0-rmse:1064.99530\tvalidation_1-rmse:1390.40373\n",
            "[11]\tvalidation_0-rmse:1076.76951\tvalidation_1-rmse:1422.86722\n",
            "[11]\tvalidation_0-rmse:1073.52290\tvalidation_1-rmse:1401.10405\n",
            "[13]\tvalidation_0-rmse:1064.99530\tvalidation_1-rmse:1390.40373\n",
            "[13]\tvalidation_0-rmse:1064.87678\tvalidation_1-rmse:1390.04044\n",
            "[11]\tvalidation_0-rmse:1076.43938\tvalidation_1-rmse:1422.40645\n",
            "[12]\tvalidation_0-rmse:1069.15753\tvalidation_1-rmse:1395.45801\n",
            "[13]\tvalidation_0-rmse:1068.59384\tvalidation_1-rmse:1412.10784\n",
            "[13]\tvalidation_0-rmse:1068.58760\tvalidation_1-rmse:1412.11733\n",
            "[11]\tvalidation_0-rmse:1076.43938\tvalidation_1-rmse:1422.40645\n",
            "[12]\tvalidation_0-rmse:1069.25739\tvalidation_1-rmse:1395.92342\n",
            "[14]\tvalidation_0-rmse:1060.70793\tvalidation_1-rmse:1384.92475\n",
            "[12]\tvalidation_0-rmse:1072.65592\tvalidation_1-rmse:1417.47795\n",
            "[14]\tvalidation_0-rmse:1060.70793\tvalidation_1-rmse:1384.92475\n",
            "[14]\tvalidation_0-rmse:1060.57395\tvalidation_1-rmse:1384.41788\n",
            "[14]\tvalidation_0-rmse:1064.47742\tvalidation_1-rmse:1406.70154\n",
            "[13]\tvalidation_0-rmse:1065.01655\tvalidation_1-rmse:1390.43929\n",
            "[15]\tvalidation_0-rmse:1056.38085\tvalidation_1-rmse:1379.29989\n",
            "[13]\tvalidation_0-rmse:1068.59384\tvalidation_1-rmse:1412.10784\n",
            "[12]\tvalidation_0-rmse:1072.31482\tvalidation_1-rmse:1416.99966\n",
            "[14]\tvalidation_0-rmse:1064.48368\tvalidation_1-rmse:1406.69209\n",
            "[13]\tvalidation_0-rmse:1064.87678\tvalidation_1-rmse:1390.04044\n",
            "[12]\tvalidation_0-rmse:1072.31482\tvalidation_1-rmse:1416.99966\n",
            "[16]\tvalidation_0-rmse:1052.09554\tvalidation_1-rmse:1373.73158\n",
            "[15]\tvalidation_0-rmse:1060.48612\tvalidation_1-rmse:1401.48111\n",
            "[15]\tvalidation_0-rmse:1056.38085\tvalidation_1-rmse:1379.29989\n",
            "[15]\tvalidation_0-rmse:1056.29878\tvalidation_1-rmse:1378.91599\n",
            "[14]\tvalidation_0-rmse:1060.72906\tvalidation_1-rmse:1384.96016\n",
            "[14]\tvalidation_0-rmse:1060.57395\tvalidation_1-rmse:1384.41788\n",
            "[13]\tvalidation_0-rmse:1068.24209\tvalidation_1-rmse:1411.65851\n",
            "[13]\tvalidation_0-rmse:1068.24209\tvalidation_1-rmse:1411.65851\n",
            "[14]\tvalidation_0-rmse:1064.48368\tvalidation_1-rmse:1406.69209\n",
            "[16]\tvalidation_0-rmse:1056.42400\tvalidation_1-rmse:1396.10948\n",
            "[15]\tvalidation_0-rmse:1060.49220\tvalidation_1-rmse:1401.47147\n",
            "[17]\tvalidation_0-rmse:1047.88879\tvalidation_1-rmse:1368.33812\n",
            "[16]\tvalidation_0-rmse:1052.09554\tvalidation_1-rmse:1373.73158\n",
            "[15]\tvalidation_0-rmse:1056.29878\tvalidation_1-rmse:1378.91599\n",
            "[15]\tvalidation_0-rmse:1056.40184\tvalidation_1-rmse:1379.33505\n",
            "[16]\tvalidation_0-rmse:1052.05342\tvalidation_1-rmse:1373.33425\n",
            "[17]\tvalidation_0-rmse:1052.46155\tvalidation_1-rmse:1390.87846\n",
            "[15]\tvalidation_0-rmse:1060.49220\tvalidation_1-rmse:1401.47147\n",
            "[14]\tvalidation_0-rmse:1064.16712\tvalidation_1-rmse:1406.31921\n",
            "[16]\tvalidation_0-rmse:1056.44314\tvalidation_1-rmse:1396.17160\n",
            "[14]\tvalidation_0-rmse:1064.16712\tvalidation_1-rmse:1406.31921\n",
            "[18]\tvalidation_0-rmse:1043.78614\tvalidation_1-rmse:1363.01061\n",
            "[17]\tvalidation_0-rmse:1047.83106\tvalidation_1-rmse:1367.83773\n",
            "[16]\tvalidation_0-rmse:1052.11645\tvalidation_1-rmse:1373.76659\n",
            "[17]\tvalidation_0-rmse:1047.88879\tvalidation_1-rmse:1368.33812\n",
            "[16]\tvalidation_0-rmse:1052.05342\tvalidation_1-rmse:1373.33425\n",
            "[15]\tvalidation_0-rmse:1060.11916\tvalidation_1-rmse:1401.01375\n",
            "[16]\tvalidation_0-rmse:1056.44314\tvalidation_1-rmse:1396.17160\n",
            "[17]\tvalidation_0-rmse:1052.47678\tvalidation_1-rmse:1390.92662\n",
            "[18]\tvalidation_0-rmse:1048.60216\tvalidation_1-rmse:1385.73266\n",
            "[18]\tvalidation_0-rmse:1043.74506\tvalidation_1-rmse:1362.57422\n",
            "[15]\tvalidation_0-rmse:1060.11916\tvalidation_1-rmse:1401.01375\n",
            "[19]\tvalidation_0-rmse:1039.59548\tvalidation_1-rmse:1357.49216\n",
            "[17]\tvalidation_0-rmse:1047.83106\tvalidation_1-rmse:1367.83773\n",
            "[17]\tvalidation_0-rmse:1047.90954\tvalidation_1-rmse:1368.37291\n",
            "[16]\tvalidation_0-rmse:1056.08862\tvalidation_1-rmse:1395.75239\n",
            "[18]\tvalidation_0-rmse:1043.78614\tvalidation_1-rmse:1363.01061\n",
            "[18]\tvalidation_0-rmse:1048.61742\tvalidation_1-rmse:1385.78097\n",
            "[19]\tvalidation_0-rmse:1044.64077\tvalidation_1-rmse:1380.48664\n",
            "[19]\tvalidation_0-rmse:1039.57371\tvalidation_1-rmse:1357.21553\n",
            "[20]\tvalidation_0-rmse:1035.49993\tvalidation_1-rmse:1352.15091\n",
            "[16]\tvalidation_0-rmse:1056.08862\tvalidation_1-rmse:1395.75239\n",
            "[17]\tvalidation_0-rmse:1052.47678\tvalidation_1-rmse:1390.92662\n",
            "[18]\tvalidation_0-rmse:1043.80684\tvalidation_1-rmse:1363.04526\n",
            "[18]\tvalidation_0-rmse:1043.74506\tvalidation_1-rmse:1362.57422\n",
            "[19]\tvalidation_0-rmse:1039.59548\tvalidation_1-rmse:1357.49216\n",
            "[17]\tvalidation_0-rmse:1052.08382\tvalidation_1-rmse:1390.49470\n",
            "[19]\tvalidation_0-rmse:1044.65492\tvalidation_1-rmse:1380.55097\n",
            "[20]\tvalidation_0-rmse:1040.74340\tvalidation_1-rmse:1375.36287\n",
            "[17]\tvalidation_0-rmse:1052.08382\tvalidation_1-rmse:1390.49470\n",
            "[20]\tvalidation_0-rmse:1035.51096\tvalidation_1-rmse:1351.94358\n",
            "[21]\tvalidation_0-rmse:1031.40463\tvalidation_1-rmse:1346.84834\n",
            "[18]\tvalidation_0-rmse:1048.61742\tvalidation_1-rmse:1385.78097\n",
            "[18]\tvalidation_0-rmse:1048.20168\tvalidation_1-rmse:1385.39178\n",
            "[19]\tvalidation_0-rmse:1039.61608\tvalidation_1-rmse:1357.52663\n",
            "[19]\tvalidation_0-rmse:1039.57371\tvalidation_1-rmse:1357.21553\n",
            "[20]\tvalidation_0-rmse:1040.75746\tvalidation_1-rmse:1375.42704\n",
            "[19]\tvalidation_0-rmse:1044.65492\tvalidation_1-rmse:1380.55097\n",
            "[20]\tvalidation_0-rmse:1035.49993\tvalidation_1-rmse:1352.15091\n",
            "[21]\tvalidation_0-rmse:1036.85757\tvalidation_1-rmse:1370.26589\n",
            "[21]\tvalidation_0-rmse:1031.37218\tvalidation_1-rmse:1346.60387\n",
            "[22]\tvalidation_0-rmse:1027.33847\tvalidation_1-rmse:1341.57187\n",
            "[18]\tvalidation_0-rmse:1048.20168\tvalidation_1-rmse:1385.39178\n",
            "[20]\tvalidation_0-rmse:1035.51096\tvalidation_1-rmse:1351.94358\n",
            "[19]\tvalidation_0-rmse:1044.24365\tvalidation_1-rmse:1380.19527\n",
            "[22]\tvalidation_0-rmse:1032.93472\tvalidation_1-rmse:1365.17470\n",
            "[23]\tvalidation_0-rmse:1023.24846\tvalidation_1-rmse:1336.18248\n",
            "[20]\tvalidation_0-rmse:1035.51862\tvalidation_1-rmse:1352.22309\n",
            "[21]\tvalidation_0-rmse:1036.86626\tvalidation_1-rmse:1370.32551\n",
            "[22]\tvalidation_0-rmse:1027.26597\tvalidation_1-rmse:1341.24550\n",
            "[21]\tvalidation_0-rmse:1031.40463\tvalidation_1-rmse:1346.84834\n",
            "[20]\tvalidation_0-rmse:1040.75746\tvalidation_1-rmse:1375.42704\n",
            "[19]\tvalidation_0-rmse:1044.24365\tvalidation_1-rmse:1380.19527\n",
            "[21]\tvalidation_0-rmse:1031.37218\tvalidation_1-rmse:1346.60387\n",
            "[23]\tvalidation_0-rmse:1029.08360\tvalidation_1-rmse:1360.11685\n",
            "[24]\tvalidation_0-rmse:1019.23319\tvalidation_1-rmse:1330.97206\n",
            "[21]\tvalidation_0-rmse:1031.42314\tvalidation_1-rmse:1346.92012\n",
            "[22]\tvalidation_0-rmse:1027.33847\tvalidation_1-rmse:1341.57187\n",
            "[20]\tvalidation_0-rmse:1040.36188\tvalidation_1-rmse:1375.10056\n",
            "[23]\tvalidation_0-rmse:1023.20131\tvalidation_1-rmse:1335.89112\n",
            "[21]\tvalidation_0-rmse:1036.86626\tvalidation_1-rmse:1370.32551\n",
            "[22]\tvalidation_0-rmse:1032.94311\tvalidation_1-rmse:1365.23391\n",
            "[22]\tvalidation_0-rmse:1027.26597\tvalidation_1-rmse:1341.24550\n",
            "[24]\tvalidation_0-rmse:1025.28015\tvalidation_1-rmse:1355.14591\n",
            "[22]\tvalidation_0-rmse:1027.35685\tvalidation_1-rmse:1341.64333\n",
            "[20]\tvalidation_0-rmse:1040.36188\tvalidation_1-rmse:1375.10056\n",
            "[25]\tvalidation_0-rmse:1015.26112\tvalidation_1-rmse:1325.83684\n",
            "[23]\tvalidation_0-rmse:1023.24846\tvalidation_1-rmse:1336.18248\n",
            "[23]\tvalidation_0-rmse:1029.09202\tvalidation_1-rmse:1360.17609\n",
            "[24]\tvalidation_0-rmse:1019.14486\tvalidation_1-rmse:1330.66630\n",
            "[21]\tvalidation_0-rmse:1036.45222\tvalidation_1-rmse:1369.99146\n",
            "[22]\tvalidation_0-rmse:1032.94311\tvalidation_1-rmse:1365.23391\n",
            "[21]\tvalidation_0-rmse:1036.45222\tvalidation_1-rmse:1369.99146\n",
            "[23]\tvalidation_0-rmse:1023.26667\tvalidation_1-rmse:1336.25356\n",
            "[23]\tvalidation_0-rmse:1023.20131\tvalidation_1-rmse:1335.89112\n",
            "[25]\tvalidation_0-rmse:1021.53036\tvalidation_1-rmse:1350.22262\n",
            "[26]\tvalidation_0-rmse:1011.23908\tvalidation_1-rmse:1320.50265\n",
            "[25]\tvalidation_0-rmse:1015.13736\tvalidation_1-rmse:1325.54624\n",
            "[24]\tvalidation_0-rmse:1019.23319\tvalidation_1-rmse:1330.97206\n",
            "[23]\tvalidation_0-rmse:1029.09202\tvalidation_1-rmse:1360.17609\n",
            "[22]\tvalidation_0-rmse:1032.56600\tvalidation_1-rmse:1364.90080\n",
            "[24]\tvalidation_0-rmse:1025.28831\tvalidation_1-rmse:1355.20479\n",
            "[24]\tvalidation_0-rmse:1019.14486\tvalidation_1-rmse:1330.66630\n",
            "[22]\tvalidation_0-rmse:1032.56600\tvalidation_1-rmse:1364.90080\n",
            "[24]\tvalidation_0-rmse:1019.25284\tvalidation_1-rmse:1331.03909\n",
            "[27]\tvalidation_0-rmse:1007.30341\tvalidation_1-rmse:1315.43564\n",
            "[26]\tvalidation_0-rmse:1011.13081\tvalidation_1-rmse:1320.34214\n",
            "[26]\tvalidation_0-rmse:1017.76206\tvalidation_1-rmse:1345.28043\n",
            "[25]\tvalidation_0-rmse:1015.26112\tvalidation_1-rmse:1325.83684\n",
            "[23]\tvalidation_0-rmse:1028.73320\tvalidation_1-rmse:1359.87109\n",
            "[25]\tvalidation_0-rmse:1021.51733\tvalidation_1-rmse:1350.25136\n",
            "[24]\tvalidation_0-rmse:1025.28831\tvalidation_1-rmse:1355.20479\n",
            "[28]\tvalidation_0-rmse:1003.39057\tvalidation_1-rmse:1310.38752\n",
            "[25]\tvalidation_0-rmse:1015.13736\tvalidation_1-rmse:1325.54624\n",
            "[25]\tvalidation_0-rmse:1015.28064\tvalidation_1-rmse:1325.90363\n",
            "[23]\tvalidation_0-rmse:1028.73320\tvalidation_1-rmse:1359.87109\n",
            "[27]\tvalidation_0-rmse:1007.14151\tvalidation_1-rmse:1315.19621\n",
            "[24]\tvalidation_0-rmse:1024.89535\tvalidation_1-rmse:1354.84680\n",
            "[26]\tvalidation_0-rmse:1011.23908\tvalidation_1-rmse:1320.50265\n",
            "[27]\tvalidation_0-rmse:1013.99042\tvalidation_1-rmse:1340.33650\n",
            "[26]\tvalidation_0-rmse:1017.74890\tvalidation_1-rmse:1345.30894\n",
            "[25]\tvalidation_0-rmse:1021.51733\tvalidation_1-rmse:1350.25136\n",
            "[28]\tvalidation_0-rmse:1003.21998\tvalidation_1-rmse:1310.08847\n",
            "[26]\tvalidation_0-rmse:1011.25854\tvalidation_1-rmse:1320.56924\n",
            "[26]\tvalidation_0-rmse:1011.13081\tvalidation_1-rmse:1320.34214\n",
            "[29]\tvalidation_0-rmse:999.52354\tvalidation_1-rmse:1305.42561\n",
            "[25]\tvalidation_0-rmse:1021.09562\tvalidation_1-rmse:1349.84502\n",
            "[24]\tvalidation_0-rmse:1024.89535\tvalidation_1-rmse:1354.84680\n",
            "[27]\tvalidation_0-rmse:1007.30341\tvalidation_1-rmse:1315.43564\n",
            "[28]\tvalidation_0-rmse:1010.28144\tvalidation_1-rmse:1335.59343\n",
            "[26]\tvalidation_0-rmse:1017.74890\tvalidation_1-rmse:1345.30894\n",
            "[27]\tvalidation_0-rmse:1013.97715\tvalidation_1-rmse:1340.36491\n",
            "[27]\tvalidation_0-rmse:1007.32270\tvalidation_1-rmse:1315.50181\n",
            "[27]\tvalidation_0-rmse:1007.14151\tvalidation_1-rmse:1315.19621\n",
            "[30]\tvalidation_0-rmse:995.57782\tvalidation_1-rmse:1300.25781\n",
            "[26]\tvalidation_0-rmse:1017.30113\tvalidation_1-rmse:1344.88637\n",
            "[29]\tvalidation_0-rmse:999.32261\tvalidation_1-rmse:1305.01308\n",
            "[25]\tvalidation_0-rmse:1021.09562\tvalidation_1-rmse:1349.84502\n",
            "[29]\tvalidation_0-rmse:1006.53799\tvalidation_1-rmse:1330.69948\n",
            "[28]\tvalidation_0-rmse:1003.39057\tvalidation_1-rmse:1310.38752\n",
            "[28]\tvalidation_0-rmse:1010.26793\tvalidation_1-rmse:1335.62162\n",
            "[27]\tvalidation_0-rmse:1013.97715\tvalidation_1-rmse:1340.36491\n",
            "[28]\tvalidation_0-rmse:1003.21998\tvalidation_1-rmse:1310.08847\n",
            "[31]\tvalidation_0-rmse:991.70132\tvalidation_1-rmse:1295.28496\n",
            "[26]\tvalidation_0-rmse:1017.30113\tvalidation_1-rmse:1344.88637\n",
            "[28]\tvalidation_0-rmse:1003.40975\tvalidation_1-rmse:1310.45335\n",
            "[27]\tvalidation_0-rmse:1013.51399\tvalidation_1-rmse:1339.88729\n",
            "[30]\tvalidation_0-rmse:1002.84415\tvalidation_1-rmse:1325.85238\n",
            "[30]\tvalidation_0-rmse:995.41861\tvalidation_1-rmse:1299.97288\n",
            "[29]\tvalidation_0-rmse:999.52354\tvalidation_1-rmse:1305.42561\n",
            "[29]\tvalidation_0-rmse:1006.53559\tvalidation_1-rmse:1330.77869\n",
            "[28]\tvalidation_0-rmse:1010.26793\tvalidation_1-rmse:1335.62162\n",
            "[29]\tvalidation_0-rmse:999.32261\tvalidation_1-rmse:1305.01308\n",
            "[32]\tvalidation_0-rmse:987.87619\tvalidation_1-rmse:1290.32037\n",
            "[28]\tvalidation_0-rmse:1009.77887\tvalidation_1-rmse:1334.95151\n",
            "[27]\tvalidation_0-rmse:1013.51399\tvalidation_1-rmse:1339.88729\n",
            "[29]\tvalidation_0-rmse:999.54264\tvalidation_1-rmse:1305.49115\n",
            "[31]\tvalidation_0-rmse:991.52522\tvalidation_1-rmse:1294.95170\n",
            "[31]\tvalidation_0-rmse:999.13803\tvalidation_1-rmse:1321.00287\n",
            "[30]\tvalidation_0-rmse:995.57782\tvalidation_1-rmse:1300.25781\n",
            "[33]\tvalidation_0-rmse:984.08287\tvalidation_1-rmse:1285.35040\n",
            "[30]\tvalidation_0-rmse:1002.84132\tvalidation_1-rmse:1325.93075\n",
            "[30]\tvalidation_0-rmse:995.41861\tvalidation_1-rmse:1299.97288\n",
            "[29]\tvalidation_0-rmse:1006.53559\tvalidation_1-rmse:1330.77869\n",
            "[28]\tvalidation_0-rmse:1009.77887\tvalidation_1-rmse:1334.95151\n",
            "[29]\tvalidation_0-rmse:1006.07396\tvalidation_1-rmse:1330.08630\n",
            "[30]\tvalidation_0-rmse:995.59680\tvalidation_1-rmse:1300.32302\n",
            "[32]\tvalidation_0-rmse:987.66678\tvalidation_1-rmse:1289.95278\n",
            "[31]\tvalidation_0-rmse:991.70132\tvalidation_1-rmse:1295.28496\n",
            "[32]\tvalidation_0-rmse:995.42390\tvalidation_1-rmse:1316.13180\n",
            "[34]\tvalidation_0-rmse:980.20418\tvalidation_1-rmse:1280.32481\n",
            "[31]\tvalidation_0-rmse:999.13512\tvalidation_1-rmse:1321.08110\n",
            "[29]\tvalidation_0-rmse:1006.07396\tvalidation_1-rmse:1330.08630\n",
            "[31]\tvalidation_0-rmse:991.52522\tvalidation_1-rmse:1294.95170\n",
            "[30]\tvalidation_0-rmse:1002.84132\tvalidation_1-rmse:1325.93075\n",
            "[31]\tvalidation_0-rmse:991.72017\tvalidation_1-rmse:1295.34986\n",
            "[30]\tvalidation_0-rmse:1002.35618\tvalidation_1-rmse:1325.21814\n",
            "[33]\tvalidation_0-rmse:991.80586\tvalidation_1-rmse:1311.37218\n",
            "[33]\tvalidation_0-rmse:983.81894\tvalidation_1-rmse:1284.90400\n",
            "[35]\tvalidation_0-rmse:976.39374\tvalidation_1-rmse:1275.36575\n",
            "[32]\tvalidation_0-rmse:987.87619\tvalidation_1-rmse:1290.32037\n",
            "[30]\tvalidation_0-rmse:1002.35618\tvalidation_1-rmse:1325.21814\n",
            "[32]\tvalidation_0-rmse:995.42073\tvalidation_1-rmse:1316.20951\n",
            "[32]\tvalidation_0-rmse:987.66678\tvalidation_1-rmse:1289.95278\n",
            "[31]\tvalidation_0-rmse:999.13512\tvalidation_1-rmse:1321.08110\n",
            "[31]\tvalidation_0-rmse:998.67325\tvalidation_1-rmse:1320.39055\n",
            "[34]\tvalidation_0-rmse:979.99692\tvalidation_1-rmse:1279.97501\n",
            "[32]\tvalidation_0-rmse:987.89471\tvalidation_1-rmse:1290.38467\n",
            "[33]\tvalidation_0-rmse:984.08287\tvalidation_1-rmse:1285.35040\n",
            "[34]\tvalidation_0-rmse:988.09274\tvalidation_1-rmse:1306.49517\n",
            "[36]\tvalidation_0-rmse:972.64373\tvalidation_1-rmse:1270.55865\n",
            "[33]\tvalidation_0-rmse:991.80240\tvalidation_1-rmse:1311.44926\n",
            "[31]\tvalidation_0-rmse:998.67325\tvalidation_1-rmse:1320.39055\n",
            "[33]\tvalidation_0-rmse:983.81894\tvalidation_1-rmse:1284.90400\n",
            "[32]\tvalidation_0-rmse:995.42073\tvalidation_1-rmse:1316.20951\n",
            "[37]\tvalidation_0-rmse:968.91410\tvalidation_1-rmse:1265.76227\n",
            "[34]\tvalidation_0-rmse:980.20418\tvalidation_1-rmse:1280.32481\n",
            "[33]\tvalidation_0-rmse:984.10136\tvalidation_1-rmse:1285.41457\n",
            "[32]\tvalidation_0-rmse:995.00342\tvalidation_1-rmse:1315.60762\n",
            "[35]\tvalidation_0-rmse:984.55261\tvalidation_1-rmse:1301.90403\n",
            "[35]\tvalidation_0-rmse:976.22832\tvalidation_1-rmse:1275.15468\n",
            "[33]\tvalidation_0-rmse:991.80240\tvalidation_1-rmse:1311.44926\n",
            "[32]\tvalidation_0-rmse:995.00342\tvalidation_1-rmse:1315.60762\n",
            "[34]\tvalidation_0-rmse:979.99692\tvalidation_1-rmse:1279.97501\n",
            "[34]\tvalidation_0-rmse:988.08904\tvalidation_1-rmse:1306.57180\n",
            "[34]\tvalidation_0-rmse:980.21692\tvalidation_1-rmse:1280.35999\n",
            "[38]\tvalidation_0-rmse:965.18435\tvalidation_1-rmse:1260.84471\n",
            "[36]\tvalidation_0-rmse:972.46565\tvalidation_1-rmse:1270.30836\n",
            "[33]\tvalidation_0-rmse:991.35129\tvalidation_1-rmse:1310.79644\n",
            "[36]\tvalidation_0-rmse:981.03078\tvalidation_1-rmse:1297.33411\n",
            "[35]\tvalidation_0-rmse:976.39374\tvalidation_1-rmse:1275.36575\n",
            "[35]\tvalidation_0-rmse:984.54911\tvalidation_1-rmse:1301.98087\n",
            "[33]\tvalidation_0-rmse:991.35129\tvalidation_1-rmse:1310.79644\n",
            "[34]\tvalidation_0-rmse:988.08904\tvalidation_1-rmse:1306.57180\n",
            "[35]\tvalidation_0-rmse:976.22832\tvalidation_1-rmse:1275.15468\n",
            "[35]\tvalidation_0-rmse:976.40646\tvalidation_1-rmse:1275.40089\n",
            "[39]\tvalidation_0-rmse:961.49972\tvalidation_1-rmse:1256.06497\n",
            "[37]\tvalidation_0-rmse:968.72996\tvalidation_1-rmse:1265.39123\n",
            "[36]\tvalidation_0-rmse:972.64373\tvalidation_1-rmse:1270.55865\n",
            "[34]\tvalidation_0-rmse:987.72095\tvalidation_1-rmse:1305.99817\n",
            "[37]\tvalidation_0-rmse:977.48531\tvalidation_1-rmse:1292.66665\n",
            "[36]\tvalidation_0-rmse:981.02497\tvalidation_1-rmse:1297.40528\n",
            "[34]\tvalidation_0-rmse:987.72095\tvalidation_1-rmse:1305.99817\n",
            "[36]\tvalidation_0-rmse:972.46565\tvalidation_1-rmse:1270.30836\n",
            "[35]\tvalidation_0-rmse:984.54911\tvalidation_1-rmse:1301.98087\n",
            "[38]\tvalidation_0-rmse:965.01808\tvalidation_1-rmse:1260.67005\n",
            "[36]\tvalidation_0-rmse:972.65645\tvalidation_1-rmse:1270.59368\n",
            "[40]\tvalidation_0-rmse:957.84462\tvalidation_1-rmse:1251.29563\n",
            "[37]\tvalidation_0-rmse:968.91410\tvalidation_1-rmse:1265.76227\n",
            "[38]\tvalidation_0-rmse:973.95770\tvalidation_1-rmse:1287.99090\n",
            "[35]\tvalidation_0-rmse:984.13911\tvalidation_1-rmse:1301.29304\n",
            "[36]\tvalidation_0-rmse:981.02497\tvalidation_1-rmse:1297.40528\n",
            "[37]\tvalidation_0-rmse:977.47928\tvalidation_1-rmse:1292.73731\n",
            "[35]\tvalidation_0-rmse:984.13911\tvalidation_1-rmse:1301.29304\n",
            "[37]\tvalidation_0-rmse:968.72996\tvalidation_1-rmse:1265.39123\n",
            "[39]\tvalidation_0-rmse:961.31337\tvalidation_1-rmse:1255.85608\n",
            "[37]\tvalidation_0-rmse:968.92675\tvalidation_1-rmse:1265.79711\n",
            "[41]\tvalidation_0-rmse:954.27992\tvalidation_1-rmse:1246.69837\n",
            "[39]\tvalidation_0-rmse:970.41597\tvalidation_1-rmse:1283.36372\n",
            "[38]\tvalidation_0-rmse:965.18435\tvalidation_1-rmse:1260.84471\n",
            "[36]\tvalidation_0-rmse:980.58462\tvalidation_1-rmse:1296.64569\n",
            "[36]\tvalidation_0-rmse:980.58462\tvalidation_1-rmse:1296.64569\n",
            "[38]\tvalidation_0-rmse:973.94862\tvalidation_1-rmse:1288.05878\n",
            "[37]\tvalidation_0-rmse:977.47928\tvalidation_1-rmse:1292.73731\n",
            "[38]\tvalidation_0-rmse:965.01808\tvalidation_1-rmse:1260.67005\n",
            "[42]\tvalidation_0-rmse:950.64194\tvalidation_1-rmse:1241.93065\n",
            "[40]\tvalidation_0-rmse:957.63277\tvalidation_1-rmse:1251.18791\n",
            "[38]\tvalidation_0-rmse:965.19682\tvalidation_1-rmse:1260.87917\n",
            "[37]\tvalidation_0-rmse:977.02303\tvalidation_1-rmse:1291.96140\n",
            "[40]\tvalidation_0-rmse:966.96103\tvalidation_1-rmse:1278.77934\n",
            "[39]\tvalidation_0-rmse:961.49972\tvalidation_1-rmse:1256.06497\n",
            "[37]\tvalidation_0-rmse:977.02303\tvalidation_1-rmse:1291.96140\n",
            "[38]\tvalidation_0-rmse:973.94862\tvalidation_1-rmse:1288.05878\n",
            "[39]\tvalidation_0-rmse:970.40661\tvalidation_1-rmse:1283.43110\n",
            "[39]\tvalidation_0-rmse:961.53738\tvalidation_1-rmse:1256.19602\n",
            "[39]\tvalidation_0-rmse:961.31337\tvalidation_1-rmse:1255.85608\n",
            "[38]\tvalidation_0-rmse:973.47469\tvalidation_1-rmse:1287.26384\n",
            "[43]\tvalidation_0-rmse:947.06080\tvalidation_1-rmse:1237.38967\n",
            "[41]\tvalidation_0-rmse:954.08202\tvalidation_1-rmse:1246.65780\n",
            "[41]\tvalidation_0-rmse:963.56178\tvalidation_1-rmse:1274.19957\n",
            "[38]\tvalidation_0-rmse:973.47469\tvalidation_1-rmse:1287.26384\n",
            "[40]\tvalidation_0-rmse:957.84462\tvalidation_1-rmse:1251.29563\n",
            "[39]\tvalidation_0-rmse:970.40661\tvalidation_1-rmse:1283.43110\n",
            "[40]\tvalidation_0-rmse:966.95163\tvalidation_1-rmse:1278.84662[40]\tvalidation_0-rmse:957.63277\tvalidation_1-rmse:1251.18791\n",
            "\n",
            "[42]\tvalidation_0-rmse:950.43928\tvalidation_1-rmse:1241.96220\n",
            "[39]\tvalidation_0-rmse:969.95050\tvalidation_1-rmse:1282.62448\n",
            "[44]\tvalidation_0-rmse:943.48091\tvalidation_1-rmse:1232.74482\n",
            "[42]\tvalidation_0-rmse:960.12371\tvalidation_1-rmse:1269.72930\n",
            "[39]\tvalidation_0-rmse:969.95050\tvalidation_1-rmse:1282.62448\n",
            "[41]\tvalidation_0-rmse:954.27992\tvalidation_1-rmse:1246.69837\n",
            "[40]\tvalidation_0-rmse:957.88227\tvalidation_1-rmse:1251.42641\n",
            "[40]\tvalidation_0-rmse:966.95163\tvalidation_1-rmse:1278.84662\n",
            "[43]\tvalidation_0-rmse:946.82535\tvalidation_1-rmse:1237.27565\n",
            "[41]\tvalidation_0-rmse:963.56729\tvalidation_1-rmse:1274.27794\n",
            "[40]\tvalidation_0-rmse:966.45465\tvalidation_1-rmse:1278.06297\n",
            "[41]\tvalidation_0-rmse:954.08202\tvalidation_1-rmse:1246.65780\n",
            "[45]\tvalidation_0-rmse:940.00165\tvalidation_1-rmse:1228.25421\n",
            "[42]\tvalidation_0-rmse:950.64194\tvalidation_1-rmse:1241.93065\n",
            "[41]\tvalidation_0-rmse:954.31743\tvalidation_1-rmse:1246.82868\n",
            "[43]\tvalidation_0-rmse:956.65326\tvalidation_1-rmse:1265.15392\n",
            "[40]\tvalidation_0-rmse:966.45465\tvalidation_1-rmse:1278.06297\n",
            "[42]\tvalidation_0-rmse:960.12940\tvalidation_1-rmse:1269.80757\n",
            "[41]\tvalidation_0-rmse:963.56729\tvalidation_1-rmse:1274.27794\n",
            "[44]\tvalidation_0-rmse:943.25471\tvalidation_1-rmse:1232.77347\n",
            "[42]\tvalidation_0-rmse:950.43928\tvalidation_1-rmse:1241.96220\n",
            "[41]\tvalidation_0-rmse:963.06723\tvalidation_1-rmse:1273.64123\n",
            "[46]\tvalidation_0-rmse:936.42934\tvalidation_1-rmse:1223.62576\n",
            "[44]\tvalidation_0-rmse:953.25958\tvalidation_1-rmse:1260.70132\n",
            "[43]\tvalidation_0-rmse:947.06080\tvalidation_1-rmse:1237.38967\n",
            "[42]\tvalidation_0-rmse:950.68192\tvalidation_1-rmse:1242.08115\n",
            "[41]\tvalidation_0-rmse:963.06723\tvalidation_1-rmse:1273.64123\n",
            "[42]\tvalidation_0-rmse:960.12940\tvalidation_1-rmse:1269.80757\n",
            "[45]\tvalidation_0-rmse:939.80508\tvalidation_1-rmse:1228.34946\n",
            "[43]\tvalidation_0-rmse:956.65850\tvalidation_1-rmse:1265.23142\n",
            "[47]\tvalidation_0-rmse:932.89429\tvalidation_1-rmse:1219.03372\n",
            "[42]\tvalidation_0-rmse:959.61605\tvalidation_1-rmse:1269.08747\n",
            "[43]\tvalidation_0-rmse:946.82535\tvalidation_1-rmse:1237.27565\n",
            "[44]\tvalidation_0-rmse:943.48091\tvalidation_1-rmse:1232.74482\n",
            "[43]\tvalidation_0-rmse:947.10043\tvalidation_1-rmse:1237.55673\n",
            "[45]\tvalidation_0-rmse:950.01349\tvalidation_1-rmse:1256.57256\n",
            "[42]\tvalidation_0-rmse:959.61605\tvalidation_1-rmse:1269.08747\n",
            "[46]\tvalidation_0-rmse:936.24830\tvalidation_1-rmse:1223.70027\n",
            "[43]\tvalidation_0-rmse:956.65850\tvalidation_1-rmse:1265.23142\n",
            "[44]\tvalidation_0-rmse:953.26794\tvalidation_1-rmse:1260.78131\n",
            "[48]\tvalidation_0-rmse:929.29600\tvalidation_1-rmse:1214.25021\n",
            "[44]\tvalidation_0-rmse:943.25471\tvalidation_1-rmse:1232.77347\n",
            "[43]\tvalidation_0-rmse:956.17461\tvalidation_1-rmse:1264.54002\n",
            "[45]\tvalidation_0-rmse:940.00165\tvalidation_1-rmse:1228.25421\n",
            "[44]\tvalidation_0-rmse:943.52041\tvalidation_1-rmse:1232.91135\n",
            "[49]\tvalidation_0-rmse:925.84804\tvalidation_1-rmse:1209.76379\n",
            "[46]\tvalidation_0-rmse:946.61959\tvalidation_1-rmse:1252.13521\n",
            "[45]\tvalidation_0-rmse:950.02110\tvalidation_1-rmse:1256.65144\n",
            "[44]\tvalidation_0-rmse:953.26794\tvalidation_1-rmse:1260.78131\n",
            "[43]\tvalidation_0-rmse:956.17461\tvalidation_1-rmse:1264.54002\n",
            "[47]\tvalidation_0-rmse:932.73313\tvalidation_1-rmse:1219.09353\n",
            "[44]\tvalidation_0-rmse:952.76343\tvalidation_1-rmse:1260.10220\n",
            "[45]\tvalidation_0-rmse:939.80508\tvalidation_1-rmse:1228.34946\n",
            "[47]\tvalidation_0-rmse:943.21398\tvalidation_1-rmse:1247.64259\n",
            "[45]\tvalidation_0-rmse:940.04102\tvalidation_1-rmse:1228.42016\n",
            "[46]\tvalidation_0-rmse:936.42934\tvalidation_1-rmse:1223.62576\n",
            "[50]\tvalidation_0-rmse:922.41252\tvalidation_1-rmse:1205.30311\n",
            "[45]\tvalidation_0-rmse:950.02110\tvalidation_1-rmse:1256.65144\n",
            "[44]\tvalidation_0-rmse:952.76343\tvalidation_1-rmse:1260.10220\n",
            "[46]\tvalidation_0-rmse:946.62677\tvalidation_1-rmse:1252.21330\n",
            "[48]\tvalidation_0-rmse:929.22727\tvalidation_1-rmse:1214.65251\n",
            "[46]\tvalidation_0-rmse:936.24830\tvalidation_1-rmse:1223.70027\n",
            "[45]\tvalidation_0-rmse:949.44481\tvalidation_1-rmse:1255.75931\n",
            "[46]\tvalidation_0-rmse:936.46594\tvalidation_1-rmse:1223.79112\n",
            "[48]\tvalidation_0-rmse:939.81260\tvalidation_1-rmse:1243.12858\n",
            "[51]\tvalidation_0-rmse:918.97188\tvalidation_1-rmse:1200.83942\n",
            "[47]\tvalidation_0-rmse:932.89429\tvalidation_1-rmse:1219.03372\n",
            "[49]\tvalidation_0-rmse:925.74392\tvalidation_1-rmse:1210.14641\n",
            "[46]\tvalidation_0-rmse:946.62677\tvalidation_1-rmse:1252.21330\n",
            "[45]\tvalidation_0-rmse:949.44481\tvalidation_1-rmse:1255.75931\n",
            "[47]\tvalidation_0-rmse:943.22088\tvalidation_1-rmse:1247.72022\n",
            "[47]\tvalidation_0-rmse:932.73313\tvalidation_1-rmse:1219.09353\n",
            "[46]\tvalidation_0-rmse:946.06767\tvalidation_1-rmse:1251.30511\n",
            "[49]\tvalidation_0-rmse:936.50844\tvalidation_1-rmse:1238.78872\n",
            "[52]\tvalidation_0-rmse:915.52216\tvalidation_1-rmse:1196.39311\n",
            "[48]\tvalidation_0-rmse:929.29600\tvalidation_1-rmse:1214.25021\n",
            "[47]\tvalidation_0-rmse:932.93068\tvalidation_1-rmse:1219.19834\n",
            "[46]\tvalidation_0-rmse:946.06767\tvalidation_1-rmse:1251.30511\n",
            "[47]\tvalidation_0-rmse:943.22088\tvalidation_1-rmse:1247.72022\n",
            "[48]\tvalidation_0-rmse:939.81937\tvalidation_1-rmse:1243.20604\n",
            "[48]\tvalidation_0-rmse:929.22727\tvalidation_1-rmse:1214.65251\n",
            "[50]\tvalidation_0-rmse:922.28230\tvalidation_1-rmse:1205.62324\n",
            "[47]\tvalidation_0-rmse:942.71034\tvalidation_1-rmse:1246.87479\n",
            "[50]\tvalidation_0-rmse:933.20955\tvalidation_1-rmse:1234.40091\n",
            "[53]\tvalidation_0-rmse:912.16199\tvalidation_1-rmse:1192.06729\n",
            "[49]\tvalidation_0-rmse:925.84804\tvalidation_1-rmse:1209.76379\n",
            "[47]\tvalidation_0-rmse:942.71034\tvalidation_1-rmse:1246.87479\n",
            "[48]\tvalidation_0-rmse:929.33214\tvalidation_1-rmse:1214.41392\n",
            "[48]\tvalidation_0-rmse:939.81937\tvalidation_1-rmse:1243.20604\n",
            "[49]\tvalidation_0-rmse:936.51376\tvalidation_1-rmse:1238.87934\n",
            "[49]\tvalidation_0-rmse:925.74392\tvalidation_1-rmse:1210.14641\n",
            "[51]\tvalidation_0-rmse:918.84303\tvalidation_1-rmse:1201.17487\n",
            "[51]\tvalidation_0-rmse:929.90150\tvalidation_1-rmse:1230.04840\n",
            "[48]\tvalidation_0-rmse:939.37356\tvalidation_1-rmse:1242.46645\n",
            "[54]\tvalidation_0-rmse:908.79225\tvalidation_1-rmse:1187.67414\n",
            "[50]\tvalidation_0-rmse:922.41252\tvalidation_1-rmse:1205.30311\n",
            "[48]\tvalidation_0-rmse:939.37356\tvalidation_1-rmse:1242.46645\n",
            "[49]\tvalidation_0-rmse:925.88376\tvalidation_1-rmse:1209.92644\n",
            "[49]\tvalidation_0-rmse:936.51376\tvalidation_1-rmse:1238.87934\n",
            "[50]\tvalidation_0-rmse:933.21486\tvalidation_1-rmse:1234.49142\n",
            "[52]\tvalidation_0-rmse:915.43025\tvalidation_1-rmse:1196.80781\n",
            "[50]\tvalidation_0-rmse:922.28230\tvalidation_1-rmse:1205.62324\n",
            "[49]\tvalidation_0-rmse:936.06495\tvalidation_1-rmse:1238.12973\n",
            "[52]\tvalidation_0-rmse:926.70044\tvalidation_1-rmse:1225.77245\n",
            "[55]\tvalidation_0-rmse:905.40055\tvalidation_1-rmse:1183.35270\n",
            "[51]\tvalidation_0-rmse:918.97188\tvalidation_1-rmse:1200.83942\n",
            "[50]\tvalidation_0-rmse:922.44807\tvalidation_1-rmse:1205.46514\n",
            "[49]\tvalidation_0-rmse:936.06495\tvalidation_1-rmse:1238.12973\n",
            "[53]\tvalidation_0-rmse:912.05153\tvalidation_1-rmse:1192.43211\n",
            "[50]\tvalidation_0-rmse:933.21486\tvalidation_1-rmse:1234.49142\n",
            "[51]\tvalidation_0-rmse:929.89334\tvalidation_1-rmse:1230.09057\n",
            "[56]\tvalidation_0-rmse:902.08685\tvalidation_1-rmse:1178.87303\n",
            "[51]\tvalidation_0-rmse:918.84303\tvalidation_1-rmse:1201.17487\n",
            "[53]\tvalidation_0-rmse:923.46432\tvalidation_1-rmse:1221.51297\n",
            "[50]\tvalidation_0-rmse:932.77257\tvalidation_1-rmse:1233.79584\n",
            "[52]\tvalidation_0-rmse:915.52216\tvalidation_1-rmse:1196.39311\n",
            "[51]\tvalidation_0-rmse:919.00719\tvalidation_1-rmse:1201.00067\n",
            "[54]\tvalidation_0-rmse:908.67379\tvalidation_1-rmse:1188.02423\n",
            "[51]\tvalidation_0-rmse:929.89334\tvalidation_1-rmse:1230.09057\n",
            "[50]\tvalidation_0-rmse:932.77257\tvalidation_1-rmse:1233.79584\n",
            "[52]\tvalidation_0-rmse:926.69502\tvalidation_1-rmse:1225.83610\n",
            "[52]\tvalidation_0-rmse:915.43025\tvalidation_1-rmse:1196.80781\n",
            "[54]\tvalidation_0-rmse:920.24827\tvalidation_1-rmse:1217.25245\n",
            "[57]\tvalidation_0-rmse:898.77264\tvalidation_1-rmse:1174.47792\n",
            "[51]\tvalidation_0-rmse:929.50036\tvalidation_1-rmse:1229.46491\n",
            "[53]\tvalidation_0-rmse:912.16199\tvalidation_1-rmse:1192.06729\n",
            "[52]\tvalidation_0-rmse:915.55708\tvalidation_1-rmse:1196.55341\n",
            "[51]\tvalidation_0-rmse:929.50036\tvalidation_1-rmse:1229.46491\n",
            "[55]\tvalidation_0-rmse:905.33074\tvalidation_1-rmse:1183.78874\n",
            "[53]\tvalidation_0-rmse:923.45783\tvalidation_1-rmse:1221.56964\n",
            "[52]\tvalidation_0-rmse:926.69502\tvalidation_1-rmse:1225.83610\n",
            "[52]\tvalidation_0-rmse:926.29136\tvalidation_1-rmse:1225.29046\n",
            "[55]\tvalidation_0-rmse:917.07744\tvalidation_1-rmse:1213.15072\n",
            "[58]\tvalidation_0-rmse:895.43529\tvalidation_1-rmse:1170.20145\n",
            "[53]\tvalidation_0-rmse:912.05153\tvalidation_1-rmse:1192.43211[56]\tvalidation_0-rmse:901.99016\tvalidation_1-rmse:1179.48377\n",
            "\n",
            "[54]\tvalidation_0-rmse:908.79225\tvalidation_1-rmse:1187.67414\n",
            "[53]\tvalidation_0-rmse:912.19678\tvalidation_1-rmse:1192.22695\n",
            "[52]\tvalidation_0-rmse:926.29136\tvalidation_1-rmse:1225.29046\n",
            "[54]\tvalidation_0-rmse:920.24141\tvalidation_1-rmse:1217.30837\n",
            "[53]\tvalidation_0-rmse:923.45783\tvalidation_1-rmse:1221.56964\n",
            "[59]\tvalidation_0-rmse:892.19100\tvalidation_1-rmse:1166.04174\n",
            "[56]\tvalidation_0-rmse:913.97216\tvalidation_1-rmse:1209.00962\n",
            "[53]\tvalidation_0-rmse:923.05446\tvalidation_1-rmse:1221.05758\n",
            "[54]\tvalidation_0-rmse:908.67379\tvalidation_1-rmse:1188.02423\n",
            "[55]\tvalidation_0-rmse:905.40055\tvalidation_1-rmse:1183.35270\n",
            "[53]\tvalidation_0-rmse:923.05446\tvalidation_1-rmse:1221.05758\n",
            "[57]\tvalidation_0-rmse:898.66103\tvalidation_1-rmse:1175.20301\n",
            "[54]\tvalidation_0-rmse:908.82675\tvalidation_1-rmse:1187.83295\n",
            "[55]\tvalidation_0-rmse:917.06446\tvalidation_1-rmse:1213.18881\n",
            "[54]\tvalidation_0-rmse:920.24141\tvalidation_1-rmse:1217.30837\n",
            "[54]\tvalidation_0-rmse:919.84173\tvalidation_1-rmse:1216.80490\n",
            "[60]\tvalidation_0-rmse:888.93752\tvalidation_1-rmse:1161.88117\n",
            "[57]\tvalidation_0-rmse:910.80342\tvalidation_1-rmse:1204.82392\n",
            "[55]\tvalidation_0-rmse:905.33074\tvalidation_1-rmse:1183.78874\n",
            "[56]\tvalidation_0-rmse:902.08685\tvalidation_1-rmse:1178.87303\n",
            "[55]\tvalidation_0-rmse:905.43520\tvalidation_1-rmse:1183.51138\n",
            "[54]\tvalidation_0-rmse:919.84173\tvalidation_1-rmse:1216.80490\n",
            "[58]\tvalidation_0-rmse:895.36535\tvalidation_1-rmse:1170.89254\n",
            "[56]\tvalidation_0-rmse:913.95190\tvalidation_1-rmse:1209.03114\n",
            "[55]\tvalidation_0-rmse:917.06446\tvalidation_1-rmse:1213.18881\n",
            "[55]\tvalidation_0-rmse:916.65865\tvalidation_1-rmse:1212.60302\n",
            "[61]\tvalidation_0-rmse:885.67705\tvalidation_1-rmse:1157.64735\n",
            "[58]\tvalidation_0-rmse:907.65546\tvalidation_1-rmse:1200.69994\n",
            "[56]\tvalidation_0-rmse:901.99016\tvalidation_1-rmse:1179.48377\n",
            "[57]\tvalidation_0-rmse:898.77264\tvalidation_1-rmse:1174.47792\n",
            "[56]\tvalidation_0-rmse:902.12068\tvalidation_1-rmse:1179.03605\n",
            "[55]\tvalidation_0-rmse:916.65865\tvalidation_1-rmse:1212.60302\n",
            "[59]\tvalidation_0-rmse:892.09433\tvalidation_1-rmse:1166.68782\n",
            "[56]\tvalidation_0-rmse:913.50865\tvalidation_1-rmse:1208.49044\n",
            "[57]\tvalidation_0-rmse:910.78338\tvalidation_1-rmse:1204.84571\n",
            "[56]\tvalidation_0-rmse:913.95190\tvalidation_1-rmse:1209.03114\n",
            "[59]\tvalidation_0-rmse:904.55268\tvalidation_1-rmse:1196.58991\n",
            "[62]\tvalidation_0-rmse:882.42043\tvalidation_1-rmse:1153.27028\n",
            "[58]\tvalidation_0-rmse:895.43529\tvalidation_1-rmse:1170.20145\n",
            "[57]\tvalidation_0-rmse:898.66103\tvalidation_1-rmse:1175.20301\n",
            "[56]\tvalidation_0-rmse:913.50865\tvalidation_1-rmse:1208.49044\n",
            "[60]\tvalidation_0-rmse:888.84038\tvalidation_1-rmse:1162.57964\n",
            "[57]\tvalidation_0-rmse:898.80625\tvalidation_1-rmse:1174.64018\n",
            "[60]\tvalidation_0-rmse:901.45788\tvalidation_1-rmse:1192.55037\n",
            "[57]\tvalidation_0-rmse:910.35791\tvalidation_1-rmse:1204.35658\n",
            "[63]\tvalidation_0-rmse:879.23240\tvalidation_1-rmse:1149.16486\n",
            "[57]\tvalidation_0-rmse:910.78338\tvalidation_1-rmse:1204.84571\n",
            "[58]\tvalidation_0-rmse:907.63505\tvalidation_1-rmse:1200.72129\n",
            "[58]\tvalidation_0-rmse:895.36535\tvalidation_1-rmse:1170.89254\n",
            "[59]\tvalidation_0-rmse:892.19100\tvalidation_1-rmse:1166.04174\n",
            "[57]\tvalidation_0-rmse:910.35791\tvalidation_1-rmse:1204.35658\n",
            "[61]\tvalidation_0-rmse:885.61270\tvalidation_1-rmse:1158.35940\n",
            "[58]\tvalidation_0-rmse:895.46862\tvalidation_1-rmse:1170.36279\n",
            "[58]\tvalidation_0-rmse:907.22654\tvalidation_1-rmse:1200.25778\n",
            "[61]\tvalidation_0-rmse:898.38275\tvalidation_1-rmse:1188.49624\n",
            "[58]\tvalidation_0-rmse:907.63505\tvalidation_1-rmse:1200.72129\n",
            "[64]\tvalidation_0-rmse:876.10681\tvalidation_1-rmse:1145.18024\n",
            "[59]\tvalidation_0-rmse:904.53366\tvalidation_1-rmse:1196.61921\n",
            "[60]\tvalidation_0-rmse:888.93752\tvalidation_1-rmse:1161.88117\n",
            "[59]\tvalidation_0-rmse:892.09433\tvalidation_1-rmse:1166.68782\n",
            "[59]\tvalidation_0-rmse:892.22411\tvalidation_1-rmse:1166.20233\n",
            "[62]\tvalidation_0-rmse:882.39185\tvalidation_1-rmse:1154.20731\n",
            "[58]\tvalidation_0-rmse:907.22654\tvalidation_1-rmse:1200.25778\n",
            "[65]\tvalidation_0-rmse:872.97288\tvalidation_1-rmse:1141.00137\n",
            "[60]\tvalidation_0-rmse:901.43885\tvalidation_1-rmse:1192.57939\n",
            "[62]\tvalidation_0-rmse:895.36136\tvalidation_1-rmse:1184.53576\n",
            "[59]\tvalidation_0-rmse:904.15251\tvalidation_1-rmse:1196.24335\n",
            "[59]\tvalidation_0-rmse:904.53366\tvalidation_1-rmse:1196.61921\n",
            "[60]\tvalidation_0-rmse:888.84038\tvalidation_1-rmse:1162.57964\n",
            "[61]\tvalidation_0-rmse:885.67705\tvalidation_1-rmse:1157.64735\n",
            "[63]\tvalidation_0-rmse:879.18856\tvalidation_1-rmse:1150.07341\n",
            "[60]\tvalidation_0-rmse:888.97350\tvalidation_1-rmse:1162.03712\n",
            "[59]\tvalidation_0-rmse:904.15251\tvalidation_1-rmse:1196.24335\n",
            "[66]\tvalidation_0-rmse:869.82135\tvalidation_1-rmse:1136.98730\n",
            "[60]\tvalidation_0-rmse:901.06384\tvalidation_1-rmse:1192.19600\n",
            "[63]\tvalidation_0-rmse:892.28350\tvalidation_1-rmse:1180.45290\n",
            "[61]\tvalidation_0-rmse:898.36356\tvalidation_1-rmse:1188.52511\n",
            "[61]\tvalidation_0-rmse:885.61270\tvalidation_1-rmse:1158.35940\n",
            "[60]\tvalidation_0-rmse:901.43885\tvalidation_1-rmse:1192.57939\n",
            "[62]\tvalidation_0-rmse:882.42043\tvalidation_1-rmse:1153.27028\n",
            "[60]\tvalidation_0-rmse:901.06384\tvalidation_1-rmse:1192.19600\n",
            "[67]\tvalidation_0-rmse:866.68433\tvalidation_1-rmse:1132.94849\n",
            "[64]\tvalidation_0-rmse:876.05908\tvalidation_1-rmse:1146.01747\n",
            "[61]\tvalidation_0-rmse:897.98655\tvalidation_1-rmse:1188.13857\n",
            "[61]\tvalidation_0-rmse:885.71276\tvalidation_1-rmse:1157.80253\n",
            "[62]\tvalidation_0-rmse:895.34215\tvalidation_1-rmse:1184.56447\n",
            "[64]\tvalidation_0-rmse:889.29100\tvalidation_1-rmse:1176.54031\n",
            "[61]\tvalidation_0-rmse:897.98655\tvalidation_1-rmse:1188.13857\n",
            "[62]\tvalidation_0-rmse:882.39185\tvalidation_1-rmse:1154.20731\n",
            "[61]\tvalidation_0-rmse:898.36356\tvalidation_1-rmse:1188.52511\n",
            "[68]\tvalidation_0-rmse:863.57945\tvalidation_1-rmse:1128.88777\n",
            "[63]\tvalidation_0-rmse:879.23240\tvalidation_1-rmse:1149.16486\n",
            "[62]\tvalidation_0-rmse:894.93426\tvalidation_1-rmse:1184.12426\n",
            "[65]\tvalidation_0-rmse:872.90210\tvalidation_1-rmse:1141.87896\n",
            "[62]\tvalidation_0-rmse:882.45606\tvalidation_1-rmse:1153.42483\n",
            "[65]\tvalidation_0-rmse:886.30277\tvalidation_1-rmse:1172.59653\n",
            "[63]\tvalidation_0-rmse:892.26186\tvalidation_1-rmse:1180.48588\n",
            "[63]\tvalidation_0-rmse:879.18856\tvalidation_1-rmse:1150.07341\n",
            "[62]\tvalidation_0-rmse:894.93426\tvalidation_1-rmse:1184.12426\n",
            "[62]\tvalidation_0-rmse:895.34215\tvalidation_1-rmse:1184.56447\n",
            "[63]\tvalidation_0-rmse:891.89384\tvalidation_1-rmse:1180.12365\n",
            "[64]\tvalidation_0-rmse:876.10681\tvalidation_1-rmse:1145.18024\n",
            "[69]\tvalidation_0-rmse:860.48223\tvalidation_1-rmse:1124.85708\n",
            "[66]\tvalidation_0-rmse:869.76677\tvalidation_1-rmse:1137.78368\n",
            "[63]\tvalidation_0-rmse:879.26795\tvalidation_1-rmse:1149.31893\n",
            "[66]\tvalidation_0-rmse:883.32724\tvalidation_1-rmse:1168.69767\n",
            "[64]\tvalidation_0-rmse:876.05908\tvalidation_1-rmse:1146.01747\n",
            "[64]\tvalidation_0-rmse:889.26346\tvalidation_1-rmse:1176.56592\n",
            "[63]\tvalidation_0-rmse:891.89384\tvalidation_1-rmse:1180.12365\n",
            "[63]\tvalidation_0-rmse:892.26186\tvalidation_1-rmse:1180.48588\n",
            "[70]\tvalidation_0-rmse:857.43176\tvalidation_1-rmse:1120.90174\n",
            "[65]\tvalidation_0-rmse:872.97288\tvalidation_1-rmse:1141.00137\n",
            "[67]\tvalidation_0-rmse:880.31464\tvalidation_1-rmse:1164.78186\n",
            "[64]\tvalidation_0-rmse:876.14228\tvalidation_1-rmse:1145.33382\n",
            "[67]\tvalidation_0-rmse:866.64300\tvalidation_1-rmse:1133.75436\n",
            "[64]\tvalidation_0-rmse:888.89793\tvalidation_1-rmse:1176.25359\n",
            "[65]\tvalidation_0-rmse:886.27191\tvalidation_1-rmse:1172.61281\n",
            "[64]\tvalidation_0-rmse:888.89793\tvalidation_1-rmse:1176.25359\n",
            "[65]\tvalidation_0-rmse:872.90210\tvalidation_1-rmse:1141.87896\n",
            "[66]\tvalidation_0-rmse:869.82135\tvalidation_1-rmse:1136.98730\n",
            "[71]\tvalidation_0-rmse:854.44246\tvalidation_1-rmse:1117.06998\n",
            "[65]\tvalidation_0-rmse:873.00807\tvalidation_1-rmse:1141.15416\n",
            "[68]\tvalidation_0-rmse:863.54488\tvalidation_1-rmse:1129.76518\n",
            "[64]\tvalidation_0-rmse:889.26346\tvalidation_1-rmse:1176.56592\n",
            "[68]\tvalidation_0-rmse:877.34946\tvalidation_1-rmse:1160.91824\n",
            "[66]\tvalidation_0-rmse:883.29883\tvalidation_1-rmse:1168.71440\n",
            "[65]\tvalidation_0-rmse:885.92406\tvalidation_1-rmse:1172.38040\n",
            "[66]\tvalidation_0-rmse:869.76677\tvalidation_1-rmse:1137.78368\n",
            "[72]\tvalidation_0-rmse:851.38520\tvalidation_1-rmse:1113.11223\n",
            "[65]\tvalidation_0-rmse:885.92406\tvalidation_1-rmse:1172.38040\n",
            "[69]\tvalidation_0-rmse:860.51204\tvalidation_1-rmse:1125.83485\n",
            "[67]\tvalidation_0-rmse:866.68433\tvalidation_1-rmse:1132.94849\n",
            "[69]\tvalidation_0-rmse:874.46485\tvalidation_1-rmse:1157.16939\n",
            "[65]\tvalidation_0-rmse:886.27191\tvalidation_1-rmse:1172.61281\n",
            "[66]\tvalidation_0-rmse:882.98253\tvalidation_1-rmse:1168.53690\n",
            "[66]\tvalidation_0-rmse:869.85636\tvalidation_1-rmse:1137.13929\n",
            "[67]\tvalidation_0-rmse:880.28612\tvalidation_1-rmse:1164.79814\n",
            "[68]\tvalidation_0-rmse:863.57945\tvalidation_1-rmse:1128.88777\n",
            "[73]\tvalidation_0-rmse:848.43592\tvalidation_1-rmse:1109.36644\n",
            "[67]\tvalidation_0-rmse:866.64300\tvalidation_1-rmse:1133.75436\n",
            "[67]\tvalidation_0-rmse:866.71909\tvalidation_1-rmse:1133.09971\n",
            "[70]\tvalidation_0-rmse:857.45167\tvalidation_1-rmse:1121.89224\n",
            "[70]\tvalidation_0-rmse:871.60807\tvalidation_1-rmse:1153.46344\n",
            "[66]\tvalidation_0-rmse:882.98253\tvalidation_1-rmse:1168.53690\n",
            "[66]\tvalidation_0-rmse:883.29883\tvalidation_1-rmse:1168.71440\n",
            "[68]\tvalidation_0-rmse:877.32059\tvalidation_1-rmse:1160.93392\n",
            "[67]\tvalidation_0-rmse:880.02330\tvalidation_1-rmse:1164.62885\n",
            "[68]\tvalidation_0-rmse:863.61395\tvalidation_1-rmse:1129.03803\n",
            "[68]\tvalidation_0-rmse:863.54488\tvalidation_1-rmse:1129.76518\n",
            "[74]\tvalidation_0-rmse:845.46647\tvalidation_1-rmse:1105.43239\n",
            "[67]\tvalidation_0-rmse:880.28612\tvalidation_1-rmse:1164.79814\n",
            "[71]\tvalidation_0-rmse:854.45788\tvalidation_1-rmse:1118.01256\n",
            "[69]\tvalidation_0-rmse:860.48223\tvalidation_1-rmse:1124.85708\n",
            "[67]\tvalidation_0-rmse:880.02330\tvalidation_1-rmse:1164.62885\n",
            "[71]\tvalidation_0-rmse:868.74490\tvalidation_1-rmse:1149.70512\n",
            "[69]\tvalidation_0-rmse:874.43563\tvalidation_1-rmse:1157.18466\n",
            "[68]\tvalidation_0-rmse:877.06867\tvalidation_1-rmse:1160.75619\n",
            "[68]\tvalidation_0-rmse:877.06867\tvalidation_1-rmse:1160.75619\n",
            "[68]\tvalidation_0-rmse:877.32059\tvalidation_1-rmse:1160.93392\n",
            "[75]\tvalidation_0-rmse:842.48987\tvalidation_1-rmse:1101.42075\n",
            "[69]\tvalidation_0-rmse:860.51204\tvalidation_1-rmse:1125.83485\n",
            "[69]\tvalidation_0-rmse:860.51656\tvalidation_1-rmse:1125.00674\n",
            "[72]\tvalidation_0-rmse:865.80532\tvalidation_1-rmse:1145.87054\n",
            "[72]\tvalidation_0-rmse:851.42954\tvalidation_1-rmse:1114.11087\n",
            "[70]\tvalidation_0-rmse:857.43176\tvalidation_1-rmse:1120.90174\n",
            "[70]\tvalidation_0-rmse:871.60597\tvalidation_1-rmse:1153.43923\n",
            "[69]\tvalidation_0-rmse:874.14794\tvalidation_1-rmse:1156.94042\n",
            "[76]\tvalidation_0-rmse:839.68589\tvalidation_1-rmse:1097.70821\n",
            "[69]\tvalidation_0-rmse:874.14794\tvalidation_1-rmse:1156.94042\n",
            "[69]\tvalidation_0-rmse:874.43563\tvalidation_1-rmse:1157.18466\n",
            "[70]\tvalidation_0-rmse:857.45167\tvalidation_1-rmse:1121.89224\n",
            "[70]\tvalidation_0-rmse:857.46719\tvalidation_1-rmse:1121.05559\n",
            "[73]\tvalidation_0-rmse:862.92270\tvalidation_1-rmse:1142.15845\n",
            "[71]\tvalidation_0-rmse:854.44246\tvalidation_1-rmse:1117.06998\n",
            "[73]\tvalidation_0-rmse:848.43226\tvalidation_1-rmse:1110.18957\n",
            "[71]\tvalidation_0-rmse:868.74222\tvalidation_1-rmse:1149.68018\n",
            "[70]\tvalidation_0-rmse:871.24965\tvalidation_1-rmse:1153.19491\n",
            "[70]\tvalidation_0-rmse:871.24965\tvalidation_1-rmse:1153.19491\n",
            "[74]\tvalidation_0-rmse:860.06245\tvalidation_1-rmse:1138.37910\n",
            "[77]\tvalidation_0-rmse:836.72771\tvalidation_1-rmse:1093.91833\n",
            "[71]\tvalidation_0-rmse:854.47781\tvalidation_1-rmse:1117.22328\n",
            "[74]\tvalidation_0-rmse:845.46971\tvalidation_1-rmse:1106.19796\n",
            "[70]\tvalidation_0-rmse:871.60597\tvalidation_1-rmse:1153.43923\n",
            "[72]\tvalidation_0-rmse:851.38520\tvalidation_1-rmse:1113.11223\n",
            "[71]\tvalidation_0-rmse:854.45788\tvalidation_1-rmse:1118.01256\n",
            "[71]\tvalidation_0-rmse:868.36270\tvalidation_1-rmse:1149.39375\n",
            "[72]\tvalidation_0-rmse:865.80056\tvalidation_1-rmse:1145.82159\n",
            "[78]\tvalidation_0-rmse:833.77012\tvalidation_1-rmse:1090.08237\n",
            "[71]\tvalidation_0-rmse:868.36270\tvalidation_1-rmse:1149.39375\n",
            "[71]\tvalidation_0-rmse:868.74222\tvalidation_1-rmse:1149.68018\n",
            "[75]\tvalidation_0-rmse:857.30416\tvalidation_1-rmse:1134.65894\n",
            "[75]\tvalidation_0-rmse:842.51079\tvalidation_1-rmse:1102.26757\n",
            "[72]\tvalidation_0-rmse:851.42040\tvalidation_1-rmse:1113.26488\n",
            "[73]\tvalidation_0-rmse:848.43592\tvalidation_1-rmse:1109.36644\n",
            "[72]\tvalidation_0-rmse:851.42954\tvalidation_1-rmse:1114.11087\n",
            "[72]\tvalidation_0-rmse:865.48156\tvalidation_1-rmse:1145.61515\n",
            "[79]\tvalidation_0-rmse:830.89698\tvalidation_1-rmse:1086.40936\n",
            "[72]\tvalidation_0-rmse:865.48156\tvalidation_1-rmse:1145.61515\n",
            "[76]\tvalidation_0-rmse:854.58530\tvalidation_1-rmse:1131.02366\n",
            "[73]\tvalidation_0-rmse:862.91800\tvalidation_1-rmse:1142.10938\n",
            "[73]\tvalidation_0-rmse:848.43226\tvalidation_1-rmse:1110.18957\n",
            "[74]\tvalidation_0-rmse:845.46647\tvalidation_1-rmse:1105.43239\n",
            "[76]\tvalidation_0-rmse:839.65106\tvalidation_1-rmse:1098.61371\n",
            "[72]\tvalidation_0-rmse:865.80056\tvalidation_1-rmse:1145.82159\n",
            "[73]\tvalidation_0-rmse:848.47097\tvalidation_1-rmse:1109.51847\n",
            "[77]\tvalidation_0-rmse:851.82560\tvalidation_1-rmse:1127.36545\n",
            "[73]\tvalidation_0-rmse:862.63758\tvalidation_1-rmse:1141.91376\n",
            "[80]\tvalidation_0-rmse:828.04489\tvalidation_1-rmse:1082.78202\n",
            "[73]\tvalidation_0-rmse:862.63758\tvalidation_1-rmse:1141.91376\n",
            "[74]\tvalidation_0-rmse:860.05401\tvalidation_1-rmse:1138.33409\n",
            "[77]\tvalidation_0-rmse:836.72842\tvalidation_1-rmse:1094.84858\n",
            "[73]\tvalidation_0-rmse:862.91800\tvalidation_1-rmse:1142.10938\n",
            "[74]\tvalidation_0-rmse:845.46971\tvalidation_1-rmse:1106.19796\n",
            "[75]\tvalidation_0-rmse:842.48987\tvalidation_1-rmse:1101.42075\n",
            "[74]\tvalidation_0-rmse:845.50124\tvalidation_1-rmse:1105.58360\n",
            "[78]\tvalidation_0-rmse:848.98066\tvalidation_1-rmse:1123.63479\n",
            "[81]\tvalidation_0-rmse:825.20812\tvalidation_1-rmse:1079.11574\n",
            "[75]\tvalidation_0-rmse:857.28952\tvalidation_1-rmse:1134.62643\n",
            "[74]\tvalidation_0-rmse:859.82659\tvalidation_1-rmse:1138.24672\n",
            "[78]\tvalidation_0-rmse:833.82464\tvalidation_1-rmse:1091.11119\n",
            "[74]\tvalidation_0-rmse:859.82659\tvalidation_1-rmse:1138.24672\n",
            "[75]\tvalidation_0-rmse:842.52452\tvalidation_1-rmse:1101.57136\n",
            "[76]\tvalidation_0-rmse:839.68589\tvalidation_1-rmse:1097.70821\n",
            "[74]\tvalidation_0-rmse:860.05401\tvalidation_1-rmse:1138.33409\n",
            "[75]\tvalidation_0-rmse:842.51079\tvalidation_1-rmse:1102.26757\n",
            "[79]\tvalidation_0-rmse:846.25075\tvalidation_1-rmse:1119.96926\n",
            "[76]\tvalidation_0-rmse:854.57084\tvalidation_1-rmse:1130.99145\n",
            "[79]\tvalidation_0-rmse:830.92458\tvalidation_1-rmse:1087.39057\n",
            "[75]\tvalidation_0-rmse:857.02178\tvalidation_1-rmse:1134.59300\n",
            "[82]\tvalidation_0-rmse:822.41188\tvalidation_1-rmse:1075.43697\n",
            "[75]\tvalidation_0-rmse:857.02178\tvalidation_1-rmse:1134.59300\n",
            "[75]\tvalidation_0-rmse:857.28952\tvalidation_1-rmse:1134.62643\n",
            "[76]\tvalidation_0-rmse:839.72025\tvalidation_1-rmse:1097.85793\n",
            "[80]\tvalidation_0-rmse:843.55094\tvalidation_1-rmse:1116.46188\n",
            "[76]\tvalidation_0-rmse:839.65106\tvalidation_1-rmse:1098.61371\n",
            "[76]\tvalidation_0-rmse:854.28998\tvalidation_1-rmse:1130.99165\n",
            "[77]\tvalidation_0-rmse:836.72771\tvalidation_1-rmse:1093.91833\n",
            "[80]\tvalidation_0-rmse:828.05640\tvalidation_1-rmse:1083.70997\n",
            "[77]\tvalidation_0-rmse:851.81105\tvalidation_1-rmse:1127.33297\n",
            "[76]\tvalidation_0-rmse:854.28998\tvalidation_1-rmse:1130.99165\n",
            "[81]\tvalidation_0-rmse:840.83723\tvalidation_1-rmse:1112.98411\n",
            "[83]\tvalidation_0-rmse:819.55648\tvalidation_1-rmse:1071.78034\n",
            "[77]\tvalidation_0-rmse:836.72842\tvalidation_1-rmse:1094.84858\n",
            "[76]\tvalidation_0-rmse:854.57084\tvalidation_1-rmse:1130.99145\n",
            "[77]\tvalidation_0-rmse:836.76202\tvalidation_1-rmse:1094.06746\n",
            "[77]\tvalidation_0-rmse:851.49463\tvalidation_1-rmse:1127.32437\n",
            "[78]\tvalidation_0-rmse:833.77012\tvalidation_1-rmse:1090.08237\n",
            "[78]\tvalidation_0-rmse:848.96588\tvalidation_1-rmse:1123.60170\n",
            "[81]\tvalidation_0-rmse:825.20800\tvalidation_1-rmse:1080.03648\n",
            "[77]\tvalidation_0-rmse:851.49463\tvalidation_1-rmse:1127.32437\n",
            "[84]\tvalidation_0-rmse:816.77259\tvalidation_1-rmse:1068.11234\n",
            "[82]\tvalidation_0-rmse:838.18856\tvalidation_1-rmse:1109.51285\n",
            "[78]\tvalidation_0-rmse:833.82464\tvalidation_1-rmse:1091.11119\n",
            "[78]\tvalidation_0-rmse:848.72913\tvalidation_1-rmse:1123.66920\n",
            "[77]\tvalidation_0-rmse:851.81105\tvalidation_1-rmse:1127.33297\n",
            "[79]\tvalidation_0-rmse:830.89698\tvalidation_1-rmse:1086.40936\n",
            "[78]\tvalidation_0-rmse:833.80417\tvalidation_1-rmse:1090.23066\n",
            "[79]\tvalidation_0-rmse:846.23341\tvalidation_1-rmse:1119.92643\n",
            "[82]\tvalidation_0-rmse:822.38027\tvalidation_1-rmse:1076.29405\n",
            "[83]\tvalidation_0-rmse:835.45870\tvalidation_1-rmse:1105.88282\n",
            "[85]\tvalidation_0-rmse:814.00320\tvalidation_1-rmse:1064.48358\n",
            "[78]\tvalidation_0-rmse:848.72913\tvalidation_1-rmse:1123.66920\n",
            "[79]\tvalidation_0-rmse:830.92458\tvalidation_1-rmse:1087.39057\n",
            "[79]\tvalidation_0-rmse:830.93074\tvalidation_1-rmse:1086.55693\n",
            "[78]\tvalidation_0-rmse:848.96588\tvalidation_1-rmse:1123.60170\n",
            "[79]\tvalidation_0-rmse:845.96898\tvalidation_1-rmse:1120.04782\n",
            "[80]\tvalidation_0-rmse:843.53033\tvalidation_1-rmse:1116.40902\n",
            "[86]\tvalidation_0-rmse:811.18606\tvalidation_1-rmse:1060.84999\n",
            "[84]\tvalidation_0-rmse:832.75392\tvalidation_1-rmse:1102.35323\n",
            "[80]\tvalidation_0-rmse:828.04489\tvalidation_1-rmse:1082.78202\n",
            "[83]\tvalidation_0-rmse:819.55477\tvalidation_1-rmse:1072.63439\n",
            "[80]\tvalidation_0-rmse:828.05640\tvalidation_1-rmse:1083.70997\n",
            "[79]\tvalidation_0-rmse:845.96898\tvalidation_1-rmse:1120.04782\n",
            "[80]\tvalidation_0-rmse:828.07521\tvalidation_1-rmse:1082.91402\n",
            "[79]\tvalidation_0-rmse:846.23341\tvalidation_1-rmse:1119.92643\n",
            "[80]\tvalidation_0-rmse:843.22678\tvalidation_1-rmse:1116.44988\n",
            "[84]\tvalidation_0-rmse:816.75469\tvalidation_1-rmse:1069.05900\n",
            "[81]\tvalidation_0-rmse:840.81667\tvalidation_1-rmse:1112.93130\n",
            "[87]\tvalidation_0-rmse:808.45442\tvalidation_1-rmse:1057.33206\n",
            "[85]\tvalidation_0-rmse:830.07345\tvalidation_1-rmse:1098.84990\n",
            "[81]\tvalidation_0-rmse:825.20812\tvalidation_1-rmse:1079.11574\n",
            "[81]\tvalidation_0-rmse:825.23817\tvalidation_1-rmse:1079.24688\n",
            "[81]\tvalidation_0-rmse:825.20800\tvalidation_1-rmse:1080.03648\n",
            "[80]\tvalidation_0-rmse:843.22678\tvalidation_1-rmse:1116.44988\n",
            "[80]\tvalidation_0-rmse:843.53033\tvalidation_1-rmse:1116.40902\n",
            "[85]\tvalidation_0-rmse:813.96322\tvalidation_1-rmse:1065.48740\n",
            "[82]\tvalidation_0-rmse:838.16760\tvalidation_1-rmse:1109.45943\n",
            "[81]\tvalidation_0-rmse:840.50930\tvalidation_1-rmse:1112.91179\n",
            "[82]\tvalidation_0-rmse:822.41188\tvalidation_1-rmse:1075.43697\n",
            "[86]\tvalidation_0-rmse:827.37921\tvalidation_1-rmse:1095.30635\n",
            "[88]\tvalidation_0-rmse:805.71503\tvalidation_1-rmse:1053.84555\n",
            "[82]\tvalidation_0-rmse:822.38027\tvalidation_1-rmse:1076.29405\n",
            "[82]\tvalidation_0-rmse:822.44184\tvalidation_1-rmse:1075.56767\n",
            "[81]\tvalidation_0-rmse:840.50930\tvalidation_1-rmse:1112.91179\n",
            "[81]\tvalidation_0-rmse:840.81667\tvalidation_1-rmse:1112.93130\n",
            "[82]\tvalidation_0-rmse:837.84691\tvalidation_1-rmse:1109.39410\n",
            "[87]\tvalidation_0-rmse:824.69951\tvalidation_1-rmse:1091.78840\n",
            "[86]\tvalidation_0-rmse:811.17946\tvalidation_1-rmse:1061.78703\n",
            "[83]\tvalidation_0-rmse:819.55648\tvalidation_1-rmse:1071.78034\n",
            "[83]\tvalidation_0-rmse:835.43720\tvalidation_1-rmse:1105.82860\n",
            "[89]\tvalidation_0-rmse:803.02384\tvalidation_1-rmse:1050.37493\n",
            "[83]\tvalidation_0-rmse:819.55477\tvalidation_1-rmse:1072.63439\n",
            "[83]\tvalidation_0-rmse:819.58627\tvalidation_1-rmse:1071.91041\n",
            "[82]\tvalidation_0-rmse:838.16760\tvalidation_1-rmse:1109.45943\n",
            "[82]\tvalidation_0-rmse:837.84691\tvalidation_1-rmse:1109.39410\n",
            "[83]\tvalidation_0-rmse:835.15257\tvalidation_1-rmse:1105.86364\n",
            "[88]\tvalidation_0-rmse:822.06729\tvalidation_1-rmse:1088.42729\n",
            "[84]\tvalidation_0-rmse:816.77259\tvalidation_1-rmse:1068.11234\n",
            "[87]\tvalidation_0-rmse:808.43574\tvalidation_1-rmse:1058.27614\n",
            "[84]\tvalidation_0-rmse:832.73229\tvalidation_1-rmse:1102.29891\n",
            "[84]\tvalidation_0-rmse:816.75469\tvalidation_1-rmse:1069.05900\n",
            "[90]\tvalidation_0-rmse:800.35522\tvalidation_1-rmse:1046.94854\n",
            "[84]\tvalidation_0-rmse:816.80210\tvalidation_1-rmse:1068.24151\n",
            "[83]\tvalidation_0-rmse:835.15257\tvalidation_1-rmse:1105.86364\n",
            "[83]\tvalidation_0-rmse:835.43720\tvalidation_1-rmse:1105.82860\n",
            "[85]\tvalidation_0-rmse:814.00320\tvalidation_1-rmse:1064.48358\n",
            "[89]\tvalidation_0-rmse:819.50894\tvalidation_1-rmse:1085.10217\n",
            "[88]\tvalidation_0-rmse:805.70071\tvalidation_1-rmse:1054.76131\n",
            "[84]\tvalidation_0-rmse:832.48966\tvalidation_1-rmse:1102.34170\n",
            "[85]\tvalidation_0-rmse:830.06980\tvalidation_1-rmse:1098.83457\n",
            "[91]\tvalidation_0-rmse:797.65453\tvalidation_1-rmse:1043.33588\n",
            "[85]\tvalidation_0-rmse:813.96322\tvalidation_1-rmse:1065.48740\n",
            "[85]\tvalidation_0-rmse:814.03254\tvalidation_1-rmse:1064.61204\n",
            "[84]\tvalidation_0-rmse:832.48966\tvalidation_1-rmse:1102.34170\n",
            "[84]\tvalidation_0-rmse:832.73229\tvalidation_1-rmse:1102.29891\n",
            "[86]\tvalidation_0-rmse:811.18606\tvalidation_1-rmse:1060.84999\n",
            "[90]\tvalidation_0-rmse:816.87789\tvalidation_1-rmse:1081.61571\n",
            "[89]\tvalidation_0-rmse:803.02235\tvalidation_1-rmse:1051.34352\n",
            "[85]\tvalidation_0-rmse:829.83811\tvalidation_1-rmse:1098.88380\n",
            "[86]\tvalidation_0-rmse:827.37542\tvalidation_1-rmse:1095.29084\n",
            "[92]\tvalidation_0-rmse:795.01259\tvalidation_1-rmse:1039.85239\n",
            "[85]\tvalidation_0-rmse:829.83811\tvalidation_1-rmse:1098.88380\n",
            "[86]\tvalidation_0-rmse:811.17946\tvalidation_1-rmse:1061.78703\n",
            "[85]\tvalidation_0-rmse:830.06980\tvalidation_1-rmse:1098.83457\n",
            "[86]\tvalidation_0-rmse:811.21546\tvalidation_1-rmse:1060.97823\n",
            "[91]\tvalidation_0-rmse:814.25205\tvalidation_1-rmse:1078.15871\n",
            "[87]\tvalidation_0-rmse:808.45442\tvalidation_1-rmse:1057.33206\n",
            "[90]\tvalidation_0-rmse:800.31925\tvalidation_1-rmse:1047.74624\n",
            "[86]\tvalidation_0-rmse:827.19727\tvalidation_1-rmse:1095.46535\n",
            "[87]\tvalidation_0-rmse:808.43574\tvalidation_1-rmse:1058.27614\n",
            "[87]\tvalidation_0-rmse:824.69563\tvalidation_1-rmse:1091.77278\n",
            "[93]\tvalidation_0-rmse:792.37164\tvalidation_1-rmse:1036.44859\n",
            "[86]\tvalidation_0-rmse:827.19727\tvalidation_1-rmse:1095.46535\n",
            "[87]\tvalidation_0-rmse:808.48364\tvalidation_1-rmse:1057.45966\n",
            "[86]\tvalidation_0-rmse:827.37542\tvalidation_1-rmse:1095.29084\n",
            "[92]\tvalidation_0-rmse:811.63720\tvalidation_1-rmse:1074.67569\n",
            "[88]\tvalidation_0-rmse:805.71503\tvalidation_1-rmse:1053.84555\n",
            "[91]\tvalidation_0-rmse:797.64617\tvalidation_1-rmse:1044.33309\n",
            "[87]\tvalidation_0-rmse:824.58083\tvalidation_1-rmse:1092.02859\n",
            "[94]\tvalidation_0-rmse:789.71496\tvalidation_1-rmse:1033.06608\n",
            "[88]\tvalidation_0-rmse:805.70071\tvalidation_1-rmse:1054.76131\n",
            "[88]\tvalidation_0-rmse:805.74277\tvalidation_1-rmse:1053.96927\n",
            "[88]\tvalidation_0-rmse:822.06690\tvalidation_1-rmse:1088.41799\n",
            "[87]\tvalidation_0-rmse:824.69563\tvalidation_1-rmse:1091.77278\n",
            "[87]\tvalidation_0-rmse:824.58083\tvalidation_1-rmse:1092.02859\n",
            "[93]\tvalidation_0-rmse:809.11991\tvalidation_1-rmse:1071.41248\n",
            "[89]\tvalidation_0-rmse:803.02384\tvalidation_1-rmse:1050.37493\n",
            "[92]\tvalidation_0-rmse:794.97795\tvalidation_1-rmse:1040.78367\n",
            "[88]\tvalidation_0-rmse:821.98554\tvalidation_1-rmse:1088.64816\n",
            "[95]\tvalidation_0-rmse:787.07872\tvalidation_1-rmse:1029.74580\n",
            "[88]\tvalidation_0-rmse:821.98554\tvalidation_1-rmse:1088.64816\n",
            "[89]\tvalidation_0-rmse:819.50866\tvalidation_1-rmse:1085.09340\n",
            "[88]\tvalidation_0-rmse:822.06690\tvalidation_1-rmse:1088.41799\n",
            "[89]\tvalidation_0-rmse:803.02235\tvalidation_1-rmse:1051.34352\n",
            "[89]\tvalidation_0-rmse:803.06186\tvalidation_1-rmse:1050.52291\n",
            "[94]\tvalidation_0-rmse:806.61325\tvalidation_1-rmse:1068.05631\n",
            "[93]\tvalidation_0-rmse:792.33758\tvalidation_1-rmse:1037.41874\n",
            "[90]\tvalidation_0-rmse:800.35522\tvalidation_1-rmse:1046.94854\n",
            "[89]\tvalidation_0-rmse:819.40377\tvalidation_1-rmse:1085.24500\n",
            "[96]\tvalidation_0-rmse:784.55425\tvalidation_1-rmse:1026.51641\n",
            "[89]\tvalidation_0-rmse:819.40377\tvalidation_1-rmse:1085.24500\n",
            "[89]\tvalidation_0-rmse:819.50866\tvalidation_1-rmse:1085.09340\n",
            "[90]\tvalidation_0-rmse:800.31925\tvalidation_1-rmse:1047.74624\n",
            "[90]\tvalidation_0-rmse:800.39310\tvalidation_1-rmse:1047.09597\n",
            "[91]\tvalidation_0-rmse:797.65453\tvalidation_1-rmse:1043.33588\n",
            "[90]\tvalidation_0-rmse:816.88177\tvalidation_1-rmse:1081.62411\n",
            "[95]\tvalidation_0-rmse:804.11570\tvalidation_1-rmse:1064.80662\n",
            "[90]\tvalidation_0-rmse:816.83918\tvalidation_1-rmse:1081.91540\n",
            "[94]\tvalidation_0-rmse:789.70762\tvalidation_1-rmse:1033.91142\n",
            "[97]\tvalidation_0-rmse:782.03637\tvalidation_1-rmse:1023.29950\n",
            "[91]\tvalidation_0-rmse:797.69230\tvalidation_1-rmse:1043.48252\n",
            "[90]\tvalidation_0-rmse:816.88177\tvalidation_1-rmse:1081.62411\n",
            "[90]\tvalidation_0-rmse:816.83918\tvalidation_1-rmse:1081.91540\n",
            "[91]\tvalidation_0-rmse:797.64617\tvalidation_1-rmse:1044.33309\n",
            "[91]\tvalidation_0-rmse:814.25590\tvalidation_1-rmse:1078.16696\n",
            "[96]\tvalidation_0-rmse:801.66410\tvalidation_1-rmse:1061.61415\n",
            "[92]\tvalidation_0-rmse:795.04973\tvalidation_1-rmse:1039.99719[91]\tvalidation_0-rmse:814.27136\tvalidation_1-rmse:1078.48030\n",
            "[92]\tvalidation_0-rmse:795.01259\tvalidation_1-rmse:1039.85239\n",
            "[98]\tvalidation_0-rmse:779.52665\tvalidation_1-rmse:1020.02885\n",
            "[95]\tvalidation_0-rmse:787.10059\tvalidation_1-rmse:1030.57892\n",
            "[91]\tvalidation_0-rmse:814.25590\tvalidation_1-rmse:1078.16696\n",
            "\n",
            "[92]\tvalidation_0-rmse:811.72903\tvalidation_1-rmse:1075.13669\n",
            "[92]\tvalidation_0-rmse:811.64087\tvalidation_1-rmse:1074.68385\n",
            "[92]\tvalidation_0-rmse:794.97795\tvalidation_1-rmse:1040.78367\n",
            "[91]\tvalidation_0-rmse:814.27136\tvalidation_1-rmse:1078.48030\n",
            "[93]\tvalidation_0-rmse:792.37164\tvalidation_1-rmse:1036.44859\n",
            "[99]\tvalidation_0-rmse:777.01388\tvalidation_1-rmse:1016.77997\n",
            "[96]\tvalidation_0-rmse:784.53828\tvalidation_1-rmse:1027.31311\n",
            "[92]\tvalidation_0-rmse:811.72903\tvalidation_1-rmse:1075.13669\n",
            "[93]\tvalidation_0-rmse:809.12360\tvalidation_1-rmse:1071.42082\n",
            "[100]\tvalidation_0-rmse:774.42347\tvalidation_1-rmse:1013.45543\n"
          ]
        },
        {
          "ename": "KeyboardInterrupt",
          "evalue": "",
          "output_type": "error",
          "traceback": [
            "\u001b[0;31m---------------------------------------------------------------------------\u001b[0m",
            "\u001b[0;31mKeyboardInterrupt\u001b[0m                         Traceback (most recent call last)",
            "\u001b[1;32m/Users/arthurtestard/ntnu_code/machine_learning/ml_competition/XGBoost_4_inputs_pipeline.ipynb Cell 70\u001b[0m line \u001b[0;36m1\n\u001b[0;32m----> <a href='vscode-notebook-cell:/Users/arthurtestard/ntnu_code/machine_learning/ml_competition/XGBoost_4_inputs_pipeline.ipynb#Y125sZmlsZQ%3D%3D?line=0'>1</a>\u001b[0m random_search_a\u001b[39m.\u001b[39;49mfit(\n\u001b[1;32m      <a href='vscode-notebook-cell:/Users/arthurtestard/ntnu_code/machine_learning/ml_competition/XGBoost_4_inputs_pipeline.ipynb#Y125sZmlsZQ%3D%3D?line=1'>2</a>\u001b[0m     X_train_a_norm, y_train_a,\n\u001b[1;32m      <a href='vscode-notebook-cell:/Users/arthurtestard/ntnu_code/machine_learning/ml_competition/XGBoost_4_inputs_pipeline.ipynb#Y125sZmlsZQ%3D%3D?line=2'>3</a>\u001b[0m     eval_set\u001b[39m=\u001b[39;49m[(X_train_a_norm, y_train_a), (X_test_a_norm, y_test_a)],\n\u001b[1;32m      <a href='vscode-notebook-cell:/Users/arthurtestard/ntnu_code/machine_learning/ml_competition/XGBoost_4_inputs_pipeline.ipynb#Y125sZmlsZQ%3D%3D?line=3'>4</a>\u001b[0m     early_stopping_rounds\u001b[39m=\u001b[39;49m\u001b[39m50\u001b[39;49m,\n\u001b[1;32m      <a href='vscode-notebook-cell:/Users/arthurtestard/ntnu_code/machine_learning/ml_competition/XGBoost_4_inputs_pipeline.ipynb#Y125sZmlsZQ%3D%3D?line=4'>5</a>\u001b[0m     verbose\u001b[39m=\u001b[39;49m\u001b[39mTrue\u001b[39;49;00m,\n\u001b[1;32m      <a href='vscode-notebook-cell:/Users/arthurtestard/ntnu_code/machine_learning/ml_competition/XGBoost_4_inputs_pipeline.ipynb#Y125sZmlsZQ%3D%3D?line=5'>6</a>\u001b[0m     )\n",
            "File \u001b[0;32m~/envs/ntnu/mlsolar/lib/python3.10/site-packages/sklearn/base.py:1152\u001b[0m, in \u001b[0;36m_fit_context.<locals>.decorator.<locals>.wrapper\u001b[0;34m(estimator, *args, **kwargs)\u001b[0m\n\u001b[1;32m   1145\u001b[0m     estimator\u001b[39m.\u001b[39m_validate_params()\n\u001b[1;32m   1147\u001b[0m \u001b[39mwith\u001b[39;00m config_context(\n\u001b[1;32m   1148\u001b[0m     skip_parameter_validation\u001b[39m=\u001b[39m(\n\u001b[1;32m   1149\u001b[0m         prefer_skip_nested_validation \u001b[39mor\u001b[39;00m global_skip_validation\n\u001b[1;32m   1150\u001b[0m     )\n\u001b[1;32m   1151\u001b[0m ):\n\u001b[0;32m-> 1152\u001b[0m     \u001b[39mreturn\u001b[39;00m fit_method(estimator, \u001b[39m*\u001b[39;49margs, \u001b[39m*\u001b[39;49m\u001b[39m*\u001b[39;49mkwargs)\n",
            "File \u001b[0;32m~/envs/ntnu/mlsolar/lib/python3.10/site-packages/sklearn/model_selection/_search.py:898\u001b[0m, in \u001b[0;36mBaseSearchCV.fit\u001b[0;34m(self, X, y, groups, **fit_params)\u001b[0m\n\u001b[1;32m    892\u001b[0m     results \u001b[39m=\u001b[39m \u001b[39mself\u001b[39m\u001b[39m.\u001b[39m_format_results(\n\u001b[1;32m    893\u001b[0m         all_candidate_params, n_splits, all_out, all_more_results\n\u001b[1;32m    894\u001b[0m     )\n\u001b[1;32m    896\u001b[0m     \u001b[39mreturn\u001b[39;00m results\n\u001b[0;32m--> 898\u001b[0m \u001b[39mself\u001b[39;49m\u001b[39m.\u001b[39;49m_run_search(evaluate_candidates)\n\u001b[1;32m    900\u001b[0m \u001b[39m# multimetric is determined here because in the case of a callable\u001b[39;00m\n\u001b[1;32m    901\u001b[0m \u001b[39m# self.scoring the return type is only known after calling\u001b[39;00m\n\u001b[1;32m    902\u001b[0m first_test_score \u001b[39m=\u001b[39m all_out[\u001b[39m0\u001b[39m][\u001b[39m\"\u001b[39m\u001b[39mtest_scores\u001b[39m\u001b[39m\"\u001b[39m]\n",
            "File \u001b[0;32m~/envs/ntnu/mlsolar/lib/python3.10/site-packages/sklearn/model_selection/_search.py:1809\u001b[0m, in \u001b[0;36mRandomizedSearchCV._run_search\u001b[0;34m(self, evaluate_candidates)\u001b[0m\n\u001b[1;32m   1807\u001b[0m \u001b[39mdef\u001b[39;00m \u001b[39m_run_search\u001b[39m(\u001b[39mself\u001b[39m, evaluate_candidates):\n\u001b[1;32m   1808\u001b[0m \u001b[39m    \u001b[39m\u001b[39m\"\"\"Search n_iter candidates from param_distributions\"\"\"\u001b[39;00m\n\u001b[0;32m-> 1809\u001b[0m     evaluate_candidates(\n\u001b[1;32m   1810\u001b[0m         ParameterSampler(\n\u001b[1;32m   1811\u001b[0m             \u001b[39mself\u001b[39;49m\u001b[39m.\u001b[39;49mparam_distributions, \u001b[39mself\u001b[39;49m\u001b[39m.\u001b[39;49mn_iter, random_state\u001b[39m=\u001b[39;49m\u001b[39mself\u001b[39;49m\u001b[39m.\u001b[39;49mrandom_state\n\u001b[1;32m   1812\u001b[0m         )\n\u001b[1;32m   1813\u001b[0m     )\n",
            "File \u001b[0;32m~/envs/ntnu/mlsolar/lib/python3.10/site-packages/sklearn/model_selection/_search.py:845\u001b[0m, in \u001b[0;36mBaseSearchCV.fit.<locals>.evaluate_candidates\u001b[0;34m(candidate_params, cv, more_results)\u001b[0m\n\u001b[1;32m    837\u001b[0m \u001b[39mif\u001b[39;00m \u001b[39mself\u001b[39m\u001b[39m.\u001b[39mverbose \u001b[39m>\u001b[39m \u001b[39m0\u001b[39m:\n\u001b[1;32m    838\u001b[0m     \u001b[39mprint\u001b[39m(\n\u001b[1;32m    839\u001b[0m         \u001b[39m\"\u001b[39m\u001b[39mFitting \u001b[39m\u001b[39m{0}\u001b[39;00m\u001b[39m folds for each of \u001b[39m\u001b[39m{1}\u001b[39;00m\u001b[39m candidates,\u001b[39m\u001b[39m\"\u001b[39m\n\u001b[1;32m    840\u001b[0m         \u001b[39m\"\u001b[39m\u001b[39m totalling \u001b[39m\u001b[39m{2}\u001b[39;00m\u001b[39m fits\u001b[39m\u001b[39m\"\u001b[39m\u001b[39m.\u001b[39mformat(\n\u001b[1;32m    841\u001b[0m             n_splits, n_candidates, n_candidates \u001b[39m*\u001b[39m n_splits\n\u001b[1;32m    842\u001b[0m         )\n\u001b[1;32m    843\u001b[0m     )\n\u001b[0;32m--> 845\u001b[0m out \u001b[39m=\u001b[39m parallel(\n\u001b[1;32m    846\u001b[0m     delayed(_fit_and_score)(\n\u001b[1;32m    847\u001b[0m         clone(base_estimator),\n\u001b[1;32m    848\u001b[0m         X,\n\u001b[1;32m    849\u001b[0m         y,\n\u001b[1;32m    850\u001b[0m         train\u001b[39m=\u001b[39;49mtrain,\n\u001b[1;32m    851\u001b[0m         test\u001b[39m=\u001b[39;49mtest,\n\u001b[1;32m    852\u001b[0m         parameters\u001b[39m=\u001b[39;49mparameters,\n\u001b[1;32m    853\u001b[0m         split_progress\u001b[39m=\u001b[39;49m(split_idx, n_splits),\n\u001b[1;32m    854\u001b[0m         candidate_progress\u001b[39m=\u001b[39;49m(cand_idx, n_candidates),\n\u001b[1;32m    855\u001b[0m         \u001b[39m*\u001b[39;49m\u001b[39m*\u001b[39;49mfit_and_score_kwargs,\n\u001b[1;32m    856\u001b[0m     )\n\u001b[1;32m    857\u001b[0m     \u001b[39mfor\u001b[39;49;00m (cand_idx, parameters), (split_idx, (train, test)) \u001b[39min\u001b[39;49;00m product(\n\u001b[1;32m    858\u001b[0m         \u001b[39menumerate\u001b[39;49m(candidate_params), \u001b[39menumerate\u001b[39;49m(cv\u001b[39m.\u001b[39;49msplit(X, y, groups))\n\u001b[1;32m    859\u001b[0m     )\n\u001b[1;32m    860\u001b[0m )\n\u001b[1;32m    862\u001b[0m \u001b[39mif\u001b[39;00m \u001b[39mlen\u001b[39m(out) \u001b[39m<\u001b[39m \u001b[39m1\u001b[39m:\n\u001b[1;32m    863\u001b[0m     \u001b[39mraise\u001b[39;00m \u001b[39mValueError\u001b[39;00m(\n\u001b[1;32m    864\u001b[0m         \u001b[39m\"\u001b[39m\u001b[39mNo fits were performed. \u001b[39m\u001b[39m\"\u001b[39m\n\u001b[1;32m    865\u001b[0m         \u001b[39m\"\u001b[39m\u001b[39mWas the CV iterator empty? \u001b[39m\u001b[39m\"\u001b[39m\n\u001b[1;32m    866\u001b[0m         \u001b[39m\"\u001b[39m\u001b[39mWere there no candidates?\u001b[39m\u001b[39m\"\u001b[39m\n\u001b[1;32m    867\u001b[0m     )\n",
            "File \u001b[0;32m~/envs/ntnu/mlsolar/lib/python3.10/site-packages/sklearn/utils/parallel.py:65\u001b[0m, in \u001b[0;36mParallel.__call__\u001b[0;34m(self, iterable)\u001b[0m\n\u001b[1;32m     60\u001b[0m config \u001b[39m=\u001b[39m get_config()\n\u001b[1;32m     61\u001b[0m iterable_with_config \u001b[39m=\u001b[39m (\n\u001b[1;32m     62\u001b[0m     (_with_config(delayed_func, config), args, kwargs)\n\u001b[1;32m     63\u001b[0m     \u001b[39mfor\u001b[39;00m delayed_func, args, kwargs \u001b[39min\u001b[39;00m iterable\n\u001b[1;32m     64\u001b[0m )\n\u001b[0;32m---> 65\u001b[0m \u001b[39mreturn\u001b[39;00m \u001b[39msuper\u001b[39;49m()\u001b[39m.\u001b[39;49m\u001b[39m__call__\u001b[39;49m(iterable_with_config)\n",
            "File \u001b[0;32m~/envs/ntnu/mlsolar/lib/python3.10/site-packages/joblib/parallel.py:1952\u001b[0m, in \u001b[0;36mParallel.__call__\u001b[0;34m(self, iterable)\u001b[0m\n\u001b[1;32m   1946\u001b[0m \u001b[39m# The first item from the output is blank, but it makes the interpreter\u001b[39;00m\n\u001b[1;32m   1947\u001b[0m \u001b[39m# progress until it enters the Try/Except block of the generator and\u001b[39;00m\n\u001b[1;32m   1948\u001b[0m \u001b[39m# reach the first `yield` statement. This starts the aynchronous\u001b[39;00m\n\u001b[1;32m   1949\u001b[0m \u001b[39m# dispatch of the tasks to the workers.\u001b[39;00m\n\u001b[1;32m   1950\u001b[0m \u001b[39mnext\u001b[39m(output)\n\u001b[0;32m-> 1952\u001b[0m \u001b[39mreturn\u001b[39;00m output \u001b[39mif\u001b[39;00m \u001b[39mself\u001b[39m\u001b[39m.\u001b[39mreturn_generator \u001b[39melse\u001b[39;00m \u001b[39mlist\u001b[39;49m(output)\n",
            "File \u001b[0;32m~/envs/ntnu/mlsolar/lib/python3.10/site-packages/joblib/parallel.py:1595\u001b[0m, in \u001b[0;36mParallel._get_outputs\u001b[0;34m(self, iterator, pre_dispatch)\u001b[0m\n\u001b[1;32m   1592\u001b[0m     \u001b[39myield\u001b[39;00m\n\u001b[1;32m   1594\u001b[0m     \u001b[39mwith\u001b[39;00m \u001b[39mself\u001b[39m\u001b[39m.\u001b[39m_backend\u001b[39m.\u001b[39mretrieval_context():\n\u001b[0;32m-> 1595\u001b[0m         \u001b[39myield from\u001b[39;00m \u001b[39mself\u001b[39m\u001b[39m.\u001b[39m_retrieve()\n\u001b[1;32m   1597\u001b[0m \u001b[39mexcept\u001b[39;00m \u001b[39mGeneratorExit\u001b[39;00m:\n\u001b[1;32m   1598\u001b[0m     \u001b[39m# The generator has been garbage collected before being fully\u001b[39;00m\n\u001b[1;32m   1599\u001b[0m     \u001b[39m# consumed. This aborts the remaining tasks if possible and warn\u001b[39;00m\n\u001b[1;32m   1600\u001b[0m     \u001b[39m# the user if necessary.\u001b[39;00m\n\u001b[1;32m   1601\u001b[0m     \u001b[39mself\u001b[39m\u001b[39m.\u001b[39m_exception \u001b[39m=\u001b[39m \u001b[39mTrue\u001b[39;00m\n",
            "File \u001b[0;32m~/envs/ntnu/mlsolar/lib/python3.10/site-packages/joblib/parallel.py:1707\u001b[0m, in \u001b[0;36mParallel._retrieve\u001b[0;34m(self)\u001b[0m\n\u001b[1;32m   1702\u001b[0m \u001b[39m# If the next job is not ready for retrieval yet, we just wait for\u001b[39;00m\n\u001b[1;32m   1703\u001b[0m \u001b[39m# async callbacks to progress.\u001b[39;00m\n\u001b[1;32m   1704\u001b[0m \u001b[39mif\u001b[39;00m ((\u001b[39mlen\u001b[39m(\u001b[39mself\u001b[39m\u001b[39m.\u001b[39m_jobs) \u001b[39m==\u001b[39m \u001b[39m0\u001b[39m) \u001b[39mor\u001b[39;00m\n\u001b[1;32m   1705\u001b[0m     (\u001b[39mself\u001b[39m\u001b[39m.\u001b[39m_jobs[\u001b[39m0\u001b[39m]\u001b[39m.\u001b[39mget_status(\n\u001b[1;32m   1706\u001b[0m         timeout\u001b[39m=\u001b[39m\u001b[39mself\u001b[39m\u001b[39m.\u001b[39mtimeout) \u001b[39m==\u001b[39m TASK_PENDING)):\n\u001b[0;32m-> 1707\u001b[0m     time\u001b[39m.\u001b[39;49msleep(\u001b[39m0.01\u001b[39;49m)\n\u001b[1;32m   1708\u001b[0m     \u001b[39mcontinue\u001b[39;00m\n\u001b[1;32m   1710\u001b[0m \u001b[39m# We need to be careful: the job list can be filling up as\u001b[39;00m\n\u001b[1;32m   1711\u001b[0m \u001b[39m# we empty it and Python list are not thread-safe by\u001b[39;00m\n\u001b[1;32m   1712\u001b[0m \u001b[39m# default hence the use of the lock\u001b[39;00m\n",
            "\u001b[0;31mKeyboardInterrupt\u001b[0m: "
          ]
        }
      ],
      "source": [
        "# random_search_a.fit(\n",
        "#     X_train_a_norm, y_train_a,\n",
        "#     eval_set=[(X_train_a_norm, y_train_a), (X_test_a_norm, y_test_a)],\n",
        "#     early_stopping_rounds=50,\n",
        "#     verbose=True,\n",
        "#     )"
      ]
    },
    {
      "cell_type": "code",
      "execution_count": null,
      "metadata": {},
      "outputs": [],
      "source": [
        "# print('\\n All results:')\n",
        "# # print(random_search_a.cv_results_)\n",
        "# print('\\n Best estimator:')\n",
        "# print(random_search_a.best_estimator_)\n",
        "# # print('\\n Best normalized gini score for %d-fold search with %d parameter combinations:' % (folds, param_comb))\n",
        "# print(random_search_a.best_score_ * 2 - 1)\n",
        "# print('\\n Best hyperparameters:')\n",
        "# print(random_search_a.best_params_)\n",
        "# results_a = pd.DataFrame(random_search_a.cv_results_)"
      ]
    },
    {
      "cell_type": "code",
      "execution_count": null,
      "metadata": {},
      "outputs": [],
      "source": [
        "# random_search_b.fit(\n",
        "#     X_train_b_norm, y_train_b,\n",
        "#     eval_set=[(X_train_b_norm, y_train_b), (X_test_b_norm, y_test_b)],\n",
        "#     early_stopping_rounds=50,\n",
        "#     verbose=True,\n",
        "#     )"
      ]
    },
    {
      "cell_type": "code",
      "execution_count": null,
      "metadata": {},
      "outputs": [],
      "source": [
        "# print('\\n All results:')\n",
        "# print(random_search_b.cv_results_)\n",
        "# print('\\n Best estimator:')\n",
        "# print(random_search_b.best_estimator_)\n",
        "# # print('\\n Best normalized gini score for %d-fold search with %d parameter combinations:' % (folds, param_comb))\n",
        "# print(random_search_b.best_score_ * 2 - 1)\n",
        "# print('\\n Best hyperparameters:')\n",
        "# print(random_search_b.best_params_)\n",
        "# results_b = pd.DataFrame(random_search_b.cv_results_)"
      ]
    },
    {
      "cell_type": "code",
      "execution_count": null,
      "metadata": {},
      "outputs": [],
      "source": [
        "# random_search_c.fit(\n",
        "#     X_train_c_norm, y_train_c,\n",
        "#     eval_set=[(X_train_c_norm, y_train_c), (X_test_c_norm, y_test_c)],\n",
        "#     early_stopping_rounds=50,\n",
        "#     verbose=True,\n",
        "#     )"
      ]
    },
    {
      "cell_type": "markdown",
      "metadata": {},
      "source": [
        "A: \n",
        "{'max_depth': 4, 'gamma': 5, 'colsample_bytree': 0.8}\n",
        "\n",
        "{'subsample': 0.6, 'refresh_leaf': 1, 'min_child_weight': 10, 'max_depth': 3, 'gamma': 1.5, 'eta': 0.1, 'colsample_bytree': 0.8}"
      ]
    },
    {
      "cell_type": "markdown",
      "metadata": {},
      "source": [
        "B: \n",
        "{'max_depth': 5, 'gamma': 2, 'colsample_bytree': 0.6}\n",
        "\n",
        "{'subsample': 0.8, 'refresh_leaf': 1, 'min_child_weight': 10, 'max_depth': 10, 'gamma': 1, 'eta': 0.01, 'colsample_bytree': 1.0}"
      ]
    },
    {
      "cell_type": "code",
      "execution_count": null,
      "metadata": {},
      "outputs": [],
      "source": [
        "# print('\\n All results:')\n",
        "# print(random_search_c.cv_results_)\n",
        "# print('\\n Best estimator:')\n",
        "# print(random_search_c.best_estimator_)\n",
        "# # print('\\n Best normalized gini score for %d-fold search with %d parameter combinations:' % (folds, param_comb))\n",
        "# print(random_search_c.best_score_ * 2 - 1)\n",
        "# print('\\n Best hyperparameters:')\n",
        "# print(random_search_c.best_params_)\n",
        "# results_c = pd.DataFrame(random_search_c.cv_results_)"
      ]
    },
    {
      "cell_type": "markdown",
      "metadata": {},
      "source": [
        "C: \n",
        "{'max_depth': 3, 'gamma': 1, 'colsample_bytree': 0.6}\n",
        "\n",
        "{'subsample': 0.6, 'refresh_leaf': 1, 'min_child_weight': 1, 'max_depth': 3, 'gamma': 1.5, 'eta': 0.005, 'colsample_bytree': 0.6}"
      ]
    },
    {
      "cell_type": "markdown",
      "metadata": {},
      "source": [
        "Best: \n",
        "\n",
        "A: {'subsample': 0.6, 'refresh_leaf': 1, 'min_child_weight': 10, 'max_depth': 5, 'gamma': 0.5, 'eta': 0.01, 'colsample_bytree': 1.0}\n",
        "\n",
        "B: {'subsample': 0.6, 'refresh_leaf': 1, 'min_child_weight': 5, 'max_depth': \n",
        "5, 'gamma': 0.5, 'eta': 0.01, 'colsample_bytree': 0.6}\n",
        "\n",
        "C: {'subsample': 0.6, 'refresh_leaf': 1, 'min_child_weight': 5, 'max_depth': 5, 'gamma': 0.5, 'eta': 0.05, 'colsample_bytree': 1.0}"
      ]
    },
    {
      "cell_type": "code",
      "execution_count": null,
      "metadata": {},
      "outputs": [],
      "source": [
        "reg_a = random_search_a.best_estimator_\n",
        "reg_b = random_search_b.best_estimator_\n",
        "reg_c = random_search_c.best_estimator_"
      ]
    },
    {
      "cell_type": "code",
      "execution_count": null,
      "metadata": {},
      "outputs": [],
      "source": [
        "reg_a.fit(X_train_a_norm, y_train_a,\n",
        "          eval_set=[(X_train_a_norm, y_train_a), (X_test_a_norm, y_test_a)],\n",
        "          early_stopping_rounds=50,\n",
        "          verbose=True,\n",
        "          )\n",
        "reg_b.fit(X_train_b_norm, y_train_b,\n",
        "          eval_set=[(X_train_b_norm, y_train_b), (X_test_b_norm, y_test_b)],\n",
        "          early_stopping_rounds=50,\n",
        "          verbose=True,\n",
        "          )\n",
        "reg_c.fit(X_train_c_norm, y_train_c,\n",
        "          eval_set=[(X_train_c_norm, y_train_c), (X_test_c_norm, y_test_c)],\n",
        "          early_stopping_rounds=50,\n",
        "          verbose=True,\n",
        "          )"
      ]
    },
    {
      "cell_type": "code",
      "execution_count": null,
      "metadata": {
        "colab": {
          "base_uri": "https://localhost:8080/",
          "height": 1000
        },
        "id": "L8tJyNqw2ajl",
        "outputId": "d1d82059-64ed-41e7-efa6-89cb907ed5f3"
      },
      "outputs": [],
      "source": [
        "# Créez des listes vides pour stocker les erreurs d'entraînement et de test\n",
        "train_errors = []\n",
        "test_errors = []\n",
        "\n",
        "# Accédez aux erreurs d'entraînement et de test après chaque itération\n",
        "results = reg_a.evals_result()\n",
        "train_errors = results['validation_0'][eval_metric]\n",
        "test_errors = results['validation_1'][eval_metric]\n",
        "\n",
        "# Tracez les courbes d'apprentissage\n",
        "plt.figure(figsize=(10, 6))\n",
        "plt.plot(train_errors, label='Train')\n",
        "plt.plot(test_errors, label='Test')\n",
        "plt.xlabel('Boosting Rounds')\n",
        "plt.ylabel(eval_metric)\n",
        "plt.legend()\n",
        "plt.title('Learning Curves')\n",
        "plt.show()\n",
        "\n",
        "min_error_a = min(test_errors)\n",
        "# Créez des listes vides pour stocker les erreurs d'entraînement et de test\n",
        "train_errors = []\n",
        "test_errors = []\n",
        "\n",
        "# Accédez aux erreurs d'entraînement et de test après chaque itération\n",
        "results = reg_b.evals_result()\n",
        "train_errors = results['validation_0'][eval_metric]\n",
        "test_errors = results['validation_1'][eval_metric]\n",
        "\n",
        "# Tracez les courbes d'apprentissage\n",
        "plt.figure(figsize=(10, 6))\n",
        "plt.plot(train_errors, label='Train')\n",
        "plt.plot(test_errors, label='Test')\n",
        "plt.xlabel('Boosting Rounds')\n",
        "plt.ylabel(eval_metric)\n",
        "plt.legend()\n",
        "plt.title('Learning Curves')\n",
        "plt.show()\n",
        "\n",
        "min_error_b = min(test_errors)\n",
        "# Créez des listes vides pour stocker les erreurs d'entraînement et de test\n",
        "train_errors = []\n",
        "test_errors = []\n",
        "\n",
        "# Accédez aux erreurs d'entraînement et de test après chaque itération\n",
        "results = reg_c.evals_result()\n",
        "train_errors = results['validation_0'][eval_metric]\n",
        "test_errors = results['validation_1'][eval_metric]\n",
        "\n",
        "min_error_c = min(test_errors)\n",
        "# Tracez les courbes d'apprentissage\n",
        "plt.figure(figsize=(10, 6))\n",
        "plt.plot(train_errors, label='Train')\n",
        "plt.plot(test_errors, label='Test')\n",
        "plt.xlabel('Boosting Rounds')\n",
        "plt.ylabel(eval_metric)\n",
        "plt.legend()\n",
        "plt.title('Learning Curves')\n",
        "plt.show()"
      ]
    },
    {
      "cell_type": "code",
      "execution_count": null,
      "metadata": {},
      "outputs": [],
      "source": [
        "min_error_a, min_error_b, min_error_c"
      ]
    },
    {
      "cell_type": "code",
      "execution_count": null,
      "metadata": {
        "colab": {
          "base_uri": "https://localhost:8080/",
          "height": 1000
        },
        "id": "0Cpiem0U0J6m",
        "outputId": "67557c5d-d422-46aa-b3a5-1b4d56eed6a7"
      },
      "outputs": [],
      "source": [
        "plot_importance(reg_a, height=.9)\n",
        "plt.gcf().set_size_inches(14, 8 * 4)\n",
        "plot_importance(reg_b, height=0.9)\n",
        "plt.gcf().set_size_inches(14, 8 * 4)\n",
        "plot_importance(reg_c, height=0.9)\n",
        "plt.gcf().set_size_inches(14, 8 * 4)"
      ]
    },
    {
      "cell_type": "code",
      "execution_count": null,
      "metadata": {
        "id": "CzEzDsH5gc0p"
      },
      "outputs": [],
      "source": [
        "pv_test_a['pv_measurement_prediction'] = reg_a.predict(X_test_a_norm)\n",
        "pv_all_a = pd.concat([pv_test_a, pv_train_a], sort=False)\n",
        "\n",
        "pv_test_b['pv_measurement_prediction'] = reg_b.predict(X_test_b_norm)\n",
        "pv_all_b = pd.concat([pv_test_b, pv_train_b], sort=False)\n",
        "\n",
        "pv_test_c['pv_measurement_prediction'] = reg_c.predict(X_test_c_norm)\n",
        "pv_all_c = pd.concat([pv_test_c, pv_train_c], sort=False)"
      ]
    },
    {
      "cell_type": "code",
      "execution_count": null,
      "metadata": {},
      "outputs": [],
      "source": [
        "# XGBoost_separated_loc_4_inputs_n_estimators_10000_delta_0_min_StandardScaler_rmse_max_depth_3_mae_123_rmse_367_60_57_rd_subsets_42_by_day.csv\n",
        "\n"
      ]
    },
    {
      "cell_type": "code",
      "execution_count": null,
      "metadata": {},
      "outputs": [],
      "source": [
        "pv_test_a[pv_test_a['pv_measurement_prediction'] < 10 ]['pv_measurement_prediction'] = 0.\n",
        "pv_test_b[pv_test_b['pv_measurement_prediction'] < 10 ]['pv_measurement_prediction'] = 0.\n",
        "pv_test_c[pv_test_c['pv_measurement_prediction'] < 10 ]['pv_measurement_prediction'] = 0."
      ]
    },
    {
      "cell_type": "code",
      "execution_count": null,
      "metadata": {},
      "outputs": [],
      "source": [
        "mae_a = np.mean(np.abs(pv_all_a['pv_measurement'] - pv_all_a['pv_measurement_prediction']))\n",
        "mae_b = np.mean(np.abs(pv_all_b['pv_measurement'] - pv_all_b['pv_measurement_prediction']))\n",
        "mae_c = np.mean(np.abs(pv_all_a['pv_measurement'] - pv_all_c['pv_measurement_prediction']))\n",
        "\n",
        "df_mae = pd.concat([pv_all_a, pv_all_b, pv_all_a])\n",
        "mae = np.mean(np.abs(df_mae['pv_measurement'] - df_mae['pv_measurement_prediction']))\n",
        "print(\"MAE a:\", mae_a, \"MAE b:\", mae_b, \"MAE c:\", mae_c)\n",
        "print(\"MAE on test set:\", mae)"
      ]
    },
    {
      "cell_type": "code",
      "execution_count": null,
      "metadata": {
        "colab": {
          "base_uri": "https://localhost:8080/",
          "height": 1000
        },
        "id": "AqaBX7A0gfSt",
        "outputId": "3bafca8f-5b8b-41b1-f8c4-2b05d55d2f62"
      },
      "outputs": [],
      "source": [
        "graph = pv_all_a[['pv_measurement','pv_measurement_prediction']].plot(figsize=(15, 5)).scatter('pv_measurement','pv_measurement_prediction')\n",
        "graph = pv_all_b[['pv_measurement','pv_measurement_prediction']].plot(figsize=(15, 5)).scatter('pv_measurement','pv_measurement_prediction')\n",
        "graph = pv_all_c[['pv_measurement','pv_measurement_prediction']].plot(figsize=(15, 5)).scatter('pv_measurement','pv_measurement_prediction')"
      ]
    },
    {
      "cell_type": "code",
      "execution_count": null,
      "metadata": {},
      "outputs": [],
      "source": [
        "plt.plot(pv_all_a['pv_measurement'])\n",
        "plt.plot(pv_all_a['pv_measurement'] - pv_all_a['pv_measurement_prediction'])\n",
        "plt.show()\n",
        "plt.plot(pv_all_b['pv_measurement'])\n",
        "plt.plot(pv_all_b['pv_measurement'] - pv_all_b['pv_measurement_prediction'])\n",
        "plt.show()\n",
        "plt.plot(pv_all_c['pv_measurement'])\n",
        "plt.plot(pv_all_c['pv_measurement'] - pv_all_c['pv_measurement_prediction'])\n",
        "plt.show()"
      ]
    },
    {
      "cell_type": "code",
      "execution_count": null,
      "metadata": {},
      "outputs": [],
      "source": [
        "np_pv_c = np.array(pv_all_c['pv_measurement'])\n",
        "plt.plot(np_pv_c)"
      ]
    },
    {
      "cell_type": "markdown",
      "metadata": {
        "id": "VE0_jFOv23vB"
      },
      "source": [
        "# Export sur Kaggle"
      ]
    },
    {
      "cell_type": "code",
      "execution_count": null,
      "metadata": {
        "id": "I43fCNu60TX_"
      },
      "outputs": [],
      "source": [
        "test = pd.read_csv(path+\"test.csv\")\n",
        "test_copy = test.copy()\n",
        "test.rename(columns={'time': 'date_forecast'}, inplace=True) #pour faire le merge\n",
        "test[\"date_forecast\"] = pd.to_datetime(test[\"date_forecast\"]) #mettre le bon type"
      ]
    },
    {
      "cell_type": "code",
      "execution_count": null,
      "metadata": {
        "id": "hg7yQqAA4E0g"
      },
      "outputs": [],
      "source": [
        "# Lecture des données météo associée :\n",
        "merged_df_pre_a = pd.merge(X_test_estimated_a, test, on='date_forecast', how='inner')\n",
        "merged_df_a = merged_df_pre_a[merged_df_pre_a[\"location\"]==\"A\"]\n",
        "merged_df_pre_b = pd.merge(X_test_estimated_b, test, on='date_forecast', how='inner')\n",
        "merged_df_b = merged_df_pre_b[merged_df_pre_b[\"location\"]==\"B\"]\n",
        "merged_df_pre_c = pd.merge(X_test_estimated_c, test, on='date_forecast', how='inner')\n",
        "merged_df_c = merged_df_pre_c[merged_df_pre_c[\"location\"]==\"C\"]"
      ]
    },
    {
      "cell_type": "code",
      "execution_count": null,
      "metadata": {
        "id": "JkPxzaLxPE3y"
      },
      "outputs": [],
      "source": [
        "def preprocessing_test(df,scaler):\n",
        "  X_test = df.drop([\"id\",\"location\",\"prediction\"],axis=1)\n",
        "  X_test = create_features(X_test, None)\n",
        "  #X_test[('date_forecast')] = X_test[('date_forecast')].values.astype(\"float64\")\n",
        "  X_test = gestion_nan(X_test)\n",
        "  X_test = sklearn_z_score_normalize_dataframe(X_test,return_scaler=False,scaler=scaler, fit=False)\n",
        "  return X_test"
      ]
    },
    {
      "cell_type": "code",
      "execution_count": null,
      "metadata": {
        "id": "9m42fLq9Y4ZA"
      },
      "outputs": [],
      "source": [
        "X_test_a_test = preprocessing_test(merged_df_a,scaler_a)\n",
        "X_test_b_test = preprocessing_test(merged_df_b,scaler_b)\n",
        "X_test_c_test = preprocessing_test(merged_df_c,scaler_c)"
      ]
    },
    {
      "cell_type": "code",
      "execution_count": null,
      "metadata": {
        "id": "N4V9YUIYZiGr"
      },
      "outputs": [],
      "source": [
        "result_A = reg_a.predict(X_test_a_test)\n",
        "result_B = reg_b.predict(X_test_b_test)\n",
        "result_C = reg_c.predict(X_test_c_test)"
      ]
    },
    {
      "cell_type": "code",
      "execution_count": null,
      "metadata": {},
      "outputs": [],
      "source": [
        "len(result_A) + len(result_B) + len(result_C)"
      ]
    },
    {
      "cell_type": "code",
      "execution_count": null,
      "metadata": {
        "colab": {
          "base_uri": "https://localhost:8080/",
          "height": 447
        },
        "id": "4E4A-WF5ih-0",
        "outputId": "94ac5b1b-1328-411d-b918-4359d052895d"
      },
      "outputs": [],
      "source": [
        "plt.plot(result_A)"
      ]
    },
    {
      "cell_type": "code",
      "execution_count": null,
      "metadata": {
        "id": "LTSbJj5lZc1s"
      },
      "outputs": [],
      "source": [
        "# nom_fichier = 'XGBoost_Valentin_V2'\n",
        "# repertoire = path\n",
        "# result = np.concatenate((np.concatenate((result_A,result_B)), result_C))\n",
        "# test_copy['prediction'] = result\n",
        "# sample_submission = sample_submission[['id']].merge(test_copy[['id', 'prediction']], on='id', how='left')\n",
        "# sample_submission.to_csv(repertoire+ nom_fichier+'.csv', index=False)"
      ]
    },
    {
      "cell_type": "markdown",
      "metadata": {
        "id": "XHFXLird0mW5"
      },
      "source": [
        "# Post traitement"
      ]
    },
    {
      "cell_type": "markdown",
      "metadata": {
        "id": "cwUbdVUh0oeY"
      },
      "source": [
        "Ici, on va faire en sorte de n'avoir que des valeurs positives (cela ne représente qu'une légère amélioration"
      ]
    },
    {
      "cell_type": "code",
      "execution_count": null,
      "metadata": {
        "id": "5jqFf_a-0jTF"
      },
      "outputs": [],
      "source": [
        "result = np.concatenate((np.concatenate((result_A,result_B)), result_C))"
      ]
    },
    {
      "cell_type": "code",
      "execution_count": null,
      "metadata": {},
      "outputs": [],
      "source": [
        "len(result_A), len(result_B), len(result_C)"
      ]
    },
    {
      "cell_type": "code",
      "execution_count": null,
      "metadata": {
        "colab": {
          "base_uri": "https://localhost:8080/"
        },
        "id": "5OUxyuzi4EDa",
        "outputId": "84a0b4cd-1db4-4d9a-e9d6-8d603e905a3e"
      },
      "outputs": [],
      "source": [
        "negative_values = result[result < 0]\n",
        "sum_of_negatives = np.sum(negative_values**2)/len(result)\n",
        "np.sqrt(sum_of_negatives)"
      ]
    },
    {
      "cell_type": "code",
      "execution_count": null,
      "metadata": {
        "id": "p03W8Xa751Y4"
      },
      "outputs": [],
      "source": [
        "negative_mask = result < 5\n",
        "result[negative_mask] = 0"
      ]
    },
    {
      "cell_type": "code",
      "execution_count": null,
      "metadata": {
        "id": "DC-LsEUl59-r"
      },
      "outputs": [],
      "source": [
        "nom_fichier = f'XGBoost_separated_loc_4_inputs_lr_{eta}n_estimators_{n_estimators}_delta_{delta_title}_min_{scaler_name}_{eval_metric}_max_depth_{max_depth}_mae_{int(mae)}_rmse_{int(min_error_a)}_{int(min_error_b)}_{int(min_error_c)}_test_set_gen_{test_set_param}_{random_state}_by_day'\n",
        "repertoire = submission_path\n",
        "test_copy['prediction'] = result\n",
        "sample_submission = sample_submission[['id']].merge(test_copy[['id', 'prediction']], on='id', how='left')\n",
        "sample_submission.to_csv(repertoire+ nom_fichier+'.csv', index=False)"
      ]
    },
    {
      "cell_type": "code",
      "execution_count": null,
      "metadata": {},
      "outputs": [],
      "source": [
        "result2 = np.concatenate((np.concatenate((result_A,result_B)), result_C))"
      ]
    },
    {
      "cell_type": "code",
      "execution_count": null,
      "metadata": {},
      "outputs": [],
      "source": [
        "negative_mask2 = result2 < 10\n",
        "result2[negative_mask2] = 0"
      ]
    }
  ],
  "metadata": {
    "accelerator": "GPU",
    "colab": {
      "gpuType": "T4",
      "provenance": []
    },
    "kernelspec": {
      "display_name": "mlsolar",
      "language": "python",
      "name": "mlsolar"
    },
    "language_info": {
      "codemirror_mode": {
        "name": "ipython",
        "version": 3
      },
      "file_extension": ".py",
      "mimetype": "text/x-python",
      "name": "python",
      "nbconvert_exporter": "python",
      "pygments_lexer": "ipython3",
      "version": "3.10.11"
    }
  },
  "nbformat": 4,
  "nbformat_minor": 0
}
